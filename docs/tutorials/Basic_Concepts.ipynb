{
 "cells": [
  {
   "cell_type": "markdown",
   "id": "c0a162d5-5470-45b5-9427-b12097584e8c",
   "metadata": {},
   "source": [
    "# Basic Concepts\n",
    "\n",
    "bla bla bla"
   ]
  },
  {
   "cell_type": "code",
   "execution_count": 1,
   "id": "cc35111a-d3a8-4313-962c-290bbf563f35",
   "metadata": {},
   "outputs": [],
   "source": [
    "%load_ext autoreload\n",
    "%autoreload 2\n",
    "    \n",
    "import datamol as dm\n",
    "import pandas as pd\n",
    "\n",
    "import medchem as mc"
   ]
  }
 ],
 "metadata": {
  "kernelspec": {
   "display_name": "medchem",
   "language": "python",
   "name": "python3"
  },
  "language_info": {
   "codemirror_mode": {
    "name": "ipython",
    "version": 3
   },
   "file_extension": ".py",
   "mimetype": "text/x-python",
   "name": "python",
   "nbconvert_exporter": "python",
   "pygments_lexer": "ipython3",
   "version": "3.10.12"
  }
 },
 "nbformat": 4,
 "nbformat_minor": 5
}
