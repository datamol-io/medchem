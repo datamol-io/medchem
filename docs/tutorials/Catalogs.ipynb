{
 "cells": [
  {
   "cell_type": "markdown",
   "id": "15b9a4e7-f79d-496f-a7d3-f7572dd75312",
   "metadata": {},
   "source": [
    "# Catalogs\n",
    "\n",
    "Medchem proposes a list of RDKit-based catalogs and Medchem-specific catalogs in order to quickly triage or flag compounds that contains molecular features provided by a given catalog.\n",
    "\n",
    "The API is based on the RDKit catalog module `rdkit.Chem.rdfiltercatalog`.\n",
    "\n",
    "??? warning:\n",
    "    Avoid blindly applying Medchem filters; you may miss valuable compounds or allow toxins for your specific applications.\n"
   ]
  },
  {
   "cell_type": "code",
   "execution_count": null,
   "id": "19e27ab5",
   "metadata": {
    "tags": [
     "remove_cell"
    ]
   },
   "outputs": [],
   "source": [
    "%load_ext autoreload\n",
    "%autoreload 2"
   ]
  },
  {
   "cell_type": "code",
   "execution_count": 14,
   "id": "cc35111a-d3a8-4313-962c-290bbf563f35",
   "metadata": {},
   "outputs": [],
   "source": [
    "import datamol as dm\n",
    "import pandas as pd\n",
    "\n",
    "import medchem as mc\n",
    "from medchem.catalogs import NamedCatalogs\n",
    "from medchem.catalogs import list_named_catalogs\n",
    "from medchem.catalogs import catalog_from_smarts"
   ]
  },
  {
   "cell_type": "markdown",
   "id": "8fa4628f-546a-4829-83e9-c981064d19bf",
   "metadata": {},
   "source": [
    "## Use the existing catalogs"
   ]
  },
  {
   "cell_type": "markdown",
   "id": "d914fc99-b863-4fd4-aaf6-16b3e7271067",
   "metadata": {},
   "source": [
    "List all the available catalogs."
   ]
  },
  {
   "cell_type": "code",
   "execution_count": 15,
   "id": "a9c39d29-0ed3-4f75-aeef-6681ed8e5f0c",
   "metadata": {},
   "outputs": [
    {
     "data": {
      "text/plain": [
       "['tox',\n",
       " 'pains',\n",
       " 'pains_a',\n",
       " 'pains_b',\n",
       " 'pains_c',\n",
       " 'nih',\n",
       " 'zinc',\n",
       " 'brenk',\n",
       " 'dundee',\n",
       " 'bms',\n",
       " 'glaxo',\n",
       " 'schembl',\n",
       " 'mlsmr',\n",
       " 'inpharmatica',\n",
       " 'lint',\n",
       " 'alarm_nmr',\n",
       " 'alphascreen',\n",
       " 'gst_hitters',\n",
       " 'his_hitters',\n",
       " 'luciferase',\n",
       " 'dnabinder',\n",
       " 'chelator',\n",
       " 'hitters',\n",
       " 'electrophilic',\n",
       " 'carcinogen',\n",
       " 'ld50_oral',\n",
       " 'reactive_unstable_toxic',\n",
       " 'skin',\n",
       " 'toxicophore',\n",
       " 'nibr',\n",
       " 'bredt',\n",
       " 'unstable_graph']"
      ]
     },
     "execution_count": 15,
     "metadata": {},
     "output_type": "execute_result"
    }
   ],
   "source": [
    "list_named_catalogs()"
   ]
  },
  {
   "cell_type": "markdown",
   "id": "c4c5ff8a-7306-402a-8f15-75360aa815e5",
   "metadata": {},
   "source": [
    "Retrieve a specific catalog as an RDKit catalog object."
   ]
  },
  {
   "cell_type": "code",
   "execution_count": 16,
   "id": "72f8ccb7-2287-433c-97aa-13c0ac204bee",
   "metadata": {},
   "outputs": [
    {
     "data": {
      "text/plain": [
       "444"
      ]
     },
     "execution_count": 16,
     "metadata": {},
     "output_type": "execute_result"
    }
   ],
   "source": [
    "catalog = NamedCatalogs.nibr()\n",
    "\n",
    "catalog.GetNumEntries()"
   ]
  },
  {
   "cell_type": "markdown",
   "id": "4ba4996a-6b1a-47fc-8434-5a4373596975",
   "metadata": {},
   "source": [
    "This catalog has 444 entries."
   ]
  },
  {
   "cell_type": "markdown",
   "id": "a8807dcd-afb0-4912-85c7-4ce745143d2a",
   "metadata": {},
   "source": [
    "Now, let's load some molecules and check whether they match to the NIBR catalog."
   ]
  },
  {
   "cell_type": "code",
   "execution_count": 17,
   "id": "6d246863-d8a5-4560-9a34-4844d0b76366",
   "metadata": {},
   "outputs": [],
   "source": [
    "data = dm.freesolv()\n",
    "data = data.iloc[:50]\n",
    "\n",
    "data[\"mol\"] = data[\"smiles\"].apply(dm.to_mol)\n",
    "\n",
    "data[\"match_nibr_catalog\"] = data[\"mol\"].apply(catalog.HasMatch)"
   ]
  },
  {
   "cell_type": "markdown",
   "id": "312ee4c0-82f5-478d-aab7-0e6259ff5779",
   "metadata": {},
   "source": [
    "Pick a few to display."
   ]
  },
  {
   "cell_type": "code",
   "execution_count": 18,
   "id": "6d908a04-8ca0-49a2-982a-060f5997b294",
   "metadata": {},
   "outputs": [
    {
     "data": {
      "image/svg+xml": [
       "<svg xmlns=\"http://www.w3.org/2000/svg\" xmlns:rdkit=\"http://www.rdkit.org/xml\" xmlns:xlink=\"http://www.w3.org/1999/xlink\" version=\"1.1\" baseProfile=\"full\" xml:space=\"preserve\" width=\"1200px\" height=\"400px\" viewBox=\"0 0 1200 400\">\n",
       "<!-- END OF HEADER -->\n",
       "<rect style=\"opacity:1.0;fill:#FFFFFF;stroke:none\" width=\"1200.0\" height=\"400.0\" x=\"0.0\" y=\"0.0\"> </rect>\n",
       "<path class=\"bond-0 atom-0 atom-1\" d=\"M 244.0,90.0 L 221.1,129.6\" style=\"fill:none;fill-rule:evenodd;stroke:#000000;stroke-width:2.0px;stroke-linecap:butt;stroke-linejoin:miter;stroke-opacity:1\"/>\n",
       "<path class=\"bond-0 atom-0 atom-1\" d=\"M 236.1,90.0 L 217.1,122.8\" style=\"fill:none;fill-rule:evenodd;stroke:#000000;stroke-width:2.0px;stroke-linecap:butt;stroke-linejoin:miter;stroke-opacity:1\"/>\n",
       "<path class=\"bond-1 atom-1 atom-2\" d=\"M 221.1,129.6 L 175.3,129.6\" style=\"fill:none;fill-rule:evenodd;stroke:#000000;stroke-width:2.0px;stroke-linecap:butt;stroke-linejoin:miter;stroke-opacity:1\"/>\n",
       "<path class=\"bond-2 atom-2 atom-3\" d=\"M 175.3,129.6 L 152.5,90.0\" style=\"fill:none;fill-rule:evenodd;stroke:#000000;stroke-width:2.0px;stroke-linecap:butt;stroke-linejoin:miter;stroke-opacity:1\"/>\n",
       "<path class=\"bond-2 atom-2 atom-3\" d=\"M 179.3,122.8 L 160.4,90.0\" style=\"fill:none;fill-rule:evenodd;stroke:#000000;stroke-width:2.0px;stroke-linecap:butt;stroke-linejoin:miter;stroke-opacity:1\"/>\n",
       "<path class=\"bond-3 atom-3 atom-4\" d=\"M 152.5,90.0 L 175.3,50.4\" style=\"fill:none;fill-rule:evenodd;stroke:#000000;stroke-width:2.0px;stroke-linecap:butt;stroke-linejoin:miter;stroke-opacity:1\"/>\n",
       "<path class=\"bond-4 atom-4 atom-5\" d=\"M 175.3,50.4 L 221.1,50.4\" style=\"fill:none;fill-rule:evenodd;stroke:#000000;stroke-width:2.0px;stroke-linecap:butt;stroke-linejoin:miter;stroke-opacity:1\"/>\n",
       "<path class=\"bond-4 atom-4 atom-5\" d=\"M 179.3,57.2 L 217.1,57.2\" style=\"fill:none;fill-rule:evenodd;stroke:#000000;stroke-width:2.0px;stroke-linecap:butt;stroke-linejoin:miter;stroke-opacity:1\"/>\n",
       "<path class=\"bond-5 atom-3 atom-6\" d=\"M 152.5,90.0 L 106.7,90.0\" style=\"fill:none;fill-rule:evenodd;stroke:#000000;stroke-width:2.0px;stroke-linecap:butt;stroke-linejoin:miter;stroke-opacity:1\"/>\n",
       "<path class=\"bond-6 atom-6 atom-7\" d=\"M 106.7,90.0 L 87.0,90.0\" style=\"fill:none;fill-rule:evenodd;stroke:#000000;stroke-width:2.0px;stroke-linecap:butt;stroke-linejoin:miter;stroke-opacity:1\"/>\n",
       "<path class=\"bond-6 atom-6 atom-7\" d=\"M 87.0,90.0 L 67.3,90.0\" style=\"fill:none;fill-rule:evenodd;stroke:#0000FF;stroke-width:2.0px;stroke-linecap:butt;stroke-linejoin:miter;stroke-opacity:1\"/>\n",
       "<path class=\"bond-6 atom-6 atom-7\" d=\"M 106.7,96.9 L 87.0,96.9\" style=\"fill:none;fill-rule:evenodd;stroke:#000000;stroke-width:2.0px;stroke-linecap:butt;stroke-linejoin:miter;stroke-opacity:1\"/>\n",
       "<path class=\"bond-6 atom-6 atom-7\" d=\"M 87.0,96.9 L 67.3,96.9\" style=\"fill:none;fill-rule:evenodd;stroke:#0000FF;stroke-width:2.0px;stroke-linecap:butt;stroke-linejoin:miter;stroke-opacity:1\"/>\n",
       "<path class=\"bond-6 atom-6 atom-7\" d=\"M 106.7,83.1 L 87.0,83.1\" style=\"fill:none;fill-rule:evenodd;stroke:#000000;stroke-width:2.0px;stroke-linecap:butt;stroke-linejoin:miter;stroke-opacity:1\"/>\n",
       "<path class=\"bond-6 atom-6 atom-7\" d=\"M 87.0,83.1 L 67.3,83.1\" style=\"fill:none;fill-rule:evenodd;stroke:#0000FF;stroke-width:2.0px;stroke-linecap:butt;stroke-linejoin:miter;stroke-opacity:1\"/>\n",
       "<path class=\"bond-7 atom-5 atom-0\" d=\"M 221.1,50.4 L 244.0,90.0\" style=\"fill:none;fill-rule:evenodd;stroke:#000000;stroke-width:2.0px;stroke-linecap:butt;stroke-linejoin:miter;stroke-opacity:1\"/>\n",
       "<path d=\"M 242.8,92.0 L 244.0,90.0 L 242.8,88.0\" style=\"fill:none;stroke:#000000;stroke-width:2.0px;stroke-linecap:butt;stroke-linejoin:miter;stroke-opacity:1;\"/>\n",
       "<path d=\"M 222.3,127.7 L 221.1,129.6 L 218.8,129.6\" style=\"fill:none;stroke:#000000;stroke-width:2.0px;stroke-linecap:butt;stroke-linejoin:miter;stroke-opacity:1;\"/>\n",
       "<path d=\"M 177.6,129.6 L 175.3,129.6 L 174.2,127.7\" style=\"fill:none;stroke:#000000;stroke-width:2.0px;stroke-linecap:butt;stroke-linejoin:miter;stroke-opacity:1;\"/>\n",
       "<path d=\"M 174.2,52.3 L 175.3,50.4 L 177.6,50.4\" style=\"fill:none;stroke:#000000;stroke-width:2.0px;stroke-linecap:butt;stroke-linejoin:miter;stroke-opacity:1;\"/>\n",
       "<path d=\"M 218.8,50.4 L 221.1,50.4 L 222.3,52.3\" style=\"fill:none;stroke:#000000;stroke-width:2.0px;stroke-linecap:butt;stroke-linejoin:miter;stroke-opacity:1;\"/>\n",
       "<path d=\"M 109.0,90.0 L 106.7,90.0 L 105.7,90.0\" style=\"fill:none;stroke:#000000;stroke-width:2.0px;stroke-linecap:butt;stroke-linejoin:miter;stroke-opacity:1;\"/>\n",
       "<path class=\"atom-7\" d=\"M 58.1 83.5 L 62.3 90.4 Q 62.7 91.1, 63.4 92.3 Q 64.1 93.5, 64.1 93.6 L 64.1 83.5 L 65.8 83.5 L 65.8 96.5 L 64.1 96.5 L 59.5 89.0 Q 59.0 88.1, 58.4 87.1 Q 57.9 86.1, 57.7 85.8 L 57.7 96.5 L 56.0 96.5 L 56.0 83.5 L 58.1 83.5 \" fill=\"#0000FF\"/>\n",
       "<path class=\"legend\" d=\"M 117.5 194.8 L 116.1 194.8 L 114.9 185.5 L 111.8 194.8 L 110.3 194.8 L 107.2 185.5 L 106.1 194.8 L 104.6 194.8 L 106.0 183.5 L 107.9 183.5 L 111.1 192.6 L 114.2 183.5 L 116.1 183.5 L 117.5 194.8 \" fill=\"#000000\"/>\n",
       "<path class=\"legend\" d=\"M 119.3 192.6 Q 119.3 191.3, 120.3 190.6 Q 121.4 189.8, 123.3 189.8 L 124.5 189.8 L 124.5 189.5 Q 124.5 188.5, 124.1 188.1 Q 123.7 187.6, 122.7 187.6 Q 122.0 187.6, 121.5 187.8 Q 121.0 187.9, 120.2 188.2 L 119.7 187.2 Q 121.2 186.4, 122.7 186.4 Q 124.4 186.4, 125.2 187.2 Q 126.0 187.9, 126.0 189.5 L 126.0 194.8 L 124.9 194.8 Q 124.8 194.7, 124.8 194.5 Q 124.7 194.2, 124.7 193.8 Q 123.5 195.0, 122.0 195.0 Q 120.7 195.0, 120.0 194.3 Q 119.3 193.7, 119.3 192.6 M 120.8 192.6 Q 120.8 193.2, 121.1 193.5 Q 121.5 193.8, 122.3 193.8 Q 122.9 193.8, 123.5 193.5 Q 124.1 193.2, 124.5 192.7 L 124.5 191.0 L 123.4 191.0 Q 122.1 191.0, 121.4 191.4 Q 120.8 191.8, 120.8 192.6 \" fill=\"#000000\"/>\n",
       "<path class=\"legend\" d=\"M 127.9 187.7 L 127.9 186.6 L 129.5 186.6 L 129.8 184.2 L 130.9 184.2 L 130.9 186.6 L 133.4 186.6 L 133.4 187.7 L 130.9 187.7 L 130.9 192.3 Q 130.9 193.7, 132.1 193.7 Q 132.6 193.7, 133.3 193.5 L 133.5 194.5 Q 132.6 194.9, 131.8 194.9 Q 130.7 194.9, 130.0 194.3 Q 129.4 193.6, 129.4 192.4 L 129.4 187.7 L 127.9 187.7 \" fill=\"#000000\"/>\n",
       "<path class=\"legend\" d=\"M 134.6 190.7 Q 134.6 188.7, 135.6 187.6 Q 136.6 186.4, 138.5 186.4 Q 140.4 186.4, 141.4 187.8 L 140.4 188.6 Q 140.0 188.1, 139.5 187.9 Q 139.1 187.6, 138.5 187.6 Q 137.4 187.6, 136.8 188.4 Q 136.1 189.2, 136.1 190.7 Q 136.1 192.2, 136.8 193.0 Q 137.4 193.8, 138.6 193.8 Q 139.3 193.8, 139.8 193.6 Q 140.2 193.4, 140.8 193.2 L 141.2 194.2 Q 140.0 194.9, 138.5 194.9 Q 136.6 194.9, 135.6 193.8 Q 134.6 192.7, 134.6 190.7 \" fill=\"#000000\"/>\n",
       "<path class=\"legend\" d=\"M 146.7 186.4 Q 148.0 186.4, 148.7 187.2 Q 149.4 187.9, 149.4 189.4 L 149.4 194.8 L 147.9 194.8 L 147.9 189.5 Q 147.9 188.5, 147.5 188.1 Q 147.2 187.6, 146.3 187.6 Q 145.6 187.6, 145.0 188.0 Q 144.3 188.3, 143.9 188.9 L 143.9 194.8 L 142.4 194.8 L 142.4 182.7 L 143.9 182.7 L 143.9 187.6 Q 145.0 186.4, 146.7 186.4 \" fill=\"#000000\"/>\n",
       "<path class=\"legend\" d=\"M 151.3 187.8 L 158.7 187.8 L 158.7 189.0 L 151.3 189.0 L 151.3 187.8 M 151.3 191.3 L 158.7 191.3 L 158.7 192.4 L 151.3 192.4 L 151.3 191.3 \" fill=\"#000000\"/>\n",
       "<path class=\"legend\" d=\"M 160.8 183.5 L 167.5 183.5 L 167.5 184.8 L 162.3 184.8 L 162.3 188.2 L 167.0 188.2 L 167.0 189.5 L 162.3 189.5 L 162.3 194.8 L 160.8 194.8 L 160.8 183.5 \" fill=\"#000000\"/>\n",
       "<path class=\"legend\" d=\"M 168.6 192.6 Q 168.6 191.3, 169.6 190.6 Q 170.7 189.8, 172.6 189.8 L 173.8 189.8 L 173.8 189.5 Q 173.8 188.5, 173.4 188.1 Q 173.0 187.6, 172.0 187.6 Q 171.3 187.6, 170.8 187.8 Q 170.3 187.9, 169.5 188.2 L 169.0 187.2 Q 170.5 186.4, 172.0 186.4 Q 173.7 186.4, 174.5 187.2 Q 175.3 187.9, 175.3 189.5 L 175.3 194.8 L 174.2 194.8 Q 174.2 194.7, 174.1 194.5 Q 174.1 194.2, 174.0 193.8 Q 172.8 195.0, 171.3 195.0 Q 170.0 195.0, 169.3 194.3 Q 168.6 193.7, 168.6 192.6 M 170.1 192.6 Q 170.1 193.2, 170.5 193.5 Q 170.8 193.8, 171.6 193.8 Q 172.2 193.8, 172.8 193.5 Q 173.4 193.2, 173.8 192.7 L 173.8 191.0 L 172.7 191.0 Q 171.4 191.0, 170.7 191.4 Q 170.1 191.8, 170.1 192.6 \" fill=\"#000000\"/>\n",
       "<path class=\"legend\" d=\"M 177.2 182.7 L 178.7 182.7 L 178.7 194.8 L 177.2 194.8 L 177.2 182.7 \" fill=\"#000000\"/>\n",
       "<path class=\"legend\" d=\"M 181.2 193.1 Q 182.0 193.4, 182.5 193.6 Q 183.0 193.7, 183.6 193.7 Q 184.3 193.7, 184.7 193.4 Q 185.1 193.1, 185.1 192.5 Q 185.1 192.1, 184.9 191.9 Q 184.7 191.7, 184.4 191.6 Q 184.1 191.4, 183.4 191.2 Q 183.3 191.2, 182.6 190.9 Q 181.8 190.7, 181.4 190.1 Q 181.0 189.6, 181.0 188.8 Q 181.0 187.8, 181.8 187.1 Q 182.6 186.4, 184.1 186.4 Q 184.7 186.4, 185.2 186.6 Q 185.8 186.7, 186.4 187.0 L 186.0 188.2 Q 185.5 187.9, 185.0 187.8 Q 184.6 187.7, 184.1 187.7 Q 183.3 187.7, 182.9 188.0 Q 182.5 188.3, 182.5 188.8 Q 182.5 189.2, 182.9 189.4 Q 183.2 189.6, 183.8 189.9 Q 184.0 189.9, 184.1 190.0 L 184.5 190.1 Q 185.2 190.4, 185.6 190.6 Q 186.0 190.8, 186.3 191.3 Q 186.6 191.7, 186.6 192.5 Q 186.6 193.7, 185.7 194.3 Q 184.9 195.0, 183.6 195.0 Q 182.8 195.0, 182.1 194.8 Q 181.4 194.6, 180.8 194.3 L 181.2 193.1 \" fill=\"#000000\"/>\n",
       "<path class=\"legend\" d=\"M 188.1 190.7 Q 188.1 188.7, 189.1 187.6 Q 190.1 186.4, 192.0 186.4 Q 193.8 186.4, 194.6 187.5 Q 195.4 188.6, 195.4 190.6 L 195.4 190.9 L 189.7 190.9 Q 189.7 192.3, 190.3 193.0 Q 190.9 193.8, 192.1 193.8 Q 192.7 193.8, 193.3 193.6 Q 193.9 193.4, 194.6 193.1 L 195.1 194.2 Q 194.3 194.6, 193.5 194.8 Q 192.8 194.9, 192.0 194.9 Q 190.2 194.9, 189.1 193.8 Q 188.1 192.7, 188.1 190.7 M 192.0 187.6 Q 191.0 187.6, 190.5 188.2 Q 189.9 188.7, 189.7 189.8 L 193.8 189.8 Q 193.7 188.7, 193.3 188.2 Q 192.8 187.6, 192.0 187.6 \" fill=\"#000000\"/>\n",
       "<path class=\"bond-0 atom-0 atom-1\" d=\"M 368.3,60.3 L 387.0,56.4\" style=\"fill:none;fill-rule:evenodd;stroke:#000000;stroke-width:2.0px;stroke-linecap:butt;stroke-linejoin:miter;stroke-opacity:1\"/>\n",
       "<path class=\"bond-0 atom-0 atom-1\" d=\"M 387.0,56.4 L 405.6,52.6\" style=\"fill:none;fill-rule:evenodd;stroke:#FF0000;stroke-width:2.0px;stroke-linecap:butt;stroke-linejoin:miter;stroke-opacity:1\"/>\n",
       "<path class=\"bond-1 atom-1 atom-2\" d=\"M 420.4,59.3 L 432.0,72.3\" style=\"fill:none;fill-rule:evenodd;stroke:#FF0000;stroke-width:2.0px;stroke-linecap:butt;stroke-linejoin:miter;stroke-opacity:1\"/>\n",
       "<path class=\"bond-1 atom-1 atom-2\" d=\"M 432.0,72.3 L 443.5,85.3\" style=\"fill:none;fill-rule:evenodd;stroke:#000000;stroke-width:2.0px;stroke-linecap:butt;stroke-linejoin:miter;stroke-opacity:1\"/>\n",
       "<path class=\"bond-2 atom-2 atom-3\" d=\"M 440.8,82.3 L 434.6,101.0\" style=\"fill:none;fill-rule:evenodd;stroke:#000000;stroke-width:2.0px;stroke-linecap:butt;stroke-linejoin:miter;stroke-opacity:1\"/>\n",
       "<path class=\"bond-2 atom-2 atom-3\" d=\"M 434.6,101.0 L 428.4,119.6\" style=\"fill:none;fill-rule:evenodd;stroke:#FF0000;stroke-width:2.0px;stroke-linecap:butt;stroke-linejoin:miter;stroke-opacity:1\"/>\n",
       "<path class=\"bond-2 atom-2 atom-3\" d=\"M 447.4,84.5 L 441.2,103.1\" style=\"fill:none;fill-rule:evenodd;stroke:#000000;stroke-width:2.0px;stroke-linecap:butt;stroke-linejoin:miter;stroke-opacity:1\"/>\n",
       "<path class=\"bond-2 atom-2 atom-3\" d=\"M 441.2,103.1 L 435.0,121.7\" style=\"fill:none;fill-rule:evenodd;stroke:#FF0000;stroke-width:2.0px;stroke-linecap:butt;stroke-linejoin:miter;stroke-opacity:1\"/>\n",
       "<path class=\"bond-3 atom-2 atom-4\" d=\"M 443.5,85.3 L 488.3,76.1\" style=\"fill:none;fill-rule:evenodd;stroke:#000000;stroke-width:2.0px;stroke-linecap:butt;stroke-linejoin:miter;stroke-opacity:1\"/>\n",
       "<path class=\"bond-4 atom-4 atom-5\" d=\"M 488.3,76.1 L 531.7,90.6\" style=\"fill:none;fill-rule:evenodd;stroke:#000000;stroke-width:2.0px;stroke-linecap:butt;stroke-linejoin:miter;stroke-opacity:1\"/>\n",
       "<path class=\"bond-5 atom-5 atom-6\" d=\"M 531.7,90.6 L 522.5,45.7\" style=\"fill:none;fill-rule:evenodd;stroke:#000000;stroke-width:2.0px;stroke-linecap:butt;stroke-linejoin:miter;stroke-opacity:1\"/>\n",
       "<path class=\"bond-6 atom-6 atom-4\" d=\"M 522.5,45.7 L 488.3,76.1\" style=\"fill:none;fill-rule:evenodd;stroke:#000000;stroke-width:2.0px;stroke-linecap:butt;stroke-linejoin:miter;stroke-opacity:1\"/>\n",
       "<path d=\"M 442.9,84.7 L 443.5,85.3 L 445.7,84.8\" style=\"fill:none;stroke:#000000;stroke-width:2.0px;stroke-linecap:butt;stroke-linejoin:miter;stroke-opacity:1;\"/>\n",
       "<path d=\"M 529.6,89.8 L 531.7,90.6 L 531.3,88.3\" style=\"fill:none;stroke:#000000;stroke-width:2.0px;stroke-linecap:butt;stroke-linejoin:miter;stroke-opacity:1;\"/>\n",
       "<path d=\"M 523.0,48.0 L 522.5,45.7 L 520.8,47.3\" style=\"fill:none;stroke:#000000;stroke-width:2.0px;stroke-linecap:butt;stroke-linejoin:miter;stroke-opacity:1;\"/>\n",
       "<path class=\"atom-1\" d=\"M 407.1 51.1 Q 407.1 48.0, 408.7 46.3 Q 410.2 44.5, 413.1 44.5 Q 416.0 44.5, 417.5 46.3 Q 419.0 48.0, 419.0 51.1 Q 419.0 54.3, 417.5 56.1 Q 415.9 57.8, 413.1 57.8 Q 410.2 57.8, 408.7 56.1 Q 407.1 54.3, 407.1 51.1 M 413.1 56.4 Q 415.1 56.4, 416.1 55.0 Q 417.2 53.7, 417.2 51.1 Q 417.2 48.6, 416.1 47.3 Q 415.1 46.0, 413.1 46.0 Q 411.1 46.0, 410.0 47.3 Q 409.0 48.5, 409.0 51.1 Q 409.0 53.7, 410.0 55.0 Q 411.1 56.4, 413.1 56.4 \" fill=\"#FF0000\"/>\n",
       "<path class=\"atom-3\" d=\"M 423.1 128.8 Q 423.1 125.7, 424.6 123.9 Q 426.1 122.2, 429.0 122.2 Q 431.9 122.2, 433.4 123.9 Q 435.0 125.7, 435.0 128.8 Q 435.0 131.9, 433.4 133.7 Q 431.9 135.5, 429.0 135.5 Q 426.2 135.5, 424.6 133.7 Q 423.1 131.9, 423.1 128.8 M 429.0 134.0 Q 431.0 134.0, 432.1 132.7 Q 433.1 131.4, 433.1 128.8 Q 433.1 126.2, 432.1 124.9 Q 431.0 123.6, 429.0 123.6 Q 427.0 123.6, 426.0 124.9 Q 424.9 126.2, 424.9 128.8 Q 424.9 131.4, 426.0 132.7 Q 427.0 134.0, 429.0 134.0 \" fill=\"#FF0000\"/>\n",
       "<path class=\"legend\" d=\"M 417.5 194.8 L 416.1 194.8 L 414.9 185.5 L 411.8 194.8 L 410.3 194.8 L 407.2 185.5 L 406.1 194.8 L 404.6 194.8 L 406.0 183.5 L 407.9 183.5 L 411.1 192.6 L 414.2 183.5 L 416.1 183.5 L 417.5 194.8 \" fill=\"#000000\"/>\n",
       "<path class=\"legend\" d=\"M 419.3 192.6 Q 419.3 191.3, 420.3 190.6 Q 421.4 189.8, 423.3 189.8 L 424.5 189.8 L 424.5 189.5 Q 424.5 188.5, 424.1 188.1 Q 423.7 187.6, 422.7 187.6 Q 422.0 187.6, 421.5 187.8 Q 421.0 187.9, 420.2 188.2 L 419.7 187.2 Q 421.2 186.4, 422.7 186.4 Q 424.4 186.4, 425.2 187.2 Q 426.0 187.9, 426.0 189.5 L 426.0 194.8 L 424.9 194.8 Q 424.8 194.7, 424.8 194.5 Q 424.7 194.2, 424.7 193.8 Q 423.5 195.0, 422.0 195.0 Q 420.7 195.0, 420.0 194.3 Q 419.3 193.7, 419.3 192.6 M 420.8 192.6 Q 420.8 193.2, 421.1 193.5 Q 421.5 193.8, 422.3 193.8 Q 422.9 193.8, 423.5 193.5 Q 424.1 193.2, 424.5 192.7 L 424.5 191.0 L 423.4 191.0 Q 422.1 191.0, 421.4 191.4 Q 420.8 191.8, 420.8 192.6 \" fill=\"#000000\"/>\n",
       "<path class=\"legend\" d=\"M 427.9 187.7 L 427.9 186.6 L 429.5 186.6 L 429.8 184.2 L 430.9 184.2 L 430.9 186.6 L 433.4 186.6 L 433.4 187.7 L 430.9 187.7 L 430.9 192.3 Q 430.9 193.7, 432.1 193.7 Q 432.6 193.7, 433.3 193.5 L 433.5 194.5 Q 432.6 194.9, 431.8 194.9 Q 430.7 194.9, 430.0 194.3 Q 429.4 193.6, 429.4 192.4 L 429.4 187.7 L 427.9 187.7 \" fill=\"#000000\"/>\n",
       "<path class=\"legend\" d=\"M 434.6 190.7 Q 434.6 188.7, 435.6 187.6 Q 436.6 186.4, 438.5 186.4 Q 440.4 186.4, 441.4 187.8 L 440.4 188.6 Q 440.0 188.1, 439.5 187.9 Q 439.1 187.6, 438.5 187.6 Q 437.4 187.6, 436.8 188.4 Q 436.1 189.2, 436.1 190.7 Q 436.1 192.2, 436.8 193.0 Q 437.4 193.8, 438.6 193.8 Q 439.3 193.8, 439.8 193.6 Q 440.2 193.4, 440.8 193.2 L 441.2 194.2 Q 440.0 194.9, 438.5 194.9 Q 436.6 194.9, 435.6 193.8 Q 434.6 192.7, 434.6 190.7 \" fill=\"#000000\"/>\n",
       "<path class=\"legend\" d=\"M 446.7 186.4 Q 448.0 186.4, 448.7 187.2 Q 449.4 187.9, 449.4 189.4 L 449.4 194.8 L 447.9 194.8 L 447.9 189.5 Q 447.9 188.5, 447.5 188.1 Q 447.2 187.6, 446.3 187.6 Q 445.6 187.6, 445.0 188.0 Q 444.3 188.3, 443.9 188.9 L 443.9 194.8 L 442.4 194.8 L 442.4 182.7 L 443.9 182.7 L 443.9 187.6 Q 445.0 186.4, 446.7 186.4 \" fill=\"#000000\"/>\n",
       "<path class=\"legend\" d=\"M 451.3 187.8 L 458.7 187.8 L 458.7 189.0 L 451.3 189.0 L 451.3 187.8 M 451.3 191.3 L 458.7 191.3 L 458.7 192.4 L 451.3 192.4 L 451.3 191.3 \" fill=\"#000000\"/>\n",
       "<path class=\"legend\" d=\"M 460.8 183.5 L 467.5 183.5 L 467.5 184.8 L 462.3 184.8 L 462.3 188.2 L 467.0 188.2 L 467.0 189.5 L 462.3 189.5 L 462.3 194.8 L 460.8 194.8 L 460.8 183.5 \" fill=\"#000000\"/>\n",
       "<path class=\"legend\" d=\"M 468.6 192.6 Q 468.6 191.3, 469.6 190.6 Q 470.7 189.8, 472.6 189.8 L 473.8 189.8 L 473.8 189.5 Q 473.8 188.5, 473.4 188.1 Q 473.0 187.6, 472.0 187.6 Q 471.3 187.6, 470.8 187.8 Q 470.3 187.9, 469.5 188.2 L 469.0 187.2 Q 470.5 186.4, 472.0 186.4 Q 473.7 186.4, 474.5 187.2 Q 475.3 187.9, 475.3 189.5 L 475.3 194.8 L 474.2 194.8 Q 474.2 194.7, 474.1 194.5 Q 474.1 194.2, 474.0 193.8 Q 472.8 195.0, 471.3 195.0 Q 470.0 195.0, 469.3 194.3 Q 468.6 193.7, 468.6 192.6 M 470.1 192.6 Q 470.1 193.2, 470.5 193.5 Q 470.8 193.8, 471.6 193.8 Q 472.2 193.8, 472.8 193.5 Q 473.4 193.2, 473.8 192.7 L 473.8 191.0 L 472.7 191.0 Q 471.4 191.0, 470.7 191.4 Q 470.1 191.8, 470.1 192.6 \" fill=\"#000000\"/>\n",
       "<path class=\"legend\" d=\"M 477.2 182.7 L 478.7 182.7 L 478.7 194.8 L 477.2 194.8 L 477.2 182.7 \" fill=\"#000000\"/>\n",
       "<path class=\"legend\" d=\"M 481.2 193.1 Q 482.0 193.4, 482.5 193.6 Q 483.0 193.7, 483.6 193.7 Q 484.3 193.7, 484.7 193.4 Q 485.1 193.1, 485.1 192.5 Q 485.1 192.1, 484.9 191.9 Q 484.7 191.7, 484.4 191.6 Q 484.1 191.4, 483.4 191.2 Q 483.3 191.2, 482.6 190.9 Q 481.8 190.7, 481.4 190.1 Q 481.0 189.6, 481.0 188.8 Q 481.0 187.8, 481.8 187.1 Q 482.6 186.4, 484.1 186.4 Q 484.7 186.4, 485.2 186.6 Q 485.8 186.7, 486.4 187.0 L 486.0 188.2 Q 485.5 187.9, 485.0 187.8 Q 484.6 187.7, 484.1 187.7 Q 483.3 187.7, 482.9 188.0 Q 482.5 188.3, 482.5 188.8 Q 482.5 189.2, 482.9 189.4 Q 483.2 189.6, 483.8 189.9 Q 484.0 189.9, 484.1 190.0 L 484.5 190.1 Q 485.2 190.4, 485.6 190.6 Q 486.0 190.8, 486.3 191.3 Q 486.6 191.7, 486.6 192.5 Q 486.6 193.7, 485.7 194.3 Q 484.9 195.0, 483.6 195.0 Q 482.8 195.0, 482.1 194.8 Q 481.4 194.6, 480.8 194.3 L 481.2 193.1 \" fill=\"#000000\"/>\n",
       "<path class=\"legend\" d=\"M 488.1 190.7 Q 488.1 188.7, 489.1 187.6 Q 490.1 186.4, 492.0 186.4 Q 493.8 186.4, 494.6 187.5 Q 495.4 188.6, 495.4 190.6 L 495.4 190.9 L 489.7 190.9 Q 489.7 192.3, 490.3 193.0 Q 490.9 193.8, 492.1 193.8 Q 492.7 193.8, 493.3 193.6 Q 493.9 193.4, 494.6 193.1 L 495.1 194.2 Q 494.3 194.6, 493.5 194.8 Q 492.8 194.9, 492.0 194.9 Q 490.2 194.9, 489.1 193.8 Q 488.1 192.7, 488.1 190.7 M 492.0 187.6 Q 491.0 187.6, 490.5 188.2 Q 489.9 188.7, 489.7 189.8 L 493.8 189.8 Q 493.7 188.7, 493.3 188.2 Q 492.8 187.6, 492.0 187.6 \" fill=\"#000000\"/>\n",
       "<path class=\"bond-0 atom-0 atom-1\" d=\"M 828.0,135.8 L 828.0,90.0\" style=\"fill:none;fill-rule:evenodd;stroke:#000000;stroke-width:2.0px;stroke-linecap:butt;stroke-linejoin:miter;stroke-opacity:1\"/>\n",
       "<path class=\"bond-1 atom-1 atom-2\" d=\"M 828.0,90.0 L 828.0,44.2\" style=\"fill:none;fill-rule:evenodd;stroke:#000000;stroke-width:2.0px;stroke-linecap:butt;stroke-linejoin:miter;stroke-opacity:1\"/>\n",
       "<path class=\"bond-2 atom-1 atom-3\" d=\"M 828.0,90.0 L 873.8,90.0\" style=\"fill:none;fill-rule:evenodd;stroke:#000000;stroke-width:2.0px;stroke-linecap:butt;stroke-linejoin:miter;stroke-opacity:1\"/>\n",
       "<path class=\"bond-3 atom-1 atom-4\" d=\"M 828.0,90.0 L 782.3,90.0\" style=\"fill:none;fill-rule:evenodd;stroke:#000000;stroke-width:2.0px;stroke-linecap:butt;stroke-linejoin:miter;stroke-opacity:1\"/>\n",
       "<path class=\"bond-4 atom-4 atom-5\" d=\"M 782.3,90.0 L 759.4,129.6\" style=\"fill:none;fill-rule:evenodd;stroke:#000000;stroke-width:2.0px;stroke-linecap:butt;stroke-linejoin:miter;stroke-opacity:1\"/>\n",
       "<path class=\"bond-4 atom-4 atom-5\" d=\"M 774.3,90.0 L 755.4,122.8\" style=\"fill:none;fill-rule:evenodd;stroke:#000000;stroke-width:2.0px;stroke-linecap:butt;stroke-linejoin:miter;stroke-opacity:1\"/>\n",
       "<path class=\"bond-5 atom-5 atom-6\" d=\"M 759.4,129.6 L 713.6,129.6\" style=\"fill:none;fill-rule:evenodd;stroke:#000000;stroke-width:2.0px;stroke-linecap:butt;stroke-linejoin:miter;stroke-opacity:1\"/>\n",
       "<path class=\"bond-6 atom-6 atom-7\" d=\"M 713.6,129.6 L 690.7,90.0\" style=\"fill:none;fill-rule:evenodd;stroke:#000000;stroke-width:2.0px;stroke-linecap:butt;stroke-linejoin:miter;stroke-opacity:1\"/>\n",
       "<path class=\"bond-6 atom-6 atom-7\" d=\"M 717.6,122.8 L 698.7,90.0\" style=\"fill:none;fill-rule:evenodd;stroke:#000000;stroke-width:2.0px;stroke-linecap:butt;stroke-linejoin:miter;stroke-opacity:1\"/>\n",
       "<path class=\"bond-7 atom-7 atom-8\" d=\"M 690.7,90.0 L 713.6,50.4\" style=\"fill:none;fill-rule:evenodd;stroke:#000000;stroke-width:2.0px;stroke-linecap:butt;stroke-linejoin:miter;stroke-opacity:1\"/>\n",
       "<path class=\"bond-8 atom-8 atom-9\" d=\"M 713.6,50.4 L 759.4,50.4\" style=\"fill:none;fill-rule:evenodd;stroke:#000000;stroke-width:2.0px;stroke-linecap:butt;stroke-linejoin:miter;stroke-opacity:1\"/>\n",
       "<path class=\"bond-8 atom-8 atom-9\" d=\"M 717.6,57.2 L 755.4,57.2\" style=\"fill:none;fill-rule:evenodd;stroke:#000000;stroke-width:2.0px;stroke-linecap:butt;stroke-linejoin:miter;stroke-opacity:1\"/>\n",
       "<path class=\"bond-9 atom-7 atom-10\" d=\"M 690.7,90.0 L 671.6,90.0\" style=\"fill:none;fill-rule:evenodd;stroke:#000000;stroke-width:2.0px;stroke-linecap:butt;stroke-linejoin:miter;stroke-opacity:1\"/>\n",
       "<path class=\"bond-9 atom-7 atom-10\" d=\"M 671.6,90.0 L 652.4,90.0\" style=\"fill:none;fill-rule:evenodd;stroke:#FF0000;stroke-width:2.0px;stroke-linecap:butt;stroke-linejoin:miter;stroke-opacity:1\"/>\n",
       "<path class=\"bond-10 atom-9 atom-4\" d=\"M 759.4,50.4 L 782.3,90.0\" style=\"fill:none;fill-rule:evenodd;stroke:#000000;stroke-width:2.0px;stroke-linecap:butt;stroke-linejoin:miter;stroke-opacity:1\"/>\n",
       "<path d=\"M 760.5,127.7 L 759.4,129.6 L 757.1,129.6\" style=\"fill:none;stroke:#000000;stroke-width:2.0px;stroke-linecap:butt;stroke-linejoin:miter;stroke-opacity:1;\"/>\n",
       "<path d=\"M 715.9,129.6 L 713.6,129.6 L 712.5,127.7\" style=\"fill:none;stroke:#000000;stroke-width:2.0px;stroke-linecap:butt;stroke-linejoin:miter;stroke-opacity:1;\"/>\n",
       "<path d=\"M 712.5,52.3 L 713.6,50.4 L 715.9,50.4\" style=\"fill:none;stroke:#000000;stroke-width:2.0px;stroke-linecap:butt;stroke-linejoin:miter;stroke-opacity:1;\"/>\n",
       "<path d=\"M 757.1,50.4 L 759.4,50.4 L 760.5,52.3\" style=\"fill:none;stroke:#000000;stroke-width:2.0px;stroke-linecap:butt;stroke-linejoin:miter;stroke-opacity:1;\"/>\n",
       "<path class=\"atom-10\" d=\"M 626.2 83.6 L 628.0 83.6 L 628.0 89.1 L 634.6 89.1 L 634.6 83.6 L 636.4 83.6 L 636.4 96.6 L 634.6 96.6 L 634.6 90.6 L 628.0 90.6 L 628.0 96.6 L 626.2 96.6 L 626.2 83.6 \" fill=\"#FF0000\"/>\n",
       "<path class=\"atom-10\" d=\"M 639.0 90.0 Q 639.0 86.9, 640.5 85.2 Q 642.1 83.4, 645.0 83.4 Q 647.8 83.4, 649.4 85.2 Q 650.9 86.9, 650.9 90.0 Q 650.9 93.2, 649.4 95.0 Q 647.8 96.8, 645.0 96.8 Q 642.1 96.8, 640.5 95.0 Q 639.0 93.2, 639.0 90.0 M 645.0 95.3 Q 646.9 95.3, 648.0 94.0 Q 649.1 92.6, 649.1 90.0 Q 649.1 87.5, 648.0 86.2 Q 646.9 84.9, 645.0 84.9 Q 643.0 84.9, 641.9 86.2 Q 640.8 87.5, 640.8 90.0 Q 640.8 92.7, 641.9 94.0 Q 643.0 95.3, 645.0 95.3 \" fill=\"#FF0000\"/>\n",
       "<path class=\"legend\" d=\"M 717.5 194.8 L 716.1 194.8 L 714.9 185.5 L 711.8 194.8 L 710.3 194.8 L 707.2 185.5 L 706.1 194.8 L 704.6 194.8 L 706.0 183.5 L 707.9 183.5 L 711.1 192.6 L 714.2 183.5 L 716.1 183.5 L 717.5 194.8 \" fill=\"#000000\"/>\n",
       "<path class=\"legend\" d=\"M 719.3 192.6 Q 719.3 191.3, 720.3 190.6 Q 721.4 189.8, 723.3 189.8 L 724.5 189.8 L 724.5 189.5 Q 724.5 188.5, 724.1 188.1 Q 723.7 187.6, 722.7 187.6 Q 722.0 187.6, 721.5 187.8 Q 721.0 187.9, 720.2 188.2 L 719.7 187.2 Q 721.2 186.4, 722.7 186.4 Q 724.4 186.4, 725.2 187.2 Q 726.0 187.9, 726.0 189.5 L 726.0 194.8 L 724.9 194.8 Q 724.8 194.7, 724.8 194.5 Q 724.7 194.2, 724.7 193.8 Q 723.5 195.0, 722.0 195.0 Q 720.7 195.0, 720.0 194.3 Q 719.3 193.7, 719.3 192.6 M 720.8 192.6 Q 720.8 193.2, 721.1 193.5 Q 721.5 193.8, 722.3 193.8 Q 722.9 193.8, 723.5 193.5 Q 724.1 193.2, 724.5 192.7 L 724.5 191.0 L 723.4 191.0 Q 722.1 191.0, 721.4 191.4 Q 720.8 191.8, 720.8 192.6 \" fill=\"#000000\"/>\n",
       "<path class=\"legend\" d=\"M 727.9 187.7 L 727.9 186.6 L 729.5 186.6 L 729.8 184.2 L 730.9 184.2 L 730.9 186.6 L 733.4 186.6 L 733.4 187.7 L 730.9 187.7 L 730.9 192.3 Q 730.9 193.7, 732.1 193.7 Q 732.6 193.7, 733.3 193.5 L 733.5 194.5 Q 732.6 194.9, 731.8 194.9 Q 730.7 194.9, 730.0 194.3 Q 729.4 193.6, 729.4 192.4 L 729.4 187.7 L 727.9 187.7 \" fill=\"#000000\"/>\n",
       "<path class=\"legend\" d=\"M 734.6 190.7 Q 734.6 188.7, 735.6 187.6 Q 736.6 186.4, 738.5 186.4 Q 740.4 186.4, 741.4 187.8 L 740.4 188.6 Q 740.0 188.1, 739.5 187.9 Q 739.1 187.6, 738.5 187.6 Q 737.4 187.6, 736.8 188.4 Q 736.1 189.2, 736.1 190.7 Q 736.1 192.2, 736.8 193.0 Q 737.4 193.8, 738.6 193.8 Q 739.3 193.8, 739.8 193.6 Q 740.2 193.4, 740.8 193.2 L 741.2 194.2 Q 740.0 194.9, 738.5 194.9 Q 736.6 194.9, 735.6 193.8 Q 734.6 192.7, 734.6 190.7 \" fill=\"#000000\"/>\n",
       "<path class=\"legend\" d=\"M 746.7 186.4 Q 748.0 186.4, 748.7 187.2 Q 749.4 187.9, 749.4 189.4 L 749.4 194.8 L 747.9 194.8 L 747.9 189.5 Q 747.9 188.5, 747.5 188.1 Q 747.2 187.6, 746.3 187.6 Q 745.6 187.6, 745.0 188.0 Q 744.3 188.3, 743.9 188.9 L 743.9 194.8 L 742.4 194.8 L 742.4 182.7 L 743.9 182.7 L 743.9 187.6 Q 745.0 186.4, 746.7 186.4 \" fill=\"#000000\"/>\n",
       "<path class=\"legend\" d=\"M 751.3 187.8 L 758.7 187.8 L 758.7 189.0 L 751.3 189.0 L 751.3 187.8 M 751.3 191.3 L 758.7 191.3 L 758.7 192.4 L 751.3 192.4 L 751.3 191.3 \" fill=\"#000000\"/>\n",
       "<path class=\"legend\" d=\"M 760.8 183.5 L 767.5 183.5 L 767.5 184.8 L 762.3 184.8 L 762.3 188.2 L 767.0 188.2 L 767.0 189.5 L 762.3 189.5 L 762.3 194.8 L 760.8 194.8 L 760.8 183.5 \" fill=\"#000000\"/>\n",
       "<path class=\"legend\" d=\"M 768.6 192.6 Q 768.6 191.3, 769.6 190.6 Q 770.7 189.8, 772.6 189.8 L 773.8 189.8 L 773.8 189.5 Q 773.8 188.5, 773.4 188.1 Q 773.0 187.6, 772.0 187.6 Q 771.3 187.6, 770.8 187.8 Q 770.3 187.9, 769.5 188.2 L 769.0 187.2 Q 770.5 186.4, 772.0 186.4 Q 773.7 186.4, 774.5 187.2 Q 775.3 187.9, 775.3 189.5 L 775.3 194.8 L 774.2 194.8 Q 774.2 194.7, 774.1 194.5 Q 774.1 194.2, 774.0 193.8 Q 772.8 195.0, 771.3 195.0 Q 770.0 195.0, 769.3 194.3 Q 768.6 193.7, 768.6 192.6 M 770.1 192.6 Q 770.1 193.2, 770.5 193.5 Q 770.8 193.8, 771.6 193.8 Q 772.2 193.8, 772.8 193.5 Q 773.4 193.2, 773.8 192.7 L 773.8 191.0 L 772.7 191.0 Q 771.4 191.0, 770.7 191.4 Q 770.1 191.8, 770.1 192.6 \" fill=\"#000000\"/>\n",
       "<path class=\"legend\" d=\"M 777.2 182.7 L 778.7 182.7 L 778.7 194.8 L 777.2 194.8 L 777.2 182.7 \" fill=\"#000000\"/>\n",
       "<path class=\"legend\" d=\"M 781.2 193.1 Q 782.0 193.4, 782.5 193.6 Q 783.0 193.7, 783.6 193.7 Q 784.3 193.7, 784.7 193.4 Q 785.1 193.1, 785.1 192.5 Q 785.1 192.1, 784.9 191.9 Q 784.7 191.7, 784.4 191.6 Q 784.1 191.4, 783.4 191.2 Q 783.3 191.2, 782.6 190.9 Q 781.8 190.7, 781.4 190.1 Q 781.0 189.6, 781.0 188.8 Q 781.0 187.8, 781.8 187.1 Q 782.6 186.4, 784.1 186.4 Q 784.7 186.4, 785.2 186.6 Q 785.8 186.7, 786.4 187.0 L 786.0 188.2 Q 785.5 187.9, 785.0 187.8 Q 784.6 187.7, 784.1 187.7 Q 783.3 187.7, 782.9 188.0 Q 782.5 188.3, 782.5 188.8 Q 782.5 189.2, 782.9 189.4 Q 783.2 189.6, 783.8 189.9 Q 784.0 189.9, 784.1 190.0 L 784.5 190.1 Q 785.2 190.4, 785.6 190.6 Q 786.0 190.8, 786.3 191.3 Q 786.6 191.7, 786.6 192.5 Q 786.6 193.7, 785.7 194.3 Q 784.9 195.0, 783.6 195.0 Q 782.8 195.0, 782.1 194.8 Q 781.4 194.6, 780.8 194.3 L 781.2 193.1 \" fill=\"#000000\"/>\n",
       "<path class=\"legend\" d=\"M 788.1 190.7 Q 788.1 188.7, 789.1 187.6 Q 790.1 186.4, 792.0 186.4 Q 793.8 186.4, 794.6 187.5 Q 795.4 188.6, 795.4 190.6 L 795.4 190.9 L 789.7 190.9 Q 789.7 192.3, 790.3 193.0 Q 790.9 193.8, 792.1 193.8 Q 792.7 193.8, 793.3 193.6 Q 793.9 193.4, 794.6 193.1 L 795.1 194.2 Q 794.3 194.6, 793.5 194.8 Q 792.8 194.9, 792.0 194.9 Q 790.2 194.9, 789.1 193.8 Q 788.1 192.7, 788.1 190.7 M 792.0 187.6 Q 791.0 187.6, 790.5 188.2 Q 789.9 188.7, 789.7 189.8 L 793.8 189.8 Q 793.7 188.7, 793.3 188.2 Q 792.8 187.6, 792.0 187.6 \" fill=\"#000000\"/>\n",
       "<path class=\"bond-0 atom-0 atom-1\" d=\"M 1141.5,90.0 L 1095.8,90.0\" style=\"fill:none;fill-rule:evenodd;stroke:#000000;stroke-width:2.0px;stroke-linecap:butt;stroke-linejoin:miter;stroke-opacity:1\"/>\n",
       "<path class=\"bond-1 atom-1 atom-2\" d=\"M 1095.8,90.0 L 1072.9,129.6\" style=\"fill:none;fill-rule:evenodd;stroke:#000000;stroke-width:2.0px;stroke-linecap:butt;stroke-linejoin:miter;stroke-opacity:1\"/>\n",
       "<path class=\"bond-1 atom-1 atom-2\" d=\"M 1087.8,90.0 L 1068.9,122.8\" style=\"fill:none;fill-rule:evenodd;stroke:#000000;stroke-width:2.0px;stroke-linecap:butt;stroke-linejoin:miter;stroke-opacity:1\"/>\n",
       "<path class=\"bond-2 atom-2 atom-3\" d=\"M 1072.9,129.6 L 1027.1,129.6\" style=\"fill:none;fill-rule:evenodd;stroke:#000000;stroke-width:2.0px;stroke-linecap:butt;stroke-linejoin:miter;stroke-opacity:1\"/>\n",
       "<path class=\"bond-3 atom-3 atom-4\" d=\"M 1027.1,129.6 L 1004.2,90.0\" style=\"fill:none;fill-rule:evenodd;stroke:#000000;stroke-width:2.0px;stroke-linecap:butt;stroke-linejoin:miter;stroke-opacity:1\"/>\n",
       "<path class=\"bond-3 atom-3 atom-4\" d=\"M 1031.1,122.8 L 1012.2,90.0\" style=\"fill:none;fill-rule:evenodd;stroke:#000000;stroke-width:2.0px;stroke-linecap:butt;stroke-linejoin:miter;stroke-opacity:1\"/>\n",
       "<path class=\"bond-4 atom-4 atom-5\" d=\"M 1004.2,90.0 L 1027.1,50.4\" style=\"fill:none;fill-rule:evenodd;stroke:#000000;stroke-width:2.0px;stroke-linecap:butt;stroke-linejoin:miter;stroke-opacity:1\"/>\n",
       "<path class=\"bond-5 atom-5 atom-6\" d=\"M 1027.1,50.4 L 1072.9,50.4\" style=\"fill:none;fill-rule:evenodd;stroke:#000000;stroke-width:2.0px;stroke-linecap:butt;stroke-linejoin:miter;stroke-opacity:1\"/>\n",
       "<path class=\"bond-5 atom-5 atom-6\" d=\"M 1031.1,57.2 L 1068.9,57.2\" style=\"fill:none;fill-rule:evenodd;stroke:#000000;stroke-width:2.0px;stroke-linecap:butt;stroke-linejoin:miter;stroke-opacity:1\"/>\n",
       "<path class=\"bond-6 atom-4 atom-7\" d=\"M 1004.2,90.0 L 958.5,90.0\" style=\"fill:none;fill-rule:evenodd;stroke:#000000;stroke-width:2.0px;stroke-linecap:butt;stroke-linejoin:miter;stroke-opacity:1\"/>\n",
       "<path class=\"bond-7 atom-6 atom-1\" d=\"M 1072.9,50.4 L 1095.8,90.0\" style=\"fill:none;fill-rule:evenodd;stroke:#000000;stroke-width:2.0px;stroke-linecap:butt;stroke-linejoin:miter;stroke-opacity:1\"/>\n",
       "<path d=\"M 1074.0,127.7 L 1072.9,129.6 L 1070.6,129.6\" style=\"fill:none;stroke:#000000;stroke-width:2.0px;stroke-linecap:butt;stroke-linejoin:miter;stroke-opacity:1;\"/>\n",
       "<path d=\"M 1029.4,129.6 L 1027.1,129.6 L 1026.0,127.7\" style=\"fill:none;stroke:#000000;stroke-width:2.0px;stroke-linecap:butt;stroke-linejoin:miter;stroke-opacity:1;\"/>\n",
       "<path d=\"M 1026.0,52.3 L 1027.1,50.4 L 1029.4,50.4\" style=\"fill:none;stroke:#000000;stroke-width:2.0px;stroke-linecap:butt;stroke-linejoin:miter;stroke-opacity:1;\"/>\n",
       "<path d=\"M 1070.6,50.4 L 1072.9,50.4 L 1074.0,52.3\" style=\"fill:none;stroke:#000000;stroke-width:2.0px;stroke-linecap:butt;stroke-linejoin:miter;stroke-opacity:1;\"/>\n",
       "<path class=\"legend\" d=\"M 1017.5 194.8 L 1016.1 194.8 L 1014.9 185.5 L 1011.8 194.8 L 1010.3 194.8 L 1007.2 185.5 L 1006.1 194.8 L 1004.6 194.8 L 1006.0 183.5 L 1007.9 183.5 L 1011.1 192.6 L 1014.2 183.5 L 1016.1 183.5 L 1017.5 194.8 \" fill=\"#000000\"/>\n",
       "<path class=\"legend\" d=\"M 1019.3 192.6 Q 1019.3 191.3, 1020.3 190.6 Q 1021.4 189.8, 1023.3 189.8 L 1024.5 189.8 L 1024.5 189.5 Q 1024.5 188.5, 1024.1 188.1 Q 1023.7 187.6, 1022.7 187.6 Q 1022.0 187.6, 1021.5 187.8 Q 1021.0 187.9, 1020.2 188.2 L 1019.7 187.2 Q 1021.2 186.4, 1022.7 186.4 Q 1024.4 186.4, 1025.2 187.2 Q 1026.0 187.9, 1026.0 189.5 L 1026.0 194.8 L 1024.9 194.8 Q 1024.8 194.7, 1024.8 194.5 Q 1024.7 194.2, 1024.7 193.8 Q 1023.5 195.0, 1022.0 195.0 Q 1020.7 195.0, 1020.0 194.3 Q 1019.3 193.7, 1019.3 192.6 M 1020.8 192.6 Q 1020.8 193.2, 1021.1 193.5 Q 1021.5 193.8, 1022.3 193.8 Q 1022.9 193.8, 1023.5 193.5 Q 1024.1 193.2, 1024.5 192.7 L 1024.5 191.0 L 1023.4 191.0 Q 1022.1 191.0, 1021.4 191.4 Q 1020.8 191.8, 1020.8 192.6 \" fill=\"#000000\"/>\n",
       "<path class=\"legend\" d=\"M 1027.9 187.7 L 1027.9 186.6 L 1029.5 186.6 L 1029.8 184.2 L 1030.9 184.2 L 1030.9 186.6 L 1033.4 186.6 L 1033.4 187.7 L 1030.9 187.7 L 1030.9 192.3 Q 1030.9 193.7, 1032.1 193.7 Q 1032.6 193.7, 1033.3 193.5 L 1033.5 194.5 Q 1032.6 194.9, 1031.8 194.9 Q 1030.7 194.9, 1030.0 194.3 Q 1029.4 193.6, 1029.4 192.4 L 1029.4 187.7 L 1027.9 187.7 \" fill=\"#000000\"/>\n",
       "<path class=\"legend\" d=\"M 1034.6 190.7 Q 1034.6 188.7, 1035.6 187.6 Q 1036.6 186.4, 1038.5 186.4 Q 1040.4 186.4, 1041.4 187.8 L 1040.4 188.6 Q 1040.0 188.1, 1039.5 187.9 Q 1039.1 187.6, 1038.5 187.6 Q 1037.4 187.6, 1036.8 188.4 Q 1036.1 189.2, 1036.1 190.7 Q 1036.1 192.2, 1036.8 193.0 Q 1037.4 193.8, 1038.6 193.8 Q 1039.3 193.8, 1039.8 193.6 Q 1040.2 193.4, 1040.8 193.2 L 1041.2 194.2 Q 1040.0 194.9, 1038.5 194.9 Q 1036.6 194.9, 1035.6 193.8 Q 1034.6 192.7, 1034.6 190.7 \" fill=\"#000000\"/>\n",
       "<path class=\"legend\" d=\"M 1046.7 186.4 Q 1048.0 186.4, 1048.7 187.2 Q 1049.4 187.9, 1049.4 189.4 L 1049.4 194.8 L 1047.9 194.8 L 1047.9 189.5 Q 1047.9 188.5, 1047.5 188.1 Q 1047.2 187.6, 1046.3 187.6 Q 1045.6 187.6, 1045.0 188.0 Q 1044.3 188.3, 1043.9 188.9 L 1043.9 194.8 L 1042.4 194.8 L 1042.4 182.7 L 1043.9 182.7 L 1043.9 187.6 Q 1045.0 186.4, 1046.7 186.4 \" fill=\"#000000\"/>\n",
       "<path class=\"legend\" d=\"M 1051.3 187.8 L 1058.7 187.8 L 1058.7 189.0 L 1051.3 189.0 L 1051.3 187.8 M 1051.3 191.3 L 1058.7 191.3 L 1058.7 192.4 L 1051.3 192.4 L 1051.3 191.3 \" fill=\"#000000\"/>\n",
       "<path class=\"legend\" d=\"M 1060.8 183.5 L 1067.5 183.5 L 1067.5 184.8 L 1062.3 184.8 L 1062.3 188.2 L 1067.0 188.2 L 1067.0 189.5 L 1062.3 189.5 L 1062.3 194.8 L 1060.8 194.8 L 1060.8 183.5 \" fill=\"#000000\"/>\n",
       "<path class=\"legend\" d=\"M 1068.6 192.6 Q 1068.6 191.3, 1069.6 190.6 Q 1070.7 189.8, 1072.6 189.8 L 1073.8 189.8 L 1073.8 189.5 Q 1073.8 188.5, 1073.4 188.1 Q 1073.0 187.6, 1072.0 187.6 Q 1071.3 187.6, 1070.8 187.8 Q 1070.3 187.9, 1069.5 188.2 L 1069.0 187.2 Q 1070.5 186.4, 1072.0 186.4 Q 1073.7 186.4, 1074.5 187.2 Q 1075.3 187.9, 1075.3 189.5 L 1075.3 194.8 L 1074.2 194.8 Q 1074.2 194.7, 1074.1 194.5 Q 1074.1 194.2, 1074.0 193.8 Q 1072.8 195.0, 1071.3 195.0 Q 1070.0 195.0, 1069.3 194.3 Q 1068.6 193.7, 1068.6 192.6 M 1070.1 192.6 Q 1070.1 193.2, 1070.5 193.5 Q 1070.8 193.8, 1071.6 193.8 Q 1072.2 193.8, 1072.8 193.5 Q 1073.4 193.2, 1073.8 192.7 L 1073.8 191.0 L 1072.7 191.0 Q 1071.4 191.0, 1070.7 191.4 Q 1070.1 191.8, 1070.1 192.6 \" fill=\"#000000\"/>\n",
       "<path class=\"legend\" d=\"M 1077.2 182.7 L 1078.7 182.7 L 1078.7 194.8 L 1077.2 194.8 L 1077.2 182.7 \" fill=\"#000000\"/>\n",
       "<path class=\"legend\" d=\"M 1081.2 193.1 Q 1082.0 193.4, 1082.5 193.6 Q 1083.0 193.7, 1083.6 193.7 Q 1084.3 193.7, 1084.7 193.4 Q 1085.1 193.1, 1085.1 192.5 Q 1085.1 192.1, 1084.9 191.9 Q 1084.7 191.7, 1084.4 191.6 Q 1084.1 191.4, 1083.4 191.2 Q 1083.3 191.2, 1082.6 190.9 Q 1081.8 190.7, 1081.4 190.1 Q 1081.0 189.6, 1081.0 188.8 Q 1081.0 187.8, 1081.8 187.1 Q 1082.6 186.4, 1084.1 186.4 Q 1084.7 186.4, 1085.2 186.6 Q 1085.8 186.7, 1086.4 187.0 L 1086.0 188.2 Q 1085.5 187.9, 1085.0 187.8 Q 1084.6 187.7, 1084.1 187.7 Q 1083.3 187.7, 1082.9 188.0 Q 1082.5 188.3, 1082.5 188.8 Q 1082.5 189.2, 1082.9 189.4 Q 1083.2 189.6, 1083.8 189.9 Q 1084.0 189.9, 1084.1 190.0 L 1084.5 190.1 Q 1085.2 190.4, 1085.6 190.6 Q 1086.0 190.8, 1086.3 191.3 Q 1086.6 191.7, 1086.6 192.5 Q 1086.6 193.7, 1085.7 194.3 Q 1084.9 195.0, 1083.6 195.0 Q 1082.8 195.0, 1082.1 194.8 Q 1081.4 194.6, 1080.8 194.3 L 1081.2 193.1 \" fill=\"#000000\"/>\n",
       "<path class=\"legend\" d=\"M 1088.1 190.7 Q 1088.1 188.7, 1089.1 187.6 Q 1090.1 186.4, 1092.0 186.4 Q 1093.8 186.4, 1094.6 187.5 Q 1095.4 188.6, 1095.4 190.6 L 1095.4 190.9 L 1089.7 190.9 Q 1089.7 192.3, 1090.3 193.0 Q 1090.9 193.8, 1092.1 193.8 Q 1092.7 193.8, 1093.3 193.6 Q 1093.9 193.4, 1094.6 193.1 L 1095.1 194.2 Q 1094.3 194.6, 1093.5 194.8 Q 1092.8 194.9, 1092.0 194.9 Q 1090.2 194.9, 1089.1 193.8 Q 1088.1 192.7, 1088.1 190.7 M 1092.0 187.6 Q 1091.0 187.6, 1090.5 188.2 Q 1089.9 188.7, 1089.7 189.8 L 1093.8 189.8 Q 1093.7 188.7, 1093.3 188.2 Q 1092.8 187.6, 1092.0 187.6 \" fill=\"#000000\"/>\n",
       "<path class=\"bond-0 atom-0 atom-1\" d=\"M 111.4,316.2 L 151.0,293.3\" style=\"fill:none;fill-rule:evenodd;stroke:#000000;stroke-width:2.0px;stroke-linecap:butt;stroke-linejoin:miter;stroke-opacity:1\"/>\n",
       "<path class=\"bond-1 atom-1 atom-2\" d=\"M 151.0,293.3 L 190.6,270.4\" style=\"fill:none;fill-rule:evenodd;stroke:#000000;stroke-width:2.0px;stroke-linecap:butt;stroke-linejoin:miter;stroke-opacity:1\"/>\n",
       "<path class=\"bond-2 atom-1 atom-3\" d=\"M 151.0,293.3 L 173.9,332.9\" style=\"fill:none;fill-rule:evenodd;stroke:#000000;stroke-width:2.0px;stroke-linecap:butt;stroke-linejoin:miter;stroke-opacity:1\"/>\n",
       "<path class=\"bond-3 atom-1 atom-4\" d=\"M 151.0,293.3 L 141.9,277.6\" style=\"fill:none;fill-rule:evenodd;stroke:#000000;stroke-width:2.0px;stroke-linecap:butt;stroke-linejoin:miter;stroke-opacity:1\"/>\n",
       "<path class=\"bond-3 atom-1 atom-4\" d=\"M 141.9,277.6 L 132.9,261.9\" style=\"fill:none;fill-rule:evenodd;stroke:#FF0000;stroke-width:2.0px;stroke-linecap:butt;stroke-linejoin:miter;stroke-opacity:1\"/>\n",
       "<path class=\"atom-4\" d=\"M 109.4 247.2 L 111.1 247.2 L 111.1 252.7 L 117.8 252.7 L 117.8 247.2 L 119.5 247.2 L 119.5 260.2 L 117.8 260.2 L 117.8 254.2 L 111.1 254.2 L 111.1 260.2 L 109.4 260.2 L 109.4 247.2 \" fill=\"#FF0000\"/>\n",
       "<path class=\"atom-4\" d=\"M 122.2 253.7 Q 122.2 250.6, 123.7 248.8 Q 125.2 247.1, 128.1 247.1 Q 131.0 247.1, 132.5 248.8 Q 134.1 250.6, 134.1 253.7 Q 134.1 256.8, 132.5 258.6 Q 131.0 260.4, 128.1 260.4 Q 125.3 260.4, 123.7 258.6 Q 122.2 256.8, 122.2 253.7 M 128.1 258.9 Q 130.1 258.9, 131.2 257.6 Q 132.2 256.3, 132.2 253.7 Q 132.2 251.1, 131.2 249.9 Q 130.1 248.6, 128.1 248.6 Q 126.1 248.6, 125.1 249.8 Q 124.0 251.1, 124.0 253.7 Q 124.0 256.3, 125.1 257.6 Q 126.1 258.9, 128.1 258.9 \" fill=\"#FF0000\"/>\n",
       "<path class=\"legend\" d=\"M 117.5 394.8 L 116.1 394.8 L 114.9 385.5 L 111.8 394.8 L 110.3 394.8 L 107.2 385.5 L 106.1 394.8 L 104.6 394.8 L 106.0 383.5 L 107.9 383.5 L 111.1 392.6 L 114.2 383.5 L 116.1 383.5 L 117.5 394.8 \" fill=\"#000000\"/>\n",
       "<path class=\"legend\" d=\"M 119.3 392.6 Q 119.3 391.3, 120.3 390.6 Q 121.4 389.8, 123.3 389.8 L 124.5 389.8 L 124.5 389.5 Q 124.5 388.5, 124.1 388.1 Q 123.7 387.6, 122.7 387.6 Q 122.0 387.6, 121.5 387.8 Q 121.0 387.9, 120.2 388.2 L 119.7 387.2 Q 121.2 386.4, 122.7 386.4 Q 124.4 386.4, 125.2 387.2 Q 126.0 387.9, 126.0 389.5 L 126.0 394.8 L 124.9 394.8 Q 124.8 394.7, 124.8 394.5 Q 124.7 394.2, 124.7 393.8 Q 123.5 395.0, 122.0 395.0 Q 120.7 395.0, 120.0 394.3 Q 119.3 393.7, 119.3 392.6 M 120.8 392.6 Q 120.8 393.2, 121.1 393.5 Q 121.5 393.8, 122.3 393.8 Q 122.9 393.8, 123.5 393.5 Q 124.1 393.2, 124.5 392.7 L 124.5 391.0 L 123.4 391.0 Q 122.1 391.0, 121.4 391.4 Q 120.8 391.8, 120.8 392.6 \" fill=\"#000000\"/>\n",
       "<path class=\"legend\" d=\"M 127.9 387.7 L 127.9 386.6 L 129.5 386.6 L 129.8 384.2 L 130.9 384.2 L 130.9 386.6 L 133.4 386.6 L 133.4 387.7 L 130.9 387.7 L 130.9 392.3 Q 130.9 393.7, 132.1 393.7 Q 132.6 393.7, 133.3 393.5 L 133.5 394.5 Q 132.6 394.9, 131.8 394.9 Q 130.7 394.9, 130.0 394.3 Q 129.4 393.6, 129.4 392.4 L 129.4 387.7 L 127.9 387.7 \" fill=\"#000000\"/>\n",
       "<path class=\"legend\" d=\"M 134.6 390.7 Q 134.6 388.7, 135.6 387.6 Q 136.6 386.4, 138.5 386.4 Q 140.4 386.4, 141.4 387.8 L 140.4 388.6 Q 140.0 388.1, 139.5 387.9 Q 139.1 387.6, 138.5 387.6 Q 137.4 387.6, 136.8 388.4 Q 136.1 389.2, 136.1 390.7 Q 136.1 392.2, 136.8 393.0 Q 137.4 393.8, 138.6 393.8 Q 139.3 393.8, 139.8 393.6 Q 140.2 393.4, 140.8 393.2 L 141.2 394.2 Q 140.0 394.9, 138.5 394.9 Q 136.6 394.9, 135.6 393.8 Q 134.6 392.7, 134.6 390.7 \" fill=\"#000000\"/>\n",
       "<path class=\"legend\" d=\"M 146.7 386.4 Q 148.0 386.4, 148.7 387.2 Q 149.4 387.9, 149.4 389.4 L 149.4 394.8 L 147.9 394.8 L 147.9 389.5 Q 147.9 388.5, 147.5 388.1 Q 147.2 387.6, 146.3 387.6 Q 145.6 387.6, 145.0 388.0 Q 144.3 388.3, 143.9 388.9 L 143.9 394.8 L 142.4 394.8 L 142.4 382.7 L 143.9 382.7 L 143.9 387.6 Q 145.0 386.4, 146.7 386.4 \" fill=\"#000000\"/>\n",
       "<path class=\"legend\" d=\"M 151.3 387.8 L 158.7 387.8 L 158.7 389.0 L 151.3 389.0 L 151.3 387.8 M 151.3 391.3 L 158.7 391.3 L 158.7 392.4 L 151.3 392.4 L 151.3 391.3 \" fill=\"#000000\"/>\n",
       "<path class=\"legend\" d=\"M 160.8 383.5 L 167.5 383.5 L 167.5 384.8 L 162.3 384.8 L 162.3 388.2 L 167.0 388.2 L 167.0 389.5 L 162.3 389.5 L 162.3 394.8 L 160.8 394.8 L 160.8 383.5 \" fill=\"#000000\"/>\n",
       "<path class=\"legend\" d=\"M 168.6 392.6 Q 168.6 391.3, 169.6 390.6 Q 170.7 389.8, 172.6 389.8 L 173.8 389.8 L 173.8 389.5 Q 173.8 388.5, 173.4 388.1 Q 173.0 387.6, 172.0 387.6 Q 171.3 387.6, 170.8 387.8 Q 170.3 387.9, 169.5 388.2 L 169.0 387.2 Q 170.5 386.4, 172.0 386.4 Q 173.7 386.4, 174.5 387.2 Q 175.3 387.9, 175.3 389.5 L 175.3 394.8 L 174.2 394.8 Q 174.2 394.7, 174.1 394.5 Q 174.1 394.2, 174.0 393.8 Q 172.8 395.0, 171.3 395.0 Q 170.0 395.0, 169.3 394.3 Q 168.6 393.7, 168.6 392.6 M 170.1 392.6 Q 170.1 393.2, 170.5 393.5 Q 170.8 393.8, 171.6 393.8 Q 172.2 393.8, 172.8 393.5 Q 173.4 393.2, 173.8 392.7 L 173.8 391.0 L 172.7 391.0 Q 171.4 391.0, 170.7 391.4 Q 170.1 391.8, 170.1 392.6 \" fill=\"#000000\"/>\n",
       "<path class=\"legend\" d=\"M 177.2 382.7 L 178.7 382.7 L 178.7 394.8 L 177.2 394.8 L 177.2 382.7 \" fill=\"#000000\"/>\n",
       "<path class=\"legend\" d=\"M 181.2 393.1 Q 182.0 393.4, 182.5 393.6 Q 183.0 393.7, 183.6 393.7 Q 184.3 393.7, 184.7 393.4 Q 185.1 393.1, 185.1 392.5 Q 185.1 392.1, 184.9 391.9 Q 184.7 391.7, 184.4 391.6 Q 184.1 391.4, 183.4 391.2 Q 183.3 391.2, 182.6 390.9 Q 181.8 390.7, 181.4 390.1 Q 181.0 389.6, 181.0 388.8 Q 181.0 387.8, 181.8 387.1 Q 182.6 386.4, 184.1 386.4 Q 184.7 386.4, 185.2 386.6 Q 185.8 386.7, 186.4 387.0 L 186.0 388.2 Q 185.5 387.9, 185.0 387.8 Q 184.6 387.7, 184.1 387.7 Q 183.3 387.7, 182.9 388.0 Q 182.5 388.3, 182.5 388.8 Q 182.5 389.2, 182.9 389.4 Q 183.2 389.6, 183.8 389.9 Q 184.0 389.9, 184.1 390.0 L 184.5 390.1 Q 185.2 390.4, 185.6 390.6 Q 186.0 390.8, 186.3 391.3 Q 186.6 391.7, 186.6 392.5 Q 186.6 393.7, 185.7 394.3 Q 184.9 395.0, 183.6 395.0 Q 182.8 395.0, 182.1 394.8 Q 181.4 394.6, 180.8 394.3 L 181.2 393.1 \" fill=\"#000000\"/>\n",
       "<path class=\"legend\" d=\"M 188.1 390.7 Q 188.1 388.7, 189.1 387.6 Q 190.1 386.4, 192.0 386.4 Q 193.8 386.4, 194.6 387.5 Q 195.4 388.6, 195.4 390.6 L 195.4 390.9 L 189.7 390.9 Q 189.7 392.3, 190.3 393.0 Q 190.9 393.8, 192.1 393.8 Q 192.7 393.8, 193.3 393.6 Q 193.9 393.4, 194.6 393.1 L 195.1 394.2 Q 194.3 394.6, 193.5 394.8 Q 192.8 394.9, 192.0 394.9 Q 190.2 394.9, 189.1 393.8 Q 188.1 392.7, 188.1 390.7 M 192.0 387.6 Q 191.0 387.6, 190.5 388.2 Q 189.9 388.7, 189.7 389.8 L 193.8 389.8 Q 193.7 388.7, 193.3 388.2 Q 192.8 387.6, 192.0 387.6 \" fill=\"#000000\"/>\n",
       "<path class=\"bond-0 atom-0 atom-1\" d=\"M 586.4,262.0 L 549.7,289.4\" style=\"fill:none;fill-rule:evenodd;stroke:#000000;stroke-width:2.0px;stroke-linecap:butt;stroke-linejoin:miter;stroke-opacity:1\"/>\n",
       "<path class=\"bond-1 atom-1 atom-2\" d=\"M 546.1,287.9 L 548.5,307.5\" style=\"fill:none;fill-rule:evenodd;stroke:#000000;stroke-width:2.0px;stroke-linecap:butt;stroke-linejoin:miter;stroke-opacity:1\"/>\n",
       "<path class=\"bond-1 atom-1 atom-2\" d=\"M 548.5,307.5 L 550.8,327.2\" style=\"fill:none;fill-rule:evenodd;stroke:#FF0000;stroke-width:2.0px;stroke-linecap:butt;stroke-linejoin:miter;stroke-opacity:1\"/>\n",
       "<path class=\"bond-1 atom-1 atom-2\" d=\"M 552.9,287.0 L 555.3,306.7\" style=\"fill:none;fill-rule:evenodd;stroke:#000000;stroke-width:2.0px;stroke-linecap:butt;stroke-linejoin:miter;stroke-opacity:1\"/>\n",
       "<path class=\"bond-1 atom-1 atom-2\" d=\"M 555.3,306.7 L 557.6,326.4\" style=\"fill:none;fill-rule:evenodd;stroke:#FF0000;stroke-width:2.0px;stroke-linecap:butt;stroke-linejoin:miter;stroke-opacity:1\"/>\n",
       "<path class=\"bond-2 atom-1 atom-3\" d=\"M 549.7,289.4 L 532.4,282.0\" style=\"fill:none;fill-rule:evenodd;stroke:#000000;stroke-width:2.0px;stroke-linecap:butt;stroke-linejoin:miter;stroke-opacity:1\"/>\n",
       "<path class=\"bond-2 atom-1 atom-3\" d=\"M 532.4,282.0 L 515.1,274.6\" style=\"fill:none;fill-rule:evenodd;stroke:#FF0000;stroke-width:2.0px;stroke-linecap:butt;stroke-linejoin:miter;stroke-opacity:1\"/>\n",
       "<path class=\"bond-3 atom-3 atom-4\" d=\"M 500.2,277.0 L 485.6,288.0\" style=\"fill:none;fill-rule:evenodd;stroke:#FF0000;stroke-width:2.0px;stroke-linecap:butt;stroke-linejoin:miter;stroke-opacity:1\"/>\n",
       "<path class=\"bond-3 atom-3 atom-4\" d=\"M 485.6,288.0 L 471.0,298.9\" style=\"fill:none;fill-rule:evenodd;stroke:#000000;stroke-width:2.0px;stroke-linecap:butt;stroke-linejoin:miter;stroke-opacity:1\"/>\n",
       "<path class=\"bond-4 atom-4 atom-5\" d=\"M 471.0,298.9 L 429.0,280.9\" style=\"fill:none;fill-rule:evenodd;stroke:#000000;stroke-width:2.0px;stroke-linecap:butt;stroke-linejoin:miter;stroke-opacity:1\"/>\n",
       "<path class=\"bond-5 atom-5 atom-6\" d=\"M 429.0,280.9 L 414.4,291.8\" style=\"fill:none;fill-rule:evenodd;stroke:#000000;stroke-width:2.0px;stroke-linecap:butt;stroke-linejoin:miter;stroke-opacity:1\"/>\n",
       "<path class=\"bond-5 atom-5 atom-6\" d=\"M 414.4,291.8 L 399.8,302.8\" style=\"fill:none;fill-rule:evenodd;stroke:#FF0000;stroke-width:2.0px;stroke-linecap:butt;stroke-linejoin:miter;stroke-opacity:1\"/>\n",
       "<path class=\"bond-6 atom-6 atom-7\" d=\"M 384.9,305.2 L 367.6,297.8\" style=\"fill:none;fill-rule:evenodd;stroke:#FF0000;stroke-width:2.0px;stroke-linecap:butt;stroke-linejoin:miter;stroke-opacity:1\"/>\n",
       "<path class=\"bond-6 atom-6 atom-7\" d=\"M 367.6,297.8 L 350.3,290.4\" style=\"fill:none;fill-rule:evenodd;stroke:#000000;stroke-width:2.0px;stroke-linecap:butt;stroke-linejoin:miter;stroke-opacity:1\"/>\n",
       "<path class=\"bond-7 atom-7 atom-8\" d=\"M 353.9,291.9 L 351.5,272.4\" style=\"fill:none;fill-rule:evenodd;stroke:#000000;stroke-width:2.0px;stroke-linecap:butt;stroke-linejoin:miter;stroke-opacity:1\"/>\n",
       "<path class=\"bond-7 atom-7 atom-8\" d=\"M 351.5,272.4 L 349.2,252.8\" style=\"fill:none;fill-rule:evenodd;stroke:#FF0000;stroke-width:2.0px;stroke-linecap:butt;stroke-linejoin:miter;stroke-opacity:1\"/>\n",
       "<path class=\"bond-7 atom-7 atom-8\" d=\"M 347.1,292.8 L 344.7,273.2\" style=\"fill:none;fill-rule:evenodd;stroke:#000000;stroke-width:2.0px;stroke-linecap:butt;stroke-linejoin:miter;stroke-opacity:1\"/>\n",
       "<path class=\"bond-7 atom-7 atom-8\" d=\"M 344.7,273.2 L 342.4,253.6\" style=\"fill:none;fill-rule:evenodd;stroke:#FF0000;stroke-width:2.0px;stroke-linecap:butt;stroke-linejoin:miter;stroke-opacity:1\"/>\n",
       "<path class=\"bond-8 atom-7 atom-9\" d=\"M 350.3,290.4 L 313.6,317.8\" style=\"fill:none;fill-rule:evenodd;stroke:#000000;stroke-width:2.0px;stroke-linecap:butt;stroke-linejoin:miter;stroke-opacity:1\"/>\n",
       "<path d=\"M 551.6,288.1 L 549.7,289.4 L 548.9,289.1\" style=\"fill:none;stroke:#000000;stroke-width:2.0px;stroke-linecap:butt;stroke-linejoin:miter;stroke-opacity:1;\"/>\n",
       "<path d=\"M 471.8,298.3 L 471.0,298.9 L 468.9,298.0\" style=\"fill:none;stroke:#000000;stroke-width:2.0px;stroke-linecap:butt;stroke-linejoin:miter;stroke-opacity:1;\"/>\n",
       "<path d=\"M 431.1,281.8 L 429.0,280.9 L 428.2,281.5\" style=\"fill:none;stroke:#000000;stroke-width:2.0px;stroke-linecap:butt;stroke-linejoin:miter;stroke-opacity:1;\"/>\n",
       "<path d=\"M 351.1,290.7 L 350.3,290.4 L 348.4,291.7\" style=\"fill:none;stroke:#000000;stroke-width:2.0px;stroke-linecap:butt;stroke-linejoin:miter;stroke-opacity:1;\"/>\n",
       "<path class=\"atom-2\" d=\"M 549.3 334.9 Q 549.3 331.8, 550.8 330.0 Q 552.3 328.3, 555.2 328.3 Q 558.1 328.3, 559.6 330.0 Q 561.2 331.8, 561.2 334.9 Q 561.2 338.0, 559.6 339.8 Q 558.0 341.6, 555.2 341.6 Q 552.4 341.6, 550.8 339.8 Q 549.3 338.1, 549.3 334.9 M 555.2 340.2 Q 557.2 340.2, 558.2 338.8 Q 559.3 337.5, 559.3 334.9 Q 559.3 332.4, 558.2 331.1 Q 557.2 329.8, 555.2 329.8 Q 553.2 329.8, 552.2 331.1 Q 551.1 332.3, 551.1 334.9 Q 551.1 337.5, 552.2 338.8 Q 553.2 340.2, 555.2 340.2 \" fill=\"#FF0000\"/>\n",
       "<path class=\"atom-3\" d=\"M 501.7 271.5 Q 501.7 268.4, 503.2 266.6 Q 504.8 264.9, 507.7 264.9 Q 510.5 264.9, 512.1 266.6 Q 513.6 268.4, 513.6 271.5 Q 513.6 274.6, 512.1 276.4 Q 510.5 278.2, 507.7 278.2 Q 504.8 278.2, 503.2 276.4 Q 501.7 274.6, 501.7 271.5 M 507.7 276.7 Q 509.6 276.7, 510.7 275.4 Q 511.8 274.1, 511.8 271.5 Q 511.8 268.9, 510.7 267.6 Q 509.6 266.3, 507.7 266.3 Q 505.7 266.3, 504.6 267.6 Q 503.5 268.9, 503.5 271.5 Q 503.5 274.1, 504.6 275.4 Q 505.7 276.7, 507.7 276.7 \" fill=\"#FF0000\"/>\n",
       "<path class=\"atom-6\" d=\"M 386.4 308.4 Q 386.4 305.3, 387.9 303.5 Q 389.5 301.8, 392.3 301.8 Q 395.2 301.8, 396.8 303.5 Q 398.3 305.3, 398.3 308.4 Q 398.3 311.5, 396.7 313.3 Q 395.2 315.1, 392.3 315.1 Q 389.5 315.1, 387.9 313.3 Q 386.4 311.6, 386.4 308.4 M 392.3 313.7 Q 394.3 313.7, 395.4 312.3 Q 396.5 311.0, 396.5 308.4 Q 396.5 305.9, 395.4 304.6 Q 394.3 303.3, 392.3 303.3 Q 390.4 303.3, 389.3 304.6 Q 388.2 305.8, 388.2 308.4 Q 388.2 311.0, 389.3 312.3 Q 390.4 313.7, 392.3 313.7 \" fill=\"#FF0000\"/>\n",
       "<path class=\"atom-8\" d=\"M 338.8 245.0 Q 338.8 241.9, 340.4 240.1 Q 341.9 238.4, 344.8 238.4 Q 347.7 238.4, 349.2 240.1 Q 350.7 241.9, 350.7 245.0 Q 350.7 248.1, 349.2 249.9 Q 347.6 251.7, 344.8 251.7 Q 341.9 251.7, 340.4 249.9 Q 338.8 248.1, 338.8 245.0 M 344.8 250.2 Q 346.8 250.2, 347.8 248.9 Q 348.9 247.6, 348.9 245.0 Q 348.9 242.4, 347.8 241.1 Q 346.8 239.8, 344.8 239.8 Q 342.8 239.8, 341.7 241.1 Q 340.7 242.4, 340.7 245.0 Q 340.7 247.6, 341.7 248.9 Q 342.8 250.2, 344.8 250.2 \" fill=\"#FF0000\"/>\n",
       "<path class=\"legend\" d=\"M 417.5 394.8 L 416.1 394.8 L 414.9 385.5 L 411.8 394.8 L 410.3 394.8 L 407.2 385.5 L 406.1 394.8 L 404.6 394.8 L 406.0 383.5 L 407.9 383.5 L 411.1 392.6 L 414.2 383.5 L 416.1 383.5 L 417.5 394.8 \" fill=\"#000000\"/>\n",
       "<path class=\"legend\" d=\"M 419.3 392.6 Q 419.3 391.3, 420.3 390.6 Q 421.4 389.8, 423.3 389.8 L 424.5 389.8 L 424.5 389.5 Q 424.5 388.5, 424.1 388.1 Q 423.7 387.6, 422.7 387.6 Q 422.0 387.6, 421.5 387.8 Q 421.0 387.9, 420.2 388.2 L 419.7 387.2 Q 421.2 386.4, 422.7 386.4 Q 424.4 386.4, 425.2 387.2 Q 426.0 387.9, 426.0 389.5 L 426.0 394.8 L 424.9 394.8 Q 424.8 394.7, 424.8 394.5 Q 424.7 394.2, 424.7 393.8 Q 423.5 395.0, 422.0 395.0 Q 420.7 395.0, 420.0 394.3 Q 419.3 393.7, 419.3 392.6 M 420.8 392.6 Q 420.8 393.2, 421.1 393.5 Q 421.5 393.8, 422.3 393.8 Q 422.9 393.8, 423.5 393.5 Q 424.1 393.2, 424.5 392.7 L 424.5 391.0 L 423.4 391.0 Q 422.1 391.0, 421.4 391.4 Q 420.8 391.8, 420.8 392.6 \" fill=\"#000000\"/>\n",
       "<path class=\"legend\" d=\"M 427.9 387.7 L 427.9 386.6 L 429.5 386.6 L 429.8 384.2 L 430.9 384.2 L 430.9 386.6 L 433.4 386.6 L 433.4 387.7 L 430.9 387.7 L 430.9 392.3 Q 430.9 393.7, 432.1 393.7 Q 432.6 393.7, 433.3 393.5 L 433.5 394.5 Q 432.6 394.9, 431.8 394.9 Q 430.7 394.9, 430.0 394.3 Q 429.4 393.6, 429.4 392.4 L 429.4 387.7 L 427.9 387.7 \" fill=\"#000000\"/>\n",
       "<path class=\"legend\" d=\"M 434.6 390.7 Q 434.6 388.7, 435.6 387.6 Q 436.6 386.4, 438.5 386.4 Q 440.4 386.4, 441.4 387.8 L 440.4 388.6 Q 440.0 388.1, 439.5 387.9 Q 439.1 387.6, 438.5 387.6 Q 437.4 387.6, 436.8 388.4 Q 436.1 389.2, 436.1 390.7 Q 436.1 392.2, 436.8 393.0 Q 437.4 393.8, 438.6 393.8 Q 439.3 393.8, 439.8 393.6 Q 440.2 393.4, 440.8 393.2 L 441.2 394.2 Q 440.0 394.9, 438.5 394.9 Q 436.6 394.9, 435.6 393.8 Q 434.6 392.7, 434.6 390.7 \" fill=\"#000000\"/>\n",
       "<path class=\"legend\" d=\"M 446.7 386.4 Q 448.0 386.4, 448.7 387.2 Q 449.4 387.9, 449.4 389.4 L 449.4 394.8 L 447.9 394.8 L 447.9 389.5 Q 447.9 388.5, 447.5 388.1 Q 447.2 387.6, 446.3 387.6 Q 445.6 387.6, 445.0 388.0 Q 444.3 388.3, 443.9 388.9 L 443.9 394.8 L 442.4 394.8 L 442.4 382.7 L 443.9 382.7 L 443.9 387.6 Q 445.0 386.4, 446.7 386.4 \" fill=\"#000000\"/>\n",
       "<path class=\"legend\" d=\"M 451.3 387.8 L 458.7 387.8 L 458.7 389.0 L 451.3 389.0 L 451.3 387.8 M 451.3 391.3 L 458.7 391.3 L 458.7 392.4 L 451.3 392.4 L 451.3 391.3 \" fill=\"#000000\"/>\n",
       "<path class=\"legend\" d=\"M 460.8 383.5 L 467.5 383.5 L 467.5 384.8 L 462.3 384.8 L 462.3 388.2 L 467.0 388.2 L 467.0 389.5 L 462.3 389.5 L 462.3 394.8 L 460.8 394.8 L 460.8 383.5 \" fill=\"#000000\"/>\n",
       "<path class=\"legend\" d=\"M 468.6 392.6 Q 468.6 391.3, 469.6 390.6 Q 470.7 389.8, 472.6 389.8 L 473.8 389.8 L 473.8 389.5 Q 473.8 388.5, 473.4 388.1 Q 473.0 387.6, 472.0 387.6 Q 471.3 387.6, 470.8 387.8 Q 470.3 387.9, 469.5 388.2 L 469.0 387.2 Q 470.5 386.4, 472.0 386.4 Q 473.7 386.4, 474.5 387.2 Q 475.3 387.9, 475.3 389.5 L 475.3 394.8 L 474.2 394.8 Q 474.2 394.7, 474.1 394.5 Q 474.1 394.2, 474.0 393.8 Q 472.8 395.0, 471.3 395.0 Q 470.0 395.0, 469.3 394.3 Q 468.6 393.7, 468.6 392.6 M 470.1 392.6 Q 470.1 393.2, 470.5 393.5 Q 470.8 393.8, 471.6 393.8 Q 472.2 393.8, 472.8 393.5 Q 473.4 393.2, 473.8 392.7 L 473.8 391.0 L 472.7 391.0 Q 471.4 391.0, 470.7 391.4 Q 470.1 391.8, 470.1 392.6 \" fill=\"#000000\"/>\n",
       "<path class=\"legend\" d=\"M 477.2 382.7 L 478.7 382.7 L 478.7 394.8 L 477.2 394.8 L 477.2 382.7 \" fill=\"#000000\"/>\n",
       "<path class=\"legend\" d=\"M 481.2 393.1 Q 482.0 393.4, 482.5 393.6 Q 483.0 393.7, 483.6 393.7 Q 484.3 393.7, 484.7 393.4 Q 485.1 393.1, 485.1 392.5 Q 485.1 392.1, 484.9 391.9 Q 484.7 391.7, 484.4 391.6 Q 484.1 391.4, 483.4 391.2 Q 483.3 391.2, 482.6 390.9 Q 481.8 390.7, 481.4 390.1 Q 481.0 389.6, 481.0 388.8 Q 481.0 387.8, 481.8 387.1 Q 482.6 386.4, 484.1 386.4 Q 484.7 386.4, 485.2 386.6 Q 485.8 386.7, 486.4 387.0 L 486.0 388.2 Q 485.5 387.9, 485.0 387.8 Q 484.6 387.7, 484.1 387.7 Q 483.3 387.7, 482.9 388.0 Q 482.5 388.3, 482.5 388.8 Q 482.5 389.2, 482.9 389.4 Q 483.2 389.6, 483.8 389.9 Q 484.0 389.9, 484.1 390.0 L 484.5 390.1 Q 485.2 390.4, 485.6 390.6 Q 486.0 390.8, 486.3 391.3 Q 486.6 391.7, 486.6 392.5 Q 486.6 393.7, 485.7 394.3 Q 484.9 395.0, 483.6 395.0 Q 482.8 395.0, 482.1 394.8 Q 481.4 394.6, 480.8 394.3 L 481.2 393.1 \" fill=\"#000000\"/>\n",
       "<path class=\"legend\" d=\"M 488.1 390.7 Q 488.1 388.7, 489.1 387.6 Q 490.1 386.4, 492.0 386.4 Q 493.8 386.4, 494.6 387.5 Q 495.4 388.6, 495.4 390.6 L 495.4 390.9 L 489.7 390.9 Q 489.7 392.3, 490.3 393.0 Q 490.9 393.8, 492.1 393.8 Q 492.7 393.8, 493.3 393.6 Q 493.9 393.4, 494.6 393.1 L 495.1 394.2 Q 494.3 394.6, 493.5 394.8 Q 492.8 394.9, 492.0 394.9 Q 490.2 394.9, 489.1 393.8 Q 488.1 392.7, 488.1 390.7 M 492.0 387.6 Q 491.0 387.6, 490.5 388.2 Q 489.9 388.7, 489.7 389.8 L 493.8 389.8 Q 493.7 388.7, 493.3 388.2 Q 492.8 387.6, 492.0 387.6 \" fill=\"#000000\"/>\n",
       "<path class=\"bond-0 atom-0 atom-1\" d=\"M 770.4,329.6 L 724.6,329.6\" style=\"fill:none;fill-rule:evenodd;stroke:#000000;stroke-width:2.0px;stroke-linecap:butt;stroke-linejoin:miter;stroke-opacity:1\"/>\n",
       "<path class=\"bond-0 atom-0 atom-1\" d=\"M 766.4,322.8 L 728.6,322.8\" style=\"fill:none;fill-rule:evenodd;stroke:#000000;stroke-width:2.0px;stroke-linecap:butt;stroke-linejoin:miter;stroke-opacity:1\"/>\n",
       "<path class=\"bond-1 atom-1 atom-2\" d=\"M 724.6,329.6 L 701.7,290.0\" style=\"fill:none;fill-rule:evenodd;stroke:#000000;stroke-width:2.0px;stroke-linecap:butt;stroke-linejoin:miter;stroke-opacity:1\"/>\n",
       "<path class=\"bond-2 atom-2 atom-3\" d=\"M 701.7,290.0 L 724.6,250.4\" style=\"fill:none;fill-rule:evenodd;stroke:#000000;stroke-width:2.0px;stroke-linecap:butt;stroke-linejoin:miter;stroke-opacity:1\"/>\n",
       "<path class=\"bond-2 atom-2 atom-3\" d=\"M 709.6,290.0 L 728.6,257.2\" style=\"fill:none;fill-rule:evenodd;stroke:#000000;stroke-width:2.0px;stroke-linecap:butt;stroke-linejoin:miter;stroke-opacity:1\"/>\n",
       "<path class=\"bond-3 atom-3 atom-4\" d=\"M 724.6,250.4 L 770.4,250.4\" style=\"fill:none;fill-rule:evenodd;stroke:#000000;stroke-width:2.0px;stroke-linecap:butt;stroke-linejoin:miter;stroke-opacity:1\"/>\n",
       "<path class=\"bond-4 atom-4 atom-5\" d=\"M 770.4,250.4 L 793.2,290.0\" style=\"fill:none;fill-rule:evenodd;stroke:#000000;stroke-width:2.0px;stroke-linecap:butt;stroke-linejoin:miter;stroke-opacity:1\"/>\n",
       "<path class=\"bond-4 atom-4 atom-5\" d=\"M 766.4,257.2 L 785.3,290.0\" style=\"fill:none;fill-rule:evenodd;stroke:#000000;stroke-width:2.0px;stroke-linecap:butt;stroke-linejoin:miter;stroke-opacity:1\"/>\n",
       "<path class=\"bond-5 atom-5 atom-6\" d=\"M 793.2,290.0 L 812.4,290.0\" style=\"fill:none;fill-rule:evenodd;stroke:#000000;stroke-width:2.0px;stroke-linecap:butt;stroke-linejoin:miter;stroke-opacity:1\"/>\n",
       "<path class=\"bond-5 atom-5 atom-6\" d=\"M 812.4,290.0 L 831.5,290.0\" style=\"fill:none;fill-rule:evenodd;stroke:#FF0000;stroke-width:2.0px;stroke-linecap:butt;stroke-linejoin:miter;stroke-opacity:1\"/>\n",
       "<path class=\"bond-6 atom-2 atom-7\" d=\"M 701.7,290.0 L 680.9,290.0\" style=\"fill:none;fill-rule:evenodd;stroke:#000000;stroke-width:2.0px;stroke-linecap:butt;stroke-linejoin:miter;stroke-opacity:1\"/>\n",
       "<path class=\"bond-6 atom-2 atom-7\" d=\"M 680.9,290.0 L 660.2,290.0\" style=\"fill:none;fill-rule:evenodd;stroke:#7F4C19;stroke-width:2.0px;stroke-linecap:butt;stroke-linejoin:miter;stroke-opacity:1\"/>\n",
       "<path class=\"bond-7 atom-5 atom-0\" d=\"M 793.2,290.0 L 770.4,329.6\" style=\"fill:none;fill-rule:evenodd;stroke:#000000;stroke-width:2.0px;stroke-linecap:butt;stroke-linejoin:miter;stroke-opacity:1\"/>\n",
       "<path d=\"M 768.1,329.6 L 770.4,329.6 L 771.5,327.7\" style=\"fill:none;stroke:#000000;stroke-width:2.0px;stroke-linecap:butt;stroke-linejoin:miter;stroke-opacity:1;\"/>\n",
       "<path d=\"M 726.9,329.6 L 724.6,329.6 L 723.4,327.7\" style=\"fill:none;stroke:#000000;stroke-width:2.0px;stroke-linecap:butt;stroke-linejoin:miter;stroke-opacity:1;\"/>\n",
       "<path d=\"M 723.4,252.3 L 724.6,250.4 L 726.9,250.4\" style=\"fill:none;stroke:#000000;stroke-width:2.0px;stroke-linecap:butt;stroke-linejoin:miter;stroke-opacity:1;\"/>\n",
       "<path d=\"M 768.1,250.4 L 770.4,250.4 L 771.5,252.3\" style=\"fill:none;stroke:#000000;stroke-width:2.0px;stroke-linecap:butt;stroke-linejoin:miter;stroke-opacity:1;\"/>\n",
       "<path class=\"atom-6\" d=\"M 833.1 290.0 Q 833.1 286.9, 834.6 285.2 Q 836.1 283.4, 839.0 283.4 Q 841.9 283.4, 843.4 285.2 Q 845.0 286.9, 845.0 290.0 Q 845.0 293.2, 843.4 295.0 Q 841.8 296.8, 839.0 296.8 Q 836.2 296.8, 834.6 295.0 Q 833.1 293.2, 833.1 290.0 M 839.0 295.3 Q 841.0 295.3, 842.0 294.0 Q 843.1 292.6, 843.1 290.0 Q 843.1 287.5, 842.0 286.2 Q 841.0 284.9, 839.0 284.9 Q 837.0 284.9, 836.0 286.2 Q 834.9 287.5, 834.9 290.0 Q 834.9 292.7, 836.0 294.0 Q 837.0 295.3, 839.0 295.3 \" fill=\"#FF0000\"/>\n",
       "<path class=\"atom-6\" d=\"M 847.0 283.6 L 848.7 283.6 L 848.7 289.1 L 855.4 289.1 L 855.4 283.6 L 857.1 283.6 L 857.1 296.6 L 855.4 296.6 L 855.4 290.6 L 848.7 290.6 L 848.7 296.6 L 847.0 296.6 L 847.0 283.6 \" fill=\"#FF0000\"/>\n",
       "<path class=\"atom-7\" d=\"M 649.2 289.7 Q 650.4 290.0, 651.0 290.8 Q 651.7 291.5, 651.7 292.7 Q 651.7 294.4, 650.5 295.5 Q 649.4 296.5, 647.2 296.5 L 642.9 296.5 L 642.9 283.5 L 646.7 283.5 Q 648.9 283.5, 650.0 284.4 Q 651.2 285.3, 651.2 287.0 Q 651.2 288.9, 649.2 289.7 M 644.6 285.0 L 644.6 289.0 L 646.7 289.0 Q 648.0 289.0, 648.6 288.5 Q 649.3 288.0, 649.3 287.0 Q 649.3 285.0, 646.7 285.0 L 644.6 285.0 M 647.2 295.0 Q 648.5 295.0, 649.2 294.4 Q 649.9 293.8, 649.9 292.7 Q 649.9 291.6, 649.1 291.1 Q 648.4 290.5, 647.0 290.5 L 644.6 290.5 L 644.6 295.0 L 647.2 295.0 \" fill=\"#7F4C19\"/>\n",
       "<path class=\"atom-7\" d=\"M 654.6 287.1 L 654.8 288.4 Q 655.8 286.9, 657.4 286.9 Q 657.9 286.9, 658.6 287.1 L 658.4 288.6 Q 657.6 288.4, 657.1 288.4 Q 656.4 288.4, 655.9 288.8 Q 655.4 289.0, 655.0 289.8 L 655.0 296.5 L 653.2 296.5 L 653.2 287.1 L 654.6 287.1 \" fill=\"#7F4C19\"/>\n",
       "<path class=\"legend\" d=\"M 717.5 394.8 L 716.1 394.8 L 714.9 385.5 L 711.8 394.8 L 710.3 394.8 L 707.2 385.5 L 706.1 394.8 L 704.6 394.8 L 706.0 383.5 L 707.9 383.5 L 711.1 392.6 L 714.2 383.5 L 716.1 383.5 L 717.5 394.8 \" fill=\"#000000\"/>\n",
       "<path class=\"legend\" d=\"M 719.3 392.6 Q 719.3 391.3, 720.3 390.6 Q 721.4 389.8, 723.3 389.8 L 724.5 389.8 L 724.5 389.5 Q 724.5 388.5, 724.1 388.1 Q 723.7 387.6, 722.7 387.6 Q 722.0 387.6, 721.5 387.8 Q 721.0 387.9, 720.2 388.2 L 719.7 387.2 Q 721.2 386.4, 722.7 386.4 Q 724.4 386.4, 725.2 387.2 Q 726.0 387.9, 726.0 389.5 L 726.0 394.8 L 724.9 394.8 Q 724.8 394.7, 724.8 394.5 Q 724.7 394.2, 724.7 393.8 Q 723.5 395.0, 722.0 395.0 Q 720.7 395.0, 720.0 394.3 Q 719.3 393.7, 719.3 392.6 M 720.8 392.6 Q 720.8 393.2, 721.1 393.5 Q 721.5 393.8, 722.3 393.8 Q 722.9 393.8, 723.5 393.5 Q 724.1 393.2, 724.5 392.7 L 724.5 391.0 L 723.4 391.0 Q 722.1 391.0, 721.4 391.4 Q 720.8 391.8, 720.8 392.6 \" fill=\"#000000\"/>\n",
       "<path class=\"legend\" d=\"M 727.9 387.7 L 727.9 386.6 L 729.5 386.6 L 729.8 384.2 L 730.9 384.2 L 730.9 386.6 L 733.4 386.6 L 733.4 387.7 L 730.9 387.7 L 730.9 392.3 Q 730.9 393.7, 732.1 393.7 Q 732.6 393.7, 733.3 393.5 L 733.5 394.5 Q 732.6 394.9, 731.8 394.9 Q 730.7 394.9, 730.0 394.3 Q 729.4 393.6, 729.4 392.4 L 729.4 387.7 L 727.9 387.7 \" fill=\"#000000\"/>\n",
       "<path class=\"legend\" d=\"M 734.6 390.7 Q 734.6 388.7, 735.6 387.6 Q 736.6 386.4, 738.5 386.4 Q 740.4 386.4, 741.4 387.8 L 740.4 388.6 Q 740.0 388.1, 739.5 387.9 Q 739.1 387.6, 738.5 387.6 Q 737.4 387.6, 736.8 388.4 Q 736.1 389.2, 736.1 390.7 Q 736.1 392.2, 736.8 393.0 Q 737.4 393.8, 738.6 393.8 Q 739.3 393.8, 739.8 393.6 Q 740.2 393.4, 740.8 393.2 L 741.2 394.2 Q 740.0 394.9, 738.5 394.9 Q 736.6 394.9, 735.6 393.8 Q 734.6 392.7, 734.6 390.7 \" fill=\"#000000\"/>\n",
       "<path class=\"legend\" d=\"M 746.7 386.4 Q 748.0 386.4, 748.7 387.2 Q 749.4 387.9, 749.4 389.4 L 749.4 394.8 L 747.9 394.8 L 747.9 389.5 Q 747.9 388.5, 747.5 388.1 Q 747.2 387.6, 746.3 387.6 Q 745.6 387.6, 745.0 388.0 Q 744.3 388.3, 743.9 388.9 L 743.9 394.8 L 742.4 394.8 L 742.4 382.7 L 743.9 382.7 L 743.9 387.6 Q 745.0 386.4, 746.7 386.4 \" fill=\"#000000\"/>\n",
       "<path class=\"legend\" d=\"M 751.3 387.8 L 758.7 387.8 L 758.7 389.0 L 751.3 389.0 L 751.3 387.8 M 751.3 391.3 L 758.7 391.3 L 758.7 392.4 L 751.3 392.4 L 751.3 391.3 \" fill=\"#000000\"/>\n",
       "<path class=\"legend\" d=\"M 760.8 383.5 L 767.5 383.5 L 767.5 384.8 L 762.3 384.8 L 762.3 388.2 L 767.0 388.2 L 767.0 389.5 L 762.3 389.5 L 762.3 394.8 L 760.8 394.8 L 760.8 383.5 \" fill=\"#000000\"/>\n",
       "<path class=\"legend\" d=\"M 768.6 392.6 Q 768.6 391.3, 769.6 390.6 Q 770.7 389.8, 772.6 389.8 L 773.8 389.8 L 773.8 389.5 Q 773.8 388.5, 773.4 388.1 Q 773.0 387.6, 772.0 387.6 Q 771.3 387.6, 770.8 387.8 Q 770.3 387.9, 769.5 388.2 L 769.0 387.2 Q 770.5 386.4, 772.0 386.4 Q 773.7 386.4, 774.5 387.2 Q 775.3 387.9, 775.3 389.5 L 775.3 394.8 L 774.2 394.8 Q 774.2 394.7, 774.1 394.5 Q 774.1 394.2, 774.0 393.8 Q 772.8 395.0, 771.3 395.0 Q 770.0 395.0, 769.3 394.3 Q 768.6 393.7, 768.6 392.6 M 770.1 392.6 Q 770.1 393.2, 770.5 393.5 Q 770.8 393.8, 771.6 393.8 Q 772.2 393.8, 772.8 393.5 Q 773.4 393.2, 773.8 392.7 L 773.8 391.0 L 772.7 391.0 Q 771.4 391.0, 770.7 391.4 Q 770.1 391.8, 770.1 392.6 \" fill=\"#000000\"/>\n",
       "<path class=\"legend\" d=\"M 777.2 382.7 L 778.7 382.7 L 778.7 394.8 L 777.2 394.8 L 777.2 382.7 \" fill=\"#000000\"/>\n",
       "<path class=\"legend\" d=\"M 781.2 393.1 Q 782.0 393.4, 782.5 393.6 Q 783.0 393.7, 783.6 393.7 Q 784.3 393.7, 784.7 393.4 Q 785.1 393.1, 785.1 392.5 Q 785.1 392.1, 784.9 391.9 Q 784.7 391.7, 784.4 391.6 Q 784.1 391.4, 783.4 391.2 Q 783.3 391.2, 782.6 390.9 Q 781.8 390.7, 781.4 390.1 Q 781.0 389.6, 781.0 388.8 Q 781.0 387.8, 781.8 387.1 Q 782.6 386.4, 784.1 386.4 Q 784.7 386.4, 785.2 386.6 Q 785.8 386.7, 786.4 387.0 L 786.0 388.2 Q 785.5 387.9, 785.0 387.8 Q 784.6 387.7, 784.1 387.7 Q 783.3 387.7, 782.9 388.0 Q 782.5 388.3, 782.5 388.8 Q 782.5 389.2, 782.9 389.4 Q 783.2 389.6, 783.8 389.9 Q 784.0 389.9, 784.1 390.0 L 784.5 390.1 Q 785.2 390.4, 785.6 390.6 Q 786.0 390.8, 786.3 391.3 Q 786.6 391.7, 786.6 392.5 Q 786.6 393.7, 785.7 394.3 Q 784.9 395.0, 783.6 395.0 Q 782.8 395.0, 782.1 394.8 Q 781.4 394.6, 780.8 394.3 L 781.2 393.1 \" fill=\"#000000\"/>\n",
       "<path class=\"legend\" d=\"M 788.1 390.7 Q 788.1 388.7, 789.1 387.6 Q 790.1 386.4, 792.0 386.4 Q 793.8 386.4, 794.6 387.5 Q 795.4 388.6, 795.4 390.6 L 795.4 390.9 L 789.7 390.9 Q 789.7 392.3, 790.3 393.0 Q 790.9 393.8, 792.1 393.8 Q 792.7 393.8, 793.3 393.6 Q 793.9 393.4, 794.6 393.1 L 795.1 394.2 Q 794.3 394.6, 793.5 394.8 Q 792.8 394.9, 792.0 394.9 Q 790.2 394.9, 789.1 393.8 Q 788.1 392.7, 788.1 390.7 M 792.0 387.6 Q 791.0 387.6, 790.5 388.2 Q 789.9 388.7, 789.7 389.8 L 793.8 389.8 Q 793.7 388.7, 793.3 388.2 Q 792.8 387.6, 792.0 387.6 \" fill=\"#000000\"/>\n",
       "<path class=\"bond-0 atom-0 atom-1\" d=\"M 1083.4,338.3 L 1038.8,348.8\" style=\"fill:none;fill-rule:evenodd;stroke:#000000;stroke-width:2.0px;stroke-linecap:butt;stroke-linejoin:miter;stroke-opacity:1\"/>\n",
       "<path class=\"bond-0 atom-0 atom-1\" d=\"M 1078.0,332.6 L 1041.1,341.2\" style=\"fill:none;fill-rule:evenodd;stroke:#000000;stroke-width:2.0px;stroke-linecap:butt;stroke-linejoin:miter;stroke-opacity:1\"/>\n",
       "<path class=\"bond-1 atom-1 atom-2\" d=\"M 1038.8,348.8 L 1007.5,315.4\" style=\"fill:none;fill-rule:evenodd;stroke:#000000;stroke-width:2.0px;stroke-linecap:butt;stroke-linejoin:miter;stroke-opacity:1\"/>\n",
       "<path class=\"bond-2 atom-2 atom-3\" d=\"M 1007.5,315.4 L 1020.8,271.6\" style=\"fill:none;fill-rule:evenodd;stroke:#000000;stroke-width:2.0px;stroke-linecap:butt;stroke-linejoin:miter;stroke-opacity:1\"/>\n",
       "<path class=\"bond-2 atom-2 atom-3\" d=\"M 1015.2,313.6 L 1026.2,277.4\" style=\"fill:none;fill-rule:evenodd;stroke:#000000;stroke-width:2.0px;stroke-linecap:butt;stroke-linejoin:miter;stroke-opacity:1\"/>\n",
       "<path class=\"bond-3 atom-3 atom-4\" d=\"M 1020.8,271.6 L 1065.3,261.1\" style=\"fill:none;fill-rule:evenodd;stroke:#000000;stroke-width:2.0px;stroke-linecap:butt;stroke-linejoin:miter;stroke-opacity:1\"/>\n",
       "<path class=\"bond-4 atom-4 atom-5\" d=\"M 1065.3,261.1 L 1096.6,294.5\" style=\"fill:none;fill-rule:evenodd;stroke:#000000;stroke-width:2.0px;stroke-linecap:butt;stroke-linejoin:miter;stroke-opacity:1\"/>\n",
       "<path class=\"bond-4 atom-4 atom-5\" d=\"M 1063.0,268.7 L 1088.9,296.3\" style=\"fill:none;fill-rule:evenodd;stroke:#000000;stroke-width:2.0px;stroke-linecap:butt;stroke-linejoin:miter;stroke-opacity:1\"/>\n",
       "<path class=\"bond-5 atom-5 atom-6\" d=\"M 1096.6,294.5 L 1115.7,290.1\" style=\"fill:none;fill-rule:evenodd;stroke:#000000;stroke-width:2.0px;stroke-linecap:butt;stroke-linejoin:miter;stroke-opacity:1\"/>\n",
       "<path class=\"bond-5 atom-5 atom-6\" d=\"M 1115.7,290.1 L 1134.7,285.6\" style=\"fill:none;fill-rule:evenodd;stroke:#00CC00;stroke-width:2.0px;stroke-linecap:butt;stroke-linejoin:miter;stroke-opacity:1\"/>\n",
       "<path class=\"bond-6 atom-3 atom-7\" d=\"M 1020.8,271.6 L 1006.3,256.1\" style=\"fill:none;fill-rule:evenodd;stroke:#000000;stroke-width:2.0px;stroke-linecap:butt;stroke-linejoin:miter;stroke-opacity:1\"/>\n",
       "<path class=\"bond-6 atom-3 atom-7\" d=\"M 1006.3,256.1 L 991.8,240.7\" style=\"fill:none;fill-rule:evenodd;stroke:#00CC00;stroke-width:2.0px;stroke-linecap:butt;stroke-linejoin:miter;stroke-opacity:1\"/>\n",
       "<path class=\"bond-7 atom-2 atom-8\" d=\"M 1007.5,315.4 L 986.4,320.3\" style=\"fill:none;fill-rule:evenodd;stroke:#000000;stroke-width:2.0px;stroke-linecap:butt;stroke-linejoin:miter;stroke-opacity:1\"/>\n",
       "<path class=\"bond-7 atom-2 atom-8\" d=\"M 986.4,320.3 L 965.3,325.2\" style=\"fill:none;fill-rule:evenodd;stroke:#00CC00;stroke-width:2.0px;stroke-linecap:butt;stroke-linejoin:miter;stroke-opacity:1\"/>\n",
       "<path class=\"bond-8 atom-5 atom-0\" d=\"M 1096.6,294.5 L 1083.4,338.3\" style=\"fill:none;fill-rule:evenodd;stroke:#000000;stroke-width:2.0px;stroke-linecap:butt;stroke-linejoin:miter;stroke-opacity:1\"/>\n",
       "<path d=\"M 1081.2,338.9 L 1083.4,338.3 L 1084.0,336.1\" style=\"fill:none;stroke:#000000;stroke-width:2.0px;stroke-linecap:butt;stroke-linejoin:miter;stroke-opacity:1;\"/>\n",
       "<path d=\"M 1041.1,348.2 L 1038.8,348.8 L 1037.3,347.1\" style=\"fill:none;stroke:#000000;stroke-width:2.0px;stroke-linecap:butt;stroke-linejoin:miter;stroke-opacity:1;\"/>\n",
       "<path d=\"M 1063.1,261.7 L 1065.3,261.1 L 1066.9,262.8\" style=\"fill:none;stroke:#000000;stroke-width:2.0px;stroke-linecap:butt;stroke-linejoin:miter;stroke-opacity:1;\"/>\n",
       "<path class=\"atom-6\" d=\"M 1136.2 284.6 Q 1136.2 281.3, 1137.7 279.6 Q 1139.2 277.9, 1142.1 277.9 Q 1144.8 277.9, 1146.2 279.8 L 1145.0 280.8 Q 1144.0 279.4, 1142.1 279.4 Q 1140.1 279.4, 1139.1 280.8 Q 1138.1 282.1, 1138.1 284.6 Q 1138.1 287.1, 1139.1 288.4 Q 1140.2 289.8, 1142.3 289.8 Q 1143.7 289.8, 1145.4 288.9 L 1145.9 290.3 Q 1145.2 290.7, 1144.2 291.0 Q 1143.2 291.2, 1142.0 291.2 Q 1139.2 291.2, 1137.7 289.5 Q 1136.2 287.8, 1136.2 284.6 \" fill=\"#00CC00\"/>\n",
       "<path class=\"atom-6\" d=\"M 1147.5 277.2 L 1149.2 277.2 L 1149.2 291.1 L 1147.5 291.1 L 1147.5 277.2 \" fill=\"#00CC00\"/>\n",
       "<path class=\"atom-7\" d=\"M 977.3 238.6 Q 977.3 235.4, 978.8 233.7 Q 980.3 232.0, 983.2 232.0 Q 985.9 232.0, 987.3 233.9 L 986.1 234.9 Q 985.0 233.5, 983.2 233.5 Q 981.2 233.5, 980.2 234.8 Q 979.2 236.1, 979.2 238.6 Q 979.2 241.2, 980.2 242.5 Q 981.3 243.8, 983.4 243.8 Q 984.8 243.8, 986.5 243.0 L 987.0 244.3 Q 986.3 244.8, 985.3 245.0 Q 984.3 245.3, 983.1 245.3 Q 980.3 245.3, 978.8 243.6 Q 977.3 241.9, 977.3 238.6 \" fill=\"#00CC00\"/>\n",
       "<path class=\"atom-7\" d=\"M 988.6 231.2 L 990.3 231.2 L 990.3 245.1 L 988.6 245.1 L 988.6 231.2 \" fill=\"#00CC00\"/>\n",
       "<path class=\"atom-8\" d=\"M 950.8 326.2 Q 950.8 323.0, 952.3 321.3 Q 953.8 319.6, 956.7 319.6 Q 959.4 319.6, 960.8 321.5 L 959.6 322.5 Q 958.5 321.1, 956.7 321.1 Q 954.7 321.1, 953.7 322.5 Q 952.7 323.8, 952.7 326.2 Q 952.7 328.8, 953.7 330.1 Q 954.8 331.4, 956.9 331.4 Q 958.3 331.4, 960.0 330.6 L 960.5 332.0 Q 959.8 332.4, 958.8 332.7 Q 957.8 332.9, 956.6 332.9 Q 953.8 332.9, 952.3 331.2 Q 950.8 329.5, 950.8 326.2 \" fill=\"#00CC00\"/>\n",
       "<path class=\"atom-8\" d=\"M 962.1 318.9 L 963.8 318.9 L 963.8 332.7 L 962.1 332.7 L 962.1 318.9 \" fill=\"#00CC00\"/>\n",
       "<path class=\"legend\" d=\"M 1019.1 394.8 L 1017.6 394.8 L 1016.5 385.5 L 1013.4 394.8 L 1011.9 394.8 L 1008.8 385.5 L 1007.6 394.8 L 1006.2 394.8 L 1007.6 383.5 L 1009.5 383.5 L 1012.6 392.6 L 1015.8 383.5 L 1017.7 383.5 L 1019.1 394.8 \" fill=\"#000000\"/>\n",
       "<path class=\"legend\" d=\"M 1020.9 392.6 Q 1020.9 391.3, 1021.9 390.6 Q 1023.0 389.8, 1024.9 389.8 L 1026.1 389.8 L 1026.1 389.5 Q 1026.1 388.5, 1025.7 388.1 Q 1025.3 387.6, 1024.3 387.6 Q 1023.6 387.6, 1023.1 387.8 Q 1022.6 387.9, 1021.8 388.2 L 1021.3 387.2 Q 1022.9 386.4, 1024.3 386.4 Q 1026.1 386.4, 1026.9 387.2 Q 1027.7 387.9, 1027.7 389.5 L 1027.7 394.8 L 1026.5 394.8 Q 1026.5 394.7, 1026.4 394.5 Q 1026.4 394.2, 1026.3 393.8 Q 1025.1 395.0, 1023.6 395.0 Q 1022.4 395.0, 1021.6 394.3 Q 1020.9 393.7, 1020.9 392.6 M 1022.4 392.6 Q 1022.4 393.2, 1022.8 393.5 Q 1023.2 393.8, 1023.9 393.8 Q 1024.5 393.8, 1025.1 393.5 Q 1025.7 393.2, 1026.1 392.7 L 1026.1 391.0 L 1025.0 391.0 Q 1023.7 391.0, 1023.0 391.4 Q 1022.4 391.8, 1022.4 392.6 \" fill=\"#000000\"/>\n",
       "<path class=\"legend\" d=\"M 1029.6 387.7 L 1029.6 386.6 L 1031.2 386.6 L 1031.4 384.2 L 1032.6 384.2 L 1032.6 386.6 L 1035.1 386.6 L 1035.1 387.7 L 1032.6 387.7 L 1032.6 392.3 Q 1032.6 393.7, 1033.8 393.7 Q 1034.2 393.7, 1034.9 393.5 L 1035.2 394.5 Q 1034.3 394.9, 1033.5 394.9 Q 1032.4 394.9, 1031.7 394.3 Q 1031.1 393.6, 1031.1 392.4 L 1031.1 387.7 L 1029.6 387.7 \" fill=\"#000000\"/>\n",
       "<path class=\"legend\" d=\"M 1036.3 390.7 Q 1036.3 388.7, 1037.3 387.6 Q 1038.3 386.4, 1040.3 386.4 Q 1042.1 386.4, 1043.1 387.8 L 1042.1 388.6 Q 1041.7 388.1, 1041.3 387.9 Q 1040.9 387.6, 1040.3 387.6 Q 1039.1 387.6, 1038.5 388.4 Q 1037.9 389.2, 1037.9 390.7 Q 1037.9 392.2, 1038.5 393.0 Q 1039.2 393.8, 1040.4 393.8 Q 1041.0 393.8, 1041.5 393.6 Q 1042.0 393.4, 1042.5 393.2 L 1043.0 394.2 Q 1041.8 394.9, 1040.3 394.9 Q 1038.3 394.9, 1037.3 393.8 Q 1036.3 392.7, 1036.3 390.7 \" fill=\"#000000\"/>\n",
       "<path class=\"legend\" d=\"M 1048.5 386.4 Q 1049.8 386.4, 1050.5 387.2 Q 1051.2 387.9, 1051.2 389.4 L 1051.2 394.8 L 1049.7 394.8 L 1049.7 389.5 Q 1049.7 388.5, 1049.4 388.1 Q 1049.0 387.6, 1048.2 387.6 Q 1047.4 387.6, 1046.8 388.0 Q 1046.2 388.3, 1045.8 388.9 L 1045.8 394.8 L 1044.2 394.8 L 1044.2 382.7 L 1045.8 382.7 L 1045.8 387.6 Q 1046.8 386.4, 1048.5 386.4 \" fill=\"#000000\"/>\n",
       "<path class=\"legend\" d=\"M 1053.2 387.8 L 1060.5 387.8 L 1060.5 389.0 L 1053.2 389.0 L 1053.2 387.8 M 1053.2 391.3 L 1060.5 391.3 L 1060.5 392.4 L 1053.2 392.4 L 1053.2 391.3 \" fill=\"#000000\"/>\n",
       "<path class=\"legend\" d=\"M 1066.2 384.8 L 1062.7 384.8 L 1062.7 383.5 L 1071.1 383.5 L 1071.1 384.8 L 1067.8 384.8 L 1067.8 394.8 L 1066.2 394.8 L 1066.2 384.8 \" fill=\"#000000\"/>\n",
       "<path class=\"legend\" d=\"M 1073.0 386.6 L 1073.2 387.7 Q 1074.1 386.4, 1075.5 386.4 Q 1075.9 386.4, 1076.5 386.6 L 1076.3 387.9 Q 1075.6 387.8, 1075.2 387.8 Q 1074.6 387.8, 1074.1 388.1 Q 1073.7 388.3, 1073.3 388.9 L 1073.3 394.8 L 1071.8 394.8 L 1071.8 386.6 L 1073.0 386.6 \" fill=\"#000000\"/>\n",
       "<path class=\"legend\" d=\"M 1084.5 386.6 L 1084.5 394.8 L 1083.3 394.8 L 1083.1 393.7 Q 1082.0 395.0, 1080.3 395.0 Q 1078.9 395.0, 1078.2 394.2 Q 1077.5 393.5, 1077.5 392.0 L 1077.5 386.6 L 1079.0 386.6 L 1079.0 391.9 Q 1079.0 392.9, 1079.4 393.3 Q 1079.8 393.8, 1080.6 393.8 Q 1081.4 393.8, 1082.0 393.4 Q 1082.6 393.1, 1083.0 392.5 L 1083.0 386.6 L 1084.5 386.6 \" fill=\"#000000\"/>\n",
       "<path class=\"legend\" d=\"M 1086.6 390.7 Q 1086.6 388.7, 1087.6 387.6 Q 1088.6 386.4, 1090.4 386.4 Q 1092.2 386.4, 1093.0 387.5 Q 1093.8 388.6, 1093.8 390.6 L 1093.8 390.9 L 1088.1 390.9 Q 1088.1 392.3, 1088.8 393.0 Q 1089.4 393.8, 1090.5 393.8 Q 1091.2 393.8, 1091.8 393.6 Q 1092.4 393.4, 1093.1 393.1 L 1093.5 394.2 Q 1092.7 394.6, 1092.0 394.8 Q 1091.2 394.9, 1090.5 394.9 Q 1088.6 394.9, 1087.6 393.8 Q 1086.6 392.7, 1086.6 390.7 M 1090.4 387.6 Q 1089.5 387.6, 1088.9 388.2 Q 1088.3 388.7, 1088.2 389.8 L 1092.3 389.8 Q 1092.1 388.7, 1091.7 388.2 Q 1091.2 387.6, 1090.4 387.6 \" fill=\"#000000\"/>\n",
       "</svg>"
      ],
      "text/plain": [
       "<IPython.core.display.SVG object>"
      ]
     },
     "execution_count": 18,
     "metadata": {},
     "output_type": "execute_result"
    }
   ],
   "source": [
    "rows = data.sample(n=8, random_state=19)\n",
    "\n",
    "mols = rows[\"mol\"].tolist()\n",
    "legends = rows[\"match_nibr_catalog\"].apply(lambda x: f\"Match={x}\").tolist()\n",
    "\n",
    "dm.to_image(mols, legends=legends, mol_size=(300, 200))"
   ]
  },
  {
   "cell_type": "markdown",
   "id": "94ec0aae-70a9-4255-bb3c-8b8e276d90a0",
   "metadata": {},
   "source": [
    "It's possible to retrieve the entries that match a certain molecule."
   ]
  },
  {
   "cell_type": "code",
   "execution_count": 19,
   "id": "ff6fcff5-3cf2-4442-a064-a156d1720179",
   "metadata": {},
   "outputs": [
    {
     "data": {
      "image/png": "[encoded data removed]",
      "text/plain": [
       "<rdkit.Chem.rdchem.Mol at 0x15dddeb20>"
      ]
     },
     "execution_count": 19,
     "metadata": {},
     "output_type": "execute_result"
    }
   ],
   "source": [
    "mol = dm.to_mol(\"c1cc(c(cc1Cl)Cl)Cl\")\n",
    "\n",
    "mol"
   ]
  },
  {
   "cell_type": "code",
   "execution_count": 20,
   "id": "185f1e0d-5b00-4c0a-b6f6-1addcdeabca9",
   "metadata": {},
   "outputs": [
    {
     "data": {
      "text/plain": [
       "['NIBR||halogen_aromatic_count_3_min(3)||0||0||0',\n",
       " 'NIBR||polyhalogenated_aromate_min(1)||1||0||0']"
      ]
     },
     "execution_count": 20,
     "metadata": {},
     "output_type": "execute_result"
    }
   ],
   "source": [
    "matches = catalog.GetMatches(mol)\n",
    "[m.GetDescription() for m in matches]"
   ]
  },
  {
   "cell_type": "markdown",
   "id": "cec2c04b-7737-4748-b275-976545d16380",
   "metadata": {},
   "source": [
    "## Build your own catalog"
   ]
  },
  {
   "cell_type": "markdown",
   "id": "86c1bebf-3cf6-49be-989e-82f8e6493062",
   "metadata": {},
   "source": [
    "In addition to the default list of `named catalogs`, you can also build your own catalog from a list of SMARTS. "
   ]
  },
  {
   "cell_type": "code",
   "execution_count": 21,
   "id": "33e47547-a054-4157-954c-bdf05a9e5f0b",
   "metadata": {},
   "outputs": [],
   "source": [
    "smarts_list = [\n",
    "    [\"HBA\", \"[!$([#6,F,Cl,Br,I,o,s,nX3,#7v5,#15v5,#16v4,#16v6,*+1,*+2,*+3])]\"],\n",
    "    [\"Acid\", \"[CX3](=O)[OX1H0-,OX2H1]\"],\n",
    "    [\"Macrocycle\", \"[r;!r3;!r4;!r5;!r6;!r7]\"],\n",
    "    [\"Benzene\", \"[cR1]1[cR1][cR1][cR1][cR1][cR1]1\"],\n",
    "    [\"Halogen\", \"[F,Cl,Br,I]\"],\n",
    "]\n",
    "\n",
    "names, smarts = list(zip(*smarts_list))"
   ]
  },
  {
   "cell_type": "markdown",
   "id": "7286e012-f66b-4b23-b1f1-bb1c39e1f009",
   "metadata": {},
   "source": [
    "We can create a new catalog object from the our list of smarts (and their descriptions/labels)."
   ]
  },
  {
   "cell_type": "code",
   "execution_count": 22,
   "id": "b7c6ec03-c596-4a12-b3ca-81415f8cd5c5",
   "metadata": {},
   "outputs": [],
   "source": [
    "custom_catalog = catalog_from_smarts(\n",
    "    smarts=smarts,\n",
    "    labels=names,\n",
    "    entry_as_inds=False,\n",
    ")"
   ]
  },
  {
   "cell_type": "markdown",
   "id": "cab9220b-e636-4bea-b309-8f9548783166",
   "metadata": {},
   "source": [
    "Check how many entries."
   ]
  },
  {
   "cell_type": "code",
   "execution_count": 23,
   "id": "a4edf4c5-5f52-47b1-a4ce-5be728e807bd",
   "metadata": {},
   "outputs": [
    {
     "data": {
      "text/plain": [
       "5"
      ]
     },
     "execution_count": 23,
     "metadata": {},
     "output_type": "execute_result"
    }
   ],
   "source": [
    "custom_catalog.GetNumEntries()"
   ]
  },
  {
   "cell_type": "markdown",
   "id": "baa1d832-216d-4884-9794-9c2a4a8dd57c",
   "metadata": {},
   "source": [
    "You're good to use it!"
   ]
  },
  {
   "cell_type": "code",
   "execution_count": 24,
   "id": "e3e361f6",
   "metadata": {},
   "outputs": [
    {
     "data": {
      "image/svg+xml": [
       "<svg xmlns=\"http://www.w3.org/2000/svg\" xmlns:rdkit=\"http://www.rdkit.org/xml\" xmlns:xlink=\"http://www.w3.org/1999/xlink\" version=\"1.1\" baseProfile=\"full\" xml:space=\"preserve\" width=\"600px\" height=\"300px\" viewBox=\"0 0 600 300\">\n",
       "<!-- END OF HEADER -->\n",
       "<rect style=\"opacity:1.0;fill:#FFFFFF;stroke:none\" width=\"600.0\" height=\"300.0\" x=\"0.0\" y=\"0.0\"> </rect>\n",
       "<path class=\"bond-0 atom-0 atom-1\" d=\"M 63.4,143.3 L 92.3,126.7\" style=\"fill:none;fill-rule:evenodd;stroke:#000000;stroke-width:2.0px;stroke-linecap:butt;stroke-linejoin:miter;stroke-opacity:1\"/>\n",
       "<path class=\"bond-1 atom-1 atom-2\" d=\"M 92.3,126.7 L 121.1,143.3\" style=\"fill:none;fill-rule:evenodd;stroke:#000000;stroke-width:2.0px;stroke-linecap:butt;stroke-linejoin:miter;stroke-opacity:1\"/>\n",
       "<path class=\"bond-2 atom-2 atom-3\" d=\"M 121.1,143.3 L 150.0,126.7\" style=\"fill:none;fill-rule:evenodd;stroke:#000000;stroke-width:2.0px;stroke-linecap:butt;stroke-linejoin:miter;stroke-opacity:1\"/>\n",
       "<path class=\"bond-3 atom-3 atom-4\" d=\"M 150.0,126.7 L 178.9,143.3\" style=\"fill:none;fill-rule:evenodd;stroke:#000000;stroke-width:2.0px;stroke-linecap:butt;stroke-linejoin:miter;stroke-opacity:1\"/>\n",
       "<path class=\"bond-4 atom-4 atom-5\" d=\"M 178.9,143.3 L 207.7,126.7\" style=\"fill:none;fill-rule:evenodd;stroke:#000000;stroke-width:2.0px;stroke-linecap:butt;stroke-linejoin:miter;stroke-opacity:1\"/>\n",
       "<path class=\"bond-5 atom-5 atom-6\" d=\"M 207.7,126.7 L 236.6,143.3\" style=\"fill:none;fill-rule:evenodd;stroke:#000000;stroke-width:2.0px;stroke-linecap:butt;stroke-linejoin:miter;stroke-opacity:1\"/>\n",
       "<path d=\"M 90.8,127.5 L 92.3,126.7 L 93.7,127.5\" style=\"fill:none;stroke:#000000;stroke-width:2.0px;stroke-linecap:butt;stroke-linejoin:miter;stroke-opacity:1;\"/>\n",
       "<path d=\"M 119.7,142.5 L 121.1,143.3 L 122.6,142.5\" style=\"fill:none;stroke:#000000;stroke-width:2.0px;stroke-linecap:butt;stroke-linejoin:miter;stroke-opacity:1;\"/>\n",
       "<path d=\"M 148.6,127.5 L 150.0,126.7 L 151.4,127.5\" style=\"fill:none;stroke:#000000;stroke-width:2.0px;stroke-linecap:butt;stroke-linejoin:miter;stroke-opacity:1;\"/>\n",
       "<path d=\"M 177.4,142.5 L 178.9,143.3 L 180.3,142.5\" style=\"fill:none;stroke:#000000;stroke-width:2.0px;stroke-linecap:butt;stroke-linejoin:miter;stroke-opacity:1;\"/>\n",
       "<path d=\"M 206.3,127.5 L 207.7,126.7 L 209.2,127.5\" style=\"fill:none;stroke:#000000;stroke-width:2.0px;stroke-linecap:butt;stroke-linejoin:miter;stroke-opacity:1;\"/>\n",
       "<path class=\"legend\" d=\"M 118.1 292.3 L 116.6 292.3 L 115.5 283.0 L 112.4 292.3 L 110.9 292.3 L 107.8 283.0 L 106.6 292.3 L 105.2 292.3 L 106.6 281.0 L 108.5 281.0 L 111.6 290.1 L 114.8 281.0 L 116.7 281.0 L 118.1 292.3 \" fill=\"#000000\"/>\n",
       "<path class=\"legend\" d=\"M 119.7 290.1 Q 119.7 288.8, 120.8 288.1 Q 121.8 287.3, 123.8 287.3 L 125.0 287.3 L 125.0 287.0 Q 125.0 286.0, 124.5 285.6 Q 124.1 285.1, 123.1 285.1 Q 122.5 285.1, 121.9 285.3 Q 121.4 285.4, 120.6 285.7 L 120.2 284.7 Q 121.7 283.9, 123.1 283.9 Q 124.9 283.9, 125.7 284.7 Q 126.5 285.4, 126.5 287.0 L 126.5 292.3 L 125.3 292.3 Q 125.3 292.2, 125.3 292.0 Q 125.2 291.7, 125.1 291.3 Q 124.0 292.5, 122.4 292.5 Q 121.2 292.5, 120.5 291.8 Q 119.7 291.2, 119.7 290.1 M 121.2 290.1 Q 121.2 290.7, 121.6 291.0 Q 122.0 291.3, 122.7 291.3 Q 123.3 291.3, 124.0 291.0 Q 124.6 290.7, 125.0 290.2 L 125.0 288.5 L 123.9 288.5 Q 122.5 288.5, 121.9 288.9 Q 121.2 289.3, 121.2 290.1 \" fill=\"#000000\"/>\n",
       "<path class=\"legend\" d=\"M 128.3 285.2 L 128.3 284.1 L 129.9 284.1 L 130.1 281.7 L 131.2 281.7 L 131.2 284.1 L 133.7 284.1 L 133.7 285.2 L 131.2 285.2 L 131.2 289.8 Q 131.2 291.2, 132.4 291.2 Q 132.9 291.2, 133.6 291.0 L 133.9 292.0 Q 133.0 292.4, 132.2 292.4 Q 131.1 292.4, 130.4 291.8 Q 129.7 291.1, 129.7 289.9 L 129.7 285.2 L 128.3 285.2 \" fill=\"#000000\"/>\n",
       "<path class=\"legend\" d=\"M 134.8 288.2 Q 134.8 286.2, 135.8 285.1 Q 136.8 283.9, 138.8 283.9 Q 140.7 283.9, 141.6 285.3 L 140.6 286.1 Q 140.2 285.6, 139.8 285.4 Q 139.4 285.1, 138.8 285.1 Q 137.6 285.1, 137.0 285.9 Q 136.4 286.7, 136.4 288.2 Q 136.4 289.7, 137.0 290.5 Q 137.7 291.3, 138.9 291.3 Q 139.5 291.3, 140.0 291.1 Q 140.5 290.9, 141.1 290.7 L 141.5 291.7 Q 140.3 292.4, 138.8 292.4 Q 136.8 292.4, 135.8 291.3 Q 134.8 290.2, 134.8 288.2 \" fill=\"#000000\"/>\n",
       "<path class=\"legend\" d=\"M 146.9 283.9 Q 148.2 283.9, 148.9 284.7 Q 149.6 285.4, 149.6 286.9 L 149.6 292.3 L 148.1 292.3 L 148.1 287.0 Q 148.1 286.0, 147.7 285.6 Q 147.3 285.1, 146.5 285.1 Q 145.7 285.1, 145.1 285.5 Q 144.5 285.8, 144.1 286.4 L 144.1 292.3 L 142.6 292.3 L 142.6 280.2 L 144.1 280.2 L 144.1 285.1 Q 145.2 283.9, 146.9 283.9 \" fill=\"#000000\"/>\n",
       "<path class=\"legend\" d=\"M 151.4 290.4 L 153.0 290.4 L 153.0 292.0 L 151.4 292.0 L 151.4 290.4 M 151.4 284.9 L 153.0 284.9 L 153.0 286.5 L 151.4 286.5 L 151.4 284.9 \" fill=\"#000000\"/>\n",
       "<path class=\"legend\" d=\"\" fill=\"#000000\"/>\n",
       "<path class=\"legend\" d=\"M 160.7 281.0 L 167.4 281.0 L 167.4 282.3 L 162.2 282.3 L 162.2 285.7 L 166.8 285.7 L 166.8 287.0 L 162.2 287.0 L 162.2 292.3 L 160.7 292.3 L 160.7 281.0 \" fill=\"#000000\"/>\n",
       "<path class=\"legend\" d=\"M 168.3 290.1 Q 168.3 288.8, 169.4 288.1 Q 170.4 287.3, 172.4 287.3 L 173.6 287.3 L 173.6 287.0 Q 173.6 286.0, 173.2 285.6 Q 172.7 285.1, 171.7 285.1 Q 171.1 285.1, 170.5 285.3 Q 170.0 285.4, 169.2 285.7 L 168.8 284.7 Q 170.3 283.9, 171.7 283.9 Q 173.5 283.9, 174.3 284.7 Q 175.1 285.4, 175.1 287.0 L 175.1 292.3 L 173.9 292.3 Q 173.9 292.2, 173.9 292.0 Q 173.8 291.7, 173.7 291.3 Q 172.6 292.5, 171.0 292.5 Q 169.8 292.5, 169.1 291.8 Q 168.3 291.2, 168.3 290.1 M 169.8 290.1 Q 169.8 290.7, 170.2 291.0 Q 170.6 291.3, 171.3 291.3 Q 172.0 291.3, 172.6 291.0 Q 173.2 290.7, 173.6 290.2 L 173.6 288.5 L 172.5 288.5 Q 171.2 288.5, 170.5 288.9 Q 169.8 289.3, 169.8 290.1 \" fill=\"#000000\"/>\n",
       "<path class=\"legend\" d=\"M 176.9 280.2 L 178.4 280.2 L 178.4 292.3 L 176.9 292.3 L 176.9 280.2 \" fill=\"#000000\"/>\n",
       "<path class=\"legend\" d=\"M 180.8 290.6 Q 181.5 290.9, 182.0 291.1 Q 182.5 291.2, 183.1 291.2 Q 183.8 291.2, 184.2 290.9 Q 184.6 290.6, 184.6 290.0 Q 184.6 289.6, 184.4 289.4 Q 184.2 289.2, 183.9 289.1 Q 183.7 288.9, 183.0 288.7 Q 182.8 288.7, 182.1 288.4 Q 181.4 288.2, 181.0 287.6 Q 180.6 287.1, 180.6 286.3 Q 180.6 285.3, 181.4 284.6 Q 182.1 283.9, 183.6 283.9 Q 184.2 283.9, 184.8 284.1 Q 185.3 284.2, 185.9 284.5 L 185.5 285.7 Q 185.0 285.4, 184.6 285.3 Q 184.1 285.2, 183.6 285.2 Q 182.9 285.2, 182.5 285.5 Q 182.1 285.8, 182.1 286.3 Q 182.1 286.7, 182.4 286.9 Q 182.7 287.1, 183.4 287.4 Q 183.5 287.4, 183.7 287.5 L 184.1 287.6 Q 184.7 287.9, 185.1 288.1 Q 185.6 288.3, 185.9 288.8 Q 186.1 289.2, 186.1 290.0 Q 186.1 291.2, 185.3 291.8 Q 184.5 292.5, 183.1 292.5 Q 182.3 292.5, 181.7 292.3 Q 181.0 292.1, 180.3 291.8 L 180.8 290.6 \" fill=\"#000000\"/>\n",
       "<path class=\"legend\" d=\"M 187.6 288.2 Q 187.6 286.2, 188.6 285.1 Q 189.6 283.9, 191.4 283.9 Q 193.2 283.9, 194.0 285.0 Q 194.8 286.1, 194.8 288.1 L 194.8 288.4 L 189.1 288.4 Q 189.1 289.8, 189.8 290.5 Q 190.4 291.3, 191.5 291.3 Q 192.2 291.3, 192.8 291.1 Q 193.4 290.9, 194.1 290.6 L 194.5 291.7 Q 193.7 292.1, 193.0 292.3 Q 192.2 292.4, 191.5 292.4 Q 189.6 292.4, 188.6 291.3 Q 187.6 290.2, 187.6 288.2 M 191.4 285.1 Q 190.5 285.1, 189.9 285.7 Q 189.3 286.2, 189.2 287.3 L 193.3 287.3 Q 193.1 286.2, 192.7 285.7 Q 192.2 285.1, 191.4 285.1 \" fill=\"#000000\"/>\n",
       "<path class=\"bond-0 atom-0 atom-1\" d=\"M 313.6,132.8 L 345.9,124.3\" style=\"fill:none;fill-rule:evenodd;stroke:#000000;stroke-width:2.0px;stroke-linecap:butt;stroke-linejoin:miter;stroke-opacity:1\"/>\n",
       "<path class=\"bond-1 atom-1 atom-2\" d=\"M 345.9,124.3 L 369.4,147.9\" style=\"fill:none;fill-rule:evenodd;stroke:#000000;stroke-width:2.0px;stroke-linecap:butt;stroke-linejoin:miter;stroke-opacity:1\"/>\n",
       "<path class=\"bond-2 atom-2 atom-3\" d=\"M 369.4,147.9 L 401.6,139.4\" style=\"fill:none;fill-rule:evenodd;stroke:#000000;stroke-width:2.0px;stroke-linecap:butt;stroke-linejoin:miter;stroke-opacity:1\"/>\n",
       "<path class=\"bond-3 atom-3 atom-4\" d=\"M 403.6,141.4 L 407.3,127.7\" style=\"fill:none;fill-rule:evenodd;stroke:#000000;stroke-width:2.0px;stroke-linecap:butt;stroke-linejoin:miter;stroke-opacity:1\"/>\n",
       "<path class=\"bond-3 atom-3 atom-4\" d=\"M 407.3,127.7 L 411.1,113.9\" style=\"fill:none;fill-rule:evenodd;stroke:#FF0000;stroke-width:2.0px;stroke-linecap:butt;stroke-linejoin:miter;stroke-opacity:1\"/>\n",
       "<path class=\"bond-3 atom-3 atom-4\" d=\"M 398.8,140.1 L 402.5,126.3\" style=\"fill:none;fill-rule:evenodd;stroke:#000000;stroke-width:2.0px;stroke-linecap:butt;stroke-linejoin:miter;stroke-opacity:1\"/>\n",
       "<path class=\"bond-3 atom-3 atom-4\" d=\"M 402.5,126.3 L 406.2,112.6\" style=\"fill:none;fill-rule:evenodd;stroke:#FF0000;stroke-width:2.0px;stroke-linecap:butt;stroke-linejoin:miter;stroke-opacity:1\"/>\n",
       "<path class=\"bond-4 atom-3 atom-5\" d=\"M 401.6,139.4 L 410.6,148.5\" style=\"fill:none;fill-rule:evenodd;stroke:#000000;stroke-width:2.0px;stroke-linecap:butt;stroke-linejoin:miter;stroke-opacity:1\"/>\n",
       "<path class=\"bond-4 atom-3 atom-5\" d=\"M 410.6,148.5 L 419.6,157.5\" style=\"fill:none;fill-rule:evenodd;stroke:#FF0000;stroke-width:2.0px;stroke-linecap:butt;stroke-linejoin:miter;stroke-opacity:1\"/>\n",
       "<path class=\"bond-5 atom-5 atom-6\" d=\"M 430.5,161.6 L 443.9,158.0\" style=\"fill:none;fill-rule:evenodd;stroke:#FF0000;stroke-width:2.0px;stroke-linecap:butt;stroke-linejoin:miter;stroke-opacity:1\"/>\n",
       "<path class=\"bond-5 atom-5 atom-6\" d=\"M 443.9,158.0 L 457.3,154.5\" style=\"fill:none;fill-rule:evenodd;stroke:#000000;stroke-width:2.0px;stroke-linecap:butt;stroke-linejoin:miter;stroke-opacity:1\"/>\n",
       "<path class=\"bond-6 atom-6 atom-7\" d=\"M 457.3,154.5 L 466.0,122.3\" style=\"fill:none;fill-rule:evenodd;stroke:#000000;stroke-width:2.0px;stroke-linecap:butt;stroke-linejoin:miter;stroke-opacity:1\"/>\n",
       "<path class=\"bond-6 atom-6 atom-7\" d=\"M 462.9,153.0 L 470.1,126.4\" style=\"fill:none;fill-rule:evenodd;stroke:#000000;stroke-width:2.0px;stroke-linecap:butt;stroke-linejoin:miter;stroke-opacity:1\"/>\n",
       "<path class=\"bond-7 atom-7 atom-8\" d=\"M 466.0,122.3 L 498.2,113.8\" style=\"fill:none;fill-rule:evenodd;stroke:#000000;stroke-width:2.0px;stroke-linecap:butt;stroke-linejoin:miter;stroke-opacity:1\"/>\n",
       "<path class=\"bond-8 atom-8 atom-9\" d=\"M 498.2,113.8 L 521.7,137.4\" style=\"fill:none;fill-rule:evenodd;stroke:#000000;stroke-width:2.0px;stroke-linecap:butt;stroke-linejoin:miter;stroke-opacity:1\"/>\n",
       "<path class=\"bond-8 atom-8 atom-9\" d=\"M 496.7,119.3 L 516.2,138.9\" style=\"fill:none;fill-rule:evenodd;stroke:#000000;stroke-width:2.0px;stroke-linecap:butt;stroke-linejoin:miter;stroke-opacity:1\"/>\n",
       "<path class=\"bond-9 atom-9 atom-10\" d=\"M 521.7,137.4 L 513.0,169.6\" style=\"fill:none;fill-rule:evenodd;stroke:#000000;stroke-width:2.0px;stroke-linecap:butt;stroke-linejoin:miter;stroke-opacity:1\"/>\n",
       "<path class=\"bond-10 atom-10 atom-11\" d=\"M 513.0,169.6 L 480.8,178.1\" style=\"fill:none;fill-rule:evenodd;stroke:#000000;stroke-width:2.0px;stroke-linecap:butt;stroke-linejoin:miter;stroke-opacity:1\"/>\n",
       "<path class=\"bond-10 atom-10 atom-11\" d=\"M 509.0,165.5 L 482.3,172.5\" style=\"fill:none;fill-rule:evenodd;stroke:#000000;stroke-width:2.0px;stroke-linecap:butt;stroke-linejoin:miter;stroke-opacity:1\"/>\n",
       "<path class=\"bond-11 atom-9 atom-12\" d=\"M 521.7,137.4 L 535.5,133.7\" style=\"fill:none;fill-rule:evenodd;stroke:#000000;stroke-width:2.0px;stroke-linecap:butt;stroke-linejoin:miter;stroke-opacity:1\"/>\n",
       "<path class=\"bond-11 atom-9 atom-12\" d=\"M 535.5,133.7 L 549.3,130.1\" style=\"fill:none;fill-rule:evenodd;stroke:#0000FF;stroke-width:2.0px;stroke-linecap:butt;stroke-linejoin:miter;stroke-opacity:1\"/>\n",
       "<path class=\"bond-12 atom-12 atom-13\" d=\"M 558.6,133.5 L 565.3,140.3\" style=\"fill:none;fill-rule:evenodd;stroke:#0000FF;stroke-width:2.0px;stroke-linecap:butt;stroke-linejoin:miter;stroke-opacity:1\"/>\n",
       "<path class=\"bond-12 atom-12 atom-13\" d=\"M 565.3,140.3 L 572.0,147.0\" style=\"fill:none;fill-rule:evenodd;stroke:#FF0000;stroke-width:2.0px;stroke-linecap:butt;stroke-linejoin:miter;stroke-opacity:1\"/>\n",
       "<path class=\"bond-13 atom-12 atom-14\" d=\"M 557.9,123.7 L 560.7,113.5\" style=\"fill:none;fill-rule:evenodd;stroke:#0000FF;stroke-width:2.0px;stroke-linecap:butt;stroke-linejoin:miter;stroke-opacity:1\"/>\n",
       "<path class=\"bond-13 atom-12 atom-14\" d=\"M 560.7,113.5 L 563.4,103.3\" style=\"fill:none;fill-rule:evenodd;stroke:#FF0000;stroke-width:2.0px;stroke-linecap:butt;stroke-linejoin:miter;stroke-opacity:1\"/>\n",
       "<path class=\"bond-13 atom-12 atom-14\" d=\"M 553.1,122.4 L 555.9,112.2\" style=\"fill:none;fill-rule:evenodd;stroke:#0000FF;stroke-width:2.0px;stroke-linecap:butt;stroke-linejoin:miter;stroke-opacity:1\"/>\n",
       "<path class=\"bond-13 atom-12 atom-14\" d=\"M 555.9,112.2 L 558.6,102.0\" style=\"fill:none;fill-rule:evenodd;stroke:#FF0000;stroke-width:2.0px;stroke-linecap:butt;stroke-linejoin:miter;stroke-opacity:1\"/>\n",
       "<path class=\"bond-14 atom-11 atom-6\" d=\"M 480.8,178.1 L 457.3,154.5\" style=\"fill:none;fill-rule:evenodd;stroke:#000000;stroke-width:2.0px;stroke-linecap:butt;stroke-linejoin:miter;stroke-opacity:1\"/>\n",
       "<path d=\"M 344.2,124.7 L 345.9,124.3 L 347.0,125.5\" style=\"fill:none;stroke:#000000;stroke-width:2.0px;stroke-linecap:butt;stroke-linejoin:miter;stroke-opacity:1;\"/>\n",
       "<path d=\"M 368.2,146.7 L 369.4,147.9 L 371.0,147.5\" style=\"fill:none;stroke:#000000;stroke-width:2.0px;stroke-linecap:butt;stroke-linejoin:miter;stroke-opacity:1;\"/>\n",
       "<path d=\"M 400.0,139.8 L 401.6,139.4 L 402.0,139.8\" style=\"fill:none;stroke:#000000;stroke-width:2.0px;stroke-linecap:butt;stroke-linejoin:miter;stroke-opacity:1;\"/>\n",
       "<path d=\"M 465.6,123.9 L 466.0,122.3 L 467.6,121.9\" style=\"fill:none;stroke:#000000;stroke-width:2.0px;stroke-linecap:butt;stroke-linejoin:miter;stroke-opacity:1;\"/>\n",
       "<path d=\"M 496.6,114.2 L 498.2,113.8 L 499.4,114.9\" style=\"fill:none;stroke:#000000;stroke-width:2.0px;stroke-linecap:butt;stroke-linejoin:miter;stroke-opacity:1;\"/>\n",
       "<path d=\"M 513.5,167.9 L 513.0,169.6 L 511.4,170.0\" style=\"fill:none;stroke:#000000;stroke-width:2.0px;stroke-linecap:butt;stroke-linejoin:miter;stroke-opacity:1;\"/>\n",
       "<path d=\"M 482.4,177.7 L 480.8,178.1 L 479.6,176.9\" style=\"fill:none;stroke:#000000;stroke-width:2.0px;stroke-linecap:butt;stroke-linejoin:miter;stroke-opacity:1;\"/>\n",
       "<path class=\"atom-4\" d=\"M 406.0 107.2 Q 406.0 105.0, 407.1 103.7 Q 408.2 102.4, 410.3 102.4 Q 412.4 102.4, 413.5 103.7 Q 414.6 105.0, 414.6 107.2 Q 414.6 109.5, 413.5 110.8 Q 412.4 112.1, 410.3 112.1 Q 408.2 112.1, 407.1 110.8 Q 406.0 109.5, 406.0 107.2 M 410.3 111.1 Q 411.7 111.1, 412.5 110.1 Q 413.3 109.1, 413.3 107.2 Q 413.3 105.4, 412.5 104.4 Q 411.7 103.5, 410.3 103.5 Q 408.8 103.5, 408.1 104.4 Q 407.3 105.4, 407.3 107.2 Q 407.3 109.1, 408.1 110.1 Q 408.8 111.1, 410.3 111.1 \" fill=\"#FF0000\"/>\n",
       "<path class=\"atom-5\" d=\"M 420.7 163.0 Q 420.7 160.8, 421.9 159.5 Q 423.0 158.2, 425.1 158.2 Q 427.2 158.2, 428.3 159.5 Q 429.4 160.8, 429.4 163.0 Q 429.4 165.3, 428.3 166.6 Q 427.1 167.9, 425.1 167.9 Q 423.0 167.9, 421.9 166.6 Q 420.7 165.3, 420.7 163.0 M 425.1 166.9 Q 426.5 166.9, 427.3 165.9 Q 428.1 164.9, 428.1 163.0 Q 428.1 161.2, 427.3 160.3 Q 426.5 159.3, 425.1 159.3 Q 423.6 159.3, 422.9 160.2 Q 422.1 161.2, 422.1 163.0 Q 422.1 164.9, 422.9 165.9 Q 423.6 166.9, 425.1 166.9 \" fill=\"#FF0000\"/>\n",
       "<path class=\"atom-12\" d=\"M 551.9 124.1 L 555.0 129.1 Q 555.3 129.6, 555.8 130.5 Q 556.3 131.4, 556.3 131.5 L 556.3 124.1 L 557.5 124.1 L 557.5 133.6 L 556.2 133.6 L 552.9 128.1 Q 552.5 127.5, 552.1 126.7 Q 551.7 126.0, 551.6 125.8 L 551.6 133.6 L 550.4 133.6 L 550.4 124.1 L 551.9 124.1 \" fill=\"#0000FF\"/>\n",
       "<path class=\"atom-12\" d=\"M 559.3 125.8 L 561.0 125.8 L 561.0 124.1 L 561.7 124.1 L 561.7 125.8 L 563.4 125.8 L 563.4 126.5 L 561.7 126.5 L 561.7 128.2 L 561.0 128.2 L 561.0 126.5 L 559.3 126.5 L 559.3 125.8 \" fill=\"#0000FF\"/>\n",
       "<path class=\"atom-13\" d=\"M 573.1 152.5 Q 573.1 150.2, 574.2 149.0 Q 575.4 147.7, 577.5 147.7 Q 579.5 147.7, 580.7 149.0 Q 581.8 150.2, 581.8 152.5 Q 581.8 154.8, 580.7 156.1 Q 579.5 157.4, 577.5 157.4 Q 575.4 157.4, 574.2 156.1 Q 573.1 154.8, 573.1 152.5 M 577.5 156.3 Q 578.9 156.3, 579.7 155.4 Q 580.5 154.4, 580.5 152.5 Q 580.5 150.6, 579.7 149.7 Q 578.9 148.8, 577.5 148.8 Q 576.0 148.8, 575.2 149.7 Q 574.5 150.6, 574.5 152.5 Q 574.5 154.4, 575.2 155.4 Q 576.0 156.3, 577.5 156.3 \" fill=\"#FF0000\"/>\n",
       "<path class=\"atom-13\" d=\"M 583.1 149.2 L 586.4 149.2 L 586.4 149.9 L 583.1 149.9 L 583.1 149.2 \" fill=\"#FF0000\"/>\n",
       "<path class=\"atom-14\" d=\"M 558.3 96.7 Q 558.3 94.4, 559.4 93.2 Q 560.6 91.9, 562.7 91.9 Q 564.8 91.9, 565.9 93.2 Q 567.0 94.4, 567.0 96.7 Q 567.0 99.0, 565.9 100.3 Q 564.7 101.6, 562.7 101.6 Q 560.6 101.6, 559.4 100.3 Q 558.3 99.0, 558.3 96.7 M 562.7 100.5 Q 564.1 100.5, 564.9 99.6 Q 565.7 98.6, 565.7 96.7 Q 565.7 94.8, 564.9 93.9 Q 564.1 93.0, 562.7 93.0 Q 561.2 93.0, 560.4 93.9 Q 559.7 94.8, 559.7 96.7 Q 559.7 98.6, 560.4 99.6 Q 561.2 100.5, 562.7 100.5 \" fill=\"#FF0000\"/>\n",
       "<path class=\"legend\" d=\"M 419.7 292.3 L 418.2 292.3 L 417.0 283.0 L 414.0 292.3 L 412.4 292.3 L 409.4 283.0 L 408.2 292.3 L 406.7 292.3 L 408.2 281.0 L 410.1 281.0 L 413.2 290.1 L 416.3 281.0 L 418.2 281.0 L 419.7 292.3 \" fill=\"#000000\"/>\n",
       "<path class=\"legend\" d=\"M 421.3 290.1 Q 421.3 288.8, 422.4 288.1 Q 423.4 287.3, 425.4 287.3 L 426.6 287.3 L 426.6 287.0 Q 426.6 286.0, 426.1 285.6 Q 425.7 285.1, 424.7 285.1 Q 424.1 285.1, 423.5 285.3 Q 423.0 285.4, 422.2 285.7 L 421.8 284.7 Q 423.3 283.9, 424.7 283.9 Q 426.5 283.9, 427.3 284.7 Q 428.1 285.4, 428.1 287.0 L 428.1 292.3 L 426.9 292.3 Q 426.9 292.2, 426.9 292.0 Q 426.8 291.7, 426.7 291.3 Q 425.6 292.5, 424.0 292.5 Q 422.8 292.5, 422.1 291.8 Q 421.3 291.2, 421.3 290.1 M 422.8 290.1 Q 422.8 290.7, 423.2 291.0 Q 423.6 291.3, 424.3 291.3 Q 424.9 291.3, 425.6 291.0 Q 426.2 290.7, 426.6 290.2 L 426.6 288.5 L 425.5 288.5 Q 424.1 288.5, 423.5 288.9 Q 422.8 289.3, 422.8 290.1 \" fill=\"#000000\"/>\n",
       "<path class=\"legend\" d=\"M 429.9 285.2 L 429.9 284.1 L 431.5 284.1 L 431.8 281.7 L 432.9 281.7 L 432.9 284.1 L 435.4 284.1 L 435.4 285.2 L 432.9 285.2 L 432.9 289.8 Q 432.9 291.2, 434.1 291.2 Q 434.6 291.2, 435.3 291.0 L 435.5 292.0 Q 434.6 292.4, 433.8 292.4 Q 432.7 292.4, 432.0 291.8 Q 431.4 291.1, 431.4 289.9 L 431.4 285.2 L 429.9 285.2 \" fill=\"#000000\"/>\n",
       "<path class=\"legend\" d=\"M 436.5 288.2 Q 436.5 286.2, 437.5 285.1 Q 438.5 283.9, 440.5 283.9 Q 442.3 283.9, 443.3 285.3 L 442.3 286.1 Q 441.9 285.6, 441.5 285.4 Q 441.0 285.1, 440.5 285.1 Q 439.3 285.1, 438.7 285.9 Q 438.1 286.7, 438.1 288.2 Q 438.1 289.7, 438.7 290.5 Q 439.4 291.3, 440.6 291.3 Q 441.2 291.3, 441.7 291.1 Q 442.2 290.9, 442.7 290.7 L 443.2 291.7 Q 442.0 292.4, 440.5 292.4 Q 438.5 292.4, 437.5 291.3 Q 436.5 290.2, 436.5 288.2 \" fill=\"#000000\"/>\n",
       "<path class=\"legend\" d=\"M 448.6 283.9 Q 449.9 283.9, 450.6 284.7 Q 451.3 285.4, 451.3 286.9 L 451.3 292.3 L 449.8 292.3 L 449.8 287.0 Q 449.8 286.0, 449.4 285.6 Q 449.1 285.1, 448.2 285.1 Q 447.5 285.1, 446.9 285.5 Q 446.2 285.8, 445.8 286.4 L 445.8 292.3 L 444.3 292.3 L 444.3 280.2 L 445.8 280.2 L 445.8 285.1 Q 446.9 283.9, 448.6 283.9 \" fill=\"#000000\"/>\n",
       "<path class=\"legend\" d=\"M 453.2 290.4 L 454.8 290.4 L 454.8 292.0 L 453.2 292.0 L 453.2 290.4 M 453.2 284.9 L 454.8 284.9 L 454.8 286.5 L 453.2 286.5 L 453.2 284.9 \" fill=\"#000000\"/>\n",
       "<path class=\"legend\" d=\"\" fill=\"#000000\"/>\n",
       "<path class=\"legend\" d=\"M 466.0 282.3 L 462.5 282.3 L 462.5 281.0 L 470.9 281.0 L 470.9 282.3 L 467.6 282.3 L 467.6 292.3 L 466.0 292.3 L 466.0 282.3 \" fill=\"#000000\"/>\n",
       "<path class=\"legend\" d=\"M 472.7 284.1 L 472.9 285.2 Q 473.8 283.9, 475.2 283.9 Q 475.6 283.9, 476.2 284.1 L 476.0 285.4 Q 475.3 285.3, 474.9 285.3 Q 474.2 285.3, 473.8 285.6 Q 473.4 285.8, 473.0 286.4 L 473.0 292.3 L 471.5 292.3 L 471.5 284.1 L 472.7 284.1 \" fill=\"#000000\"/>\n",
       "<path class=\"legend\" d=\"M 484.1 284.1 L 484.1 292.3 L 482.8 292.3 L 482.7 291.2 Q 481.6 292.5, 479.9 292.5 Q 478.5 292.5, 477.8 291.7 Q 477.1 291.0, 477.1 289.5 L 477.1 284.1 L 478.6 284.1 L 478.6 289.4 Q 478.6 290.4, 479.0 290.8 Q 479.3 291.3, 480.2 291.3 Q 480.9 291.3, 481.5 290.9 Q 482.2 290.6, 482.6 290.0 L 482.6 284.1 L 484.1 284.1 \" fill=\"#000000\"/>\n",
       "<path class=\"legend\" d=\"M 486.0 288.2 Q 486.0 286.2, 487.0 285.1 Q 488.0 283.9, 489.9 283.9 Q 491.7 283.9, 492.5 285.0 Q 493.3 286.1, 493.3 288.1 L 493.3 288.4 L 487.5 288.4 Q 487.6 289.8, 488.2 290.5 Q 488.8 291.3, 490.0 291.3 Q 490.6 291.3, 491.2 291.1 Q 491.8 290.9, 492.5 290.6 L 493.0 291.7 Q 492.2 292.1, 491.4 292.3 Q 490.7 292.4, 489.9 292.4 Q 488.1 292.4, 487.0 291.3 Q 486.0 290.2, 486.0 288.2 M 489.9 285.1 Q 488.9 285.1, 488.3 285.7 Q 487.8 286.2, 487.6 287.3 L 491.7 287.3 Q 491.6 286.2, 491.1 285.7 Q 490.7 285.1, 489.9 285.1 \" fill=\"#000000\"/>\n",
       "</svg>"
      ],
      "text/plain": [
       "<IPython.core.display.SVG object>"
      ]
     },
     "execution_count": 24,
     "metadata": {},
     "output_type": "execute_result"
    }
   ],
   "source": [
    "some_molecules = [\"CCCCCCC\", \"CCCC(=O)OC1=CC=C(C=C1)N(=O)=O\"]\n",
    "mols = [dm.to_mol(x) for x in some_molecules]\n",
    "matches = [custom_catalog.HasMatch(x) for x in mols]\n",
    "dm.to_image(mols, legends=[f\"Match: {x}\" for x in matches])\n"
   ]
  },
  {
   "cell_type": "markdown",
   "id": "dcef48d4",
   "metadata": {},
   "source": [
    "---\n",
    "\n",
    "-- The End :-)"
   ]
  }
 ],
 "metadata": {
  "kernelspec": {
   "display_name": "medchem",
   "language": "python",
   "name": "python3"
  },
  "language_info": {
   "codemirror_mode": {
    "name": "ipython",
    "version": 3
   },
   "file_extension": ".py",
   "mimetype": "text/x-python",
   "name": "python",
   "nbconvert_exporter": "python",
   "pygments_lexer": "ipython3",
   "version": "3.10.12"
  }
 },
 "nbformat": 4,
 "nbformat_minor": 5
}
