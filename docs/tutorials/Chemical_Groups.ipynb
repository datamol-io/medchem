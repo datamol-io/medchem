{
 "cells": [
  {
   "cell_type": "markdown",
   "id": "1115f42c-0ccb-4f4d-802d-62503c807b43",
   "metadata": {},
   "source": [
    "# Chemical Groups\n",
    "\n",
    "The `medchem.groups` module contains a large list of chemical and functional groups to classify compounds. Its easy-to-use API allows you to specify either a whole family or a subset of chemical groups. For example, you can load all the known hinge binders motifs with `ChemicalGroup(\"hinge_binders*\")`."
   ]
  },
  {
   "cell_type": "code",
   "execution_count": 1,
   "id": "14560eb7",
   "metadata": {
    "tags": [
     "remove_cell"
    ]
   },
   "outputs": [],
   "source": [
    "%load_ext autoreload\n",
    "%autoreload 2"
   ]
  },
  {
   "cell_type": "code",
   "execution_count": 2,
   "id": "cc35111a-d3a8-4313-962c-290bbf563f35",
   "metadata": {},
   "outputs": [],
   "source": [
    "import datamol as dm\n",
    "import pandas as pd\n",
    "\n",
    "import medchem\n",
    "from medchem.groups import ChemicalGroup"
   ]
  },
  {
   "cell_type": "markdown",
   "id": "1a631975-21a0-472d-a398-357301ae98bd",
   "metadata": {},
   "source": [
    "## List the available chemical and functional groups\n",
    "\n",
    "List the default chemical groups"
   ]
  },
  {
   "cell_type": "code",
   "execution_count": 3,
   "id": "4cd73483-cbff-4b20-8fad-9ee8afed196c",
   "metadata": {},
   "outputs": [
    {
     "data": {
      "text/plain": [
       "['emerging_perfluoroalkyls',\n",
       " 'montmorillonite_adsorption',\n",
       " 'common_monomer_repeating_units',\n",
       " 'electrophilic_warheads_for_kinases',\n",
       " 'common_warhead_covalent_inhibitors',\n",
       " 'rings_in_drugs',\n",
       " 'iupac_blue_book_rings',\n",
       " 'phase_2_hetereocyclic_rings',\n",
       " 'privileged_scaffolds',\n",
       " 'iupac_blue_book',\n",
       " 'common_rgroup_replacements',\n",
       " 'braf_inhibitors',\n",
       " 'privileged_kinase_inhibitor_scaffolds',\n",
       " 'common_organic_solvents',\n",
       " 'amino_acid_protecting_groups',\n",
       " 'schedule_one',\n",
       " 'schedule_two',\n",
       " 'schedule_three',\n",
       " 'schedule_four',\n",
       " 'schedule_five',\n",
       " 'interstellar_space',\n",
       " 'vitamins',\n",
       " 'open_smiles',\n",
       " 'amino_acids',\n",
       " 'pihkal',\n",
       " 'aggregator',\n",
       " 'basic_groups',\n",
       " 'extended_groups',\n",
       " 'hinge_binders']"
      ]
     },
     "execution_count": 3,
     "metadata": {},
     "output_type": "execute_result"
    }
   ],
   "source": [
    "medchem.groups.list_default_chemical_groups()"
   ]
  },
  {
   "cell_type": "markdown",
   "id": "1790f107-c5c3-4b25-90c5-3ff1f0da4e3d",
   "metadata": {},
   "source": [
    "List common functional group names. The list is too long to we only show a few elements."
   ]
  },
  {
   "cell_type": "code",
   "execution_count": 4,
   "id": "8c027d31-194e-479e-8133-3adeb2573f58",
   "metadata": {},
   "outputs": [
    {
     "data": {
      "text/plain": [
       "['Enediols',\n",
       " 'Ethers',\n",
       " 'Dialkylethers',\n",
       " 'Alkylarylethers',\n",
       " 'Diarylethers',\n",
       " 'Thioethers',\n",
       " 'Disulfides',\n",
       " 'Peroxides',\n",
       " 'Hydroperoxides',\n",
       " 'Hydrazine derivatives']"
      ]
     },
     "execution_count": 4,
     "metadata": {},
     "output_type": "execute_result"
    }
   ],
   "source": [
    "medchem.groups.list_functional_group_names()[40:50]"
   ]
  },
  {
   "cell_type": "markdown",
   "id": "3a9a2464-8f20-4bd5-9621-087dd4486449",
   "metadata": {},
   "source": [
    "You can also retrieve a `dict` of functional group to their SMARTS. Here again we only show a small subset."
   ]
  },
  {
   "cell_type": "code",
   "execution_count": 5,
   "id": "e0a5effa-d172-4b76-b381-49275c328490",
   "metadata": {},
   "outputs": [
    {
     "data": {
      "text/plain": [
       "{'1,2 – Aminophenols': 'c([OH1])c[NX3]([#1,#6])[#1,#6]',\n",
       " '1,2 – Aminothiophenols': 'c([SH1])c[NX3]([#1,#6])[#1,#6]',\n",
       " '1,2 – Diphenols': 'c([OH1])c([OH1])',\n",
       " '1,2 – Dithiophenols': 'c([SH1])c([SH1])',\n",
       " '1,2,3,4-Oxatriazoles (HS)': '[oR1]1[nR1][nR1][nR1][cR1]1',\n",
       " '1,2,3,4-Thiatriazoles (HS)': '[sR1]1[nR1][nR1][nR1][cR1]1',\n",
       " '1,2,3,5-Oxatriazoles (HS)': '[oR1]1[nR1][nR1][cR1][nR1]1',\n",
       " '1,2,3,5-Thiatriazoles (HS)': '[sR1]1[nR1][nR1][cR1][nR1]1',\n",
       " '1,2,3-Oxadiazoles (HS)': '[oR1]1[nR1][nR1][cR1][cR1]1',\n",
       " '1,2,3-Triazoles (HS)': '[nR1]1[nR1][nR1][cR1][cR1]1'}"
      ]
     },
     "execution_count": 5,
     "metadata": {},
     "output_type": "execute_result"
    }
   ],
   "source": [
    "fg_map = medchem.groups.get_functional_group_map()\n",
    "\n",
    "dict(list(fg_map.items())[:10])"
   ]
  },
  {
   "cell_type": "markdown",
   "id": "7b84db96-995e-416a-9333-e09ed353f0e3",
   "metadata": {},
   "source": [
    "## Load one ore more groups and filter a list of molecules"
   ]
  },
  {
   "cell_type": "code",
   "execution_count": 6,
   "id": "f9894af5-146d-451b-af5b-ac9fd27ad40d",
   "metadata": {},
   "outputs": [
    {
     "data": {
      "text/plain": [
       "<medchem.groups._groups.ChemicalGroup at 0x7f6f82ffdf10>"
      ]
     },
     "execution_count": 6,
     "metadata": {},
     "output_type": "execute_result"
    }
   ],
   "source": [
    "group = ChemicalGroup(groups=[\"basic_groups\", \"rings_in_drugs\"])\n",
    "\n",
    "group"
   ]
  },
  {
   "cell_type": "markdown",
   "id": "d9d87371-5b67-4586-960f-54488cee217e",
   "metadata": {},
   "source": [
    "The groups are part of a hierarchy you can explore with:"
   ]
  },
  {
   "cell_type": "code",
   "execution_count": 7,
   "id": "a15dec83-9d8c-47a6-9d8b-97112c5483c1",
   "metadata": {},
   "outputs": [
    {
     "data": {
      "text/plain": [
       "['medicinal_chemistry.rings.rings_in_drugs.rings_in_drugs',\n",
       " 'medicinal_chemistry.functional_groups.basic_groups']"
      ]
     },
     "execution_count": 7,
     "metadata": {},
     "output_type": "execute_result"
    }
   ],
   "source": [
    "group.list_hierarchy_groups()"
   ]
  },
  {
   "cell_type": "markdown",
   "id": "9d0721bc-1439-4729-82ff-0c17bf8a1a73",
   "metadata": {},
   "source": [
    "Check whether a molecule match with the created group."
   ]
  },
  {
   "cell_type": "code",
   "execution_count": 8,
   "id": "a784aff1-d372-46ac-8ec1-204c3579455e",
   "metadata": {},
   "outputs": [
    {
     "data": {
      "image/png": "[encoded data removed]",
      "text/plain": [
       "<rdkit.Chem.rdchem.Mol at 0x7f6f8107af80>"
      ]
     },
     "execution_count": 8,
     "metadata": {},
     "output_type": "execute_result"
    }
   ],
   "source": [
    "mol = dm.to_mol(\"CCS(=O)(=O)N1CC(C1)(CC#N)N2C=C(C=N2)C3=C4C=CNC4=NC=N3\")\n",
    "\n",
    "mol"
   ]
  },
  {
   "cell_type": "code",
   "execution_count": 9,
   "id": "49438480-7b61-424d-8753-3ee0898a5cf7",
   "metadata": {},
   "outputs": [
    {
     "data": {
      "text/html": [
       "<div>\n",
       "<style scoped>\n",
       "    .dataframe tbody tr th:only-of-type {\n",
       "        vertical-align: middle;\n",
       "    }\n",
       "\n",
       "    .dataframe tbody tr th {\n",
       "        vertical-align: top;\n",
       "    }\n",
       "\n",
       "    .dataframe thead th {\n",
       "        text-align: right;\n",
       "    }\n",
       "</style>\n",
       "<table border=\"1\" class=\"dataframe\">\n",
       "  <thead>\n",
       "    <tr style=\"text-align: right;\">\n",
       "      <th></th>\n",
       "      <th>name</th>\n",
       "      <th>smiles</th>\n",
       "      <th>smarts</th>\n",
       "      <th>group</th>\n",
       "      <th>matches</th>\n",
       "    </tr>\n",
       "  </thead>\n",
       "  <tbody>\n",
       "    <tr>\n",
       "      <th>204</th>\n",
       "      <td>diazine</td>\n",
       "      <td>C1=NC=CC=N1</td>\n",
       "      <td>[#6]1:[#7]:[#6]:[#6]:[#6]:[#7]:1</td>\n",
       "      <td>rings_in_drugs</td>\n",
       "      <td>((24, 23, 22, 18, 17, 25),)</td>\n",
       "    </tr>\n",
       "    <tr>\n",
       "      <th>234</th>\n",
       "      <td>1H-pyrazole</td>\n",
       "      <td>N1=CC=CN1</td>\n",
       "      <td>[#7]1:[#6]:[#6]:[#6]:[#7H]:1</td>\n",
       "      <td>rings_in_drugs</td>\n",
       "      <td>((12, 13, 14, 15, 16),)</td>\n",
       "    </tr>\n",
       "    <tr>\n",
       "      <th>257</th>\n",
       "      <td>1H-pyrrole</td>\n",
       "      <td>C1=CC=CN1</td>\n",
       "      <td>[#6]1:[#6]:[#6]:[#6]:[#7H]:1</td>\n",
       "      <td>rings_in_drugs</td>\n",
       "      <td>((20, 19, 18, 22, 21),)</td>\n",
       "    </tr>\n",
       "  </tbody>\n",
       "</table>\n",
       "</div>"
      ],
      "text/plain": [
       "            name       smiles                            smarts  \\\n",
       "204      diazine  C1=NC=CC=N1  [#6]1:[#7]:[#6]:[#6]:[#6]:[#7]:1   \n",
       "234  1H-pyrazole    N1=CC=CN1      [#7]1:[#6]:[#6]:[#6]:[#7H]:1   \n",
       "257   1H-pyrrole    C1=CC=CN1      [#6]1:[#6]:[#6]:[#6]:[#7H]:1   \n",
       "\n",
       "              group                      matches  \n",
       "204  rings_in_drugs  ((24, 23, 22, 18, 17, 25),)  \n",
       "234  rings_in_drugs      ((12, 13, 14, 15, 16),)  \n",
       "257  rings_in_drugs      ((20, 19, 18, 22, 21),)  "
      ]
     },
     "execution_count": 9,
     "metadata": {},
     "output_type": "execute_result"
    }
   ],
   "source": [
    "group.get_matches(mol, use_smiles=True)"
   ]
  },
  {
   "cell_type": "markdown",
   "id": "02258f63-0472-42a8-909d-743434254cf8",
   "metadata": {},
   "source": [
    "You can also display all the filters for a given group."
   ]
  },
  {
   "cell_type": "code",
   "execution_count": 10,
   "id": "381f3166-2241-4ccd-b213-684309bd655b",
   "metadata": {},
   "outputs": [
    {
     "data": {
      "text/html": [
       "<div>\n",
       "<style scoped>\n",
       "    .dataframe tbody tr th:only-of-type {\n",
       "        vertical-align: middle;\n",
       "    }\n",
       "\n",
       "    .dataframe tbody tr th {\n",
       "        vertical-align: top;\n",
       "    }\n",
       "\n",
       "    .dataframe thead th {\n",
       "        text-align: right;\n",
       "    }\n",
       "</style>\n",
       "<table border=\"1\" class=\"dataframe\">\n",
       "  <thead>\n",
       "    <tr style=\"text-align: right;\">\n",
       "      <th></th>\n",
       "      <th>name</th>\n",
       "      <th>smiles</th>\n",
       "      <th>smarts</th>\n",
       "      <th>group</th>\n",
       "      <th>hierarchy</th>\n",
       "      <th>mol_smarts</th>\n",
       "      <th>mol</th>\n",
       "    </tr>\n",
       "  </thead>\n",
       "  <tbody>\n",
       "    <tr>\n",
       "      <th>191</th>\n",
       "      <td>benzene</td>\n",
       "      <td>C1=CC=CC=C1</td>\n",
       "      <td>[#6]1:[#6]:[#6]:[#6]:[#6]:[#6]:1</td>\n",
       "      <td>rings_in_drugs</td>\n",
       "      <td>medicinal_chemistry.rings.rings_in_drugs.rings...</td>\n",
       "      <td>&lt;rdkit.Chem.rdchem.Mol object at 0x7f6f80cc6ea0&gt;</td>\n",
       "      <td>&lt;rdkit.Chem.rdchem.Mol object at 0x7f6f80bc6570&gt;</td>\n",
       "    </tr>\n",
       "    <tr>\n",
       "      <th>192</th>\n",
       "      <td>pyridine</td>\n",
       "      <td>C1=CC=CN=C1</td>\n",
       "      <td>[#6]1:[#6]:[#6]:[#6]:[#7]:[#6]:1</td>\n",
       "      <td>rings_in_drugs</td>\n",
       "      <td>medicinal_chemistry.rings.rings_in_drugs.rings...</td>\n",
       "      <td>&lt;rdkit.Chem.rdchem.Mol object at 0x7f6f80cc6f80&gt;</td>\n",
       "      <td>&lt;rdkit.Chem.rdchem.Mol object at 0x7f6f80bc5e70&gt;</td>\n",
       "    </tr>\n",
       "    <tr>\n",
       "      <th>193</th>\n",
       "      <td>piperidine</td>\n",
       "      <td>N1CCCCC1</td>\n",
       "      <td>[#7]1-[#6]-[#6]-[#6]-[#6]-[#6]-1</td>\n",
       "      <td>rings_in_drugs</td>\n",
       "      <td>medicinal_chemistry.rings.rings_in_drugs.rings...</td>\n",
       "      <td>&lt;rdkit.Chem.rdchem.Mol object at 0x7f6f80cc6e30&gt;</td>\n",
       "      <td>&lt;rdkit.Chem.rdchem.Mol object at 0x7f6f80bc6340&gt;</td>\n",
       "    </tr>\n",
       "    <tr>\n",
       "      <th>194</th>\n",
       "      <td>piperazine</td>\n",
       "      <td>N1CCNCC1</td>\n",
       "      <td>[#7]1-[#6]-[#6]-[#7]-[#6]-[#6]-1</td>\n",
       "      <td>rings_in_drugs</td>\n",
       "      <td>medicinal_chemistry.rings.rings_in_drugs.rings...</td>\n",
       "      <td>&lt;rdkit.Chem.rdchem.Mol object at 0x7f6f80cc6dc0&gt;</td>\n",
       "      <td>&lt;rdkit.Chem.rdchem.Mol object at 0x7f6f80bc5cb0&gt;</td>\n",
       "    </tr>\n",
       "    <tr>\n",
       "      <th>195</th>\n",
       "      <td>cyclohexane</td>\n",
       "      <td>C1CCCCC1</td>\n",
       "      <td>[#6]1-[#6]-[#6]-[#6]-[#6]-[#6]-1</td>\n",
       "      <td>rings_in_drugs</td>\n",
       "      <td>medicinal_chemistry.rings.rings_in_drugs.rings...</td>\n",
       "      <td>&lt;rdkit.Chem.rdchem.Mol object at 0x7f6f80cc6d50&gt;</td>\n",
       "      <td>&lt;rdkit.Chem.rdchem.Mol object at 0x7f6f80bc6810&gt;</td>\n",
       "    </tr>\n",
       "  </tbody>\n",
       "</table>\n",
       "</div>"
      ],
      "text/plain": [
       "            name       smiles                            smarts  \\\n",
       "191      benzene  C1=CC=CC=C1  [#6]1:[#6]:[#6]:[#6]:[#6]:[#6]:1   \n",
       "192     pyridine  C1=CC=CN=C1  [#6]1:[#6]:[#6]:[#6]:[#7]:[#6]:1   \n",
       "193   piperidine     N1CCCCC1  [#7]1-[#6]-[#6]-[#6]-[#6]-[#6]-1   \n",
       "194   piperazine     N1CCNCC1  [#7]1-[#6]-[#6]-[#7]-[#6]-[#6]-1   \n",
       "195  cyclohexane     C1CCCCC1  [#6]1-[#6]-[#6]-[#6]-[#6]-[#6]-1   \n",
       "\n",
       "              group                                          hierarchy  \\\n",
       "191  rings_in_drugs  medicinal_chemistry.rings.rings_in_drugs.rings...   \n",
       "192  rings_in_drugs  medicinal_chemistry.rings.rings_in_drugs.rings...   \n",
       "193  rings_in_drugs  medicinal_chemistry.rings.rings_in_drugs.rings...   \n",
       "194  rings_in_drugs  medicinal_chemistry.rings.rings_in_drugs.rings...   \n",
       "195  rings_in_drugs  medicinal_chemistry.rings.rings_in_drugs.rings...   \n",
       "\n",
       "                                           mol_smarts  \\\n",
       "191  <rdkit.Chem.rdchem.Mol object at 0x7f6f80cc6ea0>   \n",
       "192  <rdkit.Chem.rdchem.Mol object at 0x7f6f80cc6f80>   \n",
       "193  <rdkit.Chem.rdchem.Mol object at 0x7f6f80cc6e30>   \n",
       "194  <rdkit.Chem.rdchem.Mol object at 0x7f6f80cc6dc0>   \n",
       "195  <rdkit.Chem.rdchem.Mol object at 0x7f6f80cc6d50>   \n",
       "\n",
       "                                                  mol  \n",
       "191  <rdkit.Chem.rdchem.Mol object at 0x7f6f80bc6570>  \n",
       "192  <rdkit.Chem.rdchem.Mol object at 0x7f6f80bc5e70>  \n",
       "193  <rdkit.Chem.rdchem.Mol object at 0x7f6f80bc6340>  \n",
       "194  <rdkit.Chem.rdchem.Mol object at 0x7f6f80bc5cb0>  \n",
       "195  <rdkit.Chem.rdchem.Mol object at 0x7f6f80bc6810>  "
      ]
     },
     "execution_count": 10,
     "metadata": {},
     "output_type": "execute_result"
    }
   ],
   "source": [
    "group.data.head()"
   ]
  },
  {
   "cell_type": "markdown",
   "id": "47aa1cd0-735d-48f9-8ece-9041a52878f0",
   "metadata": {},
   "source": [
    "## Load groups from a hierarchy"
   ]
  },
  {
   "cell_type": "markdown",
   "id": "31dcf870-c79c-493a-8a33-31cb279fb0f4",
   "metadata": {},
   "source": [
    "Groups are organized as a hierarchy. It's possible to load many groups at once."
   ]
  },
  {
   "cell_type": "code",
   "execution_count": 11,
   "id": "b0bd1a1d-c8c6-4e50-9c18-8a3315b36809",
   "metadata": {},
   "outputs": [
    {
     "data": {
      "text/plain": [
       "['environment.emerging_perfluoroalkyls.emerging_perfluoroalkyls',\n",
       " 'materials.clay.montmorillonite_adsorption.montmorillonite_adsorption',\n",
       " 'materials.polymers.common_monomer_repeating_units.common_monomer_repeating_units',\n",
       " 'medicinal_chemistry.warheads.electrophillic_warheads_for_kinases.electrophilic_warheads_for_kinases',\n",
       " 'medicinal_chemistry.warheads.common_warheads_covalent_inhibitors.common_warhead_covalent_inhibitors',\n",
       " 'medicinal_chemistry.rings.rings_in_drugs.rings_in_drugs',\n",
       " 'medicinal_chemistry.rings.iupac_blue_book_rings.iupac_blue_book_rings',\n",
       " 'medicinal_chemistry.rings.phase_2_hetereocyclic_rings.phase_2_hetereocyclic_rings',\n",
       " 'medicinal_chemistry.scaffolds.privileged_scaffolds.privileged_scaffolds',\n",
       " 'medicinal_chemistry.scaffolds.iupac_blue_book_substituents.iupac_blue_book',\n",
       " 'medicinal_chemistry.scaffolds.common_r_group_replacements.common_rgroup_replacements',\n",
       " 'proteins.kinases.braf.inhibitors.braf_inhibitors',\n",
       " 'proteins.kinases.scaffolds.privileged_kinase_inhibtors.privileged_kinase_inhibitor_scaffolds',\n",
       " 'organic_synthesis.solvents.common_organic_solvents.common_organic_solvents',\n",
       " 'organic_synthesis.protecting_groups.amino_acid_protecting_groups.amino_acid_protecting_groups',\n",
       " 'narcotics.schedule_one.schedule_one',\n",
       " 'narcotics.schedule_two.schedule_two',\n",
       " 'narcotics.schedule_three.schedule_three',\n",
       " 'narcotics.schedule_four.schedule_four',\n",
       " 'narcotics.schedule_five.schedule_five']"
      ]
     },
     "execution_count": 11,
     "metadata": {},
     "output_type": "execute_result"
    }
   ],
   "source": [
    "medchem.groups.list_default_chemical_groups(hierarchy=True)[:20]"
   ]
  },
  {
   "cell_type": "markdown",
   "id": "592b2f69-7b70-47f9-841e-8c8cf8359937",
   "metadata": {},
   "source": [
    "For example you can load all the hinge binder groups with:"
   ]
  },
  {
   "cell_type": "code",
   "execution_count": 12,
   "id": "c247ad0a-fc75-4a14-9b1d-78f9c0ad9442",
   "metadata": {},
   "outputs": [
    {
     "data": {
      "text/plain": [
       "['medicinal_chemistry.chemotype.kinases.NAK.hinge_binders',\n",
       " 'medicinal_chemistry.chemotype.kinases.ABL.hinge_binders',\n",
       " 'medicinal_chemistry.chemotype.kinases.ACK.hinge_binders',\n",
       " 'medicinal_chemistry.chemotype.kinases.STKR.hinge_binders',\n",
       " 'medicinal_chemistry.chemotype.kinases.AKT.hinge_binders',\n",
       " 'medicinal_chemistry.chemotype.kinases.ALK.hinge_binders',\n",
       " 'medicinal_chemistry.chemotype.kinases.AUR.hinge_binders',\n",
       " 'medicinal_chemistry.chemotype.kinases.GRK.hinge_binders',\n",
       " 'medicinal_chemistry.chemotype.kinases.RAF.hinge_binders',\n",
       " 'medicinal_chemistry.chemotype.kinases.SRC.hinge_binders']"
      ]
     },
     "execution_count": 12,
     "metadata": {},
     "output_type": "execute_result"
    }
   ],
   "source": [
    "group = ChemicalGroup(\"hinge_binders*\")\n",
    "\n",
    "group.list_hierarchy_groups()[:10]"
   ]
  },
  {
   "cell_type": "markdown",
   "id": "f446e5b2",
   "metadata": {},
   "source": [
    "---\n",
    "\n",
    "-- The End :-)"
   ]
  }
 ],
 "metadata": {
  "kernelspec": {
   "display_name": "medchem",
   "language": "python",
   "name": "python3"
  },
  "language_info": {
   "codemirror_mode": {
    "name": "ipython",
    "version": 3
   },
   "file_extension": ".py",
   "mimetype": "text/x-python",
   "name": "python",
   "nbconvert_exporter": "python",
   "pygments_lexer": "ipython3",
   "version": "3.11.4"
  }
 },
 "nbformat": 4,
 "nbformat_minor": 5
}
