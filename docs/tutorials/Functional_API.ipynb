{
 "cells": [
  {
   "cell_type": "markdown",
   "id": "c0a162d5-5470-45b5-9427-b12097584e8c",
   "metadata": {},
   "source": [
    "# Functional API\n",
    "\n",
    "The functional API of `medchem` provides an easy and uniform way to access most the `medchem` alerts, filters and rules proposed in the other `medchem` module."
   ]
  },
  {
   "cell_type": "code",
   "execution_count": 1,
   "id": "cc35111a-d3a8-4313-962c-290bbf563f35",
   "metadata": {
    "tags": [
     "remove_cell"
    ]
   },
   "outputs": [],
   "source": [
    "%load_ext autoreload\n",
    "%autoreload 2"
   ]
  },
  {
   "cell_type": "code",
   "execution_count": null,
   "id": "0062aaad",
   "metadata": {},
   "outputs": [],
   "source": [
    "import datamol as dm\n",
    "import pandas as pd\n",
    "\n",
    "import medchem as mc"
   ]
  },
  {
   "cell_type": "markdown",
   "id": "5e8eba45",
   "metadata": {},
   "source": [
    "## Generic filters"
   ]
  },
  {
   "cell_type": "code",
   "execution_count": null,
   "id": "7a9bc4d9",
   "metadata": {},
   "outputs": [],
   "source": []
  },
  {
   "cell_type": "code",
   "execution_count": 2,
   "id": "ff59c5e3-ca9d-4ebc-ba34-b83e0b314d34",
   "metadata": {},
   "outputs": [
    {
     "data": {
      "text/plain": [
       "<function medchem.functional._api.alert_filter(mols: Sequence[Union[str, rdkit.Chem.rdchem.Mol]], alerts: List[str], alerts_db: Union[os.PathLike, str, NoneType] = None, n_jobs: Optional[int] = 1, progress: bool = False, return_idx: bool = False) -> numpy.ndarray>"
      ]
     },
     "execution_count": 2,
     "metadata": {},
     "output_type": "execute_result"
    }
   ],
   "source": [
    "mc.functional.alert_filter"
   ]
  },
  {
   "cell_type": "markdown",
   "id": "2b656900",
   "metadata": {},
   "source": [
    "## Medchem API"
   ]
  },
  {
   "cell_type": "code",
   "execution_count": 3,
   "id": "c654450f",
   "metadata": {},
   "outputs": [
    {
     "name": "stdout",
     "output_type": "stream",
     "text": [
      "dsds\n"
     ]
    }
   ],
   "source": [
    "print(\"dsds\")"
   ]
  },
  {
   "cell_type": "code",
   "execution_count": null,
   "id": "51768c29",
   "metadata": {},
   "outputs": [],
   "source": []
  }
 ],
 "metadata": {
  "kernelspec": {
   "display_name": "medchem",
   "language": "python",
   "name": "python3"
  },
  "language_info": {
   "codemirror_mode": {
    "name": "ipython",
    "version": 3
   },
   "file_extension": ".py",
   "mimetype": "text/x-python",
   "name": "python",
   "nbconvert_exporter": "python",
   "pygments_lexer": "ipython3",
   "version": "3.11.4"
  }
 },
 "nbformat": 4,
 "nbformat_minor": 5
}
