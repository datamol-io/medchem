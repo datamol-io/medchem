{
 "cells": [
  {
   "cell_type": "code",
   "execution_count": 1,
   "metadata": {},
   "outputs": [],
   "source": [
    "import datamol as dm\n",
    "\n",
    "import medchem"
   ]
  },
  {
   "cell_type": "code",
   "execution_count": 2,
   "metadata": {},
   "outputs": [
    {
     "data": {
      "text/html": [
       "<div>\n",
       "<style scoped>\n",
       "    .dataframe tbody tr th:only-of-type {\n",
       "        vertical-align: middle;\n",
       "    }\n",
       "\n",
       "    .dataframe tbody tr th {\n",
       "        vertical-align: top;\n",
       "    }\n",
       "\n",
       "    .dataframe thead th {\n",
       "        text-align: right;\n",
       "    }\n",
       "</style>\n",
       "<table border=\"1\" class=\"dataframe\">\n",
       "  <thead>\n",
       "    <tr style=\"text-align: right;\">\n",
       "      <th></th>\n",
       "      <th>iupac</th>\n",
       "      <th>smiles</th>\n",
       "      <th>expt</th>\n",
       "      <th>calc</th>\n",
       "    </tr>\n",
       "  </thead>\n",
       "  <tbody>\n",
       "    <tr>\n",
       "      <th>0</th>\n",
       "      <td>4-methoxy-N,N-dimethyl-benzamide</td>\n",
       "      <td>CN(C)C(=O)c1ccc(cc1)OC</td>\n",
       "      <td>-11.01</td>\n",
       "      <td>-9.625</td>\n",
       "    </tr>\n",
       "    <tr>\n",
       "      <th>1</th>\n",
       "      <td>methanesulfonyl chloride</td>\n",
       "      <td>CS(=O)(=O)Cl</td>\n",
       "      <td>-4.87</td>\n",
       "      <td>-6.219</td>\n",
       "    </tr>\n",
       "    <tr>\n",
       "      <th>2</th>\n",
       "      <td>3-methylbut-1-ene</td>\n",
       "      <td>CC(C)C=C</td>\n",
       "      <td>1.83</td>\n",
       "      <td>2.452</td>\n",
       "    </tr>\n",
       "    <tr>\n",
       "      <th>3</th>\n",
       "      <td>2-ethylpyrazine</td>\n",
       "      <td>CCc1cnccn1</td>\n",
       "      <td>-5.45</td>\n",
       "      <td>-5.809</td>\n",
       "    </tr>\n",
       "    <tr>\n",
       "      <th>4</th>\n",
       "      <td>heptan-1-ol</td>\n",
       "      <td>CCCCCCCO</td>\n",
       "      <td>-4.21</td>\n",
       "      <td>-2.917</td>\n",
       "    </tr>\n",
       "    <tr>\n",
       "      <th>...</th>\n",
       "      <td>...</td>\n",
       "      <td>...</td>\n",
       "      <td>...</td>\n",
       "      <td>...</td>\n",
       "    </tr>\n",
       "    <tr>\n",
       "      <th>637</th>\n",
       "      <td>methyl octanoate</td>\n",
       "      <td>CCCCCCCC(=O)OC</td>\n",
       "      <td>-2.04</td>\n",
       "      <td>-3.035</td>\n",
       "    </tr>\n",
       "    <tr>\n",
       "      <th>638</th>\n",
       "      <td>pyrrolidine</td>\n",
       "      <td>C1CCNC1</td>\n",
       "      <td>-5.48</td>\n",
       "      <td>-4.278</td>\n",
       "    </tr>\n",
       "    <tr>\n",
       "      <th>639</th>\n",
       "      <td>4-hydroxybenzaldehyde</td>\n",
       "      <td>c1cc(ccc1C=O)O</td>\n",
       "      <td>-8.83</td>\n",
       "      <td>-10.050</td>\n",
       "    </tr>\n",
       "    <tr>\n",
       "      <th>640</th>\n",
       "      <td>1-chloroheptane</td>\n",
       "      <td>CCCCCCCCl</td>\n",
       "      <td>0.29</td>\n",
       "      <td>1.467</td>\n",
       "    </tr>\n",
       "    <tr>\n",
       "      <th>641</th>\n",
       "      <td>1,4-dioxane</td>\n",
       "      <td>C1COCCO1</td>\n",
       "      <td>-5.06</td>\n",
       "      <td>-4.269</td>\n",
       "    </tr>\n",
       "  </tbody>\n",
       "</table>\n",
       "<p>642 rows × 4 columns</p>\n",
       "</div>"
      ],
      "text/plain": [
       "                                iupac                  smiles   expt    calc\n",
       "0    4-methoxy-N,N-dimethyl-benzamide  CN(C)C(=O)c1ccc(cc1)OC -11.01  -9.625\n",
       "1            methanesulfonyl chloride            CS(=O)(=O)Cl  -4.87  -6.219\n",
       "2                   3-methylbut-1-ene                CC(C)C=C   1.83   2.452\n",
       "3                     2-ethylpyrazine              CCc1cnccn1  -5.45  -5.809\n",
       "4                         heptan-1-ol                CCCCCCCO  -4.21  -2.917\n",
       "..                                ...                     ...    ...     ...\n",
       "637                  methyl octanoate          CCCCCCCC(=O)OC  -2.04  -3.035\n",
       "638                       pyrrolidine                 C1CCNC1  -5.48  -4.278\n",
       "639             4-hydroxybenzaldehyde          c1cc(ccc1C=O)O  -8.83 -10.050\n",
       "640                   1-chloroheptane               CCCCCCCCl   0.29   1.467\n",
       "641                       1,4-dioxane                C1COCCO1  -5.06  -4.269\n",
       "\n",
       "[642 rows x 4 columns]"
      ]
     },
     "execution_count": 2,
     "metadata": {},
     "output_type": "execute_result"
    }
   ],
   "source": [
    "data = dm.data.freesolv()\n",
    "data"
   ]
  },
  {
   "cell_type": "markdown",
   "metadata": {},
   "source": []
  }
 ],
 "metadata": {
  "kernelspec": {
   "display_name": "Python [conda env:medchem]",
   "language": "python",
   "name": "conda-env-medchem-py"
  },
  "language_info": {
   "codemirror_mode": {
    "name": "ipython",
    "version": 3
   },
   "file_extension": ".py",
   "mimetype": "text/x-python",
   "name": "python",
   "nbconvert_exporter": "python",
   "pygments_lexer": "ipython3",
   "version": "3.11.4"
  },
  "vscode": {
   "interpreter": {
    "hash": "52fab7ed47a09dd73497e852b91b984fcb2648f3487052ea0ac1ba8b0f42000e"
   }
  }
 },
 "nbformat": 4,
 "nbformat_minor": 4
}
