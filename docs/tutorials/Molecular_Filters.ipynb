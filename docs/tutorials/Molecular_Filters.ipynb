{
 "cells": [
  {
   "cell_type": "code",
   "execution_count": null,
   "id": "cc35111a-d3a8-4313-962c-290bbf563f35",
   "metadata": {},
   "outputs": [],
   "source": [
    "import datamol as dm\n",
    "import pandas as pd\n",
    "\n",
    "import medchem\n"
   ]
  },
  {
   "cell_type": "markdown",
   "id": "22726bd9-e8f5-4fec-a145-395c8d6261dd",
   "metadata": {},
   "source": [
    "## Generic Filters"
   ]
  },
  {
   "cell_type": "code",
   "execution_count": null,
   "id": "a0a34acc-405c-4546-80ff-d668d6c114ac",
   "metadata": {},
   "outputs": [],
   "source": []
  },
  {
   "cell_type": "markdown",
   "id": "a4d255bb-e3eb-42e1-9e50-c82dd7ee3624",
   "metadata": {},
   "source": [
    "## Rules"
   ]
  },
  {
   "cell_type": "code",
   "execution_count": null,
   "id": "b01dae00-c7e7-4320-8e57-fb745fead31e",
   "metadata": {},
   "outputs": [],
   "source": []
  },
  {
   "cell_type": "markdown",
   "id": "5ca249eb-8523-493b-a818-7a8fce6a671b",
   "metadata": {},
   "source": [
    "## Alerts"
   ]
  },
  {
   "cell_type": "code",
   "execution_count": null,
   "id": "4a08c8e1-1bc1-472d-a63c-a790b6e94785",
   "metadata": {},
   "outputs": [],
   "source": []
  },
  {
   "cell_type": "markdown",
   "id": "d4a95097-11c2-43f5-ab54-64612d7b6e58",
   "metadata": {},
   "source": [
    "# Demerits - Lilly"
   ]
  },
  {
   "cell_type": "code",
   "execution_count": null,
   "id": "629490f1-a327-41c7-931f-f8a76bca42d2",
   "metadata": {},
   "outputs": [],
   "source": []
  },
  {
   "cell_type": "markdown",
   "id": "b064c534-9c7d-4fa5-97e8-faa84d559225",
   "metadata": {},
   "source": [
    "---"
   ]
  },
  {
   "cell_type": "code",
   "execution_count": null,
   "id": "1e00d06b-320c-4e62-bebf-bc5730b427da",
   "metadata": {},
   "outputs": [],
   "source": [
    "# import datamol as dm\n",
    "# import numpy as np\n",
    "# from loguru import logger\n",
    "\n",
    "# data = dm.data.freesolv().sample(500)\n",
    "# smiles_list = data.smiles.values\n",
    "\n",
    "# from medchem.filter import lead\n",
    "# from medchem.demerits import score, batch_score\n",
    "# from medchem.alerts import NovartisFilters\n",
    "# from medchem.alerts import AlertFilters\n",
    "# from medchem.catalog import NamedCatalogs\n",
    "# from medchem.utils.loader import get_data_path\n",
    "# from rdkit.Chem import rdfiltercatalog\n",
    "\n",
    "# ### Using the filter module\n",
    "\n",
    "# The filter module provides a variety of two types of filters:\n",
    "# -  `generic`: custom filtering based on some given molecule properties such as number of atoms, presence of specific atom type, etc\n",
    "# -  `lead`: filtering based on structural motifs that are known to either be toxic, reactive, unstable or frequent false positive\n",
    "\n",
    "# # common filters including pains, brenk, nih, zinc\n",
    "# pains_a = rdfiltercatalog.FilterCatalogParams.FilterCatalogs.PAINS_A\n",
    "# lead.catalog_filter(smiles_list, [\"nih\", pains_a, NamedCatalogs.dundee()])\n",
    "\n",
    "# # filtering based on some commons alerts + additional lead like rules\n",
    "# lead.alert_filter(smiles_list, alerts=[\"Glaxo\", \"BMS\"], rule_dict=dict(MW=[0, 100]))\n",
    "\n",
    "# # filtering based on NIBR screening deck process described in\n",
    "# # \"Evolution of Novartis' small molecule screening deck design\" by Schuffenhauer, A. et al. J. Med. Chem. (2020),\n",
    "# # https://dx.doi.org/10.1021/acs.jmedchem.0c01332.\n",
    "# lead.screening_filter(smiles_list, return_idx=True)\n",
    "\n",
    "# # Filter based on the demerit scoring of Eli Lilly\n",
    "# test_config = {\n",
    "#     \"min_atoms\": 10, # default is 1\n",
    "#     \"soft_max_atoms\": 30, # default is 30\n",
    "#     \"hard_max_atoms\": 50, # default is 30\n",
    "#     \"nodemerit\": False, # default is False\n",
    "#     \"dthresh\": 160, # default is None with no threshold\n",
    "# }\n",
    "# lead.lilly_demerit_filter(smiles_list, max_demerits=160, return_idx=True, **test_config)\n",
    "\n",
    "# ### Advanced options\n",
    "\n",
    "# The advanced options allow a better control over the filtering process. They also provide more information on the issues with the molecules.\n",
    "\n",
    "# #### AlertFilters\n",
    "\n",
    "# These are the underlying filters called by `lead.alert_filter`. In the output, the compound status is indicated as either `\"Exclude\"` or `\"Ok\"`.\n",
    "\n",
    "# filter_obj = AlertFilters(alerts_set=[\"inpharmatica\", \"SureChEMBL\"])\n",
    "# filter_obj.list_default_available_alerts()\n",
    "\n",
    "# out = filter_obj(smiles_list)\n",
    "# out\n",
    "\n",
    "# #### NovartisFilter\n",
    "\n",
    "# These are the underlying filters called by `lead.screening_filter`. \n",
    "\n",
    "# Here is an explanation of the output:\n",
    "# - **status**: one of `[\"Exclude\", \"Flag\", \"Annotations\", \"Ok\"]` (ordered by quality). Generally, you can keep anything without the \"Exclude\" label, as long as you also apply a maximum severity score for compounds that collects too many flags.\n",
    "# - **covalent**: number of potentially covalent motifs contained in the compound\n",
    "# - **severity**: how severe are the issues with the molecules:\n",
    "#       - `0`: compound has no flags, might have annotations;\n",
    "#       - `1-9`:  number of flags the compound raises;\n",
    "#       - `>= 10`:  default exclusion criterion used in the paper\n",
    "# - **special_mol**: whether the compound/parts of the compound belongs to a special class of molecules (e.g peptides, glycosides, fatty acid). In that case, you should review the rejection reasons.\n",
    "\n",
    "# filter_obj = NovartisFilters()\n",
    "# out = filter_obj(smiles_list)\n",
    "# out\n",
    "\n",
    "# #### Demerits scoring\n",
    "\n",
    "# Demerit scoring uses the Eli Lilly filter rules. Those are complex rules, that can be customized in any way you wish. \n",
    "\n",
    "# The following \"information\" will be computed and added as columns to a DataFrame for each run:\n",
    "\n",
    "# - **status**: this was added for compatibility and has values `\"Exclude\"`, `\"Flag\"` or `\"Ok\"`.\n",
    "# - **rejected** : whether the molecule pass the filter or was rejected\n",
    "# - **reasons**: the reasons why the molecule was rejected if available\n",
    "# - **demerit_score** a demerit score for molecules. The lower the better. A cutoff is used to reject molecule with too many demerits, which you can refilter again after.\n",
    "# - **step**: step of the pipeline where molecule was filtered out, if available\n",
    "\n",
    "\n",
    "\n",
    "# out = score(smiles_list, **test_config)\n",
    "# out\n",
    "\n",
    "# # Although the demirits.score is already quite fast, you can also call the parallelized version of it using the `batch_score` function\n",
    "\n",
    "# out2 = batch_score(smiles_list, n_jobs=2,  batch_size=100,  progress=True, **test_config)\n",
    "# out2\n",
    "\n",
    "# ### PhysChem Rule application\n",
    "\n",
    "# You can also apply a set of physchem rules to a list of compounds\n",
    "\n",
    "# You can apply the basic rules independently\n",
    "\n",
    "# from medchem.rules.basic_rules import rule_of_five, rule_of_three, rule_of_leadlike_soft\n",
    "\n",
    "# print(\"RO5\", rule_of_five(mol))\n",
    "# print(\"RO3\", rule_of_three(mol))\n",
    "# print(\"ROLS\", rule_of_leadlike_soft(mol))\n",
    "\n",
    "# To list all available rules and what they are good for, use :\n",
    "\n",
    "# from medchem.rules import RuleFilters\n",
    "\n",
    "# RuleFilters.list_available_rules()\n",
    "\n",
    "# To list the available rules for small molecules only,  you can use the `list_available_rules(\"small molecule\")`\n",
    "\n",
    "# RuleFilters.list_available_rules(\"small molecule\")\n",
    "\n",
    "# You can also apply the rule filter to a batch of molecules.\n",
    "\n",
    "# rule_obj = RuleFilters(rule_list=[\"rule_of_five\", \"rule_of_oprea\", \"rule_of_cns\", \"rule_of_leadlike_soft\"], rule_list_names=[\"rule_of_five\", \"rule_of_oprea\", \"rule_of_cns\", \"rule_of_leadlike_soft\"], precompute_props=True)\n",
    "\n",
    "# out = rule_obj(smiles_list, n_jobs=-1, progress=True)\n",
    "# # you need to reset the columns because the input rule list can be columns\n",
    "# out"
   ]
  }
 ],
 "metadata": {
  "kernelspec": {
   "display_name": "Python [conda env:medchem]",
   "language": "python",
   "name": "conda-env-medchem-py"
  },
  "language_info": {
   "codemirror_mode": {
    "name": "ipython",
    "version": 3
   },
   "file_extension": ".py",
   "mimetype": "text/x-python",
   "name": "python",
   "nbconvert_exporter": "python",
   "pygments_lexer": "ipython3",
   "version": "3.11.4"
  }
 },
 "nbformat": 4,
 "nbformat_minor": 5
}
