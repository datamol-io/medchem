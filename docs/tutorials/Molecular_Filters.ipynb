{
 "cells": [
  {
   "cell_type": "code",
   "execution_count": null,
   "id": "cc35111a-d3a8-4313-962c-290bbf563f35",
   "metadata": {},
   "outputs": [],
   "source": [
    "import datamol as dm\n",
    "import pandas as pd\n",
    "\n",
    "import medchem\n"
   ]
  },
  {
   "cell_type": "markdown",
   "id": "22726bd9-e8f5-4fec-a145-395c8d6261dd",
   "metadata": {},
   "source": [
    "## Generic Filters"
   ]
  },
  {
   "cell_type": "code",
   "execution_count": null,
   "id": "a0a34acc-405c-4546-80ff-d668d6c114ac",
   "metadata": {},
   "outputs": [],
   "source": []
  },
  {
   "cell_type": "markdown",
   "id": "a4d255bb-e3eb-42e1-9e50-c82dd7ee3624",
   "metadata": {},
   "source": [
    "## Rules"
   ]
  },
  {
   "cell_type": "code",
   "execution_count": null,
   "id": "b01dae00-c7e7-4320-8e57-fb745fead31e",
   "metadata": {},
   "outputs": [],
   "source": []
  },
  {
   "cell_type": "markdown",
   "id": "5ca249eb-8523-493b-a818-7a8fce6a671b",
   "metadata": {},
   "source": [
    "## Alerts"
   ]
  },
  {
   "cell_type": "code",
   "execution_count": null,
   "id": "4a08c8e1-1bc1-472d-a63c-a790b6e94785",
   "metadata": {},
   "outputs": [],
   "source": []
  },
  {
   "cell_type": "markdown",
   "id": "d4a95097-11c2-43f5-ab54-64612d7b6e58",
   "metadata": {},
   "source": [
    "# Demerits - Lilly"
   ]
  },
  {
   "cell_type": "code",
   "execution_count": null,
   "id": "629490f1-a327-41c7-931f-f8a76bca42d2",
   "metadata": {},
   "outputs": [],
   "source": []
  }
 ],
 "metadata": {
  "kernelspec": {
   "display_name": "Python [conda env:medchem]",
   "language": "python",
   "name": "conda-env-medchem-py"
  },
  "language_info": {
   "codemirror_mode": {
    "name": "ipython",
    "version": 3
   },
   "file_extension": ".py",
   "mimetype": "text/x-python",
   "name": "python",
   "nbconvert_exporter": "python",
   "pygments_lexer": "ipython3",
   "version": "3.11.4"
  }
 },
 "nbformat": 4,
 "nbformat_minor": 5
}
