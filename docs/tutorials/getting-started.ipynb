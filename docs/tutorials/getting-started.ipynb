{
 "cells": [
  {
   "cell_type": "code",
   "execution_count": 1,
   "source": [
    "%load_ext autoreload\n",
    "%autoreload 2"
   ],
   "outputs": [],
   "metadata": {}
  },
  {
   "cell_type": "markdown",
   "source": [
    "## Medchem\n",
    "\n",
    "Medchem is a package for applying general filtering rules on a set of molecules to ensure they have drug-like properties.\n",
    "\n",
    "In this tutorial, we will apply various filtering on an example dataset to get highlight the package API\n",
    "\n",
    "### Setup"
   ],
   "metadata": {}
  },
  {
   "cell_type": "code",
   "execution_count": 11,
   "source": [
    "import datamol as dm\n",
    "import random\n",
    "import numpy as np\n",
    "from loguru import logger\n",
    "\n",
    "data = dm.data.freesolv().sample(100)\n",
    "smiles_list = data.smiles.values"
   ],
   "outputs": [],
   "metadata": {}
  },
  {
   "cell_type": "code",
   "execution_count": 12,
   "source": [
    "from medchem.filter import lead\n",
    "from medchem.demerits import score\n",
    "from medchem.novartis import NovartisFilters\n",
    "from medchem.alerts import AlertFilters"
   ],
   "outputs": [],
   "metadata": {}
  },
  {
   "cell_type": "markdown",
   "source": [
    "### Using the filter module\n",
    "\n",
    "The filter module provides a variety of two types of filters:\n",
    "-  `generic`: custom filtering based on some given molecule properties such as number of atoms, presence of specific atom type, etc\n",
    "-  `lead`: filtering based on structural motifs that are known to either be toxic, reactive, unstable or frequent false positive"
   ],
   "metadata": {}
  },
  {
   "cell_type": "code",
   "execution_count": 13,
   "source": [
    "# common filters including pains, brenk, nih, zinc\n",
    "lead.common_filter(smiles_list, brenk=True, nih=True)"
   ],
   "outputs": [
    {
     "output_type": "execute_result",
     "data": {
      "text/plain": [
       "array([ True, False, False, False, False, False, False, False, False,\n",
       "       False, False,  True,  True, False, False,  True, False,  True,\n",
       "       False, False,  True, False,  True, False, False,  True, False,\n",
       "       False, False,  True, False, False,  True,  True,  True,  True,\n",
       "        True,  True, False,  True, False,  True,  True, False, False,\n",
       "        True,  True, False,  True,  True, False, False, False,  True,\n",
       "        True, False, False,  True, False, False,  True, False,  True,\n",
       "        True,  True, False, False, False,  True,  True,  True,  True,\n",
       "       False, False,  True, False, False, False,  True, False, False,\n",
       "        True, False, False,  True,  True,  True, False, False, False,\n",
       "       False, False,  True,  True, False, False, False,  True, False,\n",
       "       False])"
      ]
     },
     "metadata": {},
     "execution_count": 13
    }
   ],
   "metadata": {}
  },
  {
   "cell_type": "code",
   "execution_count": 20,
   "source": [
    "# filtering based on some commons alerts + additional lead like rules\n",
    "lead.alert_filter(smiles_list, alerts=[\"Glaxo\", \"BMS\"], rule_dict=dict(MW=[0, 100]))"
   ],
   "outputs": [
    {
     "output_type": "execute_result",
     "data": {
      "text/plain": [
       "array([False, False, False, False, False, False, False, False, False,\n",
       "       False, False, False,  True,  True, False,  True, False, False,\n",
       "       False, False, False,  True, False, False, False, False, False,\n",
       "        True, False,  True, False, False, False,  True,  True, False,\n",
       "        True, False, False, False, False, False, False, False, False,\n",
       "       False,  True,  True,  True, False, False, False, False, False,\n",
       "        True, False, False, False, False, False, False, False, False,\n",
       "       False, False, False, False, False,  True, False,  True, False,\n",
       "       False, False,  True, False, False,  True,  True, False, False,\n",
       "       False, False, False, False, False,  True, False, False,  True,\n",
       "       False,  True,  True, False, False, False, False,  True, False,\n",
       "       False])"
      ]
     },
     "metadata": {},
     "execution_count": 20
    }
   ],
   "metadata": {}
  },
  {
   "cell_type": "code",
   "execution_count": 22,
   "source": [
    "# filtering based on NIBR screening deck process described in\n",
    "# \"Evolution of Novartis' small molecule screening deck design\" by Schuffenhauer, A. et al. J. Med. Chem. (2020), \n",
    "# https://dx.doi.org/10.1021/acs.jmedchem.0c01332. \n",
    "lead.screening_filter(smiles_list, return_idx=True)"
   ],
   "outputs": [
    {
     "output_type": "execute_result",
     "data": {
      "text/plain": [
       "array([ 0,  1,  2,  3,  4,  5,  6,  8,  9, 11, 12, 13, 15, 16, 17, 18, 19,\n",
       "       20, 21, 23, 24, 25, 26, 27, 28, 29, 30, 31, 32, 33, 34, 35, 36, 37,\n",
       "       38, 39, 41, 42, 43, 45, 46, 48, 49, 50, 51, 53, 54, 55, 57, 58, 60,\n",
       "       61, 62, 63, 64, 65, 67, 68, 69, 70, 71, 72, 73, 74, 75, 77, 78, 79,\n",
       "       80, 81, 85, 86, 87, 88, 89, 90, 91, 92, 93, 94, 95, 96, 97, 98, 99])"
      ]
     },
     "metadata": {},
     "execution_count": 22
    }
   ],
   "metadata": {}
  },
  {
   "cell_type": "code",
   "execution_count": 37,
   "source": [
    "# Filter based on the demerit scoring of Eli Lilly\n",
    "test_config = {\n",
    "    \"output\": \"test\",\n",
    "    \"min_atoms\": 10,\n",
    "    \"soft_max_atoms\": 30,\n",
    "    \"hard_max_atoms\": 50,\n",
    "    \"smarts\": [],\n",
    "    \"nodemerit\": False,\n",
    "    \"dthresh\": 160,\n",
    "    \"odm\": [],\n",
    "    \"okiso\": False,\n",
    "    \"noapdm\": False,\n",
    "}\n",
    "lead.demerit_filter(smiles_list, max_demerits=160, return_idx=True, **test_config)\n",
    "\n"
   ],
   "outputs": [
    {
     "output_type": "execute_result",
     "data": {
      "text/plain": [
       "array([20, 35, 60, 62, 64, 69, 73, 79, 81, 85, 88, 96, 98])"
      ]
     },
     "metadata": {},
     "execution_count": 37
    }
   ],
   "metadata": {}
  },
  {
   "cell_type": "markdown",
   "source": [
    "### Advanced options\n",
    "\n",
    "The advanced options allow a better control over the filtering process. They also provide more information on the issues with the molecules."
   ],
   "metadata": {}
  },
  {
   "cell_type": "markdown",
   "source": [
    "#### AlertFilter\n",
    "\n",
    "These are the underlying filters called by `lead.alert_filter`. In the output, the compound status is indicated as either `\"Exclude\"` or `\"Ok\"`."
   ],
   "metadata": {}
  },
  {
   "cell_type": "code",
   "execution_count": 41,
   "source": [
    "filter_obj = AlertFilters(alerts_set=[\"inpharmatica\", \"SureChEMBL\"])\n",
    "out = filter_obj(smiles_list)\n",
    "out"
   ],
   "outputs": [
    {
     "output_type": "execute_result",
     "data": {
      "text/plain": [
       "                             _smiles   status  \\\n",
       "0                         CCOC(=O)CC       Ok   \n",
       "1                            CCCCCCO       Ok   \n",
       "2                        CC(C)CCOC=O  Exclude   \n",
       "3                      COc1ccc(N)cc1  Exclude   \n",
       "4                   Clc1cccc(Cl)c1Cl       Ok   \n",
       "..                               ...      ...   \n",
       "95                     CCCCCc1ccccc1       Ok   \n",
       "96           FC(F)[C@@H](F)Oc1ccccc1       Ok   \n",
       "97                         CN1CCCCC1       Ok   \n",
       "98     COC(=O)c1ccc([N+](=O)[O-])cc1       Ok   \n",
       "99  CCOP(=S)(OCC)Oc1nc(Cl)c(Cl)cc1Cl  Exclude   \n",
       "\n",
       "                                              reasons       MW    LogP  HBD  \\\n",
       "0                                                None  102.133  0.9595    0   \n",
       "1                                                None  102.177  1.5590    1   \n",
       "2                  formate_formide; Filter38_aldehyde  116.160  1.2055    0   \n",
       "3                                             analine  123.155  1.2774    1   \n",
       "4                                                None  181.449  3.6468    0   \n",
       "..                                                ...      ...     ...  ...   \n",
       "95                                               None  148.249  3.4193    0   \n",
       "96                                               None  176.137  2.6261    0   \n",
       "97                                               None   99.177  1.1021    0   \n",
       "98                                               None  181.147  1.3814    0   \n",
       "99  Active_Phosphate; halo-pyridine,_-diazoles_and...  350.591  4.7181    0   \n",
       "\n",
       "    HBA   TPSA  \n",
       "0     2  26.30  \n",
       "1     1  20.23  \n",
       "2     2  26.30  \n",
       "3     2  35.25  \n",
       "4     0   0.00  \n",
       "..  ...    ...  \n",
       "95    0   0.00  \n",
       "96    1   9.23  \n",
       "97    1   3.24  \n",
       "98    4  69.44  \n",
       "99    5  40.58  \n",
       "\n",
       "[100 rows x 8 columns]"
      ],
      "text/html": [
       "<div>\n",
       "<style scoped>\n",
       "    .dataframe tbody tr th:only-of-type {\n",
       "        vertical-align: middle;\n",
       "    }\n",
       "\n",
       "    .dataframe tbody tr th {\n",
       "        vertical-align: top;\n",
       "    }\n",
       "\n",
       "    .dataframe thead th {\n",
       "        text-align: right;\n",
       "    }\n",
       "</style>\n",
       "<table border=\"1\" class=\"dataframe\">\n",
       "  <thead>\n",
       "    <tr style=\"text-align: right;\">\n",
       "      <th></th>\n",
       "      <th>_smiles</th>\n",
       "      <th>status</th>\n",
       "      <th>reasons</th>\n",
       "      <th>MW</th>\n",
       "      <th>LogP</th>\n",
       "      <th>HBD</th>\n",
       "      <th>HBA</th>\n",
       "      <th>TPSA</th>\n",
       "    </tr>\n",
       "  </thead>\n",
       "  <tbody>\n",
       "    <tr>\n",
       "      <th>0</th>\n",
       "      <td>CCOC(=O)CC</td>\n",
       "      <td>Ok</td>\n",
       "      <td>None</td>\n",
       "      <td>102.133</td>\n",
       "      <td>0.9595</td>\n",
       "      <td>0</td>\n",
       "      <td>2</td>\n",
       "      <td>26.30</td>\n",
       "    </tr>\n",
       "    <tr>\n",
       "      <th>1</th>\n",
       "      <td>CCCCCCO</td>\n",
       "      <td>Ok</td>\n",
       "      <td>None</td>\n",
       "      <td>102.177</td>\n",
       "      <td>1.5590</td>\n",
       "      <td>1</td>\n",
       "      <td>1</td>\n",
       "      <td>20.23</td>\n",
       "    </tr>\n",
       "    <tr>\n",
       "      <th>2</th>\n",
       "      <td>CC(C)CCOC=O</td>\n",
       "      <td>Exclude</td>\n",
       "      <td>formate_formide; Filter38_aldehyde</td>\n",
       "      <td>116.160</td>\n",
       "      <td>1.2055</td>\n",
       "      <td>0</td>\n",
       "      <td>2</td>\n",
       "      <td>26.30</td>\n",
       "    </tr>\n",
       "    <tr>\n",
       "      <th>3</th>\n",
       "      <td>COc1ccc(N)cc1</td>\n",
       "      <td>Exclude</td>\n",
       "      <td>analine</td>\n",
       "      <td>123.155</td>\n",
       "      <td>1.2774</td>\n",
       "      <td>1</td>\n",
       "      <td>2</td>\n",
       "      <td>35.25</td>\n",
       "    </tr>\n",
       "    <tr>\n",
       "      <th>4</th>\n",
       "      <td>Clc1cccc(Cl)c1Cl</td>\n",
       "      <td>Ok</td>\n",
       "      <td>None</td>\n",
       "      <td>181.449</td>\n",
       "      <td>3.6468</td>\n",
       "      <td>0</td>\n",
       "      <td>0</td>\n",
       "      <td>0.00</td>\n",
       "    </tr>\n",
       "    <tr>\n",
       "      <th>...</th>\n",
       "      <td>...</td>\n",
       "      <td>...</td>\n",
       "      <td>...</td>\n",
       "      <td>...</td>\n",
       "      <td>...</td>\n",
       "      <td>...</td>\n",
       "      <td>...</td>\n",
       "      <td>...</td>\n",
       "    </tr>\n",
       "    <tr>\n",
       "      <th>95</th>\n",
       "      <td>CCCCCc1ccccc1</td>\n",
       "      <td>Ok</td>\n",
       "      <td>None</td>\n",
       "      <td>148.249</td>\n",
       "      <td>3.4193</td>\n",
       "      <td>0</td>\n",
       "      <td>0</td>\n",
       "      <td>0.00</td>\n",
       "    </tr>\n",
       "    <tr>\n",
       "      <th>96</th>\n",
       "      <td>FC(F)[C@@H](F)Oc1ccccc1</td>\n",
       "      <td>Ok</td>\n",
       "      <td>None</td>\n",
       "      <td>176.137</td>\n",
       "      <td>2.6261</td>\n",
       "      <td>0</td>\n",
       "      <td>1</td>\n",
       "      <td>9.23</td>\n",
       "    </tr>\n",
       "    <tr>\n",
       "      <th>97</th>\n",
       "      <td>CN1CCCCC1</td>\n",
       "      <td>Ok</td>\n",
       "      <td>None</td>\n",
       "      <td>99.177</td>\n",
       "      <td>1.1021</td>\n",
       "      <td>0</td>\n",
       "      <td>1</td>\n",
       "      <td>3.24</td>\n",
       "    </tr>\n",
       "    <tr>\n",
       "      <th>98</th>\n",
       "      <td>COC(=O)c1ccc([N+](=O)[O-])cc1</td>\n",
       "      <td>Ok</td>\n",
       "      <td>None</td>\n",
       "      <td>181.147</td>\n",
       "      <td>1.3814</td>\n",
       "      <td>0</td>\n",
       "      <td>4</td>\n",
       "      <td>69.44</td>\n",
       "    </tr>\n",
       "    <tr>\n",
       "      <th>99</th>\n",
       "      <td>CCOP(=S)(OCC)Oc1nc(Cl)c(Cl)cc1Cl</td>\n",
       "      <td>Exclude</td>\n",
       "      <td>Active_Phosphate; halo-pyridine,_-diazoles_and...</td>\n",
       "      <td>350.591</td>\n",
       "      <td>4.7181</td>\n",
       "      <td>0</td>\n",
       "      <td>5</td>\n",
       "      <td>40.58</td>\n",
       "    </tr>\n",
       "  </tbody>\n",
       "</table>\n",
       "<p>100 rows × 8 columns</p>\n",
       "</div>"
      ]
     },
     "metadata": {},
     "execution_count": 41
    }
   ],
   "metadata": {}
  },
  {
   "cell_type": "markdown",
   "source": [
    "#### NovartisFilter\n",
    "\n",
    "These are the underlying filters called by `lead.screening_filter`. \n",
    "\n",
    "Here is an explanation of the output:\n",
    "- **status**: one of `[\"Exclude\", \"Flag\", \"Annotations\", \"Ok\"]` (ordered by quality). Generally, you can keep anything without the \"Exclude\" label, as long as you also apply a maximum severity score for compounds that collects too many flags.\n",
    "- **covalent**: number of potentially covalent motifs contained in the compound\n",
    "- **severity**: how severe are the issues with the molecules:\n",
    "      - `0`: compound has no flags, might have annotations;\n",
    "      - `1-9`:  number of flags the compound raises;\n",
    "      - `>= 10`:  default exclusion criterion used in the paper\n",
    "- **special_mol**: whether the compound/parts of the compound belongs to a special class of molecules (e.g peptides, glycosides, fatty acid). In that case, you should review the rejection reasons."
   ],
   "metadata": {}
  },
  {
   "cell_type": "code",
   "execution_count": 43,
   "source": [
    "filter_obj = NovartisFilters()\n",
    "out = filter_obj(smiles_list)\n",
    "out"
   ],
   "outputs": [
    {
     "output_type": "execute_result",
     "data": {
      "text/plain": [
       "                             _smiles       status  \\\n",
       "0                         CCOC(=O)CC           Ok   \n",
       "1                            CCCCCCO           Ok   \n",
       "2                        CC(C)CCOC=O           Ok   \n",
       "3                      COc1ccc(N)cc1         Flag   \n",
       "4                   Clc1cccc(Cl)c1Cl         Flag   \n",
       "..                               ...          ...   \n",
       "95                     CCCCCc1ccccc1           Ok   \n",
       "96           FC(F)[C@@H](F)Oc1ccccc1  Annotations   \n",
       "97                         CN1CCCCC1           Ok   \n",
       "98     COC(=O)c1ccc([N+](=O)[O-])cc1  Annotations   \n",
       "99  CCOP(=S)(OCC)Oc1nc(Cl)c(Cl)cc1Cl         Flag   \n",
       "\n",
       "                                              reasons  severity  covalent  \\\n",
       "0                                                None         0       NaN   \n",
       "1                                                None         0       NaN   \n",
       "2                                                None         0       NaN   \n",
       "3                             aniline_no_alkyl_min(1)         1       0.0   \n",
       "4   halogen_aromatic_count_3_min(3); polyhalogenat...         1       0.0   \n",
       "..                                                ...       ...       ...   \n",
       "95                                               None         0       NaN   \n",
       "96                       alpha_halo_heteroatom_min(1)         0       0.0   \n",
       "97                                               None         0       NaN   \n",
       "98                               nitro_count_1_min(1)         0       0.0   \n",
       "99  halogen_aromatic_count_3_min(3); PO3 _groups_m...         1       0.0   \n",
       "\n",
       "    special_mol  \n",
       "0           NaN  \n",
       "1           NaN  \n",
       "2           NaN  \n",
       "3           0.0  \n",
       "4           0.0  \n",
       "..          ...  \n",
       "95          NaN  \n",
       "96          0.0  \n",
       "97          NaN  \n",
       "98          0.0  \n",
       "99          0.0  \n",
       "\n",
       "[100 rows x 6 columns]"
      ],
      "text/html": [
       "<div>\n",
       "<style scoped>\n",
       "    .dataframe tbody tr th:only-of-type {\n",
       "        vertical-align: middle;\n",
       "    }\n",
       "\n",
       "    .dataframe tbody tr th {\n",
       "        vertical-align: top;\n",
       "    }\n",
       "\n",
       "    .dataframe thead th {\n",
       "        text-align: right;\n",
       "    }\n",
       "</style>\n",
       "<table border=\"1\" class=\"dataframe\">\n",
       "  <thead>\n",
       "    <tr style=\"text-align: right;\">\n",
       "      <th></th>\n",
       "      <th>_smiles</th>\n",
       "      <th>status</th>\n",
       "      <th>reasons</th>\n",
       "      <th>severity</th>\n",
       "      <th>covalent</th>\n",
       "      <th>special_mol</th>\n",
       "    </tr>\n",
       "  </thead>\n",
       "  <tbody>\n",
       "    <tr>\n",
       "      <th>0</th>\n",
       "      <td>CCOC(=O)CC</td>\n",
       "      <td>Ok</td>\n",
       "      <td>None</td>\n",
       "      <td>0</td>\n",
       "      <td>NaN</td>\n",
       "      <td>NaN</td>\n",
       "    </tr>\n",
       "    <tr>\n",
       "      <th>1</th>\n",
       "      <td>CCCCCCO</td>\n",
       "      <td>Ok</td>\n",
       "      <td>None</td>\n",
       "      <td>0</td>\n",
       "      <td>NaN</td>\n",
       "      <td>NaN</td>\n",
       "    </tr>\n",
       "    <tr>\n",
       "      <th>2</th>\n",
       "      <td>CC(C)CCOC=O</td>\n",
       "      <td>Ok</td>\n",
       "      <td>None</td>\n",
       "      <td>0</td>\n",
       "      <td>NaN</td>\n",
       "      <td>NaN</td>\n",
       "    </tr>\n",
       "    <tr>\n",
       "      <th>3</th>\n",
       "      <td>COc1ccc(N)cc1</td>\n",
       "      <td>Flag</td>\n",
       "      <td>aniline_no_alkyl_min(1)</td>\n",
       "      <td>1</td>\n",
       "      <td>0.0</td>\n",
       "      <td>0.0</td>\n",
       "    </tr>\n",
       "    <tr>\n",
       "      <th>4</th>\n",
       "      <td>Clc1cccc(Cl)c1Cl</td>\n",
       "      <td>Flag</td>\n",
       "      <td>halogen_aromatic_count_3_min(3); polyhalogenat...</td>\n",
       "      <td>1</td>\n",
       "      <td>0.0</td>\n",
       "      <td>0.0</td>\n",
       "    </tr>\n",
       "    <tr>\n",
       "      <th>...</th>\n",
       "      <td>...</td>\n",
       "      <td>...</td>\n",
       "      <td>...</td>\n",
       "      <td>...</td>\n",
       "      <td>...</td>\n",
       "      <td>...</td>\n",
       "    </tr>\n",
       "    <tr>\n",
       "      <th>95</th>\n",
       "      <td>CCCCCc1ccccc1</td>\n",
       "      <td>Ok</td>\n",
       "      <td>None</td>\n",
       "      <td>0</td>\n",
       "      <td>NaN</td>\n",
       "      <td>NaN</td>\n",
       "    </tr>\n",
       "    <tr>\n",
       "      <th>96</th>\n",
       "      <td>FC(F)[C@@H](F)Oc1ccccc1</td>\n",
       "      <td>Annotations</td>\n",
       "      <td>alpha_halo_heteroatom_min(1)</td>\n",
       "      <td>0</td>\n",
       "      <td>0.0</td>\n",
       "      <td>0.0</td>\n",
       "    </tr>\n",
       "    <tr>\n",
       "      <th>97</th>\n",
       "      <td>CN1CCCCC1</td>\n",
       "      <td>Ok</td>\n",
       "      <td>None</td>\n",
       "      <td>0</td>\n",
       "      <td>NaN</td>\n",
       "      <td>NaN</td>\n",
       "    </tr>\n",
       "    <tr>\n",
       "      <th>98</th>\n",
       "      <td>COC(=O)c1ccc([N+](=O)[O-])cc1</td>\n",
       "      <td>Annotations</td>\n",
       "      <td>nitro_count_1_min(1)</td>\n",
       "      <td>0</td>\n",
       "      <td>0.0</td>\n",
       "      <td>0.0</td>\n",
       "    </tr>\n",
       "    <tr>\n",
       "      <th>99</th>\n",
       "      <td>CCOP(=S)(OCC)Oc1nc(Cl)c(Cl)cc1Cl</td>\n",
       "      <td>Flag</td>\n",
       "      <td>halogen_aromatic_count_3_min(3); PO3 _groups_m...</td>\n",
       "      <td>1</td>\n",
       "      <td>0.0</td>\n",
       "      <td>0.0</td>\n",
       "    </tr>\n",
       "  </tbody>\n",
       "</table>\n",
       "<p>100 rows × 6 columns</p>\n",
       "</div>"
      ]
     },
     "metadata": {},
     "execution_count": 43
    }
   ],
   "metadata": {}
  },
  {
   "cell_type": "markdown",
   "source": [
    "#### Demerits scoring\n",
    "\n",
    "Demerit scoring uses the Eli Lilly filter rules. Those are complex rules, that can be customized in any way you wish. \n",
    "\n",
    "The following \"information\" will be computed and added as columns to a DataFrame for each run:\n",
    "\n",
    "- **status**: this was added for compatibility and has values `\"Exclude\"`, `\"Flag\"` or `\"Ok\"` based on whether the molecules should be rejected or not.\n",
    "- **rejected** : whether the molecule pass the filter or was rejected\n",
    "- **reasons**: the reasons why the molecule was rejected if available\n",
    "- **demerit_score** a demerit score for molecules. The lower the better. A cutoff (parameter) is used to reject molecule with too many demerits\n",
    "- **step**: step of the pipeline where molecule was filtered out, if available\n",
    "\n"
   ],
   "metadata": {}
  },
  {
   "cell_type": "code",
   "execution_count": null,
   "source": [],
   "outputs": [],
   "metadata": {}
  },
  {
   "cell_type": "code",
   "execution_count": 3,
   "source": [
    "from molfeat.calc import RDKitDescriptors2D\n",
    "\n",
    "calc = RDKitDescriptors2D()\n",
    "calc(mol2d)"
   ],
   "outputs": [
    {
     "output_type": "stream",
     "name": "stderr",
     "text": [
      "Using backend: pytorch\n"
     ]
    },
    {
     "output_type": "execute_result",
     "data": {
      "text/plain": [
       "array([ 6.82415895, -1.37469136,  6.82415895, ...,  0.        ,\n",
       "        0.        ,  3.        ])"
      ]
     },
     "metadata": {},
     "execution_count": 3
    }
   ],
   "metadata": {}
  },
  {
   "cell_type": "markdown",
   "source": [
    "### Using the trans module\n",
    "\n",
    "Almost all transformers in `molfeat` are subclass of `MoleculeTransformer` which in turns implements `BaseFeaturizer` interface.  The base interface and transformer classes ensure some compatibility with the `scikit-learn` estimators as well as implementing commons features such as `__len__` and `collate_fn`. \n",
    "\n",
    "\n",
    "\n",
    "`MoleculeTransformer` accepts as input a callable that represents the featurizer which would be applied on each indiviual molecule. It can compute features under a parallelization mode and can handle datatype conversion. The class also offers too endpoints for featurizing a set of molecules ( `transform` and  `__call__`). The advantage of using `__call__` is the return of both the featurized vector and the ids where featurization was successful.\n",
    "\n",
    "\n",
    "Note however that placing torch tensor to the GPU is not handled forcing users to appropriately optimize their code."
   ],
   "metadata": {}
  },
  {
   "cell_type": "code",
   "execution_count": 4,
   "source": [
    "import torch\n",
    "from molfeat.trans.fp import MoleculeTransformer"
   ],
   "outputs": [],
   "metadata": {}
  },
  {
   "cell_type": "markdown",
   "source": [
    "#### Checking the effect of parallelization"
   ],
   "metadata": {}
  },
  {
   "cell_type": "code",
   "execution_count": 6,
   "source": [
    "%%timeit \n",
    "## Using the transformer with an input featurizer\n",
    "\n",
    "trans = MoleculeTransformer(calc, n_jobs=4, verbose=True, dtype=torch.float)\n",
    "X = trans(data, enforce_dtype=True)"
   ],
   "outputs": [
    {
     "output_type": "stream",
     "name": "stdout",
     "text": [
      "1.36 s ± 152 ms per loop (mean ± std. dev. of 7 runs, 1 loop each)\n"
     ]
    }
   ],
   "metadata": {}
  },
  {
   "cell_type": "code",
   "execution_count": 7,
   "source": [
    "%%timeit \n",
    "## Using the transformer with an input featurizer\n",
    "\n",
    "trans = MoleculeTransformer(calc, n_jobs=1, verbose=True, dtype=torch.float)\n",
    "X = trans(data, enforce_dtype=True)"
   ],
   "outputs": [
    {
     "output_type": "stream",
     "name": "stdout",
     "text": [
      "3.96 s ± 459 ms per loop (mean ± std. dev. of 7 runs, 1 loop each)\n"
     ]
    }
   ],
   "metadata": {}
  },
  {
   "cell_type": "code",
   "execution_count": 9,
   "source": [
    "# pretty printing of the transformer\n",
    "trans = MoleculeTransformer(calc, n_jobs=1, verbose=True, dtype=torch.float)\n",
    "\n",
    "print(trans)"
   ],
   "outputs": [
    {
     "output_type": "stream",
     "name": "stdout",
     "text": [
      "MoleculeTransformer(dtype=torch.float32,\n",
      "                    featurizer=<molfeat.calc.descriptors.RDKitDescriptors2D object at 0x7ff671945a50>)\n"
     ]
    }
   ],
   "metadata": {}
  },
  {
   "cell_type": "markdown",
   "source": [
    "#### Providing a custom featurizer"
   ],
   "metadata": {}
  },
  {
   "cell_type": "code",
   "execution_count": 10,
   "source": [
    "from rdkit.Chem.rdMolDescriptors import CalcNumHeteroatoms\n",
    "def custom_featurizer(mol):\n",
    "    \"\"\"My custom featurizer\"\"\"\n",
    "    mol = dm.to_mol(mol)\n",
    "    return [mol.GetNumAtoms(), mol.GetNumBonds(), CalcNumHeteroatoms(mol), random.random()]"
   ],
   "outputs": [],
   "metadata": {}
  },
  {
   "cell_type": "code",
   "execution_count": 11,
   "source": [
    "trans = MoleculeTransformer(custom_featurizer, n_jobs=0, verbose=True, dtype=float)\n",
    "trans.transform(data[:10], ignore_errors=False)"
   ],
   "outputs": [
    {
     "output_type": "execute_result",
     "data": {
      "text/plain": [
       "[array([8.        , 7.        , 1.        , 0.17467059]),\n",
       " array([9.        , 9.        , 3.        , 0.30310511]),\n",
       " array([6.        , 5.        , 0.        , 0.36258741]),\n",
       " array([9.        , 8.        , 2.        , 0.45692842]),\n",
       " array([8.        , 8.        , 1.        , 0.86004914]),\n",
       " array([10.        , 11.        ,  1.        ,  0.23938029]),\n",
       " array([7.        , 7.        , 2.        , 0.43964778]),\n",
       " array([12.        , 12.        ,  8.        ,  0.37524299]),\n",
       " array([5.        , 4.        , 1.        , 0.58293156]),\n",
       " array([6.        , 5.        , 1.        , 0.23565393])]"
      ]
     },
     "metadata": {},
     "execution_count": 11
    }
   ],
   "metadata": {}
  },
  {
   "cell_type": "markdown",
   "source": [
    "#### Providing a name for a common featurizer"
   ],
   "metadata": {}
  },
  {
   "cell_type": "code",
   "execution_count": 12,
   "source": [
    "trans = MoleculeTransformer(\"ecfp\", n_jobs=0, verbose=True, dtype=float, length=32)\n",
    "trans(data[:10], ignore_errors=False, enforce_dtype=True)"
   ],
   "outputs": [
    {
     "output_type": "execute_result",
     "data": {
      "text/plain": [
       "array([[0., 1., 0., ..., 1., 1., 0.],\n",
       "       [0., 0., 0., ..., 0., 0., 0.],\n",
       "       [0., 1., 0., ..., 0., 0., 1.],\n",
       "       ...,\n",
       "       [1., 0., 0., ..., 0., 0., 0.],\n",
       "       [0., 1., 0., ..., 0., 0., 0.],\n",
       "       [0., 1., 1., ..., 1., 0., 0.]])"
      ]
     },
     "metadata": {},
     "execution_count": 12
    }
   ],
   "metadata": {}
  },
  {
   "cell_type": "markdown",
   "source": [
    "#### Fitting a transformer on a dataset to remove columns with nan values.\n",
    "\n",
    "If you want to keep such columns or perform your own imputation, you should handle that at internal featurizer, or just not call `fit`"
   ],
   "metadata": {}
  },
  {
   "cell_type": "code",
   "execution_count": 17,
   "source": [
    "from molfeat.calc import MordredDescriptors\n",
    "\n",
    "# 2D mordred descriptors\n",
    "desc = MordredDescriptors(replace_nan=False, ignore_3D=True)\n",
    "trans = MoleculeTransformer(desc, verbose=True, dtype=float, length=32)\n",
    "# has nan\n",
    "X = trans(data[:10], ignore_errors=False, enforce_dtype=True)\n",
    "print(\"Num Columns before fitting:\", len(trans.columns), \"\\nNum of nan before fitting:\", np.isnan(X).sum(), \"\\n-------\")\n",
    "# fitting\n",
    "trans.fit(data)\n",
    "X = trans(data[:10], ignore_errors=False, enforce_dtype=True)\n",
    "print(\"Num Columns after fitting:\", len(trans.columns), \"\\nNum of nan after fitting:\", np.isnan(X).sum(), \"\\n-------\")"
   ],
   "outputs": [
    {
     "output_type": "stream",
     "name": "stdout",
     "text": [
      "Num Columns before fitting: 1613 \n",
      "Num of nan before fitting: 2774 \n",
      "-------\n",
      "Num Columns after fitting: 1066 \n",
      "Num of nan after fitting: 0 \n",
      "-------\n"
     ]
    }
   ],
   "metadata": {}
  },
  {
   "cell_type": "markdown",
   "source": [
    "### Training a scikit-learning pipeline to predict solubility"
   ],
   "metadata": {}
  },
  {
   "cell_type": "code",
   "execution_count": 18,
   "source": [
    "from sklearn.ensemble import RandomForestRegressor\n",
    "from sklearn.preprocessing import StandardScaler\n",
    "from sklearn.model_selection import train_test_split\n",
    "from sklearn.pipeline import Pipeline"
   ],
   "outputs": [],
   "metadata": {}
  },
  {
   "cell_type": "code",
   "execution_count": 19,
   "source": [
    "df = dm.data.freesolv()\n",
    "X, y = df[\"smiles\"], df[\"expt\"]\n",
    "X_train, X_test, y_train, y_test = train_test_split(X, y, random_state=0)\n",
    "\n",
    "feat = MoleculeTransformer(\"desc2d\")\n",
    "pipe = Pipeline([('feat', feat), ('scaler', StandardScaler()), ('rf', RandomForestRegressor())])\n",
    "pipe.fit(X_train, y_train)"
   ],
   "outputs": [
    {
     "output_type": "execute_result",
     "data": {
      "text/plain": [
       "Pipeline(steps=[('feat',\n",
       "                 MoleculeTransformer(featurizer=<molfeat.calc.descriptors.RDKitDescriptors2D object at 0x7ff630220510>)),\n",
       "                ('scaler', StandardScaler()), ('rf', RandomForestRegressor())])"
      ]
     },
     "metadata": {},
     "execution_count": 19
    }
   ],
   "metadata": {}
  },
  {
   "cell_type": "code",
   "execution_count": 20,
   "source": [
    "pipe.score(X_test, y_test)"
   ],
   "outputs": [
    {
     "output_type": "execute_result",
     "data": {
      "text/plain": [
       "0.9020583487672389"
      ]
     },
     "metadata": {},
     "execution_count": 20
    }
   ],
   "metadata": {}
  },
  {
   "cell_type": "code",
   "execution_count": 21,
   "source": [
    "import seaborn as sns\n",
    "ypred = pipe.predict(X)\n",
    "df[\"rf_pred\"] = ypred\n",
    "\n",
    "sns.regplot(\"expt\", \"rf_pred\", data=df)"
   ],
   "outputs": [
    {
     "output_type": "stream",
     "name": "stderr",
     "text": [
      "/Users/manu/.miniconda/envs/molfeat/lib/python3.7/site-packages/seaborn/_decorators.py:43: FutureWarning: Pass the following variables as keyword args: x, y. From version 0.12, the only valid positional argument will be `data`, and passing other arguments without an explicit keyword will result in an error or misinterpretation.\n",
      "  FutureWarning\n"
     ]
    },
    {
     "output_type": "execute_result",
     "data": {
      "text/plain": [
       "<AxesSubplot:xlabel='expt', ylabel='rf_pred'>"
      ]
     },
     "metadata": {},
     "execution_count": 21
    },
    {
     "output_type": "display_data",
     "data": {
      "text/plain": [
       "<Figure size 432x288 with 1 Axes>"
      ],
      "image/png": "[encoded data removed]",
      "image/svg+xml": "<?xml version=\"1.0\" encoding=\"utf-8\" standalone=\"no\"?>\n<!DOCTYPE svg PUBLIC \"-//W3C//DTD SVG 1.1//EN\"\n  \"http://www.w3.org/Graphics/SVG/1.1/DTD/svg11.dtd\">\n<svg height=\"262.19625pt\" version=\"1.1\" viewBox=\"0 0 391.260938 262.19625\" width=\"391.260938pt\" xmlns=\"http://www.w3.org/2000/svg\" xmlns:xlink=\"http://www.w3.org/1999/xlink\">\n <metadata>\n  <rdf:RDF xmlns:cc=\"http://creativecommons.org/ns#\" xmlns:dc=\"http://purl.org/dc/elements/1.1/\" xmlns:rdf=\"http://www.w3.org/1999/02/22-rdf-syntax-ns#\">\n   <cc:Work>\n    <dc:type rdf:resource=\"http://purl.org/dc/dcmitype/StillImage\"/>\n    <dc:date>2021-07-16T17:28:55.253068</dc:date>\n    <dc:format>image/svg+xml</dc:format>\n    <dc:creator>\n     <cc:Agent>\n      <dc:title>Matplotlib v3.4.2, https://matplotlib.org/</dc:title>\n     </cc:Agent>\n    </dc:creator>\n   </cc:Work>\n  </rdf:RDF>\n </metadata>\n <defs>\n  <style type=\"text/css\">*{stroke-linecap:butt;stroke-linejoin:round;}</style>\n </defs>\n <g id=\"figure_1\">\n  <g id=\"patch_1\">\n   <path d=\"M 0 262.19625 \nL 391.260938 262.19625 \nL 391.260938 0 \nL 0 0 \nz\n\" style=\"fill:none;\"/>\n  </g>\n  <g id=\"axes_1\">\n   <g id=\"patch_2\">\n    <path d=\"M 49.260938 224.64 \nL 384.060938 224.64 \nL 384.060938 7.2 \nL 49.260938 7.2 \nz\n\" style=\"fill:#ffffff;\"/>\n   </g>\n   <g id=\"PathCollection_1\">\n    <defs>\n     <path d=\"M 0 3 \nC 0.795609 3 1.55874 2.683901 2.12132 2.12132 \nC 2.683901 1.55874 3 0.795609 3 0 \nC 3 -0.795609 2.683901 -1.55874 2.12132 -2.12132 \nC 1.55874 -2.683901 0.795609 -3 0 -3 \nC -0.795609 -3 -1.55874 -2.683901 -2.12132 -2.12132 \nC -2.683901 -1.55874 -3 -0.795609 -3 0 \nC -3 0.795609 -2.683901 1.55874 -2.12132 2.12132 \nC -1.55874 2.683901 -0.795609 3 0 3 \nz\n\" id=\"m486497584b\" style=\"stroke:#1f77b4;stroke-opacity:0.8;\"/>\n    </defs>\n    <g clip-path=\"url(#p9fae157661)\">\n     <use style=\"fill:#1f77b4;fill-opacity:0.8;stroke:#1f77b4;stroke-opacity:0.8;\" x=\"216.776785\" xlink:href=\"#m486497584b\" y=\"111.164699\"/>\n     <use style=\"fill:#1f77b4;fill-opacity:0.8;stroke:#1f77b4;stroke-opacity:0.8;\" x=\"287.907304\" xlink:href=\"#m486497584b\" y=\"91.485028\"/>\n     <use style=\"fill:#1f77b4;fill-opacity:0.8;stroke:#1f77b4;stroke-opacity:0.8;\" x=\"365.525297\" xlink:href=\"#m486497584b\" y=\"30.399552\"/>\n     <use style=\"fill:#1f77b4;fill-opacity:0.8;stroke:#1f77b4;stroke-opacity:0.8;\" x=\"281.188135\" xlink:href=\"#m486497584b\" y=\"77.791263\"/>\n     <use style=\"fill:#1f77b4;fill-opacity:0.8;stroke:#1f77b4;stroke-opacity:0.8;\" x=\"295.553256\" xlink:href=\"#m486497584b\" y=\"69.685075\"/>\n     <use style=\"fill:#1f77b4;fill-opacity:0.8;stroke:#1f77b4;stroke-opacity:0.8;\" x=\"271.688619\" xlink:href=\"#m486497584b\" y=\"84.089255\"/>\n     <use style=\"fill:#1f77b4;fill-opacity:0.8;stroke:#1f77b4;stroke-opacity:0.8;\" x=\"371.433533\" xlink:href=\"#m486497584b\" y=\"20.824295\"/>\n     <use style=\"fill:#1f77b4;fill-opacity:0.8;stroke:#1f77b4;stroke-opacity:0.8;\" x=\"298.912841\" xlink:href=\"#m486497584b\" y=\"68.495202\"/>\n     <use style=\"fill:#1f77b4;fill-opacity:0.8;stroke:#1f77b4;stroke-opacity:0.8;\" x=\"362.629104\" xlink:href=\"#m486497584b\" y=\"21.45139\"/>\n     <use style=\"fill:#1f77b4;fill-opacity:0.8;stroke:#1f77b4;stroke-opacity:0.8;\" x=\"290.803498\" xlink:href=\"#m486497584b\" y=\"72.474112\"/>\n     <use style=\"fill:#1f77b4;fill-opacity:0.8;stroke:#1f77b4;stroke-opacity:0.8;\" x=\"321.619\" xlink:href=\"#m486497584b\" y=\"47.143863\"/>\n     <use style=\"fill:#1f77b4;fill-opacity:0.8;stroke:#1f77b4;stroke-opacity:0.8;\" x=\"299.376232\" xlink:href=\"#m486497584b\" y=\"68.281786\"/>\n     <use style=\"fill:#1f77b4;fill-opacity:0.8;stroke:#1f77b4;stroke-opacity:0.8;\" x=\"294.163083\" xlink:href=\"#m486497584b\" y=\"73.691027\"/>\n     <use style=\"fill:#1f77b4;fill-opacity:0.8;stroke:#1f77b4;stroke-opacity:0.8;\" x=\"315.479069\" xlink:href=\"#m486497584b\" y=\"56.656411\"/>\n     <use style=\"fill:#1f77b4;fill-opacity:0.8;stroke:#1f77b4;stroke-opacity:0.8;\" x=\"314.783982\" xlink:href=\"#m486497584b\" y=\"49.963744\"/>\n     <use style=\"fill:#1f77b4;fill-opacity:0.8;stroke:#1f77b4;stroke-opacity:0.8;\" x=\"288.949934\" xlink:href=\"#m486497584b\" y=\"71.496195\"/>\n     <use style=\"fill:#1f77b4;fill-opacity:0.8;stroke:#1f77b4;stroke-opacity:0.8;\" x=\"327.411387\" xlink:href=\"#m486497584b\" y=\"52.222894\"/>\n     <use style=\"fill:#1f77b4;fill-opacity:0.8;stroke:#1f77b4;stroke-opacity:0.8;\" x=\"318.606958\" xlink:href=\"#m486497584b\" y=\"53.993085\"/>\n     <use style=\"fill:#1f77b4;fill-opacity:0.8;stroke:#1f77b4;stroke-opacity:0.8;\" x=\"276.554225\" xlink:href=\"#m486497584b\" y=\"83.208545\"/>\n     <use style=\"fill:#1f77b4;fill-opacity:0.8;stroke:#1f77b4;stroke-opacity:0.8;\" x=\"377.689311\" xlink:href=\"#m486497584b\" y=\"18.46063\"/>\n     <use style=\"fill:#1f77b4;fill-opacity:0.8;stroke:#1f77b4;stroke-opacity:0.8;\" x=\"270.877685\" xlink:href=\"#m486497584b\" y=\"88.494268\"/>\n     <use style=\"fill:#1f77b4;fill-opacity:0.8;stroke:#1f77b4;stroke-opacity:0.8;\" x=\"273.658031\" xlink:href=\"#m486497584b\" y=\"84.997008\"/>\n     <use style=\"fill:#1f77b4;fill-opacity:0.8;stroke:#1f77b4;stroke-opacity:0.8;\" x=\"280.840591\" xlink:href=\"#m486497584b\" y=\"77.446288\"/>\n     <use style=\"fill:#1f77b4;fill-opacity:0.8;stroke:#1f77b4;stroke-opacity:0.8;\" x=\"296.827581\" xlink:href=\"#m486497584b\" y=\"66.69066\"/>\n     <use style=\"fill:#1f77b4;fill-opacity:0.8;stroke:#1f77b4;stroke-opacity:0.8;\" x=\"296.827581\" xlink:href=\"#m486497584b\" y=\"71.995386\"/>\n     <use style=\"fill:#1f77b4;fill-opacity:0.8;stroke:#1f77b4;stroke-opacity:0.8;\" x=\"303.546751\" xlink:href=\"#m486497584b\" y=\"65.359728\"/>\n     <use style=\"fill:#1f77b4;fill-opacity:0.8;stroke:#1f77b4;stroke-opacity:0.8;\" x=\"292.541214\" xlink:href=\"#m486497584b\" y=\"71.604365\"/>\n     <use style=\"fill:#1f77b4;fill-opacity:0.8;stroke:#1f77b4;stroke-opacity:0.8;\" x=\"312.582875\" xlink:href=\"#m486497584b\" y=\"60.122974\"/>\n     <use style=\"fill:#1f77b4;fill-opacity:0.8;stroke:#1f77b4;stroke-opacity:0.8;\" x=\"304.58938\" xlink:href=\"#m486497584b\" y=\"63.522296\"/>\n     <use style=\"fill:#1f77b4;fill-opacity:0.8;stroke:#1f77b4;stroke-opacity:0.8;\" x=\"253.848066\" xlink:href=\"#m486497584b\" y=\"85.845559\"/>\n     <use style=\"fill:#1f77b4;fill-opacity:0.8;stroke:#1f77b4;stroke-opacity:0.8;\" x=\"335.057339\" xlink:href=\"#m486497584b\" y=\"44.659749\"/>\n     <use style=\"fill:#1f77b4;fill-opacity:0.8;stroke:#1f77b4;stroke-opacity:0.8;\" x=\"355.099\" xlink:href=\"#m486497584b\" y=\"39.638239\"/>\n     <use style=\"fill:#1f77b4;fill-opacity:0.8;stroke:#1f77b4;stroke-opacity:0.8;\" x=\"265.780384\" xlink:href=\"#m486497584b\" y=\"99.581715\"/>\n     <use style=\"fill:#1f77b4;fill-opacity:0.8;stroke:#1f77b4;stroke-opacity:0.8;\" x=\"236.702598\" xlink:href=\"#m486497584b\" y=\"103.244154\"/>\n     <use style=\"fill:#1f77b4;fill-opacity:0.8;stroke:#1f77b4;stroke-opacity:0.8;\" x=\"297.175124\" xlink:href=\"#m486497584b\" y=\"68.938847\"/>\n     <use style=\"fill:#1f77b4;fill-opacity:0.8;stroke:#1f77b4;stroke-opacity:0.8;\" x=\"275.859138\" xlink:href=\"#m486497584b\" y=\"80.88727\"/>\n     <use style=\"fill:#1f77b4;fill-opacity:0.8;stroke:#1f77b4;stroke-opacity:0.8;\" x=\"319.649588\" xlink:href=\"#m486497584b\" y=\"54.814594\"/>\n     <use style=\"fill:#1f77b4;fill-opacity:0.8;stroke:#1f77b4;stroke-opacity:0.8;\" x=\"302.156578\" xlink:href=\"#m486497584b\" y=\"68.150227\"/>\n     <use style=\"fill:#1f77b4;fill-opacity:0.8;stroke:#1f77b4;stroke-opacity:0.8;\" x=\"313.277962\" xlink:href=\"#m486497584b\" y=\"58.950643\"/>\n     <use style=\"fill:#1f77b4;fill-opacity:0.8;stroke:#1f77b4;stroke-opacity:0.8;\" x=\"380.585505\" xlink:href=\"#m486497584b\" y=\"17.739982\"/>\n     <use style=\"fill:#1f77b4;fill-opacity:0.8;stroke:#1f77b4;stroke-opacity:0.8;\" x=\"228.477408\" xlink:href=\"#m486497584b\" y=\"106.296308\"/>\n     <use style=\"fill:#1f77b4;fill-opacity:0.8;stroke:#1f77b4;stroke-opacity:0.8;\" x=\"368.189796\" xlink:href=\"#m486497584b\" y=\"23.985351\"/>\n     <use style=\"fill:#1f77b4;fill-opacity:0.8;stroke:#1f77b4;stroke-opacity:0.8;\" x=\"250.372633\" xlink:href=\"#m486497584b\" y=\"93.468636\"/>\n     <use style=\"fill:#1f77b4;fill-opacity:0.8;stroke:#1f77b4;stroke-opacity:0.8;\" x=\"331.350211\" xlink:href=\"#m486497584b\" y=\"47.117698\"/>\n     <use style=\"fill:#1f77b4;fill-opacity:0.8;stroke:#1f77b4;stroke-opacity:0.8;\" x=\"70.692771\" xlink:href=\"#m486497584b\" y=\"184.052422\"/>\n     <use style=\"fill:#1f77b4;fill-opacity:0.8;stroke:#1f77b4;stroke-opacity:0.8;\" x=\"311.540245\" xlink:href=\"#m486497584b\" y=\"59.685177\"/>\n     <use style=\"fill:#1f77b4;fill-opacity:0.8;stroke:#1f77b4;stroke-opacity:0.8;\" x=\"290.108412\" xlink:href=\"#m486497584b\" y=\"83.058714\"/>\n     <use style=\"fill:#1f77b4;fill-opacity:0.8;stroke:#1f77b4;stroke-opacity:0.8;\" x=\"279.913809\" xlink:href=\"#m486497584b\" y=\"78.813033\"/>\n     <use style=\"fill:#1f77b4;fill-opacity:0.8;stroke:#1f77b4;stroke-opacity:0.8;\" x=\"302.04073\" xlink:href=\"#m486497584b\" y=\"67.227857\"/>\n     <use style=\"fill:#1f77b4;fill-opacity:0.8;stroke:#1f77b4;stroke-opacity:0.8;\" x=\"280.724744\" xlink:href=\"#m486497584b\" y=\"77.201443\"/>\n     <use style=\"fill:#1f77b4;fill-opacity:0.8;stroke:#1f77b4;stroke-opacity:0.8;\" x=\"380.469657\" xlink:href=\"#m486497584b\" y=\"29.982951\"/>\n     <use style=\"fill:#1f77b4;fill-opacity:0.8;stroke:#1f77b4;stroke-opacity:0.8;\" x=\"293.120453\" xlink:href=\"#m486497584b\" y=\"71.340518\"/>\n     <use style=\"fill:#1f77b4;fill-opacity:0.8;stroke:#1f77b4;stroke-opacity:0.8;\" x=\"272.499553\" xlink:href=\"#m486497584b\" y=\"78.563803\"/>\n     <use style=\"fill:#1f77b4;fill-opacity:0.8;stroke:#1f77b4;stroke-opacity:0.8;\" x=\"263.695124\" xlink:href=\"#m486497584b\" y=\"88.851668\"/>\n     <use style=\"fill:#1f77b4;fill-opacity:0.8;stroke:#1f77b4;stroke-opacity:0.8;\" x=\"342.471595\" xlink:href=\"#m486497584b\" y=\"40.669876\"/>\n     <use style=\"fill:#1f77b4;fill-opacity:0.8;stroke:#1f77b4;stroke-opacity:0.8;\" x=\"341.428965\" xlink:href=\"#m486497584b\" y=\"37.046174\"/>\n     <use style=\"fill:#1f77b4;fill-opacity:0.8;stroke:#1f77b4;stroke-opacity:0.8;\" x=\"236.586751\" xlink:href=\"#m486497584b\" y=\"109.963863\"/>\n     <use style=\"fill:#1f77b4;fill-opacity:0.8;stroke:#1f77b4;stroke-opacity:0.8;\" x=\"290.68765\" xlink:href=\"#m486497584b\" y=\"73.100476\"/>\n     <use style=\"fill:#1f77b4;fill-opacity:0.8;stroke:#1f77b4;stroke-opacity:0.8;\" x=\"225.928758\" xlink:href=\"#m486497584b\" y=\"108.602965\"/>\n     <use style=\"fill:#1f77b4;fill-opacity:0.8;stroke:#1f77b4;stroke-opacity:0.8;\" x=\"303.08336\" xlink:href=\"#m486497584b\" y=\"65.082724\"/>\n     <use style=\"fill:#1f77b4;fill-opacity:0.8;stroke:#1f77b4;stroke-opacity:0.8;\" x=\"302.04073\" xlink:href=\"#m486497584b\" y=\"66.173197\"/>\n     <use style=\"fill:#1f77b4;fill-opacity:0.8;stroke:#1f77b4;stroke-opacity:0.8;\" x=\"294.626474\" xlink:href=\"#m486497584b\" y=\"80.219246\"/>\n     <use style=\"fill:#1f77b4;fill-opacity:0.8;stroke:#1f77b4;stroke-opacity:0.8;\" x=\"356.720868\" xlink:href=\"#m486497584b\" y=\"32.837767\"/>\n     <use style=\"fill:#1f77b4;fill-opacity:0.8;stroke:#1f77b4;stroke-opacity:0.8;\" x=\"234.153948\" xlink:href=\"#m486497584b\" y=\"107.179211\"/>\n     <use style=\"fill:#1f77b4;fill-opacity:0.8;stroke:#1f77b4;stroke-opacity:0.8;\" x=\"341.660661\" xlink:href=\"#m486497584b\" y=\"46.467215\"/>\n     <use style=\"fill:#1f77b4;fill-opacity:0.8;stroke:#1f77b4;stroke-opacity:0.8;\" x=\"343.050834\" xlink:href=\"#m486497584b\" y=\"39.49389\"/>\n     <use style=\"fill:#1f77b4;fill-opacity:0.8;stroke:#1f77b4;stroke-opacity:0.8;\" x=\"153.987304\" xlink:href=\"#m486497584b\" y=\"107.828232\"/>\n     <use style=\"fill:#1f77b4;fill-opacity:0.8;stroke:#1f77b4;stroke-opacity:0.8;\" x=\"350.812633\" xlink:href=\"#m486497584b\" y=\"34.11096\"/>\n     <use style=\"fill:#1f77b4;fill-opacity:0.8;stroke:#1f77b4;stroke-opacity:0.8;\" x=\"307.253879\" xlink:href=\"#m486497584b\" y=\"62.505642\"/>\n     <use style=\"fill:#1f77b4;fill-opacity:0.8;stroke:#1f77b4;stroke-opacity:0.8;\" x=\"236.470903\" xlink:href=\"#m486497584b\" y=\"102.305704\"/>\n     <use style=\"fill:#1f77b4;fill-opacity:0.8;stroke:#1f77b4;stroke-opacity:0.8;\" x=\"322.545782\" xlink:href=\"#m486497584b\" y=\"56.305588\"/>\n     <use style=\"fill:#1f77b4;fill-opacity:0.8;stroke:#1f77b4;stroke-opacity:0.8;\" x=\"179.705505\" xlink:href=\"#m486497584b\" y=\"131.620564\"/>\n     <use style=\"fill:#1f77b4;fill-opacity:0.8;stroke:#1f77b4;stroke-opacity:0.8;\" x=\"249.561699\" xlink:href=\"#m486497584b\" y=\"94.97571\"/>\n     <use style=\"fill:#1f77b4;fill-opacity:0.8;stroke:#1f77b4;stroke-opacity:0.8;\" x=\"310.961007\" xlink:href=\"#m486497584b\" y=\"59.086586\"/>\n     <use style=\"fill:#1f77b4;fill-opacity:0.8;stroke:#1f77b4;stroke-opacity:0.8;\" x=\"254.311457\" xlink:href=\"#m486497584b\" y=\"92.014185\"/>\n     <use style=\"fill:#1f77b4;fill-opacity:0.8;stroke:#1f77b4;stroke-opacity:0.8;\" x=\"292.193671\" xlink:href=\"#m486497584b\" y=\"76.024727\"/>\n     <use style=\"fill:#1f77b4;fill-opacity:0.8;stroke:#1f77b4;stroke-opacity:0.8;\" x=\"332.856232\" xlink:href=\"#m486497584b\" y=\"46.201905\"/>\n     <use style=\"fill:#1f77b4;fill-opacity:0.8;stroke:#1f77b4;stroke-opacity:0.8;\" x=\"300.534709\" xlink:href=\"#m486497584b\" y=\"62.401857\"/>\n     <use style=\"fill:#1f77b4;fill-opacity:0.8;stroke:#1f77b4;stroke-opacity:0.8;\" x=\"334.593948\" xlink:href=\"#m486497584b\" y=\"44.517227\"/>\n     <use style=\"fill:#1f77b4;fill-opacity:0.8;stroke:#1f77b4;stroke-opacity:0.8;\" x=\"255.585782\" xlink:href=\"#m486497584b\" y=\"93.228907\"/>\n     <use style=\"fill:#1f77b4;fill-opacity:0.8;stroke:#1f77b4;stroke-opacity:0.8;\" x=\"307.833117\" xlink:href=\"#m486497584b\" y=\"61.024149\"/>\n     <use style=\"fill:#1f77b4;fill-opacity:0.8;stroke:#1f77b4;stroke-opacity:0.8;\" x=\"350.349242\" xlink:href=\"#m486497584b\" y=\"35.931582\"/>\n     <use style=\"fill:#1f77b4;fill-opacity:0.8;stroke:#1f77b4;stroke-opacity:0.8;\" x=\"267.633948\" xlink:href=\"#m486497584b\" y=\"82.911077\"/>\n     <use style=\"fill:#1f77b4;fill-opacity:0.8;stroke:#1f77b4;stroke-opacity:0.8;\" x=\"133.829796\" xlink:href=\"#m486497584b\" y=\"163.389718\"/>\n     <use style=\"fill:#1f77b4;fill-opacity:0.8;stroke:#1f77b4;stroke-opacity:0.8;\" x=\"368.653187\" xlink:href=\"#m486497584b\" y=\"24.203884\"/>\n     <use style=\"fill:#1f77b4;fill-opacity:0.8;stroke:#1f77b4;stroke-opacity:0.8;\" x=\"337.953533\" xlink:href=\"#m486497584b\" y=\"46.196789\"/>\n     <use style=\"fill:#1f77b4;fill-opacity:0.8;stroke:#1f77b4;stroke-opacity:0.8;\" x=\"343.977616\" xlink:href=\"#m486497584b\" y=\"39.086059\"/>\n     <use style=\"fill:#1f77b4;fill-opacity:0.8;stroke:#1f77b4;stroke-opacity:0.8;\" x=\"330.307581\" xlink:href=\"#m486497584b\" y=\"46.103968\"/>\n     <use style=\"fill:#1f77b4;fill-opacity:0.8;stroke:#1f77b4;stroke-opacity:0.8;\" x=\"375.256508\" xlink:href=\"#m486497584b\" y=\"19.855149\"/>\n     <use style=\"fill:#1f77b4;fill-opacity:0.8;stroke:#1f77b4;stroke-opacity:0.8;\" x=\"232.763775\" xlink:href=\"#m486497584b\" y=\"99.01309\"/>\n     <use style=\"fill:#1f77b4;fill-opacity:0.8;stroke:#1f77b4;stroke-opacity:0.8;\" x=\"299.839623\" xlink:href=\"#m486497584b\" y=\"68.012091\"/>\n     <use style=\"fill:#1f77b4;fill-opacity:0.8;stroke:#1f77b4;stroke-opacity:0.8;\" x=\"231.605297\" xlink:href=\"#m486497584b\" y=\"112.143347\"/>\n     <use style=\"fill:#1f77b4;fill-opacity:0.8;stroke:#1f77b4;stroke-opacity:0.8;\" x=\"315.479069\" xlink:href=\"#m486497584b\" y=\"47.980428\"/>\n     <use style=\"fill:#1f77b4;fill-opacity:0.8;stroke:#1f77b4;stroke-opacity:0.8;\" x=\"296.480038\" xlink:href=\"#m486497584b\" y=\"70.715615\"/>\n     <use style=\"fill:#1f77b4;fill-opacity:0.8;stroke:#1f77b4;stroke-opacity:0.8;\" x=\"297.754363\" xlink:href=\"#m486497584b\" y=\"69.367142\"/>\n     <use style=\"fill:#1f77b4;fill-opacity:0.8;stroke:#1f77b4;stroke-opacity:0.8;\" x=\"319.997131\" xlink:href=\"#m486497584b\" y=\"54.195538\"/>\n     <use style=\"fill:#1f77b4;fill-opacity:0.8;stroke:#1f77b4;stroke-opacity:0.8;\" x=\"291.151041\" xlink:href=\"#m486497584b\" y=\"70.701241\"/>\n     <use style=\"fill:#1f77b4;fill-opacity:0.8;stroke:#1f77b4;stroke-opacity:0.8;\" x=\"370.970142\" xlink:href=\"#m486497584b\" y=\"23.274936\"/>\n     <use style=\"fill:#1f77b4;fill-opacity:0.8;stroke:#1f77b4;stroke-opacity:0.8;\" x=\"273.773879\" xlink:href=\"#m486497584b\" y=\"84.119221\"/>\n     <use style=\"fill:#1f77b4;fill-opacity:0.8;stroke:#1f77b4;stroke-opacity:0.8;\" x=\"262.420799\" xlink:href=\"#m486497584b\" y=\"90.461796\"/>\n     <use style=\"fill:#1f77b4;fill-opacity:0.8;stroke:#1f77b4;stroke-opacity:0.8;\" x=\"340.502183\" xlink:href=\"#m486497584b\" y=\"42.35967\"/>\n     <use style=\"fill:#1f77b4;fill-opacity:0.8;stroke:#1f77b4;stroke-opacity:0.8;\" x=\"329.496647\" xlink:href=\"#m486497584b\" y=\"50.36719\"/>\n     <use style=\"fill:#1f77b4;fill-opacity:0.8;stroke:#1f77b4;stroke-opacity:0.8;\" x=\"297.290972\" xlink:href=\"#m486497584b\" y=\"69.294054\"/>\n     <use style=\"fill:#1f77b4;fill-opacity:0.8;stroke:#1f77b4;stroke-opacity:0.8;\" x=\"299.376232\" xlink:href=\"#m486497584b\" y=\"73.006924\"/>\n     <use style=\"fill:#1f77b4;fill-opacity:0.8;stroke:#1f77b4;stroke-opacity:0.8;\" x=\"322.082391\" xlink:href=\"#m486497584b\" y=\"54.336598\"/>\n     <use style=\"fill:#1f77b4;fill-opacity:0.8;stroke:#1f77b4;stroke-opacity:0.8;\" x=\"345.483636\" xlink:href=\"#m486497584b\" y=\"39.425188\"/>\n     <use style=\"fill:#1f77b4;fill-opacity:0.8;stroke:#1f77b4;stroke-opacity:0.8;\" x=\"356.025782\" xlink:href=\"#m486497584b\" y=\"30.75476\"/>\n     <use style=\"fill:#1f77b4;fill-opacity:0.8;stroke:#1f77b4;stroke-opacity:0.8;\" x=\"334.709796\" xlink:href=\"#m486497584b\" y=\"44.960141\"/>\n     <use style=\"fill:#1f77b4;fill-opacity:0.8;stroke:#1f77b4;stroke-opacity:0.8;\" x=\"308.064813\" xlink:href=\"#m486497584b\" y=\"63.103502\"/>\n     <use style=\"fill:#1f77b4;fill-opacity:0.8;stroke:#1f77b4;stroke-opacity:0.8;\" x=\"297.522668\" xlink:href=\"#m486497584b\" y=\"71.551742\"/>\n     <use style=\"fill:#1f77b4;fill-opacity:0.8;stroke:#1f77b4;stroke-opacity:0.8;\" x=\"302.156578\" xlink:href=\"#m486497584b\" y=\"68.235009\"/>\n     <use style=\"fill:#1f77b4;fill-opacity:0.8;stroke:#1f77b4;stroke-opacity:0.8;\" x=\"331.581906\" xlink:href=\"#m486497584b\" y=\"46.586348\"/>\n     <use style=\"fill:#1f77b4;fill-opacity:0.8;stroke:#1f77b4;stroke-opacity:0.8;\" x=\"309.107443\" xlink:href=\"#m486497584b\" y=\"60.535921\"/>\n     <use style=\"fill:#1f77b4;fill-opacity:0.8;stroke:#1f77b4;stroke-opacity:0.8;\" x=\"232.99547\" xlink:href=\"#m486497584b\" y=\"109.751908\"/>\n     <use style=\"fill:#1f77b4;fill-opacity:0.8;stroke:#1f77b4;stroke-opacity:0.8;\" x=\"316.753394\" xlink:href=\"#m486497584b\" y=\"54.077136\"/>\n     <use style=\"fill:#1f77b4;fill-opacity:0.8;stroke:#1f77b4;stroke-opacity:0.8;\" x=\"318.491111\" xlink:href=\"#m486497584b\" y=\"55.220963\"/>\n     <use style=\"fill:#1f77b4;fill-opacity:0.8;stroke:#1f77b4;stroke-opacity:0.8;\" x=\"325.094432\" xlink:href=\"#m486497584b\" y=\"51.530019\"/>\n     <use style=\"fill:#1f77b4;fill-opacity:0.8;stroke:#1f77b4;stroke-opacity:0.8;\" x=\"271.10938\" xlink:href=\"#m486497584b\" y=\"83.27944\"/>\n     <use style=\"fill:#1f77b4;fill-opacity:0.8;stroke:#1f77b4;stroke-opacity:0.8;\" x=\"232.532079\" xlink:href=\"#m486497584b\" y=\"106.917556\"/>\n     <use style=\"fill:#1f77b4;fill-opacity:0.8;stroke:#1f77b4;stroke-opacity:0.8;\" x=\"293.583844\" xlink:href=\"#m486497584b\" y=\"69.15811\"/>\n     <use style=\"fill:#1f77b4;fill-opacity:0.8;stroke:#1f77b4;stroke-opacity:0.8;\" x=\"338.185228\" xlink:href=\"#m486497584b\" y=\"43.510075\"/>\n     <use style=\"fill:#1f77b4;fill-opacity:0.8;stroke:#1f77b4;stroke-opacity:0.8;\" x=\"197.893602\" xlink:href=\"#m486497584b\" y=\"123.345542\"/>\n     <use style=\"fill:#1f77b4;fill-opacity:0.8;stroke:#1f77b4;stroke-opacity:0.8;\" x=\"294.626474\" xlink:href=\"#m486497584b\" y=\"80.304028\"/>\n     <use style=\"fill:#1f77b4;fill-opacity:0.8;stroke:#1f77b4;stroke-opacity:0.8;\" x=\"378.26855\" xlink:href=\"#m486497584b\" y=\"22.153035\"/>\n     <use style=\"fill:#1f77b4;fill-opacity:0.8;stroke:#1f77b4;stroke-opacity:0.8;\" x=\"262.88419\" xlink:href=\"#m486497584b\" y=\"87.560203\"/>\n     <use style=\"fill:#1f77b4;fill-opacity:0.8;stroke:#1f77b4;stroke-opacity:0.8;\" x=\"285.126958\" xlink:href=\"#m486497584b\" y=\"76.38505\"/>\n     <use style=\"fill:#1f77b4;fill-opacity:0.8;stroke:#1f77b4;stroke-opacity:0.8;\" x=\"299.376232\" xlink:href=\"#m486497584b\" y=\"66.288676\"/>\n     <use style=\"fill:#1f77b4;fill-opacity:0.8;stroke:#1f77b4;stroke-opacity:0.8;\" x=\"334.014709\" xlink:href=\"#m486497584b\" y=\"46.637364\"/>\n     <use style=\"fill:#1f77b4;fill-opacity:0.8;stroke:#1f77b4;stroke-opacity:0.8;\" x=\"269.719207\" xlink:href=\"#m486497584b\" y=\"88.693798\"/>\n     <use style=\"fill:#1f77b4;fill-opacity:0.8;stroke:#1f77b4;stroke-opacity:0.8;\" x=\"335.289034\" xlink:href=\"#m486497584b\" y=\"45.418804\"/>\n     <use style=\"fill:#1f77b4;fill-opacity:0.8;stroke:#1f77b4;stroke-opacity:0.8;\" x=\"370.970142\" xlink:href=\"#m486497584b\" y=\"22.341602\"/>\n     <use style=\"fill:#1f77b4;fill-opacity:0.8;stroke:#1f77b4;stroke-opacity:0.8;\" x=\"302.156578\" xlink:href=\"#m486497584b\" y=\"66.431198\"/>\n     <use style=\"fill:#1f77b4;fill-opacity:0.8;stroke:#1f77b4;stroke-opacity:0.8;\" x=\"350.117546\" xlink:href=\"#m486497584b\" y=\"34.903234\"/>\n     <use style=\"fill:#1f77b4;fill-opacity:0.8;stroke:#1f77b4;stroke-opacity:0.8;\" x=\"285.937893\" xlink:href=\"#m486497584b\" y=\"74.873591\"/>\n     <use style=\"fill:#1f77b4;fill-opacity:0.8;stroke:#1f77b4;stroke-opacity:0.8;\" x=\"323.240868\" xlink:href=\"#m486497584b\" y=\"55.631717\"/>\n     <use style=\"fill:#1f77b4;fill-opacity:0.8;stroke:#1f77b4;stroke-opacity:0.8;\" x=\"315.826612\" xlink:href=\"#m486497584b\" y=\"56.926836\"/>\n     <use style=\"fill:#1f77b4;fill-opacity:0.8;stroke:#1f77b4;stroke-opacity:0.8;\" x=\"304.010142\" xlink:href=\"#m486497584b\" y=\"63.391469\"/>\n     <use style=\"fill:#1f77b4;fill-opacity:0.8;stroke:#1f77b4;stroke-opacity:0.8;\" x=\"373.518792\" xlink:href=\"#m486497584b\" y=\"20.123382\"/>\n     <use style=\"fill:#1f77b4;fill-opacity:0.8;stroke:#1f77b4;stroke-opacity:0.8;\" x=\"301.113948\" xlink:href=\"#m486497584b\" y=\"67.875416\"/>\n     <use style=\"fill:#1f77b4;fill-opacity:0.8;stroke:#1f77b4;stroke-opacity:0.8;\" x=\"308.180661\" xlink:href=\"#m486497584b\" y=\"58.140828\"/>\n     <use style=\"fill:#1f77b4;fill-opacity:0.8;stroke:#1f77b4;stroke-opacity:0.8;\" x=\"353.01374\" xlink:href=\"#m486497584b\" y=\"31.864966\"/>\n     <use style=\"fill:#1f77b4;fill-opacity:0.8;stroke:#1f77b4;stroke-opacity:0.8;\" x=\"307.601422\" xlink:href=\"#m486497584b\" y=\"64.739211\"/>\n     <use style=\"fill:#1f77b4;fill-opacity:0.8;stroke:#1f77b4;stroke-opacity:0.8;\" x=\"347.221353\" xlink:href=\"#m486497584b\" y=\"44.099858\"/>\n     <use style=\"fill:#1f77b4;fill-opacity:0.8;stroke:#1f77b4;stroke-opacity:0.8;\" x=\"292.193671\" xlink:href=\"#m486497584b\" y=\"72.204418\"/>\n     <use style=\"fill:#1f77b4;fill-opacity:0.8;stroke:#1f77b4;stroke-opacity:0.8;\" x=\"316.058308\" xlink:href=\"#m486497584b\" y=\"57.390214\"/>\n     <use style=\"fill:#1f77b4;fill-opacity:0.8;stroke:#1f77b4;stroke-opacity:0.8;\" x=\"336.910903\" xlink:href=\"#m486497584b\" y=\"44.705064\"/>\n     <use style=\"fill:#1f77b4;fill-opacity:0.8;stroke:#1f77b4;stroke-opacity:0.8;\" x=\"312.698723\" xlink:href=\"#m486497584b\" y=\"56.310705\"/>\n     <use style=\"fill:#1f77b4;fill-opacity:0.8;stroke:#1f77b4;stroke-opacity:0.8;\" x=\"278.755332\" xlink:href=\"#m486497584b\" y=\"80.880692\"/>\n     <use style=\"fill:#1f77b4;fill-opacity:0.8;stroke:#1f77b4;stroke-opacity:0.8;\" x=\"356.952564\" xlink:href=\"#m486497584b\" y=\"32.170474\"/>\n     <use style=\"fill:#1f77b4;fill-opacity:0.8;stroke:#1f77b4;stroke-opacity:0.8;\" x=\"352.202806\" xlink:href=\"#m486497584b\" y=\"34.684701\"/>\n     <use style=\"fill:#1f77b4;fill-opacity:0.8;stroke:#1f77b4;stroke-opacity:0.8;\" x=\"336.447512\" xlink:href=\"#m486497584b\" y=\"43.263038\"/>\n     <use style=\"fill:#1f77b4;fill-opacity:0.8;stroke:#1f77b4;stroke-opacity:0.8;\" x=\"246.8972\" xlink:href=\"#m486497584b\" y=\"93.39701\"/>\n     <use style=\"fill:#1f77b4;fill-opacity:0.8;stroke:#1f77b4;stroke-opacity:0.8;\" x=\"236.586751\" xlink:href=\"#m486497584b\" y=\"105.914789\"/>\n     <use style=\"fill:#1f77b4;fill-opacity:0.8;stroke:#1f77b4;stroke-opacity:0.8;\" x=\"328.569865\" xlink:href=\"#m486497584b\" y=\"48.181859\"/>\n     <use style=\"fill:#1f77b4;fill-opacity:0.8;stroke:#1f77b4;stroke-opacity:0.8;\" x=\"160.938169\" xlink:href=\"#m486497584b\" y=\"156.657584\"/>\n     <use style=\"fill:#1f77b4;fill-opacity:0.8;stroke:#1f77b4;stroke-opacity:0.8;\" x=\"315.594917\" xlink:href=\"#m486497584b\" y=\"59.177215\"/>\n     <use style=\"fill:#1f77b4;fill-opacity:0.8;stroke:#1f77b4;stroke-opacity:0.8;\" x=\"308.412356\" xlink:href=\"#m486497584b\" y=\"63.398046\"/>\n     <use style=\"fill:#1f77b4;fill-opacity:0.8;stroke:#1f77b4;stroke-opacity:0.8;\" x=\"272.383706\" xlink:href=\"#m486497584b\" y=\"84.765319\"/>\n     <use style=\"fill:#1f77b4;fill-opacity:0.8;stroke:#1f77b4;stroke-opacity:0.8;\" x=\"278.176093\" xlink:href=\"#m486497584b\" y=\"83.011207\"/>\n     <use style=\"fill:#1f77b4;fill-opacity:0.8;stroke:#1f77b4;stroke-opacity:0.8;\" x=\"288.023152\" xlink:href=\"#m486497584b\" y=\"74.096666\"/>\n     <use style=\"fill:#1f77b4;fill-opacity:0.8;stroke:#1f77b4;stroke-opacity:0.8;\" x=\"345.947027\" xlink:href=\"#m486497584b\" y=\"35.897961\"/>\n     <use style=\"fill:#1f77b4;fill-opacity:0.8;stroke:#1f77b4;stroke-opacity:0.8;\" x=\"256.512564\" xlink:href=\"#m486497584b\" y=\"85.151223\"/>\n     <use style=\"fill:#1f77b4;fill-opacity:0.8;stroke:#1f77b4;stroke-opacity:0.8;\" x=\"309.107443\" xlink:href=\"#m486497584b\" y=\"67.189851\"/>\n     <use style=\"fill:#1f77b4;fill-opacity:0.8;stroke:#1f77b4;stroke-opacity:0.8;\" x=\"269.024121\" xlink:href=\"#m486497584b\" y=\"86.947726\"/>\n     <use style=\"fill:#1f77b4;fill-opacity:0.8;stroke:#1f77b4;stroke-opacity:0.8;\" x=\"297.986059\" xlink:href=\"#m486497584b\" y=\"67.911473\"/>\n     <use style=\"fill:#1f77b4;fill-opacity:0.8;stroke:#1f77b4;stroke-opacity:0.8;\" x=\"307.485574\" xlink:href=\"#m486497584b\" y=\"62.352888\"/>\n     <use style=\"fill:#1f77b4;fill-opacity:0.8;stroke:#1f77b4;stroke-opacity:0.8;\" x=\"335.173187\" xlink:href=\"#m486497584b\" y=\"45.259801\"/>\n     <use style=\"fill:#1f77b4;fill-opacity:0.8;stroke:#1f77b4;stroke-opacity:0.8;\" x=\"339.227858\" xlink:href=\"#m486497584b\" y=\"43.120516\"/>\n     <use style=\"fill:#1f77b4;fill-opacity:0.8;stroke:#1f77b4;stroke-opacity:0.8;\" x=\"307.022183\" xlink:href=\"#m486497584b\" y=\"64.20713\"/>\n     <use style=\"fill:#1f77b4;fill-opacity:0.8;stroke:#1f77b4;stroke-opacity:0.8;\" x=\"296.248342\" xlink:href=\"#m486497584b\" y=\"68.357066\"/>\n     <use style=\"fill:#1f77b4;fill-opacity:0.8;stroke:#1f77b4;stroke-opacity:0.8;\" x=\"283.852633\" xlink:href=\"#m486497584b\" y=\"74.531539\"/>\n     <use style=\"fill:#1f77b4;fill-opacity:0.8;stroke:#1f77b4;stroke-opacity:0.8;\" x=\"135.104121\" xlink:href=\"#m486497584b\" y=\"165.081705\"/>\n     <use style=\"fill:#1f77b4;fill-opacity:0.8;stroke:#1f77b4;stroke-opacity:0.8;\" x=\"297.754363\" xlink:href=\"#m486497584b\" y=\"70.57017\"/>\n     <use style=\"fill:#1f77b4;fill-opacity:0.8;stroke:#1f77b4;stroke-opacity:0.8;\" x=\"293.467996\" xlink:href=\"#m486497584b\" y=\"75.912902\"/>\n     <use style=\"fill:#1f77b4;fill-opacity:0.8;stroke:#1f77b4;stroke-opacity:0.8;\" x=\"337.721837\" xlink:href=\"#m486497584b\" y=\"43.525423\"/>\n     <use style=\"fill:#1f77b4;fill-opacity:0.8;stroke:#1f77b4;stroke-opacity:0.8;\" x=\"289.876716\" xlink:href=\"#m486497584b\" y=\"70.682726\"/>\n     <use style=\"fill:#1f77b4;fill-opacity:0.8;stroke:#1f77b4;stroke-opacity:0.8;\" x=\"312.467027\" xlink:href=\"#m486497584b\" y=\"65.52783\"/>\n     <use style=\"fill:#1f77b4;fill-opacity:0.8;stroke:#1f77b4;stroke-opacity:0.8;\" x=\"331.118515\" xlink:href=\"#m486497584b\" y=\"47.681206\"/>\n     <use style=\"fill:#1f77b4;fill-opacity:0.8;stroke:#1f77b4;stroke-opacity:0.8;\" x=\"230.794363\" xlink:href=\"#m486497584b\" y=\"78.662472\"/>\n     <use style=\"fill:#1f77b4;fill-opacity:0.8;stroke:#1f77b4;stroke-opacity:0.8;\" x=\"293.120453\" xlink:href=\"#m486497584b\" y=\"70.484657\"/>\n     <use style=\"fill:#1f77b4;fill-opacity:0.8;stroke:#1f77b4;stroke-opacity:0.8;\" x=\"339.691249\" xlink:href=\"#m486497584b\" y=\"41.627328\"/>\n     <use style=\"fill:#1f77b4;fill-opacity:0.8;stroke:#1f77b4;stroke-opacity:0.8;\" x=\"304.357685\" xlink:href=\"#m486497584b\" y=\"63.275989\"/>\n     <use style=\"fill:#1f77b4;fill-opacity:0.8;stroke:#1f77b4;stroke-opacity:0.8;\" x=\"321.039761\" xlink:href=\"#m486497584b\" y=\"53.992354\"/>\n     <use style=\"fill:#1f77b4;fill-opacity:0.8;stroke:#1f77b4;stroke-opacity:0.8;\" x=\"291.846128\" xlink:href=\"#m486497584b\" y=\"70.408646\"/>\n     <use style=\"fill:#1f77b4;fill-opacity:0.8;stroke:#1f77b4;stroke-opacity:0.8;\" x=\"309.802529\" xlink:href=\"#m486497584b\" y=\"64.199091\"/>\n     <use style=\"fill:#1f77b4;fill-opacity:0.8;stroke:#1f77b4;stroke-opacity:0.8;\" x=\"321.271457\" xlink:href=\"#m486497584b\" y=\"51.337067\"/>\n     <use style=\"fill:#1f77b4;fill-opacity:0.8;stroke:#1f77b4;stroke-opacity:0.8;\" x=\"289.992564\" xlink:href=\"#m486497584b\" y=\"75.746992\"/>\n     <use style=\"fill:#1f77b4;fill-opacity:0.8;stroke:#1f77b4;stroke-opacity:0.8;\" x=\"313.741353\" xlink:href=\"#m486497584b\" y=\"58.559622\"/>\n     <use style=\"fill:#1f77b4;fill-opacity:0.8;stroke:#1f77b4;stroke-opacity:0.8;\" x=\"333.898861\" xlink:href=\"#m486497584b\" y=\"42.801852\"/>\n     <use style=\"fill:#1f77b4;fill-opacity:0.8;stroke:#1f77b4;stroke-opacity:0.8;\" x=\"329.960038\" xlink:href=\"#m486497584b\" y=\"48.105847\"/>\n     <use style=\"fill:#1f77b4;fill-opacity:0.8;stroke:#1f77b4;stroke-opacity:0.8;\" x=\"269.024121\" xlink:href=\"#m486497584b\" y=\"72.822742\"/>\n     <use style=\"fill:#1f77b4;fill-opacity:0.8;stroke:#1f77b4;stroke-opacity:0.8;\" x=\"228.129865\" xlink:href=\"#m486497584b\" y=\"106.753108\"/>\n     <use style=\"fill:#1f77b4;fill-opacity:0.8;stroke:#1f77b4;stroke-opacity:0.8;\" x=\"297.40682\" xlink:href=\"#m486497584b\" y=\"67.456622\"/>\n     <use style=\"fill:#1f77b4;fill-opacity:0.8;stroke:#1f77b4;stroke-opacity:0.8;\" x=\"348.959069\" xlink:href=\"#m486497584b\" y=\"36.67781\"/>\n     <use style=\"fill:#1f77b4;fill-opacity:0.8;stroke:#1f77b4;stroke-opacity:0.8;\" x=\"362.629104\" xlink:href=\"#m486497584b\" y=\"26.957839\"/>\n     <use style=\"fill:#1f77b4;fill-opacity:0.8;stroke:#1f77b4;stroke-opacity:0.8;\" x=\"336.215816\" xlink:href=\"#m486497584b\" y=\"42.613285\"/>\n     <use style=\"fill:#1f77b4;fill-opacity:0.8;stroke:#1f77b4;stroke-opacity:0.8;\" x=\"325.905367\" xlink:href=\"#m486497584b\" y=\"53.280477\"/>\n     <use style=\"fill:#1f77b4;fill-opacity:0.8;stroke:#1f77b4;stroke-opacity:0.8;\" x=\"255.70163\" xlink:href=\"#m486497584b\" y=\"96.887692\"/>\n     <use style=\"fill:#1f77b4;fill-opacity:0.8;stroke:#1f77b4;stroke-opacity:0.8;\" x=\"243.30592\" xlink:href=\"#m486497584b\" y=\"102.818051\"/>\n     <use style=\"fill:#1f77b4;fill-opacity:0.8;stroke:#1f77b4;stroke-opacity:0.8;\" x=\"318.143567\" xlink:href=\"#m486497584b\" y=\"55.62587\"/>\n     <use style=\"fill:#1f77b4;fill-opacity:0.8;stroke:#1f77b4;stroke-opacity:0.8;\" x=\"289.876716\" xlink:href=\"#m486497584b\" y=\"70.556284\"/>\n     <use style=\"fill:#1f77b4;fill-opacity:0.8;stroke:#1f77b4;stroke-opacity:0.8;\" x=\"272.962944\" xlink:href=\"#m486497584b\" y=\"84.378683\"/>\n     <use style=\"fill:#1f77b4;fill-opacity:0.8;stroke:#1f77b4;stroke-opacity:0.8;\" x=\"335.752425\" xlink:href=\"#m486497584b\" y=\"45.103393\"/>\n     <use style=\"fill:#1f77b4;fill-opacity:0.8;stroke:#1f77b4;stroke-opacity:0.8;\" x=\"313.8572\" xlink:href=\"#m486497584b\" y=\"57.841167\"/>\n     <use style=\"fill:#1f77b4;fill-opacity:0.8;stroke:#1f77b4;stroke-opacity:0.8;\" x=\"293.352149\" xlink:href=\"#m486497584b\" y=\"70.849366\"/>\n     <use style=\"fill:#1f77b4;fill-opacity:0.8;stroke:#1f77b4;stroke-opacity:0.8;\" x=\"313.162114\" xlink:href=\"#m486497584b\" y=\"57.596322\"/>\n     <use style=\"fill:#1f77b4;fill-opacity:0.8;stroke:#1f77b4;stroke-opacity:0.8;\" x=\"352.086958\" xlink:href=\"#m486497584b\" y=\"34.795064\"/>\n     <use style=\"fill:#1f77b4;fill-opacity:0.8;stroke:#1f77b4;stroke-opacity:0.8;\" x=\"325.094432\" xlink:href=\"#m486497584b\" y=\"53.425191\"/>\n     <use style=\"fill:#1f77b4;fill-opacity:0.8;stroke:#1f77b4;stroke-opacity:0.8;\" x=\"319.649588\" xlink:href=\"#m486497584b\" y=\"49.982016\"/>\n     <use style=\"fill:#1f77b4;fill-opacity:0.8;stroke:#1f77b4;stroke-opacity:0.8;\" x=\"273.310488\" xlink:href=\"#m486497584b\" y=\"83.414653\"/>\n     <use style=\"fill:#1f77b4;fill-opacity:0.8;stroke:#1f77b4;stroke-opacity:0.8;\" x=\"270.182598\" xlink:href=\"#m486497584b\" y=\"85.369025\"/>\n     <use style=\"fill:#1f77b4;fill-opacity:0.8;stroke:#1f77b4;stroke-opacity:0.8;\" x=\"300.071318\" xlink:href=\"#m486497584b\" y=\"64.924367\"/>\n     <use style=\"fill:#1f77b4;fill-opacity:0.8;stroke:#1f77b4;stroke-opacity:0.8;\" x=\"127.458169\" xlink:href=\"#m486497584b\" y=\"165.579434\"/>\n     <use style=\"fill:#1f77b4;fill-opacity:0.8;stroke:#1f77b4;stroke-opacity:0.8;\" x=\"270.761837\" xlink:href=\"#m486497584b\" y=\"85.643836\"/>\n     <use style=\"fill:#1f77b4;fill-opacity:0.8;stroke:#1f77b4;stroke-opacity:0.8;\" x=\"335.057339\" xlink:href=\"#m486497584b\" y=\"55.893129\"/>\n     <use style=\"fill:#1f77b4;fill-opacity:0.8;stroke:#1f77b4;stroke-opacity:0.8;\" x=\"106.605574\" xlink:href=\"#m486497584b\" y=\"161.862179\"/>\n     <use style=\"fill:#1f77b4;fill-opacity:0.8;stroke:#1f77b4;stroke-opacity:0.8;\" x=\"365.061906\" xlink:href=\"#m486497584b\" y=\"29.032807\"/>\n     <use style=\"fill:#1f77b4;fill-opacity:0.8;stroke:#1f77b4;stroke-opacity:0.8;\" x=\"289.645021\" xlink:href=\"#m486497584b\" y=\"73.006924\"/>\n     <use style=\"fill:#1f77b4;fill-opacity:0.8;stroke:#1f77b4;stroke-opacity:0.8;\" x=\"335.057339\" xlink:href=\"#m486497584b\" y=\"43.442103\"/>\n     <use style=\"fill:#1f77b4;fill-opacity:0.8;stroke:#1f77b4;stroke-opacity:0.8;\" x=\"310.26592\" xlink:href=\"#m486497584b\" y=\"60.541768\"/>\n     <use style=\"fill:#1f77b4;fill-opacity:0.8;stroke:#1f77b4;stroke-opacity:0.8;\" x=\"324.746889\" xlink:href=\"#m486497584b\" y=\"53.588908\"/>\n     <use style=\"fill:#1f77b4;fill-opacity:0.8;stroke:#1f77b4;stroke-opacity:0.8;\" x=\"318.722806\" xlink:href=\"#m486497584b\" y=\"54.330751\"/>\n     <use style=\"fill:#1f77b4;fill-opacity:0.8;stroke:#1f77b4;stroke-opacity:0.8;\" x=\"314.783982\" xlink:href=\"#m486497584b\" y=\"59.943177\"/>\n     <use style=\"fill:#1f77b4;fill-opacity:0.8;stroke:#1f77b4;stroke-opacity:0.8;\" x=\"304.821076\" xlink:href=\"#m486497584b\" y=\"63.446284\"/>\n     <use style=\"fill:#1f77b4;fill-opacity:0.8;stroke:#1f77b4;stroke-opacity:0.8;\" x=\"331.581906\" xlink:href=\"#m486497584b\" y=\"64.473867\"/>\n     <use style=\"fill:#1f77b4;fill-opacity:0.8;stroke:#1f77b4;stroke-opacity:0.8;\" x=\"316.521699\" xlink:href=\"#m486497584b\" y=\"55.266277\"/>\n     <use style=\"fill:#1f77b4;fill-opacity:0.8;stroke:#1f77b4;stroke-opacity:0.8;\" x=\"293.352149\" xlink:href=\"#m486497584b\" y=\"69.518434\"/>\n     <use style=\"fill:#1f77b4;fill-opacity:0.8;stroke:#1f77b4;stroke-opacity:0.8;\" x=\"229.172495\" xlink:href=\"#m486497584b\" y=\"108.567152\"/>\n     <use style=\"fill:#1f77b4;fill-opacity:0.8;stroke:#1f77b4;stroke-opacity:0.8;\" x=\"308.296508\" xlink:href=\"#m486497584b\" y=\"61.35743\"/>\n     <use style=\"fill:#1f77b4;fill-opacity:0.8;stroke:#1f77b4;stroke-opacity:0.8;\" x=\"287.907304\" xlink:href=\"#m486497584b\" y=\"91.53619\"/>\n     <use style=\"fill:#1f77b4;fill-opacity:0.8;stroke:#1f77b4;stroke-opacity:0.8;\" x=\"289.529173\" xlink:href=\"#m486497584b\" y=\"74.055736\"/>\n     <use style=\"fill:#1f77b4;fill-opacity:0.8;stroke:#1f77b4;stroke-opacity:0.8;\" x=\"307.022183\" xlink:href=\"#m486497584b\" y=\"67.134304\"/>\n     <use style=\"fill:#1f77b4;fill-opacity:0.8;stroke:#1f77b4;stroke-opacity:0.8;\" x=\"301.809034\" xlink:href=\"#m486497584b\" y=\"68.541248\"/>\n     <use style=\"fill:#1f77b4;fill-opacity:0.8;stroke:#1f77b4;stroke-opacity:0.8;\" x=\"300.418861\" xlink:href=\"#m486497584b\" y=\"67.461007\"/>\n     <use style=\"fill:#1f77b4;fill-opacity:0.8;stroke:#1f77b4;stroke-opacity:0.8;\" x=\"362.744951\" xlink:href=\"#m486497584b\" y=\"26.98342\"/>\n     <use style=\"fill:#1f77b4;fill-opacity:0.8;stroke:#1f77b4;stroke-opacity:0.8;\" x=\"367.494709\" xlink:href=\"#m486497584b\" y=\"26.723958\"/>\n     <use style=\"fill:#1f77b4;fill-opacity:0.8;stroke:#1f77b4;stroke-opacity:0.8;\" x=\"306.095401\" xlink:href=\"#m486497584b\" y=\"56.274891\"/>\n     <use style=\"fill:#1f77b4;fill-opacity:0.8;stroke:#1f77b4;stroke-opacity:0.8;\" x=\"234.849034\" xlink:href=\"#m486497584b\" y=\"106.723873\"/>\n     <use style=\"fill:#1f77b4;fill-opacity:0.8;stroke:#1f77b4;stroke-opacity:0.8;\" x=\"234.0381\" xlink:href=\"#m486497584b\" y=\"102.07767\"/>\n     <use style=\"fill:#1f77b4;fill-opacity:0.8;stroke:#1f77b4;stroke-opacity:0.8;\" x=\"298.565297\" xlink:href=\"#m486497584b\" y=\"66.374189\"/>\n     <use style=\"fill:#1f77b4;fill-opacity:0.8;stroke:#1f77b4;stroke-opacity:0.8;\" x=\"329.149104\" xlink:href=\"#m486497584b\" y=\"45.551422\"/>\n     <use style=\"fill:#1f77b4;fill-opacity:0.8;stroke:#1f77b4;stroke-opacity:0.8;\" x=\"316.521699\" xlink:href=\"#m486497584b\" y=\"57.914986\"/>\n     <use style=\"fill:#1f77b4;fill-opacity:0.8;stroke:#1f77b4;stroke-opacity:0.8;\" x=\"327.527235\" xlink:href=\"#m486497584b\" y=\"59.177459\"/>\n     <use style=\"fill:#1f77b4;fill-opacity:0.8;stroke:#1f77b4;stroke-opacity:0.8;\" x=\"244.580245\" xlink:href=\"#m486497584b\" y=\"100.469003\"/>\n     <use style=\"fill:#1f77b4;fill-opacity:0.8;stroke:#1f77b4;stroke-opacity:0.8;\" x=\"283.389242\" xlink:href=\"#m486497584b\" y=\"79.635273\"/>\n     <use style=\"fill:#1f77b4;fill-opacity:0.8;stroke:#1f77b4;stroke-opacity:0.8;\" x=\"280.724744\" xlink:href=\"#m486497584b\" y=\"83.86122\"/>\n     <use style=\"fill:#1f77b4;fill-opacity:0.8;stroke:#1f77b4;stroke-opacity:0.8;\" x=\"233.922252\" xlink:href=\"#m486497584b\" y=\"113.13442\"/>\n     <use style=\"fill:#1f77b4;fill-opacity:0.8;stroke:#1f77b4;stroke-opacity:0.8;\" x=\"207.045574\" xlink:href=\"#m486497584b\" y=\"124.348309\"/>\n     <use style=\"fill:#1f77b4;fill-opacity:0.8;stroke:#1f77b4;stroke-opacity:0.8;\" x=\"315.479069\" xlink:href=\"#m486497584b\" y=\"57.16291\"/>\n     <use style=\"fill:#1f77b4;fill-opacity:0.8;stroke:#1f77b4;stroke-opacity:0.8;\" x=\"295.205713\" xlink:href=\"#m486497584b\" y=\"70.385258\"/>\n     <use style=\"fill:#1f77b4;fill-opacity:0.8;stroke:#1f77b4;stroke-opacity:0.8;\" x=\"315.479069\" xlink:href=\"#m486497584b\" y=\"57.223573\"/>\n     <use style=\"fill:#1f77b4;fill-opacity:0.8;stroke:#1f77b4;stroke-opacity:0.8;\" x=\"279.797962\" xlink:href=\"#m486497584b\" y=\"78.97675\"/>\n     <use style=\"fill:#1f77b4;fill-opacity:0.8;stroke:#1f77b4;stroke-opacity:0.8;\" x=\"345.251941\" xlink:href=\"#m486497584b\" y=\"37.904227\"/>\n     <use style=\"fill:#1f77b4;fill-opacity:0.8;stroke:#1f77b4;stroke-opacity:0.8;\" x=\"364.830211\" xlink:href=\"#m486497584b\" y=\"29.15121\"/>\n     <use style=\"fill:#1f77b4;fill-opacity:0.8;stroke:#1f77b4;stroke-opacity:0.8;\" x=\"243.537616\" xlink:href=\"#m486497584b\" y=\"101.337288\"/>\n     <use style=\"fill:#1f77b4;fill-opacity:0.8;stroke:#1f77b4;stroke-opacity:0.8;\" x=\"332.972079\" xlink:href=\"#m486497584b\" y=\"46.256721\"/>\n     <use style=\"fill:#1f77b4;fill-opacity:0.8;stroke:#1f77b4;stroke-opacity:0.8;\" x=\"315.710764\" xlink:href=\"#m486497584b\" y=\"57.42018\"/>\n     <use style=\"fill:#1f77b4;fill-opacity:0.8;stroke:#1f77b4;stroke-opacity:0.8;\" x=\"373.402944\" xlink:href=\"#m486497584b\" y=\"20.613071\"/>\n     <use style=\"fill:#1f77b4;fill-opacity:0.8;stroke:#1f77b4;stroke-opacity:0.8;\" x=\"285.937893\" xlink:href=\"#m486497584b\" y=\"79.053493\"/>\n     <use style=\"fill:#1f77b4;fill-opacity:0.8;stroke:#1f77b4;stroke-opacity:0.8;\" x=\"345.020245\" xlink:href=\"#m486497584b\" y=\"37.160191\"/>\n     <use style=\"fill:#1f77b4;fill-opacity:0.8;stroke:#1f77b4;stroke-opacity:0.8;\" x=\"359.153671\" xlink:href=\"#m486497584b\" y=\"29.947138\"/>\n     <use style=\"fill:#1f77b4;fill-opacity:0.8;stroke:#1f77b4;stroke-opacity:0.8;\" x=\"342.70329\" xlink:href=\"#m486497584b\" y=\"38.827328\"/>\n     <use style=\"fill:#1f77b4;fill-opacity:0.8;stroke:#1f77b4;stroke-opacity:0.8;\" x=\"293.120453\" xlink:href=\"#m486497584b\" y=\"70.1046\"/>\n     <use style=\"fill:#1f77b4;fill-opacity:0.8;stroke:#1f77b4;stroke-opacity:0.8;\" x=\"380.933048\" xlink:href=\"#m486497584b\" y=\"17.962901\"/>\n     <use style=\"fill:#1f77b4;fill-opacity:0.8;stroke:#1f77b4;stroke-opacity:0.8;\" x=\"286.980522\" xlink:href=\"#m486497584b\" y=\"76.602122\"/>\n     <use style=\"fill:#1f77b4;fill-opacity:0.8;stroke:#1f77b4;stroke-opacity:0.8;\" x=\"359.617062\" xlink:href=\"#m486497584b\" y=\"29.708871\"/>\n     <use style=\"fill:#1f77b4;fill-opacity:0.8;stroke:#1f77b4;stroke-opacity:0.8;\" x=\"276.206681\" xlink:href=\"#m486497584b\" y=\"78.020759\"/>\n     <use style=\"fill:#1f77b4;fill-opacity:0.8;stroke:#1f77b4;stroke-opacity:0.8;\" x=\"196.735124\" xlink:href=\"#m486497584b\" y=\"120.720222\"/>\n     <use style=\"fill:#1f77b4;fill-opacity:0.8;stroke:#1f77b4;stroke-opacity:0.8;\" x=\"358.574432\" xlink:href=\"#m486497584b\" y=\"28.416675\"/>\n     <use style=\"fill:#1f77b4;fill-opacity:0.8;stroke:#1f77b4;stroke-opacity:0.8;\" x=\"292.77291\" xlink:href=\"#m486497584b\" y=\"71.496195\"/>\n     <use style=\"fill:#1f77b4;fill-opacity:0.8;stroke:#1f77b4;stroke-opacity:0.8;\" x=\"340.849726\" xlink:href=\"#m486497584b\" y=\"41.296971\"/>\n     <use style=\"fill:#1f77b4;fill-opacity:0.8;stroke:#1f77b4;stroke-opacity:0.8;\" x=\"373.982183\" xlink:href=\"#m486497584b\" y=\"18.474517\"/>\n     <use style=\"fill:#1f77b4;fill-opacity:0.8;stroke:#1f77b4;stroke-opacity:0.8;\" x=\"306.790488\" xlink:href=\"#m486497584b\" y=\"62.818459\"/>\n     <use style=\"fill:#1f77b4;fill-opacity:0.8;stroke:#1f77b4;stroke-opacity:0.8;\" x=\"306.790488\" xlink:href=\"#m486497584b\" y=\"64.697551\"/>\n     <use style=\"fill:#1f77b4;fill-opacity:0.8;stroke:#1f77b4;stroke-opacity:0.8;\" x=\"332.856232\" xlink:href=\"#m486497584b\" y=\"45.020073\"/>\n     <use style=\"fill:#1f77b4;fill-opacity:0.8;stroke:#1f77b4;stroke-opacity:0.8;\" x=\"300.187166\" xlink:href=\"#m486497584b\" y=\"67.04806\"/>\n     <use style=\"fill:#1f77b4;fill-opacity:0.8;stroke:#1f77b4;stroke-opacity:0.8;\" x=\"243.769311\" xlink:href=\"#m486497584b\" y=\"99.842639\"/>\n     <use style=\"fill:#1f77b4;fill-opacity:0.8;stroke:#1f77b4;stroke-opacity:0.8;\" x=\"291.151041\" xlink:href=\"#m486497584b\" y=\"74.456989\"/>\n     <use style=\"fill:#1f77b4;fill-opacity:0.8;stroke:#1f77b4;stroke-opacity:0.8;\" x=\"338.532771\" xlink:href=\"#m486497584b\" y=\"40.287626\"/>\n     <use style=\"fill:#1f77b4;fill-opacity:0.8;stroke:#1f77b4;stroke-opacity:0.8;\" x=\"264.621906\" xlink:href=\"#m486497584b\" y=\"90.919327\"/>\n     <use style=\"fill:#1f77b4;fill-opacity:0.8;stroke:#1f77b4;stroke-opacity:0.8;\" x=\"248.634917\" xlink:href=\"#m486497584b\" y=\"94.873387\"/>\n     <use style=\"fill:#1f77b4;fill-opacity:0.8;stroke:#1f77b4;stroke-opacity:0.8;\" x=\"338.764467\" xlink:href=\"#m486497584b\" y=\"42.187913\"/>\n     <use style=\"fill:#1f77b4;fill-opacity:0.8;stroke:#1f77b4;stroke-opacity:0.8;\" x=\"320.344675\" xlink:href=\"#m486497584b\" y=\"55.08575\"/>\n     <use style=\"fill:#1f77b4;fill-opacity:0.8;stroke:#1f77b4;stroke-opacity:0.8;\" x=\"269.487512\" xlink:href=\"#m486497584b\" y=\"89.820084\"/>\n     <use style=\"fill:#1f77b4;fill-opacity:0.8;stroke:#1f77b4;stroke-opacity:0.8;\" x=\"331.813602\" xlink:href=\"#m486497584b\" y=\"45.516779\"/>\n     <use style=\"fill:#1f77b4;fill-opacity:0.8;stroke:#1f77b4;stroke-opacity:0.8;\" x=\"330.307581\" xlink:href=\"#m486497584b\" y=\"46.679901\"/>\n     <use style=\"fill:#1f77b4;fill-opacity:0.8;stroke:#1f77b4;stroke-opacity:0.8;\" x=\"367.494709\" xlink:href=\"#m486497584b\" y=\"25.934607\"/>\n     <use style=\"fill:#1f77b4;fill-opacity:0.8;stroke:#1f77b4;stroke-opacity:0.8;\" x=\"321.966543\" xlink:href=\"#m486497584b\" y=\"51.079067\"/>\n     <use style=\"fill:#1f77b4;fill-opacity:0.8;stroke:#1f77b4;stroke-opacity:0.8;\" x=\"364.019277\" xlink:href=\"#m486497584b\" y=\"25.799395\"/>\n     <use style=\"fill:#1f77b4;fill-opacity:0.8;stroke:#1f77b4;stroke-opacity:0.8;\" x=\"328.338169\" xlink:href=\"#m486497584b\" y=\"48.119734\"/>\n     <use style=\"fill:#1f77b4;fill-opacity:0.8;stroke:#1f77b4;stroke-opacity:0.8;\" x=\"289.992564\" xlink:href=\"#m486497584b\" y=\"74.15002\"/>\n     <use style=\"fill:#1f77b4;fill-opacity:0.8;stroke:#1f77b4;stroke-opacity:0.8;\" x=\"342.471595\" xlink:href=\"#m486497584b\" y=\"40.804358\"/>\n     <use style=\"fill:#1f77b4;fill-opacity:0.8;stroke:#1f77b4;stroke-opacity:0.8;\" x=\"310.497616\" xlink:href=\"#m486497584b\" y=\"56.517544\"/>\n     <use style=\"fill:#1f77b4;fill-opacity:0.8;stroke:#1f77b4;stroke-opacity:0.8;\" x=\"277.133463\" xlink:href=\"#m486497584b\" y=\"82.794867\"/>\n     <use style=\"fill:#1f77b4;fill-opacity:0.8;stroke:#1f77b4;stroke-opacity:0.8;\" x=\"304.473533\" xlink:href=\"#m486497584b\" y=\"58.226341\"/>\n     <use style=\"fill:#1f77b4;fill-opacity:0.8;stroke:#1f77b4;stroke-opacity:0.8;\" x=\"333.898861\" xlink:href=\"#m486497584b\" y=\"44.609318\"/>\n     <use style=\"fill:#1f77b4;fill-opacity:0.8;stroke:#1f77b4;stroke-opacity:0.8;\" x=\"318.606958\" xlink:href=\"#m486497584b\" y=\"55.998619\"/>\n     <use style=\"fill:#1f77b4;fill-opacity:0.8;stroke:#1f77b4;stroke-opacity:0.8;\" x=\"237.745228\" xlink:href=\"#m486497584b\" y=\"106.527997\"/>\n     <use style=\"fill:#1f77b4;fill-opacity:0.8;stroke:#1f77b4;stroke-opacity:0.8;\" x=\"303.315055\" xlink:href=\"#m486497584b\" y=\"69.123028\"/>\n     <use style=\"fill:#1f77b4;fill-opacity:0.8;stroke:#1f77b4;stroke-opacity:0.8;\" x=\"319.881284\" xlink:href=\"#m486497584b\" y=\"54.656723\"/>\n     <use style=\"fill:#1f77b4;fill-opacity:0.8;stroke:#1f77b4;stroke-opacity:0.8;\" x=\"283.968481\" xlink:href=\"#m486497584b\" y=\"79.553415\"/>\n     <use style=\"fill:#1f77b4;fill-opacity:0.8;stroke:#1f77b4;stroke-opacity:0.8;\" x=\"359.501214\" xlink:href=\"#m486497584b\" y=\"35.447739\"/>\n     <use style=\"fill:#1f77b4;fill-opacity:0.8;stroke:#1f77b4;stroke-opacity:0.8;\" x=\"323.588412\" xlink:href=\"#m486497584b\" y=\"51.438111\"/>\n     <use style=\"fill:#1f77b4;fill-opacity:0.8;stroke:#1f77b4;stroke-opacity:0.8;\" x=\"373.982183\" xlink:href=\"#m486497584b\" y=\"19.812027\"/>\n     <use style=\"fill:#1f77b4;fill-opacity:0.8;stroke:#1f77b4;stroke-opacity:0.8;\" x=\"312.119484\" xlink:href=\"#m486497584b\" y=\"58.69922\"/>\n     <use style=\"fill:#1f77b4;fill-opacity:0.8;stroke:#1f77b4;stroke-opacity:0.8;\" x=\"291.151041\" xlink:href=\"#m486497584b\" y=\"73.106323\"/>\n     <use style=\"fill:#1f77b4;fill-opacity:0.8;stroke:#1f77b4;stroke-opacity:0.8;\" x=\"331.350211\" xlink:href=\"#m486497584b\" y=\"49.218247\"/>\n     <use style=\"fill:#1f77b4;fill-opacity:0.8;stroke:#1f77b4;stroke-opacity:0.8;\" x=\"282.810003\" xlink:href=\"#m486497584b\" y=\"80.873627\"/>\n     <use style=\"fill:#1f77b4;fill-opacity:0.8;stroke:#1f77b4;stroke-opacity:0.8;\" x=\"259.872149\" xlink:href=\"#m486497584b\" y=\"92.254644\"/>\n     <use style=\"fill:#1f77b4;fill-opacity:0.8;stroke:#1f77b4;stroke-opacity:0.8;\" x=\"262.073256\" xlink:href=\"#m486497584b\" y=\"90.24911\"/>\n     <use style=\"fill:#1f77b4;fill-opacity:0.8;stroke:#1f77b4;stroke-opacity:0.8;\" x=\"293.004605\" xlink:href=\"#m486497584b\" y=\"71.282778\"/>\n     <use style=\"fill:#1f77b4;fill-opacity:0.8;stroke:#1f77b4;stroke-opacity:0.8;\" x=\"249.214155\" xlink:href=\"#m486497584b\" y=\"94.930396\"/>\n     <use style=\"fill:#1f77b4;fill-opacity:0.8;stroke:#1f77b4;stroke-opacity:0.8;\" x=\"310.845159\" xlink:href=\"#m486497584b\" y=\"59.805041\"/>\n     <use style=\"fill:#1f77b4;fill-opacity:0.8;stroke:#1f77b4;stroke-opacity:0.8;\" x=\"310.381768\" xlink:href=\"#m486497584b\" y=\"68.292018\"/>\n     <use style=\"fill:#1f77b4;fill-opacity:0.8;stroke:#1f77b4;stroke-opacity:0.8;\" x=\"293.931387\" xlink:href=\"#m486497584b\" y=\"70.986772\"/>\n     <use style=\"fill:#1f77b4;fill-opacity:0.8;stroke:#1f77b4;stroke-opacity:0.8;\" x=\"319.417893\" xlink:href=\"#m486497584b\" y=\"55.968653\"/>\n     <use style=\"fill:#1f77b4;fill-opacity:0.8;stroke:#1f77b4;stroke-opacity:0.8;\" x=\"321.734848\" xlink:href=\"#m486497584b\" y=\"52.706005\"/>\n     <use style=\"fill:#1f77b4;fill-opacity:0.8;stroke:#1f77b4;stroke-opacity:0.8;\" x=\"324.16765\" xlink:href=\"#m486497584b\" y=\"50.851032\"/>\n     <use style=\"fill:#1f77b4;fill-opacity:0.8;stroke:#1f77b4;stroke-opacity:0.8;\" x=\"284.316024\" xlink:href=\"#m486497584b\" y=\"68.627492\"/>\n     <use style=\"fill:#1f77b4;fill-opacity:0.8;stroke:#1f77b4;stroke-opacity:0.8;\" x=\"335.752425\" xlink:href=\"#m486497584b\" y=\"44.941138\"/>\n     <use style=\"fill:#1f77b4;fill-opacity:0.8;stroke:#1f77b4;stroke-opacity:0.8;\" x=\"283.389242\" xlink:href=\"#m486497584b\" y=\"79.907891\"/>\n     <use style=\"fill:#1f77b4;fill-opacity:0.8;stroke:#1f77b4;stroke-opacity:0.8;\" x=\"338.764467\" xlink:href=\"#m486497584b\" y=\"42.217149\"/>\n     <use style=\"fill:#1f77b4;fill-opacity:0.8;stroke:#1f77b4;stroke-opacity:0.8;\" x=\"328.222322\" xlink:href=\"#m486497584b\" y=\"49.065493\"/>\n     <use style=\"fill:#1f77b4;fill-opacity:0.8;stroke:#1f77b4;stroke-opacity:0.8;\" x=\"226.507996\" xlink:href=\"#m486497584b\" y=\"108.765951\"/>\n     <use style=\"fill:#1f77b4;fill-opacity:0.8;stroke:#1f77b4;stroke-opacity:0.8;\" x=\"227.550626\" xlink:href=\"#m486497584b\" y=\"99.402649\"/>\n     <use style=\"fill:#1f77b4;fill-opacity:0.8;stroke:#1f77b4;stroke-opacity:0.8;\" x=\"271.920315\" xlink:href=\"#m486497584b\" y=\"83.682155\"/>\n     <use style=\"fill:#1f77b4;fill-opacity:0.8;stroke:#1f77b4;stroke-opacity:0.8;\" x=\"292.888758\" xlink:href=\"#m486497584b\" y=\"72.026814\"/>\n     <use style=\"fill:#1f77b4;fill-opacity:0.8;stroke:#1f77b4;stroke-opacity:0.8;\" x=\"317.680176\" xlink:href=\"#m486497584b\" y=\"52.765937\"/>\n     <use style=\"fill:#1f77b4;fill-opacity:0.8;stroke:#1f77b4;stroke-opacity:0.8;\" x=\"230.099277\" xlink:href=\"#m486497584b\" y=\"105.258459\"/>\n     <use style=\"fill:#1f77b4;fill-opacity:0.8;stroke:#1f77b4;stroke-opacity:0.8;\" x=\"359.501214\" xlink:href=\"#m486497584b\" y=\"28.771883\"/>\n     <use style=\"fill:#1f77b4;fill-opacity:0.8;stroke:#1f77b4;stroke-opacity:0.8;\" x=\"365.525297\" xlink:href=\"#m486497584b\" y=\"28.867628\"/>\n     <use style=\"fill:#1f77b4;fill-opacity:0.8;stroke:#1f77b4;stroke-opacity:0.8;\" x=\"282.578308\" xlink:href=\"#m486497584b\" y=\"78.006142\"/>\n     <use style=\"fill:#1f77b4;fill-opacity:0.8;stroke:#1f77b4;stroke-opacity:0.8;\" x=\"327.411387\" xlink:href=\"#m486497584b\" y=\"50.908772\"/>\n     <use style=\"fill:#1f77b4;fill-opacity:0.8;stroke:#1f77b4;stroke-opacity:0.8;\" x=\"266.127927\" xlink:href=\"#m486497584b\" y=\"86.746003\"/>\n     <use style=\"fill:#1f77b4;fill-opacity:0.8;stroke:#1f77b4;stroke-opacity:0.8;\" x=\"259.872149\" xlink:href=\"#m486497584b\" y=\"82.707892\"/>\n     <use style=\"fill:#1f77b4;fill-opacity:0.8;stroke:#1f77b4;stroke-opacity:0.8;\" x=\"315.94246\" xlink:href=\"#m486497584b\" y=\"56.665181\"/>\n     <use style=\"fill:#1f77b4;fill-opacity:0.8;stroke:#1f77b4;stroke-opacity:0.8;\" x=\"275.859138\" xlink:href=\"#m486497584b\" y=\"83.673384\"/>\n     <use style=\"fill:#1f77b4;fill-opacity:0.8;stroke:#1f77b4;stroke-opacity:0.8;\" x=\"332.624536\" xlink:href=\"#m486497584b\" y=\"46.570269\"/>\n     <use style=\"fill:#1f77b4;fill-opacity:0.8;stroke:#1f77b4;stroke-opacity:0.8;\" x=\"335.404882\" xlink:href=\"#m486497584b\" y=\"43.837509\"/>\n     <use style=\"fill:#1f77b4;fill-opacity:0.8;stroke:#1f77b4;stroke-opacity:0.8;\" x=\"363.787581\" xlink:href=\"#m486497584b\" y=\"27.035312\"/>\n     <use style=\"fill:#1f77b4;fill-opacity:0.8;stroke:#1f77b4;stroke-opacity:0.8;\" x=\"328.80156\" xlink:href=\"#m486497584b\" y=\"48.870348\"/>\n     <use style=\"fill:#1f77b4;fill-opacity:0.8;stroke:#1f77b4;stroke-opacity:0.8;\" x=\"351.276024\" xlink:href=\"#m486497584b\" y=\"35.379037\"/>\n     <use style=\"fill:#1f77b4;fill-opacity:0.8;stroke:#1f77b4;stroke-opacity:0.8;\" x=\"317.216785\" xlink:href=\"#m486497584b\" y=\"56.301203\"/>\n     <use style=\"fill:#1f77b4;fill-opacity:0.8;stroke:#1f77b4;stroke-opacity:0.8;\" x=\"331.350211\" xlink:href=\"#m486497584b\" y=\"47.422475\"/>\n     <use style=\"fill:#1f77b4;fill-opacity:0.8;stroke:#1f77b4;stroke-opacity:0.8;\" x=\"236.12336\" xlink:href=\"#m486497584b\" y=\"99.222853\"/>\n     <use style=\"fill:#1f77b4;fill-opacity:0.8;stroke:#1f77b4;stroke-opacity:0.8;\" x=\"309.22329\" xlink:href=\"#m486497584b\" y=\"61.078234\"/>\n     <use style=\"fill:#1f77b4;fill-opacity:0.8;stroke:#1f77b4;stroke-opacity:0.8;\" x=\"311.076854\" xlink:href=\"#m486497584b\" y=\"63.959362\"/>\n     <use style=\"fill:#1f77b4;fill-opacity:0.8;stroke:#1f77b4;stroke-opacity:0.8;\" x=\"287.443913\" xlink:href=\"#m486497584b\" y=\"70.714154\"/>\n     <use style=\"fill:#1f77b4;fill-opacity:0.8;stroke:#1f77b4;stroke-opacity:0.8;\" x=\"308.528204\" xlink:href=\"#m486497584b\" y=\"61.252914\"/>\n     <use style=\"fill:#1f77b4;fill-opacity:0.8;stroke:#1f77b4;stroke-opacity:0.8;\" x=\"263.231733\" xlink:href=\"#m486497584b\" y=\"89.57597\"/>\n     <use style=\"fill:#1f77b4;fill-opacity:0.8;stroke:#1f77b4;stroke-opacity:0.8;\" x=\"295.32156\" xlink:href=\"#m486497584b\" y=\"63.772988\"/>\n     <use style=\"fill:#1f77b4;fill-opacity:0.8;stroke:#1f77b4;stroke-opacity:0.8;\" x=\"301.345643\" xlink:href=\"#m486497584b\" y=\"65.657196\"/>\n     <use style=\"fill:#1f77b4;fill-opacity:0.8;stroke:#1f77b4;stroke-opacity:0.8;\" x=\"297.870211\" xlink:href=\"#m486497584b\" y=\"75.852239\"/>\n     <use style=\"fill:#1f77b4;fill-opacity:0.8;stroke:#1f77b4;stroke-opacity:0.8;\" x=\"334.825643\" xlink:href=\"#m486497584b\" y=\"45.783111\"/>\n     <use style=\"fill:#1f77b4;fill-opacity:0.8;stroke:#1f77b4;stroke-opacity:0.8;\" x=\"285.242806\" xlink:href=\"#m486497584b\" y=\"78.915356\"/>\n     <use style=\"fill:#1f77b4;fill-opacity:0.8;stroke:#1f77b4;stroke-opacity:0.8;\" x=\"313.393809\" xlink:href=\"#m486497584b\" y=\"58.759883\"/>\n     <use style=\"fill:#1f77b4;fill-opacity:0.8;stroke:#1f77b4;stroke-opacity:0.8;\" x=\"317.911872\" xlink:href=\"#m486497584b\" y=\"57.385829\"/>\n     <use style=\"fill:#1f77b4;fill-opacity:0.8;stroke:#1f77b4;stroke-opacity:0.8;\" x=\"258.945367\" xlink:href=\"#m486497584b\" y=\"96.210166\"/>\n     <use style=\"fill:#1f77b4;fill-opacity:0.8;stroke:#1f77b4;stroke-opacity:0.8;\" x=\"299.376232\" xlink:href=\"#m486497584b\" y=\"67.700736\"/>\n     <use style=\"fill:#1f77b4;fill-opacity:0.8;stroke:#1f77b4;stroke-opacity:0.8;\" x=\"317.796024\" xlink:href=\"#m486497584b\" y=\"56.681992\"/>\n     <use style=\"fill:#1f77b4;fill-opacity:0.8;stroke:#1f77b4;stroke-opacity:0.8;\" x=\"296.595886\" xlink:href=\"#m486497584b\" y=\"74.289618\"/>\n     <use style=\"fill:#1f77b4;fill-opacity:0.8;stroke:#1f77b4;stroke-opacity:0.8;\" x=\"315.015678\" xlink:href=\"#m486497584b\" y=\"61.625663\"/>\n     <use style=\"fill:#1f77b4;fill-opacity:0.8;stroke:#1f77b4;stroke-opacity:0.8;\" x=\"49.260938\" xlink:href=\"#m486497584b\" y=\"171.172858\"/>\n     <use style=\"fill:#1f77b4;fill-opacity:0.8;stroke:#1f77b4;stroke-opacity:0.8;\" x=\"341.776508\" xlink:href=\"#m486497584b\" y=\"42.380135\"/>\n     <use style=\"fill:#1f77b4;fill-opacity:0.8;stroke:#1f77b4;stroke-opacity:0.8;\" x=\"236.818446\" xlink:href=\"#m486497584b\" y=\"95.292181\"/>\n     <use style=\"fill:#1f77b4;fill-opacity:0.8;stroke:#1f77b4;stroke-opacity:0.8;\" x=\"307.833117\" xlink:href=\"#m486497584b\" y=\"66.190007\"/>\n     <use style=\"fill:#1f77b4;fill-opacity:0.8;stroke:#1f77b4;stroke-opacity:0.8;\" x=\"280.261353\" xlink:href=\"#m486497584b\" y=\"78.438092\"/>\n     <use style=\"fill:#1f77b4;fill-opacity:0.8;stroke:#1f77b4;stroke-opacity:0.8;\" x=\"339.691249\" xlink:href=\"#m486497584b\" y=\"42.903445\"/>\n     <use style=\"fill:#1f77b4;fill-opacity:0.8;stroke:#1f77b4;stroke-opacity:0.8;\" x=\"299.376232\" xlink:href=\"#m486497584b\" y=\"68.181655\"/>\n     <use style=\"fill:#1f77b4;fill-opacity:0.8;stroke:#1f77b4;stroke-opacity:0.8;\" x=\"287.212218\" xlink:href=\"#m486497584b\" y=\"74.370015\"/>\n     <use style=\"fill:#1f77b4;fill-opacity:0.8;stroke:#1f77b4;stroke-opacity:0.8;\" x=\"345.483636\" xlink:href=\"#m486497584b\" y=\"41.432914\"/>\n     <use style=\"fill:#1f77b4;fill-opacity:0.8;stroke:#1f77b4;stroke-opacity:0.8;\" x=\"354.05637\" xlink:href=\"#m486497584b\" y=\"33.105269\"/>\n     <use style=\"fill:#1f77b4;fill-opacity:0.8;stroke:#1f77b4;stroke-opacity:0.8;\" x=\"312.119484\" xlink:href=\"#m486497584b\" y=\"59.21449\"/>\n     <use style=\"fill:#1f77b4;fill-opacity:0.8;stroke:#1f77b4;stroke-opacity:0.8;\" x=\"333.319623\" xlink:href=\"#m486497584b\" y=\"45.420595\"/>\n     <use style=\"fill:#1f77b4;fill-opacity:0.8;stroke:#1f77b4;stroke-opacity:0.8;\" x=\"289.065782\" xlink:href=\"#m486497584b\" y=\"74.034541\"/>\n     <use style=\"fill:#1f77b4;fill-opacity:0.8;stroke:#1f77b4;stroke-opacity:0.8;\" x=\"277.944398\" xlink:href=\"#m486497584b\" y=\"82.660385\"/>\n     <use style=\"fill:#1f77b4;fill-opacity:0.8;stroke:#1f77b4;stroke-opacity:0.8;\" x=\"305.516162\" xlink:href=\"#m486497584b\" y=\"62.45375\"/>\n     <use style=\"fill:#1f77b4;fill-opacity:0.8;stroke:#1f77b4;stroke-opacity:0.8;\" x=\"231.836993\" xlink:href=\"#m486497584b\" y=\"107.790226\"/>\n     <use style=\"fill:#1f77b4;fill-opacity:0.8;stroke:#1f77b4;stroke-opacity:0.8;\" x=\"285.242806\" xlink:href=\"#m486497584b\" y=\"99.043787\"/>\n     <use style=\"fill:#1f77b4;fill-opacity:0.8;stroke:#1f77b4;stroke-opacity:0.8;\" x=\"316.869242\" xlink:href=\"#m486497584b\" y=\"46.863352\"/>\n     <use style=\"fill:#1f77b4;fill-opacity:0.8;stroke:#1f77b4;stroke-opacity:0.8;\" x=\"306.095401\" xlink:href=\"#m486497584b\" y=\"64.299221\"/>\n     <use style=\"fill:#1f77b4;fill-opacity:0.8;stroke:#1f77b4;stroke-opacity:0.8;\" x=\"346.410418\" xlink:href=\"#m486497584b\" y=\"37.551942\"/>\n     <use style=\"fill:#1f77b4;fill-opacity:0.8;stroke:#1f77b4;stroke-opacity:0.8;\" x=\"348.263982\" xlink:href=\"#m486497584b\" y=\"36.658076\"/>\n     <use style=\"fill:#1f77b4;fill-opacity:0.8;stroke:#1f77b4;stroke-opacity:0.8;\" x=\"303.546751\" xlink:href=\"#m486497584b\" y=\"65.088572\"/>\n     <use style=\"fill:#1f77b4;fill-opacity:0.8;stroke:#1f77b4;stroke-opacity:0.8;\" x=\"270.182598\" xlink:href=\"#m486497584b\" y=\"91.034806\"/>\n     <use style=\"fill:#1f77b4;fill-opacity:0.8;stroke:#1f77b4;stroke-opacity:0.8;\" x=\"344.325159\" xlink:href=\"#m486497584b\" y=\"40.338056\"/>\n     <use style=\"fill:#1f77b4;fill-opacity:0.8;stroke:#1f77b4;stroke-opacity:0.8;\" x=\"343.861768\" xlink:href=\"#m486497584b\" y=\"47.21125\"/>\n     <use style=\"fill:#1f77b4;fill-opacity:0.8;stroke:#1f77b4;stroke-opacity:0.8;\" x=\"254.195609\" xlink:href=\"#m486497584b\" y=\"97.245092\"/>\n     <use style=\"fill:#1f77b4;fill-opacity:0.8;stroke:#1f77b4;stroke-opacity:0.8;\" x=\"356.720868\" xlink:href=\"#m486497584b\" y=\"32.256718\"/>\n     <use style=\"fill:#1f77b4;fill-opacity:0.8;stroke:#1f77b4;stroke-opacity:0.8;\" x=\"255.933325\" xlink:href=\"#m486497584b\" y=\"88.814393\"/>\n     <use style=\"fill:#1f77b4;fill-opacity:0.8;stroke:#1f77b4;stroke-opacity:0.8;\" x=\"259.987996\" xlink:href=\"#m486497584b\" y=\"80.339841\"/>\n     <use style=\"fill:#1f77b4;fill-opacity:0.8;stroke:#1f77b4;stroke-opacity:0.8;\" x=\"274.816508\" xlink:href=\"#m486497584b\" y=\"87.895677\"/>\n     <use style=\"fill:#1f77b4;fill-opacity:0.8;stroke:#1f77b4;stroke-opacity:0.8;\" x=\"290.919346\" xlink:href=\"#m486497584b\" y=\"70.584788\"/>\n     <use style=\"fill:#1f77b4;fill-opacity:0.8;stroke:#1f77b4;stroke-opacity:0.8;\" x=\"288.949934\" xlink:href=\"#m486497584b\" y=\"76.062732\"/>\n     <use style=\"fill:#1f77b4;fill-opacity:0.8;stroke:#1f77b4;stroke-opacity:0.8;\" x=\"235.428273\" xlink:href=\"#m486497584b\" y=\"111.389079\"/>\n     <use style=\"fill:#1f77b4;fill-opacity:0.8;stroke:#1f77b4;stroke-opacity:0.8;\" x=\"368.769034\" xlink:href=\"#m486497584b\" y=\"21.628994\"/>\n     <use style=\"fill:#1f77b4;fill-opacity:0.8;stroke:#1f77b4;stroke-opacity:0.8;\" x=\"281.072287\" xlink:href=\"#m486497584b\" y=\"77.868736\"/>\n     <use style=\"fill:#1f77b4;fill-opacity:0.8;stroke:#1f77b4;stroke-opacity:0.8;\" x=\"258.25028\" xlink:href=\"#m486497584b\" y=\"81.791369\"/>\n     <use style=\"fill:#1f77b4;fill-opacity:0.8;stroke:#1f77b4;stroke-opacity:0.8;\" x=\"272.615401\" xlink:href=\"#m486497584b\" y=\"83.783747\"/>\n     <use style=\"fill:#1f77b4;fill-opacity:0.8;stroke:#1f77b4;stroke-opacity:0.8;\" x=\"287.443913\" xlink:href=\"#m486497584b\" y=\"75.424674\"/>\n     <use style=\"fill:#1f77b4;fill-opacity:0.8;stroke:#1f77b4;stroke-opacity:0.8;\" x=\"334.362252\" xlink:href=\"#m486497584b\" y=\"45.468102\"/>\n     <use style=\"fill:#1f77b4;fill-opacity:0.8;stroke:#1f77b4;stroke-opacity:0.8;\" x=\"334.4781\" xlink:href=\"#m486497584b\" y=\"45.327042\"/>\n     <use style=\"fill:#1f77b4;fill-opacity:0.8;stroke:#1f77b4;stroke-opacity:0.8;\" x=\"300.882252\" xlink:href=\"#m486497584b\" y=\"66.444354\"/>\n     <use style=\"fill:#1f77b4;fill-opacity:0.8;stroke:#1f77b4;stroke-opacity:0.8;\" x=\"313.046266\" xlink:href=\"#m486497584b\" y=\"58.095513\"/>\n     <use style=\"fill:#1f77b4;fill-opacity:0.8;stroke:#1f77b4;stroke-opacity:0.8;\" x=\"272.962944\" xlink:href=\"#m486497584b\" y=\"83.213661\"/>\n     <use style=\"fill:#1f77b4;fill-opacity:0.8;stroke:#1f77b4;stroke-opacity:0.8;\" x=\"261.030626\" xlink:href=\"#m486497584b\" y=\"93.569497\"/>\n     <use style=\"fill:#1f77b4;fill-opacity:0.8;stroke:#1f77b4;stroke-opacity:0.8;\" x=\"266.243775\" xlink:href=\"#m486497584b\" y=\"90.009382\"/>\n     <use style=\"fill:#1f77b4;fill-opacity:0.8;stroke:#1f77b4;stroke-opacity:0.8;\" x=\"278.755332\" xlink:href=\"#m486497584b\" y=\"86.855635\"/>\n     <use style=\"fill:#1f77b4;fill-opacity:0.8;stroke:#1f77b4;stroke-opacity:0.8;\" x=\"325.673671\" xlink:href=\"#m486497584b\" y=\"50.199818\"/>\n     <use style=\"fill:#1f77b4;fill-opacity:0.8;stroke:#1f77b4;stroke-opacity:0.8;\" x=\"219.441284\" xlink:href=\"#m486497584b\" y=\"105.819774\"/>\n     <use style=\"fill:#1f77b4;fill-opacity:0.8;stroke:#1f77b4;stroke-opacity:0.8;\" x=\"280.724744\" xlink:href=\"#m486497584b\" y=\"78.578421\"/>\n     <use style=\"fill:#1f77b4;fill-opacity:0.8;stroke:#1f77b4;stroke-opacity:0.8;\" x=\"314.668135\" xlink:href=\"#m486497584b\" y=\"58.132057\"/>\n     <use style=\"fill:#1f77b4;fill-opacity:0.8;stroke:#1f77b4;stroke-opacity:0.8;\" x=\"361.354778\" xlink:href=\"#m486497584b\" y=\"30.875355\"/>\n     <use style=\"fill:#1f77b4;fill-opacity:0.8;stroke:#1f77b4;stroke-opacity:0.8;\" x=\"246.781353\" xlink:href=\"#m486497584b\" y=\"99.090564\"/>\n     <use style=\"fill:#1f77b4;fill-opacity:0.8;stroke:#1f77b4;stroke-opacity:0.8;\" x=\"251.878654\" xlink:href=\"#m486497584b\" y=\"90.954409\"/>\n     <use style=\"fill:#1f77b4;fill-opacity:0.8;stroke:#1f77b4;stroke-opacity:0.8;\" x=\"337.490142\" xlink:href=\"#m486497584b\" y=\"44.329209\"/>\n     <use style=\"fill:#1f77b4;fill-opacity:0.8;stroke:#1f77b4;stroke-opacity:0.8;\" x=\"231.257754\" xlink:href=\"#m486497584b\" y=\"104.925908\"/>\n     <use style=\"fill:#1f77b4;fill-opacity:0.8;stroke:#1f77b4;stroke-opacity:0.8;\" x=\"310.497616\" xlink:href=\"#m486497584b\" y=\"60.128821\"/>\n     <use style=\"fill:#1f77b4;fill-opacity:0.8;stroke:#1f77b4;stroke-opacity:0.8;\" x=\"298.912841\" xlink:href=\"#m486497584b\" y=\"69.21585\"/>\n     <use style=\"fill:#1f77b4;fill-opacity:0.8;stroke:#1f77b4;stroke-opacity:0.8;\" x=\"294.858169\" xlink:href=\"#m486497584b\" y=\"69.139838\"/>\n     <use style=\"fill:#1f77b4;fill-opacity:0.8;stroke:#1f77b4;stroke-opacity:0.8;\" x=\"317.911872\" xlink:href=\"#m486497584b\" y=\"56.650564\"/>\n     <use style=\"fill:#1f77b4;fill-opacity:0.8;stroke:#1f77b4;stroke-opacity:0.8;\" x=\"258.597823\" xlink:href=\"#m486497584b\" y=\"95.04222\"/>\n     <use style=\"fill:#1f77b4;fill-opacity:0.8;stroke:#1f77b4;stroke-opacity:0.8;\" x=\"277.82855\" xlink:href=\"#m486497584b\" y=\"86.07871\"/>\n     <use style=\"fill:#1f77b4;fill-opacity:0.8;stroke:#1f77b4;stroke-opacity:0.8;\" x=\"266.823014\" xlink:href=\"#m486497584b\" y=\"87.511965\"/>\n     <use style=\"fill:#1f77b4;fill-opacity:0.8;stroke:#1f77b4;stroke-opacity:0.8;\" x=\"373.402944\" xlink:href=\"#m486497584b\" y=\"20.516595\"/>\n     <use style=\"fill:#1f77b4;fill-opacity:0.8;stroke:#1f77b4;stroke-opacity:0.8;\" x=\"280.493048\" xlink:href=\"#m486497584b\" y=\"78.722404\"/>\n     <use style=\"fill:#1f77b4;fill-opacity:0.8;stroke:#1f77b4;stroke-opacity:0.8;\" x=\"305.63201\" xlink:href=\"#m486497584b\" y=\"63.086692\"/>\n     <use style=\"fill:#1f77b4;fill-opacity:0.8;stroke:#1f77b4;stroke-opacity:0.8;\" x=\"333.898861\" xlink:href=\"#m486497584b\" y=\"46.0148\"/>\n     <use style=\"fill:#1f77b4;fill-opacity:0.8;stroke:#1f77b4;stroke-opacity:0.8;\" x=\"148.310764\" xlink:href=\"#m486497584b\" y=\"157.892771\"/>\n     <use style=\"fill:#1f77b4;fill-opacity:0.8;stroke:#1f77b4;stroke-opacity:0.8;\" x=\"286.401284\" xlink:href=\"#m486497584b\" y=\"75.997684\"/>\n     <use style=\"fill:#1f77b4;fill-opacity:0.8;stroke:#1f77b4;stroke-opacity:0.8;\" x=\"311.656093\" xlink:href=\"#m486497584b\" y=\"58.88998\"/>\n     <use style=\"fill:#1f77b4;fill-opacity:0.8;stroke:#1f77b4;stroke-opacity:0.8;\" x=\"305.284467\" xlink:href=\"#m486497584b\" y=\"68.207967\"/>\n     <use style=\"fill:#1f77b4;fill-opacity:0.8;stroke:#1f77b4;stroke-opacity:0.8;\" x=\"289.760868\" xlink:href=\"#m486497584b\" y=\"72.797892\"/>\n     <use style=\"fill:#1f77b4;fill-opacity:0.8;stroke:#1f77b4;stroke-opacity:0.8;\" x=\"314.668135\" xlink:href=\"#m486497584b\" y=\"60.812194\"/>\n     <use style=\"fill:#1f77b4;fill-opacity:0.8;stroke:#1f77b4;stroke-opacity:0.8;\" x=\"328.80156\" xlink:href=\"#m486497584b\" y=\"48.356539\"/>\n     <use style=\"fill:#1f77b4;fill-opacity:0.8;stroke:#1f77b4;stroke-opacity:0.8;\" x=\"283.736785\" xlink:href=\"#m486497584b\" y=\"64.252445\"/>\n     <use style=\"fill:#1f77b4;fill-opacity:0.8;stroke:#1f77b4;stroke-opacity:0.8;\" x=\"232.879623\" xlink:href=\"#m486497584b\" y=\"93.467174\"/>\n     <use style=\"fill:#1f77b4;fill-opacity:0.8;stroke:#1f77b4;stroke-opacity:0.8;\" x=\"296.943429\" xlink:href=\"#m486497584b\" y=\"68.633339\"/>\n     <use style=\"fill:#1f77b4;fill-opacity:0.8;stroke:#1f77b4;stroke-opacity:0.8;\" x=\"360.312149\" xlink:href=\"#m486497584b\" y=\"28.751418\"/>\n     <use style=\"fill:#1f77b4;fill-opacity:0.8;stroke:#1f77b4;stroke-opacity:0.8;\" x=\"345.251941\" xlink:href=\"#m486497584b\" y=\"41.429991\"/>\n     <use style=\"fill:#1f77b4;fill-opacity:0.8;stroke:#1f77b4;stroke-opacity:0.8;\" x=\"265.664536\" xlink:href=\"#m486497584b\" y=\"81.167928\"/>\n     <use style=\"fill:#1f77b4;fill-opacity:0.8;stroke:#1f77b4;stroke-opacity:0.8;\" x=\"238.556162\" xlink:href=\"#m486497584b\" y=\"105.57493\"/>\n     <use style=\"fill:#1f77b4;fill-opacity:0.8;stroke:#1f77b4;stroke-opacity:0.8;\" x=\"323.125021\" xlink:href=\"#m486497584b\" y=\"52.27771\"/>\n     <use style=\"fill:#1f77b4;fill-opacity:0.8;stroke:#1f77b4;stroke-opacity:0.8;\" x=\"239.946335\" xlink:href=\"#m486497584b\" y=\"90.679598\"/>\n     <use style=\"fill:#1f77b4;fill-opacity:0.8;stroke:#1f77b4;stroke-opacity:0.8;\" x=\"241.915747\" xlink:href=\"#m486497584b\" y=\"99.523245\"/>\n     <use style=\"fill:#1f77b4;fill-opacity:0.8;stroke:#1f77b4;stroke-opacity:0.8;\" x=\"322.198239\" xlink:href=\"#m486497584b\" y=\"54.43746\"/>\n     <use style=\"fill:#1f77b4;fill-opacity:0.8;stroke:#1f77b4;stroke-opacity:0.8;\" x=\"373.055401\" xlink:href=\"#m486497584b\" y=\"21.419232\"/>\n     <use style=\"fill:#1f77b4;fill-opacity:0.8;stroke:#1f77b4;stroke-opacity:0.8;\" x=\"317.332633\" xlink:href=\"#m486497584b\" y=\"54.613602\"/>\n     <use style=\"fill:#1f77b4;fill-opacity:0.8;stroke:#1f77b4;stroke-opacity:0.8;\" x=\"330.075886\" xlink:href=\"#m486497584b\" y=\"47.859541\"/>\n     <use style=\"fill:#1f77b4;fill-opacity:0.8;stroke:#1f77b4;stroke-opacity:0.8;\" x=\"165.224536\" xlink:href=\"#m486497584b\" y=\"147.556668\"/>\n     <use style=\"fill:#1f77b4;fill-opacity:0.8;stroke:#1f77b4;stroke-opacity:0.8;\" x=\"283.968481\" xlink:href=\"#m486497584b\" y=\"77.054536\"/>\n     <use style=\"fill:#1f77b4;fill-opacity:0.8;stroke:#1f77b4;stroke-opacity:0.8;\" x=\"312.003636\" xlink:href=\"#m486497584b\" y=\"58.659752\"/>\n     <use style=\"fill:#1f77b4;fill-opacity:0.8;stroke:#1f77b4;stroke-opacity:0.8;\" x=\"278.060245\" xlink:href=\"#m486497584b\" y=\"77.958635\"/>\n     <use style=\"fill:#1f77b4;fill-opacity:0.8;stroke:#1f77b4;stroke-opacity:0.8;\" x=\"331.118515\" xlink:href=\"#m486497584b\" y=\"46.682093\"/>\n     <use style=\"fill:#1f77b4;fill-opacity:0.8;stroke:#1f77b4;stroke-opacity:0.8;\" x=\"325.326128\" xlink:href=\"#m486497584b\" y=\"52.514515\"/>\n     <use style=\"fill:#1f77b4;fill-opacity:0.8;stroke:#1f77b4;stroke-opacity:0.8;\" x=\"328.106474\" xlink:href=\"#m486497584b\" y=\"48.744636\"/>\n     <use style=\"fill:#1f77b4;fill-opacity:0.8;stroke:#1f77b4;stroke-opacity:0.8;\" x=\"316.521699\" xlink:href=\"#m486497584b\" y=\"57.734459\"/>\n     <use style=\"fill:#1f77b4;fill-opacity:0.8;stroke:#1f77b4;stroke-opacity:0.8;\" x=\"303.546751\" xlink:href=\"#m486497584b\" y=\"63.282567\"/>\n     <use style=\"fill:#1f77b4;fill-opacity:0.8;stroke:#1f77b4;stroke-opacity:0.8;\" x=\"290.919346\" xlink:href=\"#m486497584b\" y=\"70.415955\"/>\n     <use style=\"fill:#1f77b4;fill-opacity:0.8;stroke:#1f77b4;stroke-opacity:0.8;\" x=\"315.94246\" xlink:href=\"#m486497584b\" y=\"69.026552\"/>\n     <use style=\"fill:#1f77b4;fill-opacity:0.8;stroke:#1f77b4;stroke-opacity:0.8;\" x=\"266.823014\" xlink:href=\"#m486497584b\" y=\"89.104552\"/>\n     <use style=\"fill:#1f77b4;fill-opacity:0.8;stroke:#1f77b4;stroke-opacity:0.8;\" x=\"303.778446\" xlink:href=\"#m486497584b\" y=\"64.5638\"/>\n     <use style=\"fill:#1f77b4;fill-opacity:0.8;stroke:#1f77b4;stroke-opacity:0.8;\" x=\"241.915747\" xlink:href=\"#m486497584b\" y=\"101.823323\"/>\n     <use style=\"fill:#1f77b4;fill-opacity:0.8;stroke:#1f77b4;stroke-opacity:0.8;\" x=\"347.684744\" xlink:href=\"#m486497584b\" y=\"37.301982\"/>\n     <use style=\"fill:#1f77b4;fill-opacity:0.8;stroke:#1f77b4;stroke-opacity:0.8;\" x=\"273.426335\" xlink:href=\"#m486497584b\" y=\"85.283513\"/>\n     <use style=\"fill:#1f77b4;fill-opacity:0.8;stroke:#1f77b4;stroke-opacity:0.8;\" x=\"267.865643\" xlink:href=\"#m486497584b\" y=\"84.923189\"/>\n     <use style=\"fill:#1f77b4;fill-opacity:0.8;stroke:#1f77b4;stroke-opacity:0.8;\" x=\"299.839623\" xlink:href=\"#m486497584b\" y=\"68.713005\"/>\n     <use style=\"fill:#1f77b4;fill-opacity:0.8;stroke:#1f77b4;stroke-opacity:0.8;\" x=\"255.469934\" xlink:href=\"#m486497584b\" y=\"91.46164\"/>\n     <use style=\"fill:#1f77b4;fill-opacity:0.8;stroke:#1f77b4;stroke-opacity:0.8;\" x=\"313.741353\" xlink:href=\"#m486497584b\" y=\"57.630674\"/>\n     <use style=\"fill:#1f77b4;fill-opacity:0.8;stroke:#1f77b4;stroke-opacity:0.8;\" x=\"230.330972\" xlink:href=\"#m486497584b\" y=\"106.017843\"/>\n     <use style=\"fill:#1f77b4;fill-opacity:0.8;stroke:#1f77b4;stroke-opacity:0.8;\" x=\"275.974986\" xlink:href=\"#m486497584b\" y=\"82.5069\"/>\n     <use style=\"fill:#1f77b4;fill-opacity:0.8;stroke:#1f77b4;stroke-opacity:0.8;\" x=\"311.192702\" xlink:href=\"#m486497584b\" y=\"60.840698\"/>\n     <use style=\"fill:#1f77b4;fill-opacity:0.8;stroke:#1f77b4;stroke-opacity:0.8;\" x=\"235.428273\" xlink:href=\"#m486497584b\" y=\"106.473181\"/>\n     <use style=\"fill:#1f77b4;fill-opacity:0.8;stroke:#1f77b4;stroke-opacity:0.8;\" x=\"337.837685\" xlink:href=\"#m486497584b\" y=\"43.827277\"/>\n     <use style=\"fill:#1f77b4;fill-opacity:0.8;stroke:#1f77b4;stroke-opacity:0.8;\" x=\"341.428965\" xlink:href=\"#m486497584b\" y=\"42.690028\"/>\n     <use style=\"fill:#1f77b4;fill-opacity:0.8;stroke:#1f77b4;stroke-opacity:0.8;\" x=\"322.429934\" xlink:href=\"#m486497584b\" y=\"52.500628\"/>\n     <use style=\"fill:#1f77b4;fill-opacity:0.8;stroke:#1f77b4;stroke-opacity:0.8;\" x=\"221.063152\" xlink:href=\"#m486497584b\" y=\"109.319958\"/>\n     <use style=\"fill:#1f77b4;fill-opacity:0.8;stroke:#1f77b4;stroke-opacity:0.8;\" x=\"329.612495\" xlink:href=\"#m486497584b\" y=\"48.068134\"/>\n     <use style=\"fill:#1f77b4;fill-opacity:0.8;stroke:#1f77b4;stroke-opacity:0.8;\" x=\"275.974986\" xlink:href=\"#m486497584b\" y=\"76.311962\"/>\n     <use style=\"fill:#1f77b4;fill-opacity:0.8;stroke:#1f77b4;stroke-opacity:0.8;\" x=\"234.964882\" xlink:href=\"#m486497584b\" y=\"113.776863\"/>\n     <use style=\"fill:#1f77b4;fill-opacity:0.8;stroke:#1f77b4;stroke-opacity:0.8;\" x=\"288.486543\" xlink:href=\"#m486497584b\" y=\"74.131748\"/>\n     <use style=\"fill:#1f77b4;fill-opacity:0.8;stroke:#1f77b4;stroke-opacity:0.8;\" x=\"274.584813\" xlink:href=\"#m486497584b\" y=\"85.790743\"/>\n     <use style=\"fill:#1f77b4;fill-opacity:0.8;stroke:#1f77b4;stroke-opacity:0.8;\" x=\"293.699692\" xlink:href=\"#m486497584b\" y=\"73.720262\"/>\n     <use style=\"fill:#1f77b4;fill-opacity:0.8;stroke:#1f77b4;stroke-opacity:0.8;\" x=\"299.144536\" xlink:href=\"#m486497584b\" y=\"68.015745\"/>\n     <use style=\"fill:#1f77b4;fill-opacity:0.8;stroke:#1f77b4;stroke-opacity:0.8;\" x=\"298.796993\" xlink:href=\"#m486497584b\" y=\"68.63407\"/>\n     <use style=\"fill:#1f77b4;fill-opacity:0.8;stroke:#1f77b4;stroke-opacity:0.8;\" x=\"256.049173\" xlink:href=\"#m486497584b\" y=\"92.94898\"/>\n     <use style=\"fill:#1f77b4;fill-opacity:0.8;stroke:#1f77b4;stroke-opacity:0.8;\" x=\"301.345643\" xlink:href=\"#m486497584b\" y=\"67.265132\"/>\n     <use style=\"fill:#1f77b4;fill-opacity:0.8;stroke:#1f77b4;stroke-opacity:0.8;\" x=\"300.303014\" xlink:href=\"#m486497584b\" y=\"65.56072\"/>\n     <use style=\"fill:#1f77b4;fill-opacity:0.8;stroke:#1f77b4;stroke-opacity:0.8;\" x=\"357.763498\" xlink:href=\"#m486497584b\" y=\"30.121818\"/>\n     <use style=\"fill:#1f77b4;fill-opacity:0.8;stroke:#1f77b4;stroke-opacity:0.8;\" x=\"302.504121\" xlink:href=\"#m486497584b\" y=\"60.046231\"/>\n     <use style=\"fill:#1f77b4;fill-opacity:0.8;stroke:#1f77b4;stroke-opacity:0.8;\" x=\"311.656093\" xlink:href=\"#m486497584b\" y=\"59.316813\"/>\n     <use style=\"fill:#1f77b4;fill-opacity:0.8;stroke:#1f77b4;stroke-opacity:0.8;\" x=\"301.693187\" xlink:href=\"#m486497584b\" y=\"63.168794\"/>\n     <use style=\"fill:#1f77b4;fill-opacity:0.8;stroke:#1f77b4;stroke-opacity:0.8;\" x=\"205.887097\" xlink:href=\"#m486497584b\" y=\"100.951384\"/>\n     <use style=\"fill:#1f77b4;fill-opacity:0.8;stroke:#1f77b4;stroke-opacity:0.8;\" x=\"304.125989\" xlink:href=\"#m486497584b\" y=\"56.420337\"/>\n     <use style=\"fill:#1f77b4;fill-opacity:0.8;stroke:#1f77b4;stroke-opacity:0.8;\" x=\"377.689311\" xlink:href=\"#m486497584b\" y=\"18.261831\"/>\n     <use style=\"fill:#1f77b4;fill-opacity:0.8;stroke:#1f77b4;stroke-opacity:0.8;\" x=\"306.67464\" xlink:href=\"#m486497584b\" y=\"75.563541\"/>\n     <use style=\"fill:#1f77b4;fill-opacity:0.8;stroke:#1f77b4;stroke-opacity:0.8;\" x=\"315.479069\" xlink:href=\"#m486497584b\" y=\"56.91295\"/>\n     <use style=\"fill:#1f77b4;fill-opacity:0.8;stroke:#1f77b4;stroke-opacity:0.8;\" x=\"294.626474\" xlink:href=\"#m486497584b\" y=\"70.863984\"/>\n     <use style=\"fill:#1f77b4;fill-opacity:0.8;stroke:#1f77b4;stroke-opacity:0.8;\" x=\"338.185228\" xlink:href=\"#m486497584b\" y=\"50.894154\"/>\n     <use style=\"fill:#1f77b4;fill-opacity:0.8;stroke:#1f77b4;stroke-opacity:0.8;\" x=\"378.26855\" xlink:href=\"#m486497584b\" y=\"19.516021\"/>\n     <use style=\"fill:#1f77b4;fill-opacity:0.8;stroke:#1f77b4;stroke-opacity:0.8;\" x=\"283.852633\" xlink:href=\"#m486497584b\" y=\"77.261375\"/>\n     <use style=\"fill:#1f77b4;fill-opacity:0.8;stroke:#1f77b4;stroke-opacity:0.8;\" x=\"343.050834\" xlink:href=\"#m486497584b\" y=\"35.668465\"/>\n     <use style=\"fill:#1f77b4;fill-opacity:0.8;stroke:#1f77b4;stroke-opacity:0.8;\" x=\"334.709796\" xlink:href=\"#m486497584b\" y=\"48.816994\"/>\n     <use style=\"fill:#1f77b4;fill-opacity:0.8;stroke:#1f77b4;stroke-opacity:0.8;\" x=\"373.866335\" xlink:href=\"#m486497584b\" y=\"21.774439\"/>\n     <use style=\"fill:#1f77b4;fill-opacity:0.8;stroke:#1f77b4;stroke-opacity:0.8;\" x=\"377.110072\" xlink:href=\"#m486497584b\" y=\"18.36123\"/>\n     <use style=\"fill:#1f77b4;fill-opacity:0.8;stroke:#1f77b4;stroke-opacity:0.8;\" x=\"289.645021\" xlink:href=\"#m486497584b\" y=\"73.602591\"/>\n     <use style=\"fill:#1f77b4;fill-opacity:0.8;stroke:#1f77b4;stroke-opacity:0.8;\" x=\"295.437408\" xlink:href=\"#m486497584b\" y=\"68.233791\"/>\n     <use style=\"fill:#1f77b4;fill-opacity:0.8;stroke:#1f77b4;stroke-opacity:0.8;\" x=\"375.719899\" xlink:href=\"#m486497584b\" y=\"19.639539\"/>\n     <use style=\"fill:#1f77b4;fill-opacity:0.8;stroke:#1f77b4;stroke-opacity:0.8;\" x=\"321.619\" xlink:href=\"#m486497584b\" y=\"59.648633\"/>\n     <use style=\"fill:#1f77b4;fill-opacity:0.8;stroke:#1f77b4;stroke-opacity:0.8;\" x=\"329.380799\" xlink:href=\"#m486497584b\" y=\"49.78614\"/>\n     <use style=\"fill:#1f77b4;fill-opacity:0.8;stroke:#1f77b4;stroke-opacity:0.8;\" x=\"288.254848\" xlink:href=\"#m486497584b\" y=\"76.04446\"/>\n     <use style=\"fill:#1f77b4;fill-opacity:0.8;stroke:#1f77b4;stroke-opacity:0.8;\" x=\"339.11201\" xlink:href=\"#m486497584b\" y=\"42.393291\"/>\n     <use style=\"fill:#1f77b4;fill-opacity:0.8;stroke:#1f77b4;stroke-opacity:0.8;\" x=\"264.158515\" xlink:href=\"#m486497584b\" y=\"84.532168\"/>\n     <use style=\"fill:#1f77b4;fill-opacity:0.8;stroke:#1f77b4;stroke-opacity:0.8;\" x=\"272.15201\" xlink:href=\"#m486497584b\" y=\"84.17696\"/>\n     <use style=\"fill:#1f77b4;fill-opacity:0.8;stroke:#1f77b4;stroke-opacity:0.8;\" x=\"282.578308\" xlink:href=\"#m486497584b\" y=\"97.273596\"/>\n     <use style=\"fill:#1f77b4;fill-opacity:0.8;stroke:#1f77b4;stroke-opacity:0.8;\" x=\"254.195609\" xlink:href=\"#m486497584b\" y=\"97.960623\"/>\n     <use style=\"fill:#1f77b4;fill-opacity:0.8;stroke:#1f77b4;stroke-opacity:0.8;\" x=\"226.044605\" xlink:href=\"#m486497584b\" y=\"106.851046\"/>\n     <use style=\"fill:#1f77b4;fill-opacity:0.8;stroke:#1f77b4;stroke-opacity:0.8;\" x=\"384.060938\" xlink:href=\"#m486497584b\" y=\"21.734241\"/>\n     <use style=\"fill:#1f77b4;fill-opacity:0.8;stroke:#1f77b4;stroke-opacity:0.8;\" x=\"318.722806\" xlink:href=\"#m486497584b\" y=\"55.796896\"/>\n     <use style=\"fill:#1f77b4;fill-opacity:0.8;stroke:#1f77b4;stroke-opacity:0.8;\" x=\"344.325159\" xlink:href=\"#m486497584b\" y=\"38.175383\"/>\n     <use style=\"fill:#1f77b4;fill-opacity:0.8;stroke:#1f77b4;stroke-opacity:0.8;\" x=\"308.991595\" xlink:href=\"#m486497584b\" y=\"60.799769\"/>\n     <use style=\"fill:#1f77b4;fill-opacity:0.8;stroke:#1f77b4;stroke-opacity:0.8;\" x=\"311.771941\" xlink:href=\"#m486497584b\" y=\"60.101047\"/>\n     <use style=\"fill:#1f77b4;fill-opacity:0.8;stroke:#1f77b4;stroke-opacity:0.8;\" x=\"276.901768\" xlink:href=\"#m486497584b\" y=\"76.235951\"/>\n     <use style=\"fill:#1f77b4;fill-opacity:0.8;stroke:#1f77b4;stroke-opacity:0.8;\" x=\"261.262322\" xlink:href=\"#m486497584b\" y=\"83.07991\"/>\n     <use style=\"fill:#1f77b4;fill-opacity:0.8;stroke:#1f77b4;stroke-opacity:0.8;\" x=\"306.327097\" xlink:href=\"#m486497584b\" y=\"65.196254\"/>\n     <use style=\"fill:#1f77b4;fill-opacity:0.8;stroke:#1f77b4;stroke-opacity:0.8;\" x=\"303.662598\" xlink:href=\"#m486497584b\" y=\"75.565003\"/>\n     <use style=\"fill:#1f77b4;fill-opacity:0.8;stroke:#1f77b4;stroke-opacity:0.8;\" x=\"330.423429\" xlink:href=\"#m486497584b\" y=\"47.417359\"/>\n     <use style=\"fill:#1f77b4;fill-opacity:0.8;stroke:#1f77b4;stroke-opacity:0.8;\" x=\"295.32156\" xlink:href=\"#m486497584b\" y=\"77.97106\"/>\n     <use style=\"fill:#1f77b4;fill-opacity:0.8;stroke:#1f77b4;stroke-opacity:0.8;\" x=\"293.352149\" xlink:href=\"#m486497584b\" y=\"73.54339\"/>\n     <use style=\"fill:#1f77b4;fill-opacity:0.8;stroke:#1f77b4;stroke-opacity:0.8;\" x=\"286.05374\" xlink:href=\"#m486497584b\" y=\"74.723761\"/>\n     <use style=\"fill:#1f77b4;fill-opacity:0.8;stroke:#1f77b4;stroke-opacity:0.8;\" x=\"326.947996\" xlink:href=\"#m486497584b\" y=\"50.361343\"/>\n     <use style=\"fill:#1f77b4;fill-opacity:0.8;stroke:#1f77b4;stroke-opacity:0.8;\" x=\"315.247373\" xlink:href=\"#m486497584b\" y=\"56.967035\"/>\n     <use style=\"fill:#1f77b4;fill-opacity:0.8;stroke:#1f77b4;stroke-opacity:0.8;\" x=\"325.557823\" xlink:href=\"#m486497584b\" y=\"48.246176\"/>\n     <use style=\"fill:#1f77b4;fill-opacity:0.8;stroke:#1f77b4;stroke-opacity:0.8;\" x=\"291.266889\" xlink:href=\"#m486497584b\" y=\"71.814859\"/>\n     <use style=\"fill:#1f77b4;fill-opacity:0.8;stroke:#1f77b4;stroke-opacity:0.8;\" x=\"337.026751\" xlink:href=\"#m486497584b\" y=\"43.743226\"/>\n     <use style=\"fill:#1f77b4;fill-opacity:0.8;stroke:#1f77b4;stroke-opacity:0.8;\" x=\"369.00073\" xlink:href=\"#m486497584b\" y=\"22.686577\"/>\n     <use style=\"fill:#1f77b4;fill-opacity:0.8;stroke:#1f77b4;stroke-opacity:0.8;\" x=\"335.289034\" xlink:href=\"#m486497584b\" y=\"45.680788\"/>\n     <use style=\"fill:#1f77b4;fill-opacity:0.8;stroke:#1f77b4;stroke-opacity:0.8;\" x=\"235.775816\" xlink:href=\"#m486497584b\" y=\"106.059503\"/>\n     <use style=\"fill:#1f77b4;fill-opacity:0.8;stroke:#1f77b4;stroke-opacity:0.8;\" x=\"267.633948\" xlink:href=\"#m486497584b\" y=\"86.410529\"/>\n     <use style=\"fill:#1f77b4;fill-opacity:0.8;stroke:#1f77b4;stroke-opacity:0.8;\" x=\"293.120453\" xlink:href=\"#m486497584b\" y=\"71.266699\"/>\n     <use style=\"fill:#1f77b4;fill-opacity:0.8;stroke:#1f77b4;stroke-opacity:0.8;\" x=\"296.943429\" xlink:href=\"#m486497584b\" y=\"69.25751\"/>\n     <use style=\"fill:#1f77b4;fill-opacity:0.8;stroke:#1f77b4;stroke-opacity:0.8;\" x=\"215.270764\" xlink:href=\"#m486497584b\" y=\"116.850944\"/>\n     <use style=\"fill:#1f77b4;fill-opacity:0.8;stroke:#1f77b4;stroke-opacity:0.8;\" x=\"378.26855\" xlink:href=\"#m486497584b\" y=\"17.849614\"/>\n     <use style=\"fill:#1f77b4;fill-opacity:0.8;stroke:#1f77b4;stroke-opacity:0.8;\" x=\"271.920315\" xlink:href=\"#m486497584b\" y=\"84.416689\"/>\n     <use style=\"fill:#1f77b4;fill-opacity:0.8;stroke:#1f77b4;stroke-opacity:0.8;\" x=\"288.486543\" xlink:href=\"#m486497584b\" y=\"74.661636\"/>\n     <use style=\"fill:#1f77b4;fill-opacity:0.8;stroke:#1f77b4;stroke-opacity:0.8;\" x=\"216.892633\" xlink:href=\"#m486497584b\" y=\"113.202392\"/>\n     <use style=\"fill:#1f77b4;fill-opacity:0.8;stroke:#1f77b4;stroke-opacity:0.8;\" x=\"308.064813\" xlink:href=\"#m486497584b\" y=\"61.709714\"/>\n     <use style=\"fill:#1f77b4;fill-opacity:0.8;stroke:#1f77b4;stroke-opacity:0.8;\" x=\"188.74163\" xlink:href=\"#m486497584b\" y=\"121.663057\"/>\n     <use style=\"fill:#1f77b4;fill-opacity:0.8;stroke:#1f77b4;stroke-opacity:0.8;\" x=\"338.185228\" xlink:href=\"#m486497584b\" y=\"43.615322\"/>\n     <use style=\"fill:#1f77b4;fill-opacity:0.8;stroke:#1f77b4;stroke-opacity:0.8;\" x=\"268.444882\" xlink:href=\"#m486497584b\" y=\"88.000193\"/>\n     <use style=\"fill:#1f77b4;fill-opacity:0.8;stroke:#1f77b4;stroke-opacity:0.8;\" x=\"327.758931\" xlink:href=\"#m486497584b\" y=\"48.252023\"/>\n     <use style=\"fill:#1f77b4;fill-opacity:0.8;stroke:#1f77b4;stroke-opacity:0.8;\" x=\"310.381768\" xlink:href=\"#m486497584b\" y=\"60.766148\"/>\n     <use style=\"fill:#1f77b4;fill-opacity:0.8;stroke:#1f77b4;stroke-opacity:0.8;\" x=\"358.226889\" xlink:href=\"#m486497584b\" y=\"29.959563\"/>\n     <use style=\"fill:#1f77b4;fill-opacity:0.8;stroke:#1f77b4;stroke-opacity:0.8;\" x=\"291.151041\" xlink:href=\"#m486497584b\" y=\"74.876514\"/>\n     <use style=\"fill:#1f77b4;fill-opacity:0.8;stroke:#1f77b4;stroke-opacity:0.8;\" x=\"288.254848\" xlink:href=\"#m486497584b\" y=\"74.202643\"/>\n     <use style=\"fill:#1f77b4;fill-opacity:0.8;stroke:#1f77b4;stroke-opacity:0.8;\" x=\"267.633948\" xlink:href=\"#m486497584b\" y=\"88.086437\"/>\n     <use style=\"fill:#1f77b4;fill-opacity:0.8;stroke:#1f77b4;stroke-opacity:0.8;\" x=\"312.119484\" xlink:href=\"#m486497584b\" y=\"62.191364\"/>\n     <use style=\"fill:#1f77b4;fill-opacity:0.8;stroke:#1f77b4;stroke-opacity:0.8;\" x=\"257.786889\" xlink:href=\"#m486497584b\" y=\"80.40489\"/>\n     <use style=\"fill:#1f77b4;fill-opacity:0.8;stroke:#1f77b4;stroke-opacity:0.8;\" x=\"225.349519\" xlink:href=\"#m486497584b\" y=\"94.944282\"/>\n     <use style=\"fill:#1f77b4;fill-opacity:0.8;stroke:#1f77b4;stroke-opacity:0.8;\" x=\"304.357685\" xlink:href=\"#m486497584b\" y=\"68.503973\"/>\n     <use style=\"fill:#1f77b4;fill-opacity:0.8;stroke:#1f77b4;stroke-opacity:0.8;\" x=\"317.448481\" xlink:href=\"#m486497584b\" y=\"51.516133\"/>\n     <use style=\"fill:#1f77b4;fill-opacity:0.8;stroke:#1f77b4;stroke-opacity:0.8;\" x=\"274.932356\" xlink:href=\"#m486497584b\" y=\"79.828956\"/>\n     <use style=\"fill:#1f77b4;fill-opacity:0.8;stroke:#1f77b4;stroke-opacity:0.8;\" x=\"339.227858\" xlink:href=\"#m486497584b\" y=\"40.78974\"/>\n     <use style=\"fill:#1f77b4;fill-opacity:0.8;stroke:#1f77b4;stroke-opacity:0.8;\" x=\"315.479069\" xlink:href=\"#m486497584b\" y=\"57.167296\"/>\n     <use style=\"fill:#1f77b4;fill-opacity:0.8;stroke:#1f77b4;stroke-opacity:0.8;\" x=\"296.132495\" xlink:href=\"#m486497584b\" y=\"69.120021\"/>\n     <use style=\"fill:#1f77b4;fill-opacity:0.8;stroke:#1f77b4;stroke-opacity:0.8;\" x=\"343.166681\" xlink:href=\"#m486497584b\" y=\"39.337482\"/>\n     <use style=\"fill:#1f77b4;fill-opacity:0.8;stroke:#1f77b4;stroke-opacity:0.8;\" x=\"366.567927\" xlink:href=\"#m486497584b\" y=\"24.905529\"/>\n     <use style=\"fill:#1f77b4;fill-opacity:0.8;stroke:#1f77b4;stroke-opacity:0.8;\" x=\"292.077823\" xlink:href=\"#m486497584b\" y=\"69.824673\"/>\n     <use style=\"fill:#1f77b4;fill-opacity:0.8;stroke:#1f77b4;stroke-opacity:0.8;\" x=\"289.413325\" xlink:href=\"#m486497584b\" y=\"73.454222\"/>\n     <use style=\"fill:#1f77b4;fill-opacity:0.8;stroke:#1f77b4;stroke-opacity:0.8;\" x=\"298.565297\" xlink:href=\"#m486497584b\" y=\"68.233547\"/>\n     <use style=\"fill:#1f77b4;fill-opacity:0.8;stroke:#1f77b4;stroke-opacity:0.8;\" x=\"288.718239\" xlink:href=\"#m486497584b\" y=\"74.96422\"/>\n     <use style=\"fill:#1f77b4;fill-opacity:0.8;stroke:#1f77b4;stroke-opacity:0.8;\" x=\"274.700661\" xlink:href=\"#m486497584b\" y=\"83.273593\"/>\n     <use style=\"fill:#1f77b4;fill-opacity:0.8;stroke:#1f77b4;stroke-opacity:0.8;\" x=\"291.382737\" xlink:href=\"#m486497584b\" y=\"71.941301\"/>\n     <use style=\"fill:#1f77b4;fill-opacity:0.8;stroke:#1f77b4;stroke-opacity:0.8;\" x=\"293.467996\" xlink:href=\"#m486497584b\" y=\"70.900528\"/>\n     <use style=\"fill:#1f77b4;fill-opacity:0.8;stroke:#1f77b4;stroke-opacity:0.8;\" x=\"378.731941\" xlink:href=\"#m486497584b\" y=\"19.038756\"/>\n     <use style=\"fill:#1f77b4;fill-opacity:0.8;stroke:#1f77b4;stroke-opacity:0.8;\" x=\"263.231733\" xlink:href=\"#m486497584b\" y=\"93.000873\"/>\n     <use style=\"fill:#1f77b4;fill-opacity:0.8;stroke:#1f77b4;stroke-opacity:0.8;\" x=\"249.909242\" xlink:href=\"#m486497584b\" y=\"96.875998\"/>\n     <use style=\"fill:#1f77b4;fill-opacity:0.8;stroke:#1f77b4;stroke-opacity:0.8;\" x=\"269.024121\" xlink:href=\"#m486497584b\" y=\"85.404839\"/>\n     <use style=\"fill:#1f77b4;fill-opacity:0.8;stroke:#1f77b4;stroke-opacity:0.8;\" x=\"265.664536\" xlink:href=\"#m486497584b\" y=\"85.21481\"/>\n     <use style=\"fill:#1f77b4;fill-opacity:0.8;stroke:#1f77b4;stroke-opacity:0.8;\" x=\"363.787581\" xlink:href=\"#m486497584b\" y=\"27.014117\"/>\n     <use style=\"fill:#1f77b4;fill-opacity:0.8;stroke:#1f77b4;stroke-opacity:0.8;\" x=\"330.88682\" xlink:href=\"#m486497584b\" y=\"49.49525\"/>\n     <use style=\"fill:#1f77b4;fill-opacity:0.8;stroke:#1f77b4;stroke-opacity:0.8;\" x=\"307.253879\" xlink:href=\"#m486497584b\" y=\"70.141144\"/>\n     <use style=\"fill:#1f77b4;fill-opacity:0.8;stroke:#1f77b4;stroke-opacity:0.8;\" x=\"266.938861\" xlink:href=\"#m486497584b\" y=\"94.936973\"/>\n     <use style=\"fill:#1f77b4;fill-opacity:0.8;stroke:#1f77b4;stroke-opacity:0.8;\" x=\"377.805159\" xlink:href=\"#m486497584b\" y=\"18.047683\"/>\n     <use style=\"fill:#1f77b4;fill-opacity:0.8;stroke:#1f77b4;stroke-opacity:0.8;\" x=\"313.741353\" xlink:href=\"#m486497584b\" y=\"58.01\"/>\n     <use style=\"fill:#1f77b4;fill-opacity:0.8;stroke:#1f77b4;stroke-opacity:0.8;\" x=\"302.156578\" xlink:href=\"#m486497584b\" y=\"69.106949\"/>\n     <use style=\"fill:#1f77b4;fill-opacity:0.8;stroke:#1f77b4;stroke-opacity:0.8;\" x=\"363.555886\" xlink:href=\"#m486497584b\" y=\"26.447685\"/>\n     <use style=\"fill:#1f77b4;fill-opacity:0.8;stroke:#1f77b4;stroke-opacity:0.8;\" x=\"320.923913\" xlink:href=\"#m486497584b\" y=\"56.773352\"/>\n     <use style=\"fill:#1f77b4;fill-opacity:0.8;stroke:#1f77b4;stroke-opacity:0.8;\" x=\"286.748827\" xlink:href=\"#m486497584b\" y=\"89.702412\"/>\n     <use style=\"fill:#1f77b4;fill-opacity:0.8;stroke:#1f77b4;stroke-opacity:0.8;\" x=\"138.811249\" xlink:href=\"#m486497584b\" y=\"160.501281\"/>\n     <use style=\"fill:#1f77b4;fill-opacity:0.8;stroke:#1f77b4;stroke-opacity:0.8;\" x=\"329.960038\" xlink:href=\"#m486497584b\" y=\"48.410624\"/>\n     <use style=\"fill:#1f77b4;fill-opacity:0.8;stroke:#1f77b4;stroke-opacity:0.8;\" x=\"371.896924\" xlink:href=\"#m486497584b\" y=\"22.077024\"/>\n     <use style=\"fill:#1f77b4;fill-opacity:0.8;stroke:#1f77b4;stroke-opacity:0.8;\" x=\"320.112979\" xlink:href=\"#m486497584b\" y=\"55.277971\"/>\n     <use style=\"fill:#1f77b4;fill-opacity:0.8;stroke:#1f77b4;stroke-opacity:0.8;\" x=\"327.411387\" xlink:href=\"#m486497584b\" y=\"49.493788\"/>\n     <use style=\"fill:#1f77b4;fill-opacity:0.8;stroke:#1f77b4;stroke-opacity:0.8;\" x=\"342.124052\" xlink:href=\"#m486497584b\" y=\"43.770999\"/>\n     <use style=\"fill:#1f77b4;fill-opacity:0.8;stroke:#1f77b4;stroke-opacity:0.8;\" x=\"296.943429\" xlink:href=\"#m486497584b\" y=\"67.539212\"/>\n     <use style=\"fill:#1f77b4;fill-opacity:0.8;stroke:#1f77b4;stroke-opacity:0.8;\" x=\"302.851664\" xlink:href=\"#m486497584b\" y=\"65.997786\"/>\n     <use style=\"fill:#1f77b4;fill-opacity:0.8;stroke:#1f77b4;stroke-opacity:0.8;\" x=\"347.453048\" xlink:href=\"#m486497584b\" y=\"36.917539\"/>\n     <use style=\"fill:#1f77b4;fill-opacity:0.8;stroke:#1f77b4;stroke-opacity:0.8;\" x=\"291.961976\" xlink:href=\"#m486497584b\" y=\"67.636419\"/>\n     <use style=\"fill:#1f77b4;fill-opacity:0.8;stroke:#1f77b4;stroke-opacity:0.8;\" x=\"343.166681\" xlink:href=\"#m486497584b\" y=\"39.852752\"/>\n     <use style=\"fill:#1f77b4;fill-opacity:0.8;stroke:#1f77b4;stroke-opacity:0.8;\" x=\"316.98509\" xlink:href=\"#m486497584b\" y=\"56.526314\"/>\n     <use style=\"fill:#1f77b4;fill-opacity:0.8;stroke:#1f77b4;stroke-opacity:0.8;\" x=\"373.402944\" xlink:href=\"#m486497584b\" y=\"21.573447\"/>\n     <use style=\"fill:#1f77b4;fill-opacity:0.8;stroke:#1f77b4;stroke-opacity:0.8;\" x=\"230.562668\" xlink:href=\"#m486497584b\" y=\"106.036846\"/>\n     <use style=\"fill:#1f77b4;fill-opacity:0.8;stroke:#1f77b4;stroke-opacity:0.8;\" x=\"266.47547\" xlink:href=\"#m486497584b\" y=\"89.461953\"/>\n     <use style=\"fill:#1f77b4;fill-opacity:0.8;stroke:#1f77b4;stroke-opacity:0.8;\" x=\"257.671041\" xlink:href=\"#m486497584b\" y=\"92.765529\"/>\n     <use style=\"fill:#1f77b4;fill-opacity:0.8;stroke:#1f77b4;stroke-opacity:0.8;\" x=\"346.178723\" xlink:href=\"#m486497584b\" y=\"40.747349\"/>\n     <use style=\"fill:#1f77b4;fill-opacity:0.8;stroke:#1f77b4;stroke-opacity:0.8;\" x=\"319.302045\" xlink:href=\"#m486497584b\" y=\"56.296087\"/>\n     <use style=\"fill:#1f77b4;fill-opacity:0.8;stroke:#1f77b4;stroke-opacity:0.8;\" x=\"291.614432\" xlink:href=\"#m486497584b\" y=\"77.396588\"/>\n     <use style=\"fill:#1f77b4;fill-opacity:0.8;stroke:#1f77b4;stroke-opacity:0.8;\" x=\"291.614432\" xlink:href=\"#m486497584b\" y=\"76.109509\"/>\n     <use style=\"fill:#1f77b4;fill-opacity:0.8;stroke:#1f77b4;stroke-opacity:0.8;\" x=\"210.752702\" xlink:href=\"#m486497584b\" y=\"118.21038\"/>\n     <use style=\"fill:#1f77b4;fill-opacity:0.8;stroke:#1f77b4;stroke-opacity:0.8;\" x=\"330.770972\" xlink:href=\"#m486497584b\" y=\"45.418804\"/>\n     <use style=\"fill:#1f77b4;fill-opacity:0.8;stroke:#1f77b4;stroke-opacity:0.8;\" x=\"306.327097\" xlink:href=\"#m486497584b\" y=\"61.39105\"/>\n     <use style=\"fill:#1f77b4;fill-opacity:0.8;stroke:#1f77b4;stroke-opacity:0.8;\" x=\"277.944398\" xlink:href=\"#m486497584b\" y=\"83.975968\"/>\n     <use style=\"fill:#1f77b4;fill-opacity:0.8;stroke:#1f77b4;stroke-opacity:0.8;\" x=\"283.041699\" xlink:href=\"#m486497584b\" y=\"77.450673\"/>\n     <use style=\"fill:#1f77b4;fill-opacity:0.8;stroke:#1f77b4;stroke-opacity:0.8;\" x=\"235.312425\" xlink:href=\"#m486497584b\" y=\"109.609386\"/>\n     <use style=\"fill:#1f77b4;fill-opacity:0.8;stroke:#1f77b4;stroke-opacity:0.8;\" x=\"329.960038\" xlink:href=\"#m486497584b\" y=\"48.252023\"/>\n     <use style=\"fill:#1f77b4;fill-opacity:0.8;stroke:#1f77b4;stroke-opacity:0.8;\" x=\"257.439346\" xlink:href=\"#m486497584b\" y=\"94.059918\"/>\n     <use style=\"fill:#1f77b4;fill-opacity:0.8;stroke:#1f77b4;stroke-opacity:0.8;\" x=\"294.394778\" xlink:href=\"#m486497584b\" y=\"68.869914\"/>\n     <use style=\"fill:#1f77b4;fill-opacity:0.8;stroke:#1f77b4;stroke-opacity:0.8;\" x=\"277.944398\" xlink:href=\"#m486497584b\" y=\"85.101523\"/>\n     <use style=\"fill:#1f77b4;fill-opacity:0.8;stroke:#1f77b4;stroke-opacity:0.8;\" x=\"288.139\" xlink:href=\"#m486497584b\" y=\"73.666908\"/>\n     <use style=\"fill:#1f77b4;fill-opacity:0.8;stroke:#1f77b4;stroke-opacity:0.8;\" x=\"333.898861\" xlink:href=\"#m486497584b\" y=\"45.264187\"/>\n     <use style=\"fill:#1f77b4;fill-opacity:0.8;stroke:#1f77b4;stroke-opacity:0.8;\" x=\"373.402944\" xlink:href=\"#m486497584b\" y=\"23.255933\"/>\n     <use style=\"fill:#1f77b4;fill-opacity:0.8;stroke:#1f77b4;stroke-opacity:0.8;\" x=\"344.441007\" xlink:href=\"#m486497584b\" y=\"39.338944\"/>\n     <use style=\"fill:#1f77b4;fill-opacity:0.8;stroke:#1f77b4;stroke-opacity:0.8;\" x=\"232.99547\" xlink:href=\"#m486497584b\" y=\"105.84974\"/>\n     <use style=\"fill:#1f77b4;fill-opacity:0.8;stroke:#1f77b4;stroke-opacity:0.8;\" x=\"341.428965\" xlink:href=\"#m486497584b\" y=\"43.081779\"/>\n     <use style=\"fill:#1f77b4;fill-opacity:0.8;stroke:#1f77b4;stroke-opacity:0.8;\" x=\"273.310488\" xlink:href=\"#m486497584b\" y=\"83.648534\"/>\n     <use style=\"fill:#1f77b4;fill-opacity:0.8;stroke:#1f77b4;stroke-opacity:0.8;\" x=\"338.996162\" xlink:href=\"#m486497584b\" y=\"42.597937\"/>\n     <use style=\"fill:#1f77b4;fill-opacity:0.8;stroke:#1f77b4;stroke-opacity:0.8;\" x=\"275.511595\" xlink:href=\"#m486497584b\" y=\"83.168346\"/>\n     <use style=\"fill:#1f77b4;fill-opacity:0.8;stroke:#1f77b4;stroke-opacity:0.8;\" x=\"350.812633\" xlink:href=\"#m486497584b\" y=\"35.702816\"/>\n     <use style=\"fill:#1f77b4;fill-opacity:0.8;stroke:#1f77b4;stroke-opacity:0.8;\" x=\"295.669104\" xlink:href=\"#m486497584b\" y=\"69.120021\"/>\n     <use style=\"fill:#1f77b4;fill-opacity:0.8;stroke:#1f77b4;stroke-opacity:0.8;\" x=\"293.467996\" xlink:href=\"#m486497584b\" y=\"71.331016\"/>\n     <use style=\"fill:#1f77b4;fill-opacity:0.8;stroke:#1f77b4;stroke-opacity:0.8;\" x=\"291.266889\" xlink:href=\"#m486497584b\" y=\"87.771427\"/>\n     <use style=\"fill:#1f77b4;fill-opacity:0.8;stroke:#1f77b4;stroke-opacity:0.8;\" x=\"316.058308\" xlink:href=\"#m486497584b\" y=\"56.673221\"/>\n     <use style=\"fill:#1f77b4;fill-opacity:0.8;stroke:#1f77b4;stroke-opacity:0.8;\" x=\"317.332633\" xlink:href=\"#m486497584b\" y=\"47.456095\"/>\n     <use style=\"fill:#1f77b4;fill-opacity:0.8;stroke:#1f77b4;stroke-opacity:0.8;\" x=\"304.58938\" xlink:href=\"#m486497584b\" y=\"61.812281\"/>\n     <use style=\"fill:#1f77b4;fill-opacity:0.8;stroke:#1f77b4;stroke-opacity:0.8;\" x=\"352.550349\" xlink:href=\"#m486497584b\" y=\"35.650924\"/>\n     <use style=\"fill:#1f77b4;fill-opacity:0.8;stroke:#1f77b4;stroke-opacity:0.8;\" x=\"269.255816\" xlink:href=\"#m486497584b\" y=\"87.397217\"/>\n     <use style=\"fill:#1f77b4;fill-opacity:0.8;stroke:#1f77b4;stroke-opacity:0.8;\" x=\"320.692218\" xlink:href=\"#m486497584b\" y=\"54.484236\"/>\n     <use style=\"fill:#1f77b4;fill-opacity:0.8;stroke:#1f77b4;stroke-opacity:0.8;\" x=\"280.840591\" xlink:href=\"#m486497584b\" y=\"77.890663\"/>\n     <use style=\"fill:#1f77b4;fill-opacity:0.8;stroke:#1f77b4;stroke-opacity:0.8;\" x=\"242.031595\" xlink:href=\"#m486497584b\" y=\"101.375294\"/>\n     <use style=\"fill:#1f77b4;fill-opacity:0.8;stroke:#1f77b4;stroke-opacity:0.8;\" x=\"347.684744\" xlink:href=\"#m486497584b\" y=\"37.370684\"/>\n     <use style=\"fill:#1f77b4;fill-opacity:0.8;stroke:#1f77b4;stroke-opacity:0.8;\" x=\"285.706197\" xlink:href=\"#m486497584b\" y=\"72.554509\"/>\n    </g>\n   </g>\n   <g id=\"PolyCollection_1\">\n    <path clip-path=\"url(#p9fae157661)\" d=\"M 49.260938 204.24946 \nL 49.260938 214.756364 \nL 52.642756 212.762215 \nL 56.024574 210.768067 \nL 59.406392 208.773918 \nL 62.78821 206.77977 \nL 66.170028 204.785621 \nL 69.551847 202.791473 \nL 72.933665 200.797324 \nL 76.315483 198.803176 \nL 79.697301 196.809027 \nL 83.079119 194.811729 \nL 86.460938 192.813177 \nL 89.842756 190.814625 \nL 93.224574 188.816073 \nL 96.606392 186.81752 \nL 99.98821 184.818968 \nL 103.370028 182.82068 \nL 106.751847 180.827142 \nL 110.133665 178.833547 \nL 113.515483 176.839836 \nL 116.897301 174.846125 \nL 120.279119 172.852414 \nL 123.660938 170.856762 \nL 127.042756 168.856009 \nL 130.424574 166.857594 \nL 133.806392 164.862433 \nL 137.18821 162.867273 \nL 140.570028 160.872113 \nL 143.951847 158.876952 \nL 147.333665 156.881792 \nL 150.715483 154.886632 \nL 154.097301 152.891471 \nL 157.479119 150.896213 \nL 160.860938 148.900822 \nL 164.242756 146.905432 \nL 167.624574 144.910042 \nL 171.006392 142.908832 \nL 174.38821 140.906298 \nL 177.770028 138.90907 \nL 181.151847 136.914594 \nL 184.533665 134.920118 \nL 187.915483 132.929864 \nL 191.297301 130.935076 \nL 194.679119 128.93669 \nL 198.060938 126.941955 \nL 201.442756 124.935961 \nL 204.824574 122.929113 \nL 208.206392 120.929192 \nL 211.58821 118.937346 \nL 214.970028 116.946199 \nL 218.351847 114.955024 \nL 221.733665 112.963849 \nL 225.115483 110.969979 \nL 228.497301 108.971143 \nL 231.879119 106.972351 \nL 235.260938 104.977308 \nL 238.642756 102.989419 \nL 242.024574 100.990959 \nL 245.406392 98.990649 \nL 248.78821 96.990339 \nL 252.170028 94.989916 \nL 255.551847 92.989393 \nL 258.933665 90.996751 \nL 262.315483 89.004926 \nL 265.697301 87.005641 \nL 269.079119 85.01438 \nL 272.460938 83.024745 \nL 275.842756 81.020166 \nL 279.224574 79.028298 \nL 282.606392 77.055465 \nL 285.98821 75.077968 \nL 289.370028 73.091319 \nL 292.751847 71.113789 \nL 296.133665 69.146353 \nL 299.515483 67.176505 \nL 302.897301 65.209015 \nL 306.279119 63.258232 \nL 309.660938 61.313622 \nL 313.042756 59.398491 \nL 316.424574 57.478665 \nL 319.806392 55.590593 \nL 323.18821 53.708425 \nL 326.570028 51.83483 \nL 329.951847 49.944119 \nL 333.333665 48.047946 \nL 336.715483 46.167746 \nL 340.097301 44.29485 \nL 343.479119 42.426072 \nL 346.860938 40.557293 \nL 350.242756 38.688099 \nL 353.624574 36.823718 \nL 357.006392 34.960942 \nL 360.38821 33.108599 \nL 363.770028 31.248871 \nL 367.151847 29.383117 \nL 370.533665 27.525334 \nL 373.915483 25.667472 \nL 377.297301 23.808784 \nL 380.679119 21.932913 \nL 384.060938 20.081978 \nL 384.060938 17.083636 \nL 384.060938 17.083636 \nL 380.679119 19.072604 \nL 377.297301 21.060172 \nL 373.915483 23.045899 \nL 370.533665 25.031966 \nL 367.151847 27.019234 \nL 363.770028 29.017733 \nL 360.38821 31.007371 \nL 357.006392 32.996571 \nL 353.624574 34.98594 \nL 350.242756 36.975207 \nL 346.860938 38.970063 \nL 343.479119 40.964627 \nL 340.097301 42.946596 \nL 336.715483 44.934889 \nL 333.333665 46.920244 \nL 329.951847 48.911395 \nL 326.570028 50.899137 \nL 323.18821 52.864211 \nL 319.806392 54.832919 \nL 316.424574 56.806755 \nL 313.042756 58.764575 \nL 309.660938 60.700377 \nL 306.279119 62.619906 \nL 302.897301 64.53412 \nL 299.515483 66.446619 \nL 296.133665 68.34012 \nL 292.751847 70.223765 \nL 289.370028 72.117029 \nL 285.98821 73.986923 \nL 282.606392 75.850531 \nL 279.224574 77.725376 \nL 275.842756 79.599284 \nL 272.460938 81.473155 \nL 269.079119 83.338118 \nL 265.697301 85.205926 \nL 262.315483 87.079876 \nL 258.933665 88.939752 \nL 255.551847 90.794311 \nL 252.170028 92.64818 \nL 248.78821 94.518996 \nL 245.406392 96.371804 \nL 242.024574 98.230145 \nL 238.642756 100.091213 \nL 235.260938 101.952333 \nL 231.879119 103.813221 \nL 228.497301 105.674091 \nL 225.115483 107.534961 \nL 221.733665 109.395831 \nL 218.351847 111.256701 \nL 214.970028 113.117301 \nL 211.58821 114.977208 \nL 208.206392 116.837203 \nL 204.824574 118.697198 \nL 201.442756 120.557194 \nL 198.060938 122.417189 \nL 194.679119 124.277184 \nL 191.297301 126.141054 \nL 187.915483 128.006293 \nL 184.533665 129.867278 \nL 181.151847 131.728263 \nL 177.770028 133.589248 \nL 174.38821 135.450233 \nL 171.006392 137.311218 \nL 167.624574 139.172203 \nL 164.242756 141.033188 \nL 160.860938 142.894173 \nL 157.479119 144.755158 \nL 154.097301 146.616143 \nL 150.715483 148.477128 \nL 147.333665 150.338113 \nL 143.951847 152.199098 \nL 140.570028 154.060083 \nL 137.18821 155.921068 \nL 133.806392 157.782053 \nL 130.424574 159.643038 \nL 127.042756 161.504022 \nL 123.660938 163.365007 \nL 120.279119 165.223243 \nL 116.897301 167.07943 \nL 113.515483 168.935616 \nL 110.133665 170.791803 \nL 106.751847 172.647989 \nL 103.370028 174.504176 \nL 99.98821 176.360363 \nL 96.606392 178.216549 \nL 93.224574 180.072736 \nL 89.842756 181.932415 \nL 86.460938 183.792169 \nL 83.079119 185.651922 \nL 79.697301 187.511676 \nL 76.315483 189.37143 \nL 72.933665 191.231184 \nL 69.551847 193.090937 \nL 66.170028 194.950691 \nL 62.78821 196.810445 \nL 59.406392 198.670199 \nL 56.024574 200.529953 \nL 52.642756 202.389706 \nL 49.260938 204.24946 \nz\n\" style=\"fill:#1f77b4;fill-opacity:0.15;\"/>\n   </g>\n   <g id=\"matplotlib.axis_1\">\n    <g id=\"xtick_1\">\n     <g id=\"line2d_1\">\n      <defs>\n       <path d=\"M 0 0 \nL 0 3.5 \n\" id=\"ma083a74089\" style=\"stroke:#000000;stroke-width:0.8;\"/>\n      </defs>\n      <g>\n       <use style=\"stroke:#000000;stroke-width:0.8;\" x=\"54.705782\" xlink:href=\"#ma083a74089\" y=\"224.64\"/>\n      </g>\n     </g>\n     <g id=\"text_1\">\n      <!-- −25 -->\n      <g transform=\"translate(44.153438 239.238437)scale(0.1 -0.1)\">\n       <defs>\n        <path d=\"M 678 2272 \nL 4684 2272 \nL 4684 1741 \nL 678 1741 \nL 678 2272 \nz\n\" id=\"DejaVuSans-2212\" transform=\"scale(0.015625)\"/>\n        <path d=\"M 1228 531 \nL 3431 531 \nL 3431 0 \nL 469 0 \nL 469 531 \nQ 828 903 1448 1529 \nQ 2069 2156 2228 2338 \nQ 2531 2678 2651 2914 \nQ 2772 3150 2772 3378 \nQ 2772 3750 2511 3984 \nQ 2250 4219 1831 4219 \nQ 1534 4219 1204 4116 \nQ 875 4013 500 3803 \nL 500 4441 \nQ 881 4594 1212 4672 \nQ 1544 4750 1819 4750 \nQ 2544 4750 2975 4387 \nQ 3406 4025 3406 3419 \nQ 3406 3131 3298 2873 \nQ 3191 2616 2906 2266 \nQ 2828 2175 2409 1742 \nQ 1991 1309 1228 531 \nz\n\" id=\"DejaVuSans-32\" transform=\"scale(0.015625)\"/>\n        <path d=\"M 691 4666 \nL 3169 4666 \nL 3169 4134 \nL 1269 4134 \nL 1269 2991 \nQ 1406 3038 1543 3061 \nQ 1681 3084 1819 3084 \nQ 2600 3084 3056 2656 \nQ 3513 2228 3513 1497 \nQ 3513 744 3044 326 \nQ 2575 -91 1722 -91 \nQ 1428 -91 1123 -41 \nQ 819 9 494 109 \nL 494 744 \nQ 775 591 1075 516 \nQ 1375 441 1709 441 \nQ 2250 441 2565 725 \nQ 2881 1009 2881 1497 \nQ 2881 1984 2565 2268 \nQ 2250 2553 1709 2553 \nQ 1456 2553 1204 2497 \nQ 953 2441 691 2322 \nL 691 4666 \nz\n\" id=\"DejaVuSans-35\" transform=\"scale(0.015625)\"/>\n       </defs>\n       <use xlink:href=\"#DejaVuSans-2212\"/>\n       <use x=\"83.789062\" xlink:href=\"#DejaVuSans-32\"/>\n       <use x=\"147.412109\" xlink:href=\"#DejaVuSans-35\"/>\n      </g>\n     </g>\n    </g>\n    <g id=\"xtick_2\">\n     <g id=\"line2d_2\">\n      <g>\n       <use style=\"stroke:#000000;stroke-width:0.8;\" x=\"112.629657\" xlink:href=\"#ma083a74089\" y=\"224.64\"/>\n      </g>\n     </g>\n     <g id=\"text_2\">\n      <!-- −20 -->\n      <g transform=\"translate(102.077313 239.238437)scale(0.1 -0.1)\">\n       <defs>\n        <path d=\"M 2034 4250 \nQ 1547 4250 1301 3770 \nQ 1056 3291 1056 2328 \nQ 1056 1369 1301 889 \nQ 1547 409 2034 409 \nQ 2525 409 2770 889 \nQ 3016 1369 3016 2328 \nQ 3016 3291 2770 3770 \nQ 2525 4250 2034 4250 \nz\nM 2034 4750 \nQ 2819 4750 3233 4129 \nQ 3647 3509 3647 2328 \nQ 3647 1150 3233 529 \nQ 2819 -91 2034 -91 \nQ 1250 -91 836 529 \nQ 422 1150 422 2328 \nQ 422 3509 836 4129 \nQ 1250 4750 2034 4750 \nz\n\" id=\"DejaVuSans-30\" transform=\"scale(0.015625)\"/>\n       </defs>\n       <use xlink:href=\"#DejaVuSans-2212\"/>\n       <use x=\"83.789062\" xlink:href=\"#DejaVuSans-32\"/>\n       <use x=\"147.412109\" xlink:href=\"#DejaVuSans-30\"/>\n      </g>\n     </g>\n    </g>\n    <g id=\"xtick_3\">\n     <g id=\"line2d_3\">\n      <g>\n       <use style=\"stroke:#000000;stroke-width:0.8;\" x=\"170.553533\" xlink:href=\"#ma083a74089\" y=\"224.64\"/>\n      </g>\n     </g>\n     <g id=\"text_3\">\n      <!-- −15 -->\n      <g transform=\"translate(160.001189 239.238437)scale(0.1 -0.1)\">\n       <defs>\n        <path d=\"M 794 531 \nL 1825 531 \nL 1825 4091 \nL 703 3866 \nL 703 4441 \nL 1819 4666 \nL 2450 4666 \nL 2450 531 \nL 3481 531 \nL 3481 0 \nL 794 0 \nL 794 531 \nz\n\" id=\"DejaVuSans-31\" transform=\"scale(0.015625)\"/>\n       </defs>\n       <use xlink:href=\"#DejaVuSans-2212\"/>\n       <use x=\"83.789062\" xlink:href=\"#DejaVuSans-31\"/>\n       <use x=\"147.412109\" xlink:href=\"#DejaVuSans-35\"/>\n      </g>\n     </g>\n    </g>\n    <g id=\"xtick_4\">\n     <g id=\"line2d_4\">\n      <g>\n       <use style=\"stroke:#000000;stroke-width:0.8;\" x=\"228.477408\" xlink:href=\"#ma083a74089\" y=\"224.64\"/>\n      </g>\n     </g>\n     <g id=\"text_4\">\n      <!-- −10 -->\n      <g transform=\"translate(217.925064 239.238437)scale(0.1 -0.1)\">\n       <use xlink:href=\"#DejaVuSans-2212\"/>\n       <use x=\"83.789062\" xlink:href=\"#DejaVuSans-31\"/>\n       <use x=\"147.412109\" xlink:href=\"#DejaVuSans-30\"/>\n      </g>\n     </g>\n    </g>\n    <g id=\"xtick_5\">\n     <g id=\"line2d_5\">\n      <g>\n       <use style=\"stroke:#000000;stroke-width:0.8;\" x=\"286.401284\" xlink:href=\"#ma083a74089\" y=\"224.64\"/>\n      </g>\n     </g>\n     <g id=\"text_5\">\n      <!-- −5 -->\n      <g transform=\"translate(279.03019 239.238437)scale(0.1 -0.1)\">\n       <use xlink:href=\"#DejaVuSans-2212\"/>\n       <use x=\"83.789062\" xlink:href=\"#DejaVuSans-35\"/>\n      </g>\n     </g>\n    </g>\n    <g id=\"xtick_6\">\n     <g id=\"line2d_6\">\n      <g>\n       <use style=\"stroke:#000000;stroke-width:0.8;\" x=\"344.325159\" xlink:href=\"#ma083a74089\" y=\"224.64\"/>\n      </g>\n     </g>\n     <g id=\"text_6\">\n      <!-- 0 -->\n      <g transform=\"translate(341.143909 239.238437)scale(0.1 -0.1)\">\n       <use xlink:href=\"#DejaVuSans-30\"/>\n      </g>\n     </g>\n    </g>\n    <g id=\"text_7\">\n     <!-- expt -->\n     <g transform=\"translate(205.578125 252.916562)scale(0.1 -0.1)\">\n      <defs>\n       <path d=\"M 3597 1894 \nL 3597 1613 \nL 953 1613 \nQ 991 1019 1311 708 \nQ 1631 397 2203 397 \nQ 2534 397 2845 478 \nQ 3156 559 3463 722 \nL 3463 178 \nQ 3153 47 2828 -22 \nQ 2503 -91 2169 -91 \nQ 1331 -91 842 396 \nQ 353 884 353 1716 \nQ 353 2575 817 3079 \nQ 1281 3584 2069 3584 \nQ 2775 3584 3186 3129 \nQ 3597 2675 3597 1894 \nz\nM 3022 2063 \nQ 3016 2534 2758 2815 \nQ 2500 3097 2075 3097 \nQ 1594 3097 1305 2825 \nQ 1016 2553 972 2059 \nL 3022 2063 \nz\n\" id=\"DejaVuSans-65\" transform=\"scale(0.015625)\"/>\n       <path d=\"M 3513 3500 \nL 2247 1797 \nL 3578 0 \nL 2900 0 \nL 1881 1375 \nL 863 0 \nL 184 0 \nL 1544 1831 \nL 300 3500 \nL 978 3500 \nL 1906 2253 \nL 2834 3500 \nL 3513 3500 \nz\n\" id=\"DejaVuSans-78\" transform=\"scale(0.015625)\"/>\n       <path d=\"M 1159 525 \nL 1159 -1331 \nL 581 -1331 \nL 581 3500 \nL 1159 3500 \nL 1159 2969 \nQ 1341 3281 1617 3432 \nQ 1894 3584 2278 3584 \nQ 2916 3584 3314 3078 \nQ 3713 2572 3713 1747 \nQ 3713 922 3314 415 \nQ 2916 -91 2278 -91 \nQ 1894 -91 1617 61 \nQ 1341 213 1159 525 \nz\nM 3116 1747 \nQ 3116 2381 2855 2742 \nQ 2594 3103 2138 3103 \nQ 1681 3103 1420 2742 \nQ 1159 2381 1159 1747 \nQ 1159 1113 1420 752 \nQ 1681 391 2138 391 \nQ 2594 391 2855 752 \nQ 3116 1113 3116 1747 \nz\n\" id=\"DejaVuSans-70\" transform=\"scale(0.015625)\"/>\n       <path d=\"M 1172 4494 \nL 1172 3500 \nL 2356 3500 \nL 2356 3053 \nL 1172 3053 \nL 1172 1153 \nQ 1172 725 1289 603 \nQ 1406 481 1766 481 \nL 2356 481 \nL 2356 0 \nL 1766 0 \nQ 1100 0 847 248 \nQ 594 497 594 1153 \nL 594 3053 \nL 172 3053 \nL 172 3500 \nL 594 3500 \nL 594 4494 \nL 1172 4494 \nz\n\" id=\"DejaVuSans-74\" transform=\"scale(0.015625)\"/>\n      </defs>\n      <use xlink:href=\"#DejaVuSans-65\"/>\n      <use x=\"59.773438\" xlink:href=\"#DejaVuSans-78\"/>\n      <use x=\"118.953125\" xlink:href=\"#DejaVuSans-70\"/>\n      <use x=\"182.429688\" xlink:href=\"#DejaVuSans-74\"/>\n     </g>\n    </g>\n   </g>\n   <g id=\"matplotlib.axis_2\">\n    <g id=\"ytick_1\">\n     <g id=\"line2d_7\">\n      <defs>\n       <path d=\"M 0 0 \nL -3.5 0 \n\" id=\"m755a6b7352\" style=\"stroke:#000000;stroke-width:0.8;\"/>\n      </defs>\n      <g>\n       <use style=\"stroke:#000000;stroke-width:0.8;\" x=\"49.260938\" xlink:href=\"#m755a6b7352\" y=\"221.554598\"/>\n      </g>\n     </g>\n     <g id=\"text_8\">\n      <!-- −25 -->\n      <g transform=\"translate(21.15625 225.353817)scale(0.1 -0.1)\">\n       <use xlink:href=\"#DejaVuSans-2212\"/>\n       <use x=\"83.789062\" xlink:href=\"#DejaVuSans-32\"/>\n       <use x=\"147.412109\" xlink:href=\"#DejaVuSans-35\"/>\n      </g>\n     </g>\n    </g>\n    <g id=\"ytick_2\">\n     <g id=\"line2d_8\">\n      <g>\n       <use style=\"stroke:#000000;stroke-width:0.8;\" x=\"49.260938\" xlink:href=\"#m755a6b7352\" y=\"185.010606\"/>\n      </g>\n     </g>\n     <g id=\"text_9\">\n      <!-- −20 -->\n      <g transform=\"translate(21.15625 188.809824)scale(0.1 -0.1)\">\n       <use xlink:href=\"#DejaVuSans-2212\"/>\n       <use x=\"83.789062\" xlink:href=\"#DejaVuSans-32\"/>\n       <use x=\"147.412109\" xlink:href=\"#DejaVuSans-30\"/>\n      </g>\n     </g>\n    </g>\n    <g id=\"ytick_3\">\n     <g id=\"line2d_9\">\n      <g>\n       <use style=\"stroke:#000000;stroke-width:0.8;\" x=\"49.260938\" xlink:href=\"#m755a6b7352\" y=\"148.466613\"/>\n      </g>\n     </g>\n     <g id=\"text_10\">\n      <!-- −15 -->\n      <g transform=\"translate(21.15625 152.265832)scale(0.1 -0.1)\">\n       <use xlink:href=\"#DejaVuSans-2212\"/>\n       <use x=\"83.789062\" xlink:href=\"#DejaVuSans-31\"/>\n       <use x=\"147.412109\" xlink:href=\"#DejaVuSans-35\"/>\n      </g>\n     </g>\n    </g>\n    <g id=\"ytick_4\">\n     <g id=\"line2d_10\">\n      <g>\n       <use style=\"stroke:#000000;stroke-width:0.8;\" x=\"49.260938\" xlink:href=\"#m755a6b7352\" y=\"111.922621\"/>\n      </g>\n     </g>\n     <g id=\"text_11\">\n      <!-- −10 -->\n      <g transform=\"translate(21.15625 115.72184)scale(0.1 -0.1)\">\n       <use xlink:href=\"#DejaVuSans-2212\"/>\n       <use x=\"83.789062\" xlink:href=\"#DejaVuSans-31\"/>\n       <use x=\"147.412109\" xlink:href=\"#DejaVuSans-30\"/>\n      </g>\n     </g>\n    </g>\n    <g id=\"ytick_5\">\n     <g id=\"line2d_11\">\n      <g>\n       <use style=\"stroke:#000000;stroke-width:0.8;\" x=\"49.260938\" xlink:href=\"#m755a6b7352\" y=\"75.378629\"/>\n      </g>\n     </g>\n     <g id=\"text_12\">\n      <!-- −5 -->\n      <g transform=\"translate(27.51875 79.177848)scale(0.1 -0.1)\">\n       <use xlink:href=\"#DejaVuSans-2212\"/>\n       <use x=\"83.789062\" xlink:href=\"#DejaVuSans-35\"/>\n      </g>\n     </g>\n    </g>\n    <g id=\"ytick_6\">\n     <g id=\"line2d_12\">\n      <g>\n       <use style=\"stroke:#000000;stroke-width:0.8;\" x=\"49.260938\" xlink:href=\"#m755a6b7352\" y=\"38.834637\"/>\n      </g>\n     </g>\n     <g id=\"text_13\">\n      <!-- 0 -->\n      <g transform=\"translate(35.898438 42.633855)scale(0.1 -0.1)\">\n       <use xlink:href=\"#DejaVuSans-30\"/>\n      </g>\n     </g>\n    </g>\n    <g id=\"text_14\">\n     <!-- rf_pred -->\n     <g transform=\"translate(14.798438 133.603594)rotate(-90)scale(0.1 -0.1)\">\n      <defs>\n       <path d=\"M 2631 2963 \nQ 2534 3019 2420 3045 \nQ 2306 3072 2169 3072 \nQ 1681 3072 1420 2755 \nQ 1159 2438 1159 1844 \nL 1159 0 \nL 581 0 \nL 581 3500 \nL 1159 3500 \nL 1159 2956 \nQ 1341 3275 1631 3429 \nQ 1922 3584 2338 3584 \nQ 2397 3584 2469 3576 \nQ 2541 3569 2628 3553 \nL 2631 2963 \nz\n\" id=\"DejaVuSans-72\" transform=\"scale(0.015625)\"/>\n       <path d=\"M 2375 4863 \nL 2375 4384 \nL 1825 4384 \nQ 1516 4384 1395 4259 \nQ 1275 4134 1275 3809 \nL 1275 3500 \nL 2222 3500 \nL 2222 3053 \nL 1275 3053 \nL 1275 0 \nL 697 0 \nL 697 3053 \nL 147 3053 \nL 147 3500 \nL 697 3500 \nL 697 3744 \nQ 697 4328 969 4595 \nQ 1241 4863 1831 4863 \nL 2375 4863 \nz\n\" id=\"DejaVuSans-66\" transform=\"scale(0.015625)\"/>\n       <path d=\"M 3263 -1063 \nL 3263 -1509 \nL -63 -1509 \nL -63 -1063 \nL 3263 -1063 \nz\n\" id=\"DejaVuSans-5f\" transform=\"scale(0.015625)\"/>\n       <path d=\"M 2906 2969 \nL 2906 4863 \nL 3481 4863 \nL 3481 0 \nL 2906 0 \nL 2906 525 \nQ 2725 213 2448 61 \nQ 2172 -91 1784 -91 \nQ 1150 -91 751 415 \nQ 353 922 353 1747 \nQ 353 2572 751 3078 \nQ 1150 3584 1784 3584 \nQ 2172 3584 2448 3432 \nQ 2725 3281 2906 2969 \nz\nM 947 1747 \nQ 947 1113 1208 752 \nQ 1469 391 1925 391 \nQ 2381 391 2643 752 \nQ 2906 1113 2906 1747 \nQ 2906 2381 2643 2742 \nQ 2381 3103 1925 3103 \nQ 1469 3103 1208 2742 \nQ 947 2381 947 1747 \nz\n\" id=\"DejaVuSans-64\" transform=\"scale(0.015625)\"/>\n      </defs>\n      <use xlink:href=\"#DejaVuSans-72\"/>\n      <use x=\"41.113281\" xlink:href=\"#DejaVuSans-66\"/>\n      <use x=\"76.318359\" xlink:href=\"#DejaVuSans-5f\"/>\n      <use x=\"126.318359\" xlink:href=\"#DejaVuSans-70\"/>\n      <use x=\"189.794922\" xlink:href=\"#DejaVuSans-72\"/>\n      <use x=\"228.658203\" xlink:href=\"#DejaVuSans-65\"/>\n      <use x=\"290.181641\" xlink:href=\"#DejaVuSans-64\"/>\n     </g>\n    </g>\n   </g>\n   <g id=\"line2d_13\">\n    <path clip-path=\"url(#p9fae157661)\" d=\"M 49.260938 209.851448 \nL 52.642756 207.918332 \nL 56.024574 205.985216 \nL 59.406392 204.0521 \nL 62.78821 202.118985 \nL 66.170028 200.185869 \nL 69.551847 198.252753 \nL 72.933665 196.319637 \nL 76.315483 194.386521 \nL 79.697301 192.453406 \nL 83.079119 190.52029 \nL 86.460938 188.587174 \nL 89.842756 186.654058 \nL 93.224574 184.720942 \nL 96.606392 182.787827 \nL 99.98821 180.854711 \nL 103.370028 178.921595 \nL 106.751847 176.988479 \nL 110.133665 175.055363 \nL 113.515483 173.122248 \nL 116.897301 171.189132 \nL 120.279119 169.256016 \nL 123.660938 167.3229 \nL 127.042756 165.389784 \nL 130.424574 163.456669 \nL 133.806392 161.523553 \nL 137.18821 159.590437 \nL 140.570028 157.657321 \nL 143.951847 155.724205 \nL 147.333665 153.79109 \nL 150.715483 151.857974 \nL 154.097301 149.924858 \nL 157.479119 147.991742 \nL 160.860938 146.058626 \nL 164.242756 144.125511 \nL 167.624574 142.192395 \nL 171.006392 140.259279 \nL 174.38821 138.326163 \nL 177.770028 136.393047 \nL 181.151847 134.459932 \nL 184.533665 132.526816 \nL 187.915483 130.5937 \nL 191.297301 128.660584 \nL 194.679119 126.727468 \nL 198.060938 124.794352 \nL 201.442756 122.861237 \nL 204.824574 120.928121 \nL 208.206392 118.995005 \nL 211.58821 117.061889 \nL 214.970028 115.128773 \nL 218.351847 113.195658 \nL 221.733665 111.262542 \nL 225.115483 109.329426 \nL 228.497301 107.39631 \nL 231.879119 105.463194 \nL 235.260938 103.530079 \nL 238.642756 101.596963 \nL 242.024574 99.663847 \nL 245.406392 97.730731 \nL 248.78821 95.797615 \nL 252.170028 93.8645 \nL 255.551847 91.931384 \nL 258.933665 89.998268 \nL 262.315483 88.065152 \nL 265.697301 86.132036 \nL 269.079119 84.198921 \nL 272.460938 82.265805 \nL 275.842756 80.332689 \nL 279.224574 78.399573 \nL 282.606392 76.466457 \nL 285.98821 74.533342 \nL 289.370028 72.600226 \nL 292.751847 70.66711 \nL 296.133665 68.733994 \nL 299.515483 66.800878 \nL 302.897301 64.867763 \nL 306.279119 62.934647 \nL 309.660938 61.001531 \nL 313.042756 59.068415 \nL 316.424574 57.135299 \nL 319.806392 55.202184 \nL 323.18821 53.269068 \nL 326.570028 51.335952 \nL 329.951847 49.402836 \nL 333.333665 47.46972 \nL 336.715483 45.536605 \nL 340.097301 43.603489 \nL 343.479119 41.670373 \nL 346.860938 39.737257 \nL 350.242756 37.804141 \nL 353.624574 35.871026 \nL 357.006392 33.93791 \nL 360.38821 32.004794 \nL 363.770028 30.071678 \nL 367.151847 28.138562 \nL 370.533665 26.205447 \nL 373.915483 24.272331 \nL 377.297301 22.339215 \nL 380.679119 20.406099 \nL 384.060938 18.472983 \n\" style=\"fill:none;stroke:#1f77b4;stroke-linecap:square;stroke-width:2.25;\"/>\n   </g>\n   <g id=\"patch_3\">\n    <path d=\"M 49.260938 224.64 \nL 49.260938 7.2 \n\" style=\"fill:none;stroke:#000000;stroke-linecap:square;stroke-linejoin:miter;stroke-width:0.8;\"/>\n   </g>\n   <g id=\"patch_4\">\n    <path d=\"M 384.060938 224.64 \nL 384.060938 7.2 \n\" style=\"fill:none;stroke:#000000;stroke-linecap:square;stroke-linejoin:miter;stroke-width:0.8;\"/>\n   </g>\n   <g id=\"patch_5\">\n    <path d=\"M 49.260938 224.64 \nL 384.060938 224.64 \n\" style=\"fill:none;stroke:#000000;stroke-linecap:square;stroke-linejoin:miter;stroke-width:0.8;\"/>\n   </g>\n   <g id=\"patch_6\">\n    <path d=\"M 49.260938 7.2 \nL 384.060938 7.2 \n\" style=\"fill:none;stroke:#000000;stroke-linecap:square;stroke-linejoin:miter;stroke-width:0.8;\"/>\n   </g>\n  </g>\n </g>\n <defs>\n  <clipPath id=\"p9fae157661\">\n   <rect height=\"217.44\" width=\"334.8\" x=\"49.260938\" y=\"7.2\"/>\n  </clipPath>\n </defs>\n</svg>\n"
     },
     "metadata": {
      "needs_background": "light"
     }
    }
   ],
   "metadata": {}
  }
 ],
 "metadata": {
  "kernelspec": {
   "name": "python3",
   "display_name": "Python 3.7.10 64-bit ('base': conda)"
  },
  "language_info": {
   "codemirror_mode": {
    "name": "ipython",
    "version": 3
   },
   "file_extension": ".py",
   "mimetype": "text/x-python",
   "name": "python",
   "nbconvert_exporter": "python",
   "pygments_lexer": "ipython3",
   "version": "3.7.10"
  },
  "interpreter": {
   "hash": "f44ccb8961acba2291a668fe5299f2ad1d3bf3c1e2810a113d28a9b5afaf0783"
  }
 },
 "nbformat": 4,
 "nbformat_minor": 4
}