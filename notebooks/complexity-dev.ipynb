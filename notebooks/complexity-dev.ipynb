{
 "cells": [
  {
   "cell_type": "code",
   "execution_count": 3,
   "metadata": {},
   "outputs": [],
   "source": [
    "%load_ext autoreload\n",
    "%autoreload 2\n",
    "import pandas as pd\n",
    "import datamol as dm\n",
    "import numpy as np"
   ]
  },
  {
   "cell_type": "markdown",
   "metadata": {},
   "source": [
    "### Build stats from processed files on zinc-available-15"
   ]
  },
  {
   "cell_type": "code",
   "execution_count": 4,
   "metadata": {},
   "outputs": [],
   "source": [
    "files = dm.utils.fs.glob(\"gs://screening-libraries/zinc-available/stats-v1/*.csv\")"
   ]
  },
  {
   "cell_type": "code",
   "execution_count": 5,
   "metadata": {},
   "outputs": [],
   "source": [
    "data = pd.concat([pd.read_csv(x) for x in files], ignore_index=True)"
   ]
  },
  {
   "cell_type": "code",
   "execution_count": 15,
   "metadata": {},
   "outputs": [],
   "source": [
    "data.to_csv(\"zinc_15.csv\", index=False)"
   ]
  },
  {
   "cell_type": "code",
   "execution_count": 16,
   "metadata": {},
   "outputs": [],
   "source": [
    "data = data.dropna()"
   ]
  },
  {
   "cell_type": "code",
   "execution_count": 18,
   "metadata": {},
   "outputs": [],
   "source": [
    "import seaborn as sns"
   ]
  },
  {
   "cell_type": "code",
   "execution_count": 19,
   "metadata": {},
   "outputs": [
    {
     "data": {
      "text/plain": [
       "<AxesSubplot:ylabel='Density'>"
      ]
     },
     "execution_count": 19,
     "metadata": {},
     "output_type": "execute_result"
    },
    {
     "data": {
      "image/png": "[encoded data removed]",
      "text/plain": [
       "<Figure size 432x288 with 1 Axes>"
      ]
     },
     "metadata": {
      "needs_background": "light"
     },
     "output_type": "display_data"
    }
   ],
   "source": [
    "sns.kdeplot(data.mw.values, shade=True)"
   ]
  },
  {
   "cell_type": "code",
   "execution_count": 51,
   "metadata": {},
   "outputs": [
    {
     "data": {
      "text/plain": [
       "[0, 200, 250, 300, 350, 400, 450, 500, 550, 600, inf]"
      ]
     },
     "execution_count": 51,
     "metadata": {},
     "output_type": "execute_result"
    }
   ],
   "source": [
    "# the bins are chosen based on the kde plot above. \n",
    "# <200 and >600 are low occurence\n",
    "bins = [0]+list(range(200, 650, 50)) + [np.inf]\n",
    "bins"
   ]
  },
  {
   "cell_type": "code",
   "execution_count": 31,
   "metadata": {},
   "outputs": [],
   "source": [
    "tmp = data.iloc[:100000]"
   ]
  },
  {
   "cell_type": "code",
   "execution_count": 32,
   "metadata": {},
   "outputs": [
    {
     "data": {
      "text/plain": [
       "<AxesSubplot:ylabel='Density'>"
      ]
     },
     "execution_count": 32,
     "metadata": {},
     "output_type": "execute_result"
    },
    {
     "data": {
      "image/png": "[encoded data removed]",
      "text/plain": [
       "<Figure size 432x288 with 1 Axes>"
      ]
     },
     "metadata": {
      "needs_background": "light"
     },
     "output_type": "display_data"
    }
   ],
   "source": [
    "tmp.mw.plot.kde()"
   ]
  },
  {
   "cell_type": "code",
   "execution_count": 58,
   "metadata": {},
   "outputs": [],
   "source": [
    "data[\"mw_bins\"] = pd.cut(data.mw.values, bins, right=False, labels=bins[1:])"
   ]
  },
  {
   "cell_type": "code",
   "execution_count": 67,
   "metadata": {},
   "outputs": [],
   "source": [
    "median_res = data.groupby(\"mw_bins\").median().reset_index(drop=False)\n",
    "median_res[\"percentile\"] = \"median\""
   ]
  },
  {
   "cell_type": "code",
   "execution_count": 68,
   "metadata": {},
   "outputs": [
    {
     "name": "stderr",
     "output_type": "stream",
     "text": [
      "/var/folders/zt/ck4vrp4n4vsb0v16tnlh9h9m0000gn/T/ipykernel_29334/3860277379.py:1: FutureWarning: Dropping invalid columns in DataFrameGroupBy.quantile is deprecated. In a future version, a TypeError will be raised. Before calling .quantile, select only columns which should be valid for the function.\n",
      "  res_90 = data.groupby(\"mw_bins\").quantile(q=0.9).reset_index(drop=False)\n"
     ]
    }
   ],
   "source": [
    "res_90 = data.groupby(\"mw_bins\").quantile(q=0.9).reset_index(drop=False)\n",
    "res_90[\"percentile\"] = \"90\"\n"
   ]
  },
  {
   "cell_type": "code",
   "execution_count": 69,
   "metadata": {},
   "outputs": [
    {
     "name": "stderr",
     "output_type": "stream",
     "text": [
      "/var/folders/zt/ck4vrp4n4vsb0v16tnlh9h9m0000gn/T/ipykernel_29334/2659506571.py:1: FutureWarning: Dropping invalid columns in DataFrameGroupBy.quantile is deprecated. In a future version, a TypeError will be raised. Before calling .quantile, select only columns which should be valid for the function.\n",
      "  res_99 = data.groupby(\"mw_bins\").quantile(q=0.99).reset_index(drop=False)\n"
     ]
    }
   ],
   "source": [
    "res_99 = data.groupby(\"mw_bins\").quantile(q=0.99).reset_index(drop=False)\n",
    "res_99[\"percentile\"] = \"99\"\n"
   ]
  },
  {
   "cell_type": "code",
   "execution_count": 70,
   "metadata": {},
   "outputs": [
    {
     "name": "stderr",
     "output_type": "stream",
     "text": [
      "/var/folders/zt/ck4vrp4n4vsb0v16tnlh9h9m0000gn/T/ipykernel_29334/2244901009.py:1: FutureWarning: Dropping invalid columns in DataFrameGroupBy.quantile is deprecated. In a future version, a TypeError will be raised. Before calling .quantile, select only columns which should be valid for the function.\n",
      "  res_999 = data.groupby(\"mw_bins\").quantile(q=0.999).reset_index(drop=False)\n"
     ]
    }
   ],
   "source": [
    "res_999 = data.groupby(\"mw_bins\").quantile(q=0.999).reset_index(drop=False)\n",
    "res_999[\"percentile\"] = \"999\"\n"
   ]
  },
  {
   "cell_type": "code",
   "execution_count": 71,
   "metadata": {},
   "outputs": [],
   "source": [
    "res_max = data.groupby(\"mw_bins\").max().reset_index(drop=False)\n",
    "res_max[\"percentile\"] = \"max\"\n"
   ]
  },
  {
   "cell_type": "code",
   "execution_count": 76,
   "metadata": {},
   "outputs": [],
   "source": [
    "all_stats = pd.concat([median_res, res_90, res_99, res_999, res_max], ignore_index=True).drop(columns=[\"zinc_id\", \"smiles\", \"parquet_partition\"])"
   ]
  },
  {
   "cell_type": "code",
   "execution_count": 83,
   "metadata": {},
   "outputs": [
    {
     "name": "stdout",
     "output_type": "stream",
     "text": [
      "zinc_12_stats.csv\n"
     ]
    }
   ],
   "source": [
    "ls ../medchem/data/complexity/"
   ]
  },
  {
   "cell_type": "code",
   "execution_count": 86,
   "metadata": {},
   "outputs": [],
   "source": [
    "all_stats[\"percentile\"] = all_stats[\"percentile\"].astype(str)"
   ]
  },
  {
   "cell_type": "code",
   "execution_count": 88,
   "metadata": {},
   "outputs": [],
   "source": [
    "all_stats.to_csv(\"../medchem/data/complexity/zinc_15_available_stats.csv\", index=False)"
   ]
  },
  {
   "cell_type": "code",
   "execution_count": 6,
   "metadata": {},
   "outputs": [
    {
     "data": {
      "text/plain": [
       "smiles               B12B3B4B1[Si]41B2B31\n",
       "zinc_id                                10\n",
       "parquet_partition            PARTITION_00\n",
       "bertz                                 2.0\n",
       "mw                              51.010899\n",
       "clogp                            -17.4907\n",
       "sas                                   1.0\n",
       "qed                               0.00922\n",
       "whitlock                                0\n",
       "barone                                 30\n",
       "smcm                                1.933\n",
       "twc                               1.20412\n",
       "dtype: object"
      ]
     },
     "execution_count": 6,
     "metadata": {},
     "output_type": "execute_result"
    }
   ],
   "source": [
    "data.min()"
   ]
  },
  {
   "cell_type": "code",
   "execution_count": 7,
   "metadata": {},
   "outputs": [
    {
     "data": {
      "text/plain": [
       "smiles               n1onc2c1Oc1nonc1-c1nonc1-2\n",
       "zinc_id                              2332239493\n",
       "parquet_partition                  PARTITION_63\n",
       "bertz                               7292.799272\n",
       "mw                                  1077.885949\n",
       "clogp                                   24.7824\n",
       "sas                                    8.702033\n",
       "qed                                     0.94842\n",
       "whitlock                                    172\n",
       "barone                                     4266\n",
       "smcm                                    192.002\n",
       "twc                                   39.079621\n",
       "dtype: object"
      ]
     },
     "execution_count": 7,
     "metadata": {},
     "output_type": "execute_result"
    }
   ],
   "source": [
    "data.max()"
   ]
  },
  {
   "cell_type": "code",
   "execution_count": 14,
   "metadata": {},
   "outputs": [
    {
     "data": {
      "text/html": [
       "<div>\n",
       "<style scoped>\n",
       "    .dataframe tbody tr th:only-of-type {\n",
       "        vertical-align: middle;\n",
       "    }\n",
       "\n",
       "    .dataframe tbody tr th {\n",
       "        vertical-align: top;\n",
       "    }\n",
       "\n",
       "    .dataframe thead th {\n",
       "        text-align: right;\n",
       "    }\n",
       "</style>\n",
       "<table border=\"1\" class=\"dataframe\">\n",
       "  <thead>\n",
       "    <tr style=\"text-align: right;\">\n",
       "      <th></th>\n",
       "      <th>zinc_id</th>\n",
       "      <th>bertz</th>\n",
       "      <th>mw</th>\n",
       "      <th>clogp</th>\n",
       "      <th>sas</th>\n",
       "      <th>qed</th>\n",
       "      <th>whitlock</th>\n",
       "      <th>barone</th>\n",
       "      <th>smcm</th>\n",
       "      <th>twc</th>\n",
       "    </tr>\n",
       "  </thead>\n",
       "  <tbody>\n",
       "    <tr>\n",
       "      <th>count</th>\n",
       "      <td>12998042.00000</td>\n",
       "      <td>12998042.00000</td>\n",
       "      <td>12998042.00000</td>\n",
       "      <td>12998042.00000</td>\n",
       "      <td>12998042.00000</td>\n",
       "      <td>12998042.00000</td>\n",
       "      <td>12998042.00000</td>\n",
       "      <td>12998042.00000</td>\n",
       "      <td>12998042.00000</td>\n",
       "      <td>12998042.00000</td>\n",
       "    </tr>\n",
       "    <tr>\n",
       "      <th>mean</th>\n",
       "      <td>227892424.13946</td>\n",
       "      <td>861.75935</td>\n",
       "      <td>375.59359</td>\n",
       "      <td>3.20694</td>\n",
       "      <td>2.81074</td>\n",
       "      <td>0.65318</td>\n",
       "      <td>25.49423</td>\n",
       "      <td>538.40293</td>\n",
       "      <td>43.40308</td>\n",
       "      <td>10.93594</td>\n",
       "    </tr>\n",
       "    <tr>\n",
       "      <th>std</th>\n",
       "      <td>420418122.10078</td>\n",
       "      <td>332.19007</td>\n",
       "      <td>95.99849</td>\n",
       "      <td>1.63020</td>\n",
       "      <td>0.64558</td>\n",
       "      <td>0.20210</td>\n",
       "      <td>7.68567</td>\n",
       "      <td>151.98402</td>\n",
       "      <td>11.66714</td>\n",
       "      <td>2.78009</td>\n",
       "    </tr>\n",
       "    <tr>\n",
       "      <th>min</th>\n",
       "      <td>10.00000</td>\n",
       "      <td>2.00000</td>\n",
       "      <td>51.01090</td>\n",
       "      <td>-17.49070</td>\n",
       "      <td>1.00000</td>\n",
       "      <td>0.00922</td>\n",
       "      <td>0.00000</td>\n",
       "      <td>30.00000</td>\n",
       "      <td>1.93300</td>\n",
       "      <td>1.20412</td>\n",
       "    </tr>\n",
       "    <tr>\n",
       "      <th>50%</th>\n",
       "      <td>71772979.50000</td>\n",
       "      <td>824.32556</td>\n",
       "      <td>363.07766</td>\n",
       "      <td>3.10310</td>\n",
       "      <td>2.73456</td>\n",
       "      <td>0.70116</td>\n",
       "      <td>25.00000</td>\n",
       "      <td>528.00000</td>\n",
       "      <td>42.23700</td>\n",
       "      <td>10.65702</td>\n",
       "    </tr>\n",
       "    <tr>\n",
       "      <th>max</th>\n",
       "      <td>2332239493.00000</td>\n",
       "      <td>7292.79927</td>\n",
       "      <td>1077.88595</td>\n",
       "      <td>24.78240</td>\n",
       "      <td>8.70203</td>\n",
       "      <td>0.94842</td>\n",
       "      <td>172.00000</td>\n",
       "      <td>4266.00000</td>\n",
       "      <td>192.00200</td>\n",
       "      <td>39.07962</td>\n",
       "    </tr>\n",
       "  </tbody>\n",
       "</table>\n",
       "</div>"
      ],
      "text/plain": [
       "               zinc_id          bertz             mw          clogp  \\\n",
       "count   12998042.00000 12998042.00000 12998042.00000 12998042.00000   \n",
       "mean   227892424.13946      861.75935      375.59359        3.20694   \n",
       "std    420418122.10078      332.19007       95.99849        1.63020   \n",
       "min           10.00000        2.00000       51.01090      -17.49070   \n",
       "50%     71772979.50000      824.32556      363.07766        3.10310   \n",
       "max   2332239493.00000     7292.79927     1077.88595       24.78240   \n",
       "\n",
       "                 sas            qed       whitlock         barone  \\\n",
       "count 12998042.00000 12998042.00000 12998042.00000 12998042.00000   \n",
       "mean         2.81074        0.65318       25.49423      538.40293   \n",
       "std          0.64558        0.20210        7.68567      151.98402   \n",
       "min          1.00000        0.00922        0.00000       30.00000   \n",
       "50%          2.73456        0.70116       25.00000      528.00000   \n",
       "max          8.70203        0.94842      172.00000     4266.00000   \n",
       "\n",
       "                smcm            twc  \n",
       "count 12998042.00000 12998042.00000  \n",
       "mean        43.40308       10.93594  \n",
       "std         11.66714        2.78009  \n",
       "min          1.93300        1.20412  \n",
       "50%         42.23700       10.65702  \n",
       "max        192.00200       39.07962  "
      ]
     },
     "execution_count": 14,
     "metadata": {},
     "output_type": "execute_result"
    }
   ],
   "source": [
    "pd.set_option('display.float_format', lambda x: '%.5f' % x)\n",
    "\n",
    "\n",
    "data.describe(percentiles=[0.5])"
   ]
  },
  {
   "cell_type": "code",
   "execution_count": null,
   "metadata": {},
   "outputs": [],
   "source": []
  }
 ],
 "metadata": {
  "interpreter": {
   "hash": "b1f87083b643c406439c8a0cfc99697ab8fc79b0d42916864015391f34c24ecf"
  },
  "kernelspec": {
   "display_name": "Python 3.8.10",
   "language": "python",
   "name": "python3"
  },
  "language_info": {
   "codemirror_mode": {
    "name": "ipython",
    "version": 3
   },
   "file_extension": ".py",
   "mimetype": "text/x-python",
   "name": "python",
   "nbconvert_exporter": "python",
   "pygments_lexer": "ipython3",
   "version": "3.8.10"
  },
  "orig_nbformat": 4
 },
 "nbformat": 4,
 "nbformat_minor": 2
}
