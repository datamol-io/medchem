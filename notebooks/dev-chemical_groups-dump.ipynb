{
 "cells": [
  {
   "cell_type": "code",
   "execution_count": null,
   "metadata": {},
   "outputs": [],
   "source": [
    "%load_ext autoreload\n",
    "%autoreload 2"
   ]
  },
  {
   "cell_type": "code",
   "execution_count": 2,
   "metadata": {},
   "outputs": [],
   "source": [
    "#! pip install global-chem"
   ]
  },
  {
   "cell_type": "code",
   "execution_count": 3,
   "metadata": {},
   "outputs": [],
   "source": [
    "import global_chem\n",
    "import inspect\n",
    "import pandas as pd\n",
    "import datamol as dm\n",
    "\n",
    "def fullname(o):\n",
    "    if inspect.isclass(o):\n",
    "        klass = o\n",
    "    else:\n",
    "        klass = o.__class__\n",
    "    module = klass.__module__\n",
    "    if module == '__builtin__':\n",
    "        return klass.__name__ # avoid outputs like '__builtin__.str'\n",
    "    return module + '.' + klass.__name__"
   ]
  },
  {
   "cell_type": "code",
   "execution_count": 4,
   "metadata": {},
   "outputs": [],
   "source": [
    "def build_data():\n",
    "    gc = global_chem.GlobalChem()\n",
    "    gc.build_global_chem_network()\n",
    "    data = []\n",
    "    for k, v in gc.__NODES__.items():\n",
    "        if k != 'global_chem' and k != 'common_regex_patterns':\n",
    "            full_hierarchy  = fullname(v).rsplit(\".\", 1)[0] + f\".{k}\"\n",
    "            df_smiles = pd.DataFrame.from_dict(v.get_smiles(), orient=\"index\", columns=[\"smiles\"])\n",
    "            df_smarts = pd.DataFrame.from_dict(v.get_smarts(), orient=\"index\", columns=[\"smarts\"])\n",
    "            df = df_smiles.join(df_smarts, how=\"outer\")\n",
    "            df = df.rename_axis(\"iupac\").reset_index()\n",
    "            df[\"group\"] = k\n",
    "            df[\"hierarchy\"] = full_hierarchy.replace(\"global_chem.\", \"\")\n",
    "            data.append(df)\n",
    "    return pd.concat(data, ignore_index=True)\n",
    "    "
   ]
  },
  {
   "cell_type": "code",
   "execution_count": 5,
   "metadata": {},
   "outputs": [],
   "source": [
    "df = build_data()\n",
    "df = df.rename(columns={\"iupac\": \"name\"})"
   ]
  },
  {
   "cell_type": "code",
   "execution_count": 6,
   "metadata": {},
   "outputs": [],
   "source": [
    "#df.dropna(subset=[\"smiles\", \"smarts\"], inplace=True)"
   ]
  },
  {
   "cell_type": "code",
   "execution_count": 7,
   "metadata": {},
   "outputs": [],
   "source": [
    "## Add additional information\n",
    "\n",
    "aggregator = pd.read_csv(\"https://raw.githubusercontent.com/kotori-y/Scopy/master/scopy/data/SMARTS/Aggregators.txt\", sep=\"\\t\")\n",
    "fg = pd.read_csv(\"https://raw.githubusercontent.com/kotori-y/Scopy/master/scopy/data/SMARTS/Function_Group.txt\", sep=\"\\t\")\n",
    "extended_fg = pd.read_csv(\"https://raw.githubusercontent.com/kotori-y/Scopy/master/scopy/data/SMARTS/Extended_Functional_Groups.txt\", sep=\"\\t\")\n",
    "\n",
    "\n",
    "def check_length(x):\n",
    "    return len(eval(x))==1\n",
    "\n",
    "def curate_additional_groups(df,group, hierarchy=None):\n",
    "    df = df.copy()\n",
    "    df = df[(df.Accept.notna())]\n",
    "    df = df[(df.Accept.apply(check_length)) & (df.Reject.isna())]\n",
    "\n",
    "    with dm.without_rdkit_log():\n",
    "        if hierarchy is None:\n",
    "            hierarchy = \".\".join([\"medicinal_chemistry\", \"functional_groups\", group])\n",
    "        df = df.rename(columns={\"SMARTS\": \"smarts\", \"Name\": \"name\"})\n",
    "        df[\"mol\"] = df[\"smarts\"].apply(dm.from_smarts)\n",
    "        df[\"smiles\"] = df[\"smarts\"].apply(dm.to_mol).apply(dm.to_smiles)\n",
    "        df[\"group\"] = group\n",
    "        df[\"hierarchy\"] = hierarchy    \n",
    "    \n",
    "    df = df[df.mol.notna()]\n",
    "    df = df.drop(columns=[\"Reject\", \"Accept\", \"mol\"])\n",
    "    \n",
    "    return df\n"
   ]
  },
  {
   "cell_type": "code",
   "execution_count": 8,
   "metadata": {},
   "outputs": [],
   "source": [
    "aggregator_new = curate_additional_groups(aggregator, group=\"aggregator\", hierarchy=\"medicinal_chemistry.aggregator\")\n",
    "fg_new = curate_additional_groups(fg, group=\"basic_groups\")\n",
    "extended_fg_new = curate_additional_groups(extended_fg, group=\"extended_groups\")"
   ]
  },
  {
   "cell_type": "code",
   "execution_count": 9,
   "metadata": {},
   "outputs": [],
   "source": [
    "df = pd.concat([df, aggregator_new, fg_new, extended_fg_new], ignore_index=True)"
   ]
  },
  {
   "cell_type": "code",
   "execution_count": 10,
   "metadata": {},
   "outputs": [],
   "source": [
    "df.to_csv(\"../medchem/data/chemical_groups.csv\", index=False)"
   ]
  },
  {
   "cell_type": "code",
   "execution_count": 11,
   "metadata": {},
   "outputs": [
    {
     "data": {
      "text/html": [
       "<div>\n",
       "<style scoped>\n",
       "    .dataframe tbody tr th:only-of-type {\n",
       "        vertical-align: middle;\n",
       "    }\n",
       "\n",
       "    .dataframe tbody tr th {\n",
       "        vertical-align: top;\n",
       "    }\n",
       "\n",
       "    .dataframe thead th {\n",
       "        text-align: right;\n",
       "    }\n",
       "</style>\n",
       "<table border=\"1\" class=\"dataframe\">\n",
       "  <thead>\n",
       "    <tr style=\"text-align: right;\">\n",
       "      <th></th>\n",
       "      <th>name</th>\n",
       "      <th>smiles</th>\n",
       "      <th>smarts</th>\n",
       "      <th>group</th>\n",
       "      <th>hierarchy</th>\n",
       "    </tr>\n",
       "  </thead>\n",
       "  <tbody>\n",
       "    <tr>\n",
       "      <th>0</th>\n",
       "      <td>perfluorohexanoic acid</td>\n",
       "      <td>C(=O)(C(C(C(C(C(F)(F)F)(F)F)(F)F)(F)F)(F)F)O</td>\n",
       "      <td>[#6](=[#8])(-[#6](-[#6](-[#6](-[#6](-[#6](-[#9...</td>\n",
       "      <td>emerging_perfluoroalkyls</td>\n",
       "      <td>environment.emerging_perfluoroalkyls.emerging_...</td>\n",
       "    </tr>\n",
       "    <tr>\n",
       "      <th>1</th>\n",
       "      <td>perfluoroheptanoic acid</td>\n",
       "      <td>C(=O)(C(C(C(C(C(C(F)(F)F)(F)F)(F)F)(F)F)(F)F)(...</td>\n",
       "      <td>[#6](=[#8])(-[#6](-[#6](-[#6](-[#6](-[#6](-[#6...</td>\n",
       "      <td>emerging_perfluoroalkyls</td>\n",
       "      <td>environment.emerging_perfluoroalkyls.emerging_...</td>\n",
       "    </tr>\n",
       "    <tr>\n",
       "      <th>2</th>\n",
       "      <td>perfluorononanoic acid</td>\n",
       "      <td>C(=O)(C(C(C(C(C(C(C(C(F)(F)F)(F)F)(F)F)(F)F)(F...</td>\n",
       "      <td>[#6](=[#8])(-[#6](-[#6](-[#6](-[#6](-[#6](-[#6...</td>\n",
       "      <td>emerging_perfluoroalkyls</td>\n",
       "      <td>environment.emerging_perfluoroalkyls.emerging_...</td>\n",
       "    </tr>\n",
       "    <tr>\n",
       "      <th>3</th>\n",
       "      <td>perfluorodecanoic acid</td>\n",
       "      <td>C(=O)(C(C(C(C(C(C(C(C(C(F)(F)F)(F)F)(F)F)(F)F)...</td>\n",
       "      <td>[#6](=[#8])(-[#6](-[#6](-[#6](-[#6](-[#6](-[#6...</td>\n",
       "      <td>emerging_perfluoroalkyls</td>\n",
       "      <td>environment.emerging_perfluoroalkyls.emerging_...</td>\n",
       "    </tr>\n",
       "    <tr>\n",
       "      <th>4</th>\n",
       "      <td>perfluorobutanesulfonic acid</td>\n",
       "      <td>C(C(C(F)(F)S(=O)(=O)O)(F)F)(C(F)(F)F)(F)F</td>\n",
       "      <td>[#6](-[#6](-[#6](-[#9])(-[#9])-[#16](=[#8])(=[...</td>\n",
       "      <td>emerging_perfluoroalkyls</td>\n",
       "      <td>environment.emerging_perfluoroalkyls.emerging_...</td>\n",
       "    </tr>\n",
       "  </tbody>\n",
       "</table>\n",
       "</div>"
      ],
      "text/plain": [
       "                           name  \\\n",
       "0        perfluorohexanoic acid   \n",
       "1       perfluoroheptanoic acid   \n",
       "2        perfluorononanoic acid   \n",
       "3        perfluorodecanoic acid   \n",
       "4  perfluorobutanesulfonic acid   \n",
       "\n",
       "                                              smiles  \\\n",
       "0       C(=O)(C(C(C(C(C(F)(F)F)(F)F)(F)F)(F)F)(F)F)O   \n",
       "1  C(=O)(C(C(C(C(C(C(F)(F)F)(F)F)(F)F)(F)F)(F)F)(...   \n",
       "2  C(=O)(C(C(C(C(C(C(C(C(F)(F)F)(F)F)(F)F)(F)F)(F...   \n",
       "3  C(=O)(C(C(C(C(C(C(C(C(C(F)(F)F)(F)F)(F)F)(F)F)...   \n",
       "4          C(C(C(F)(F)S(=O)(=O)O)(F)F)(C(F)(F)F)(F)F   \n",
       "\n",
       "                                              smarts  \\\n",
       "0  [#6](=[#8])(-[#6](-[#6](-[#6](-[#6](-[#6](-[#9...   \n",
       "1  [#6](=[#8])(-[#6](-[#6](-[#6](-[#6](-[#6](-[#6...   \n",
       "2  [#6](=[#8])(-[#6](-[#6](-[#6](-[#6](-[#6](-[#6...   \n",
       "3  [#6](=[#8])(-[#6](-[#6](-[#6](-[#6](-[#6](-[#6...   \n",
       "4  [#6](-[#6](-[#6](-[#9])(-[#9])-[#16](=[#8])(=[...   \n",
       "\n",
       "                      group                                          hierarchy  \n",
       "0  emerging_perfluoroalkyls  environment.emerging_perfluoroalkyls.emerging_...  \n",
       "1  emerging_perfluoroalkyls  environment.emerging_perfluoroalkyls.emerging_...  \n",
       "2  emerging_perfluoroalkyls  environment.emerging_perfluoroalkyls.emerging_...  \n",
       "3  emerging_perfluoroalkyls  environment.emerging_perfluoroalkyls.emerging_...  \n",
       "4  emerging_perfluoroalkyls  environment.emerging_perfluoroalkyls.emerging_...  "
      ]
     },
     "execution_count": 11,
     "metadata": {},
     "output_type": "execute_result"
    }
   ],
   "source": [
    "df.head()"
   ]
  }
 ],
 "metadata": {
  "interpreter": {
   "hash": "52fab7ed47a09dd73497e852b91b984fcb2648f3487052ea0ac1ba8b0f42000e"
  },
  "kernelspec": {
   "display_name": "Python 3.7.10 ('medchem')",
   "language": "python",
   "name": "python3"
  },
  "language_info": {
   "codemirror_mode": {
    "name": "ipython",
    "version": 3
   },
   "file_extension": ".py",
   "mimetype": "text/x-python",
   "name": "python",
   "nbconvert_exporter": "python",
   "pygments_lexer": "ipython3",
   "version": "3.9.12"
  },
  "orig_nbformat": 4
 },
 "nbformat": 4,
 "nbformat_minor": 2
}
