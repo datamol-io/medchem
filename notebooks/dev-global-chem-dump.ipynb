{
 "cells": [
  {
   "cell_type": "code",
   "execution_count": 2,
   "metadata": {},
   "outputs": [
    {
     "name": "stdout",
     "output_type": "stream",
     "text": [
      "The autoreload extension is already loaded. To reload it, use:\n",
      "  %reload_ext autoreload\n"
     ]
    }
   ],
   "source": [
    "%load_ext autoreload\n",
    "%autoreload 2"
   ]
  },
  {
   "cell_type": "code",
   "execution_count": 3,
   "metadata": {},
   "outputs": [],
   "source": [
    "#! pip install global-chem"
   ]
  },
  {
   "cell_type": "code",
   "execution_count": 4,
   "metadata": {},
   "outputs": [],
   "source": [
    "import global_chem\n",
    "import inspect\n",
    "import pandas as pd\n",
    "import datamol as dm\n",
    "\n",
    "def fullname(o):\n",
    "    if inspect.isclass(o):\n",
    "        klass = o\n",
    "    else:\n",
    "        klass = o.__class__\n",
    "    module = klass.__module__\n",
    "    if module == '__builtin__':\n",
    "        return klass.__name__ # avoid outputs like '__builtin__.str'\n",
    "    return module + '.' + klass.__name__"
   ]
  },
  {
   "cell_type": "code",
   "execution_count": 5,
   "metadata": {},
   "outputs": [],
   "source": [
    "def build_data():\n",
    "    gc = global_chem.GlobalChem()\n",
    "    gc.build_global_chem_network()\n",
    "    data = []\n",
    "    for k, v in gc.__NODES__.items():\n",
    "        if k != 'global_chem' and k != 'common_regex_patterns':\n",
    "            full_hierarchy  = fullname(v).rsplit(\".\", 1)[0] + f\".{k}\"\n",
    "            df_smiles = pd.DataFrame.from_dict(v.get_smiles(), orient=\"index\", columns=[\"smiles\"])\n",
    "            df_smarts = pd.DataFrame.from_dict(v.get_smarts(), orient=\"index\", columns=[\"smarts\"])\n",
    "            df = df_smiles.join(df_smarts, how=\"outer\")\n",
    "            df = df.rename_axis(\"iupac\").reset_index()\n",
    "            df[\"group\"] = k\n",
    "            df[\"hierarchy\"] = full_hierarchy\n",
    "            data.append(df)\n",
    "    return pd.concat(data, ignore_index=True)\n",
    "    "
   ]
  },
  {
   "cell_type": "code",
   "execution_count": 6,
   "metadata": {},
   "outputs": [],
   "source": [
    "df = build_data()"
   ]
  },
  {
   "cell_type": "code",
   "execution_count": 7,
   "metadata": {},
   "outputs": [],
   "source": [
    "df.to_csv(\"../medchem/data/chemical_groups.csv\", index=False)"
   ]
  },
  {
   "cell_type": "code",
   "execution_count": null,
   "metadata": {},
   "outputs": [],
   "source": []
  }
 ],
 "metadata": {
  "interpreter": {
   "hash": "52fab7ed47a09dd73497e852b91b984fcb2648f3487052ea0ac1ba8b0f42000e"
  },
  "kernelspec": {
   "display_name": "Python 3.7.10 ('medchem')",
   "language": "python",
   "name": "python3"
  },
  "language_info": {
   "codemirror_mode": {
    "name": "ipython",
    "version": 3
   },
   "file_extension": ".py",
   "mimetype": "text/x-python",
   "name": "python",
   "nbconvert_exporter": "python",
   "pygments_lexer": "ipython3",
   "version": "3.7.10"
  },
  "orig_nbformat": 4
 },
 "nbformat": 4,
 "nbformat_minor": 2
}
